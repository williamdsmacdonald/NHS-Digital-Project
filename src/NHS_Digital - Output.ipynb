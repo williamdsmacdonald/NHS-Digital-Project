{
 "cells": [
  {
   "cell_type": "code",
   "execution_count": 4,
   "metadata": {},
   "outputs": [
    {
     "name": "stdout",
     "output_type": "stream",
     "text": [
      "Project root: c:\\Users\\willi\\OneDrive\\Documents\\NHS Digital Project\\nhs-digital-project\n",
      "Raw data directory: c:\\Users\\willi\\OneDrive\\Documents\\NHS Digital Project\\nhs-digital-project\\data\\raw\n",
      "Output directory: c:\\Users\\willi\\OneDrive\\Documents\\NHS Digital Project\\nhs-digital-project\\data\\output\n",
      "Visualisations directory: c:\\Users\\willi\\OneDrive\\Documents\\NHS Digital Project\\nhs-digital-project\\visualisations\n",
      "Dashboard directory: c:\\Users\\willi\\OneDrive\\Documents\\NHS Digital Project\\nhs-digital-project\\dashboard\n"
     ]
    }
   ],
   "source": [
    "import sys\n",
    "import os\n",
    "\n",
    "# Determine the project root directory\n",
    "try:\n",
    "    # This will work when running as a script\n",
    "    script_dir = os.path.dirname(os.path.abspath(__file__))\n",
    "    root_dir = os.path.dirname(script_dir)\n",
    "except NameError:\n",
    "    # This will work in interactive environments like Jupyter notebooks\n",
    "    root_dir = os.path.abspath('')\n",
    "    while not os.path.exists(os.path.join(root_dir, 'config.py')):\n",
    "        root_dir = os.path.dirname(root_dir)\n",
    "        if root_dir == os.path.dirname(root_dir):  # reached the system root directory\n",
    "            raise FileNotFoundError(\"Could not find the project root directory containing config.py\")\n",
    "\n",
    "# Add the root directory to the Python path\n",
    "sys.path.append(root_dir)\n",
    "\n",
    "# Now you can import from config\n",
    "from config import DB_HOST, DB_NAME, DB_USER, DB_PASSWORD\n",
    "\n",
    "# Define paths relative to the root directory\n",
    "data_dir = os.path.join(root_dir, 'data')\n",
    "raw_data_dir = os.path.join(root_dir, 'data', 'raw')\n",
    "output_dir = os.path.join(root_dir, 'data', 'output')\n",
    "vis_dir = os.path.join(root_dir, 'visualisations')\n",
    "dashboard_dir = os.path.join(root_dir, 'dashboard')\n",
    "\n",
    "# Ensure directories exist\n",
    "os.makedirs(data_dir, exist_ok=True)\n",
    "os.makedirs(raw_data_dir, exist_ok=True)\n",
    "os.makedirs(output_dir, exist_ok=True)\n",
    "os.makedirs(vis_dir, exist_ok=True)\n",
    "os.makedirs(dashboard_dir, exist_ok=True)\n",
    "\n",
    "# Print paths for verification\n",
    "print(f\"Project root: {root_dir}\")\n",
    "print(f\"Raw data directory: {raw_data_dir}\")\n",
    "print(f\"Output directory: {output_dir}\")\n",
    "print(f\"Visualisations directory: {vis_dir}\")\n",
    "print(f\"Dashboard directory: {dashboard_dir}\")\n",
    "\n",
    "\n",
    "import requests\n",
    "import numpy as np\n",
    "import zipfile\n",
    "import io\n",
    "import pandas as pd\n",
    "from sqlalchemy import create_engine, inspect, text\n",
    "from datetime import datetime\n",
    "import requests\n",
    "from bs4 import BeautifulSoup\n",
    "import re\n",
    "from concurrent.futures import ThreadPoolExecutor, as_completed\n",
    "from urllib.parse import urlparse\n",
    "from urllib.parse import urljoin\n",
    "from zipfile import ZipFile\n",
    "import psycopg2\n",
    "from datetime import datetime\n",
    "from statsmodels.tsa.seasonal import seasonal_decompose\n",
    "from statsmodels.tsa.statespace.sarimax import SARIMAX\n",
    "import statsmodels.api as sm\n",
    "from sklearn.linear_model import LinearRegression\n",
    "from scipy import stats\n",
    "import plotly.graph_objs as go\n",
    "from plotly.subplots import make_subplots\n",
    "import plotly.express as px\n",
    "import plotly.io as pio\n",
    "from pandas.tseries.holiday import AbstractHolidayCalendar, Holiday, nearest_workday, next_monday, next_monday_or_tuesday, MO, GoodFriday, EasterMonday\n",
    "from pandas.tseries.offsets import DateOffset\n",
    "from dateutil.easter import easter\n",
    "from pandas.tseries.holiday import EasterMonday, GoodFriday\n",
    "from pandas.tseries.offsets import DateOffset\n",
    "import seaborn as sns\n",
    "import matplotlib.pyplot as plt\n",
    "from dateutil import parser\n",
    "from scipy.stats import linregress\n",
    "import base64\n",
    "from pathlib import Path"
   ]
  },
  {
   "cell_type": "code",
   "execution_count": 5,
   "metadata": {},
   "outputs": [
    {
     "name": "stdout",
     "output_type": "stream",
     "text": [
      "Successfully connected to the database!\n"
     ]
    }
   ],
   "source": [
    "# Database connection parameters\n",
    "connection_string = f\"postgresql://{DB_USER}:{DB_PASSWORD}@{DB_HOST}/{DB_NAME}\"\n",
    "engine = create_engine(connection_string)\n",
    "\n",
    "# Test the connection\n",
    "try:\n",
    "    with engine.connect() as conn:\n",
    "        print(\"Successfully connected to the database!\")\n",
    "except Exception as e:\n",
    "    print(f\"An error occurred: {e}\")"
   ]
  },
  {
   "cell_type": "code",
   "execution_count": 6,
   "metadata": {},
   "outputs": [],
   "source": [
    "def validate_explore_data(df):\n",
    "    #check for unique values\n",
    "    unique_counts = df.nunique()\n",
    "    print(\"unique values per column:\")\n",
    "    print(unique_counts)\n",
    "    \n",
    "    #check for duplicates\n",
    "    duplicate_count = df.duplicated().sum()\n",
    "    print(\"\\nNumber of duplicated rows:\")\n",
    "    print(duplicate_count)\n",
    "    \n",
    "    #summary stats\n",
    "    summary_stats = df.describe(), df.info(), df.head()\n",
    "    print(\"\\nSummary Statistics:\")\n",
    "    print(summary_stats)\n",
    "\n",
    "#Function to add in a Season column for each dataset\n",
    "def get_season(date):\n",
    "    month = date.month\n",
    "    if month in [6, 7, 8]:  # Summer: June to August 2021\n",
    "        season = 'Summer'\n",
    "    elif month in [9, 10, 11]:  # Autumn: September to November 2021\n",
    "        season = 'Autumn'\n",
    "    elif month in [12, 1, 2]:  # Winter: December 2021 to February 2022\n",
    "        season = 'Winter'\n",
    "    elif month in [3, 4, 5]:  # Spring: March to May 2022\n",
    "        season = 'Spring'\n",
    "    else:\n",
    "        season = 'Unknown'\n",
    "    return season\n",
    "\n",
    "#A barplot function to call throughout the notebook\n",
    "def create_barplot(df, x_col, y_col, title=\"\"):\n",
    "    # Ensure correct use of column names within the function\n",
    "    plt.figure(figsize=(10, 6))\n",
    "    ax = df.plot(kind='bar', x=x_col, y=y_col, legend=False)\n",
    "    plt.title(title if title else f'Bar Plot of {y_col}')\n",
    "    plt.xlabel(x_col)\n",
    "    plt.ylabel(y_col)\n",
    "    plt.xticks(rotation=45, ha='right')\n",
    "    plt.tight_layout()  # Adjust layout to not cut off labels\n",
    "    plt.show()\n",
    "    \n",
    "\n",
    "# Boxplot Function\n",
    "def plot_boxplot(df, column, title=None):\n",
    "\n",
    "    plt.figure(figsize=(10, 6))\n",
    "    sns.boxplot(x=df[column])\n",
    "    plt.title(title if title else f'Boxplot of {column}')\n",
    "    plt.xlabel(column)\n",
    "    plt.show()\n",
    "\n",
    "# Function to create a line plot along with a trend line\n",
    "def create_lineplot(data, x_col, y_col, hue=None, title=\"\", xlabel=\"\", ylabel=\"\", rotate_xticks=0, trend_line=False, ax=None,\n",
    "                    grid=True, grid_style='--', grid_width=0.5, grid_color='gray', grid_alpha=0.1, legend_title=None, legend_loc='best', legend_bbox_to_anchor=None):\n",
    "    if not ax:\n",
    "        fig, ax = plt.subplots(figsize=(14, 8))\n",
    "    \n",
    "    # Plotting the main line plot\n",
    "    sns.lineplot(data=data, x=x_col, y=y_col, hue=hue, marker='o', ax=ax)\n",
    "\n",
    "    # Adding trend lines if required\n",
    "    if trend_line:\n",
    "        if hue:\n",
    "            for hue_value in data[hue].unique():\n",
    "                subset_data = data[data[hue] == hue_value]\n",
    "                x_values = subset_data[x_col].apply(pd.to_datetime).map(pd.Timestamp.toordinal)\n",
    "                x_values_normalized = (x_values - x_values.min()) / (x_values.max() - x_values.min())\n",
    "                slope, intercept, r_value, p_value, std_err = linregress(x_values_normalized, subset_data[y_col])\n",
    "                y_pred = intercept + slope * x_values_normalized\n",
    "                ax.plot(subset_data[x_col], y_pred, label=f'Trend Line ({hue_value}): y={slope:.4f}x+{intercept:.2f}', linestyle='--')\n",
    "        else:\n",
    "            x_values = data[x_col].apply(pd.to_datetime).map(pd.Timestamp.toordinal)\n",
    "            x_values_normalized = (x_values - x_values.min()) / (x_values.max() - x_values.min())\n",
    "            slope, intercept, r_value, p_value, std_err = linregress(x_values_normalized, data[y_col])\n",
    "            y_pred = intercept + slope * x_values_normalized\n",
    "            ax.plot(data[x_col], y_pred, label=f'Trend Line: y={slope:.4f}x+{intercept:.2f}', linestyle='--')\n",
    "    \n",
    "    # Setting plot titles and labels\n",
    "    ax.set_title(title, fontsize=16)\n",
    "    ax.set_xlabel(xlabel, fontsize=16)\n",
    "    ax.set_ylabel(ylabel, fontsize=16)\n",
    "    ax.tick_params(axis='x', rotation=rotate_xticks, labelsize=14)\n",
    "    ax.tick_params(axis='y', labelsize=14)\n",
    "\n",
    "    # Adding grid if required\n",
    "    if grid:\n",
    "        ax.grid(True, linestyle=grid_style, linewidth=grid_width, color=grid_color, alpha=grid_alpha)\n",
    "\n",
    "    # Adding legend\n",
    "    if legend_bbox_to_anchor:\n",
    "        ax.legend(title=legend_title, loc=legend_loc, bbox_to_anchor=legend_bbox_to_anchor)\n",
    "    else:\n",
    "        ax.legend(title=legend_title, loc=legend_loc, fontsize=14)\n",
    "    \n",
    "    plt.tight_layout()\n",
    "    if not ax:\n",
    "        plt.show()\n",
    "        \n",
    "# Define a generic function to add trend lines\n",
    "def add_trend_line(fig, data, x_col, y_col, label, color, linestyle='dash'):\n",
    "    # Check if the x_col is datetime and convert to ordinal\n",
    "    if pd.api.types.is_datetime64_any_dtype(data[x_col]):\n",
    "        data = data.copy()\n",
    "        data['x_ordinal'] = data[x_col].map(pd.Timestamp.toordinal)\n",
    "        x_values = data['x_ordinal']\n",
    "    else:\n",
    "        x_values = data[x_col]\n",
    "\n",
    "    # Perform linear regression\n",
    "    slope, intercept, r_value, p_value, std_err = linregress(x_values, data[y_col])\n",
    "    y_pred = intercept + slope * x_values\n",
    "\n",
    "    # Add trend line to the figure\n",
    "    fig.add_trace(go.Scatter(\n",
    "        x=data[x_col],\n",
    "        y=y_pred,\n",
    "        mode='lines',\n",
    "        line=dict(dash=linestyle, color=color, width=1),\n",
    "        name=f'Trend Line ({label})',\n",
    "        showlegend=True\n",
    "    ))\n",
    "\n",
    "\n",
    "# Holiday Calendar class to be used in the working days function\n",
    "# https://gist.github.com/tobiolabode/acd0d10a9142b8f1f35b000e5108a915\n",
    "class UKHolidayCalendar(AbstractHolidayCalendar):\n",
    "    rules = [\n",
    "        Holiday('New Years Day', month=1, day=1, observance=next_monday),\n",
    "        GoodFriday,\n",
    "        EasterMonday,\n",
    "        Holiday('Early May Bank Holiday', month=5, day=1, offset=DateOffset(weekday=MO(1))),\n",
    "        Holiday('Spring Bank Holiday', month=5, day=31, offset=DateOffset(weekday=MO(-1))),\n",
    "        Holiday('Summer Bank Holiday', month=8, day=31, offset=DateOffset(weekday=MO(-1))),\n",
    "        Holiday('Christmas Day', month=12, day=25, observance=next_monday),\n",
    "        Holiday('Boxing Day', month=12, day=26, observance=next_monday_or_tuesday)\n",
    "    ]\n",
    "\n",
    "# Function to calculate working days excluding weekends and public holidays\n",
    "def calculate_working_days(start_date, end_date):\n",
    "    calendar = UKHolidayCalendar()\n",
    "    holidays = calendar.holidays(start=start_date, end=end_date)\n",
    "    weekdays = pd.date_range(start=start_date, end=end_date, freq='B')\n",
    "    working_days = weekdays.difference(holidays)\n",
    "    return working_days.size\n",
    "\n",
    "# Function to get working days in a month minus annual leave\n",
    "def get_working_days_in_month(year, month):\n",
    "    start_date = pd.Timestamp(year, month, 1)\n",
    "    end_date = start_date + pd.offsets.MonthEnd()\n",
    "    working_days = calculate_working_days(start_date, end_date)\n",
    "    leave_days_per_month = 2.5 # using 30 annual leaves per annum\n",
    "    adjusted_working_days = max(0, working_days - leave_days_per_month) \n",
    "    return adjusted_working_days\n",
    "\n",
    "def image_to_base64(image_path):\n",
    "    with open(image_path, \"rb\") as image_file:\n",
    "        return base64.b64encode(image_file.read()).decode('utf-8')\n",
    "\n",
    "def convert_html_with_local_images(html_content):\n",
    "    def replace_image(match):\n",
    "        image_path = match.group(1)\n",
    "        if image_path.startswith('c:'):\n",
    "            try:\n",
    "                base64_image = image_to_base64(image_path)\n",
    "                return f'src=\"data:image/png;base64,{base64_image}\"'\n",
    "            except FileNotFoundError:\n",
    "                print(f\"Warning: Image file not found: {image_path}\")\n",
    "                return match.group(0)\n",
    "        return match.group(0)\n",
    "\n",
    "    # Replace background-image URLs\n",
    "    pattern = r'background-image:\\s*url\\([\\'\"]?(c:[^)]+\\.png)[\\'\"]?\\)'\n",
    "    html_content = re.sub(pattern, lambda m: f'background-image: url(data:image/png;base64,{image_to_base64(m.group(1))})', html_content)\n",
    "\n",
    "    # Replace img src URLs\n",
    "    pattern = r'src=[\\'\"]?(c:[^\\'\"]+\\.png)[\\'\"]?'\n",
    "    html_content = re.sub(pattern, replace_image, html_content)\n",
    "\n",
    "    return html_content\n",
    "\n"
   ]
  },
  {
   "cell_type": "code",
   "execution_count": 7,
   "metadata": {},
   "outputs": [
    {
     "name": "stdout",
     "output_type": "stream",
     "text": [
      "Testing connection with psycopg2:\n",
      "Error connecting with psycopg2: name 'host' is not defined\n",
      "\n",
      "Testing connection with SQLAlchemy:\n",
      "Successfully connected to database: NHS_Digital, schema: None\n",
      "Available schemas:\n",
      "- raw\n",
      "- staging\n",
      "- reporting\n",
      "- information_schema\n",
      "- pg_catalog\n",
      "- pg_toast\n",
      "Tables in raw schema:\n",
      "- all_regional_data\n",
      "- national_categories_data\n",
      "- combined_fte_df\n",
      "- df_ccg_icb\n",
      "- all_actual_duration_data\n",
      "\n",
      "Attempting to get column information for table: all_regional_data\n",
      "Columns in raw.all_regional_data:\n",
      "- icb_name (TEXT)\n",
      "- region_name (TEXT)\n",
      "- appointment_month (TEXT)\n",
      "- appt_status (TEXT)\n",
      "- hcp_type (TEXT)\n",
      "- appt_mode (TEXT)\n",
      "- time_between_book_and_appt (TEXT)\n",
      "- count_of_appointments (BIGINT)\n",
      "\n",
      "Sample data from raw.all_regional_data:\n",
      "                 icb_name               region_name appointment_month  \\\n",
      "0  NHS West Yorkshire ICB  North East and Yorkshire        2022-07-01   \n",
      "1  NHS West Yorkshire ICB  North East and Yorkshire        2022-09-01   \n",
      "2  NHS West Yorkshire ICB  North East and Yorkshire        2022-11-01   \n",
      "3  NHS West Yorkshire ICB  North East and Yorkshire        2022-11-01   \n",
      "4  NHS West Yorkshire ICB  North East and Yorkshire        2023-11-01   \n",
      "\n",
      "  appt_status hcp_type     appt_mode time_between_book_and_appt  \\\n",
      "0         DNA       GP  Face-to-Face                      1 Day   \n",
      "1         DNA       GP  Face-to-Face                      1 Day   \n",
      "2         DNA       GP     Telephone                      1 Day   \n",
      "3     Unknown       GP    Home Visit                      1 Day   \n",
      "4    Attended       GP    Home Visit                      1 Day   \n",
      "\n",
      "   count_of_appointments  \n",
      "0                    306  \n",
      "1                    300  \n",
      "2                     62  \n",
      "3                      3  \n",
      "4                    313  \n",
      "\n",
      "Sample data from raw.national_categories_data:\n",
      "  appointment_date            service_setting            context_type  \\\n",
      "0        01JAN2024           General Practice  Care Related Encounter   \n",
      "1        01JAN2024           General Practice  Care Related Encounter   \n",
      "2        02JAN2024  Extended Access Provision  Care Related Encounter   \n",
      "3        02JAN2024  Extended Access Provision  Care Related Encounter   \n",
      "4        02JAN2024  Extended Access Provision  Care Related Encounter   \n",
      "\n",
      "              national_category  count_of_appointments  \n",
      "0               Clinical Triage                      1  \n",
      "1               Planned Clinics                      4  \n",
      "2               Clinical Triage                      1  \n",
      "3    General Consultation Acute                      3  \n",
      "4  General Consultation Routine                     10  \n",
      "\n",
      "Sample data from raw.combined_fte_df:\n",
      "  report_month                                           icb_name  <= 0.4 fte  \\\n",
      "0   2022-09-01  NHS Bath and North East Somerset, Swindon and ...        70.0   \n",
      "1   2022-10-01  NHS Bath and North East Somerset, Swindon and ...        70.0   \n",
      "2   2022-11-01  NHS Bath and North East Somerset, Swindon and ...        70.0   \n",
      "3   2022-12-01  NHS Bath and North East Somerset, Swindon and ...        70.0   \n",
      "4   2023-01-01  NHS Bath and North East Somerset, Swindon and ...        70.0   \n",
      "\n",
      "   > 0.4 to < 1 fte  >= 1 fte  fte-gp  \n",
      "0             452.0     105.0  613.03  \n",
      "1             452.0     105.0  613.03  \n",
      "2             452.0     105.0  613.03  \n",
      "3             452.0     105.0  613.03  \n",
      "4             452.0     105.0  613.03  \n",
      "\n",
      "Sample data from raw.df_ccg_icb:\n",
      "  CCG Entity Code                          CCG ICB Entity Code  \\\n",
      "0             99C       NHS North Tyneside CCG             QHM   \n",
      "1             00L       NHS Northumberland CCG             QHM   \n",
      "2             13T  NHS Newcastle Gateshead CCG             QHM   \n",
      "3             01H        NHS North Cumbria CCG             QHM   \n",
      "4             00P           NHS Sunderland CCG             QHM   \n",
      "\n",
      "                           ICB New Name  \n",
      "0  NHS North East and North Cumbria ICB  \n",
      "1  NHS North East and North Cumbria ICB  \n",
      "2  NHS North East and North Cumbria ICB  \n",
      "3  NHS North East and North Cumbria ICB  \n",
      "4  NHS North East and North Cumbria ICB  \n",
      "\n",
      "Sample data from raw.all_actual_duration_data:\n",
      "  appointment_date         actual_duration  count_of_appointments  \\\n",
      "0        01DEC2021             1-5 Minutes                   1539   \n",
      "1        01DEC2021           31-60 Minutes                    364   \n",
      "2        01DEC2021  Unknown / Data Quality                   1277   \n",
      "3        01DEC2021           16-20 Minutes                    730   \n",
      "4        01DEC2021           11-15 Minutes                   1073   \n",
      "\n",
      "                               icb_name  \n",
      "0  NHS North East and North Cumbria ICB  \n",
      "1  NHS North East and North Cumbria ICB  \n",
      "2  NHS North East and North Cumbria ICB  \n",
      "3  NHS North East and North Cumbria ICB  \n",
      "4  NHS North East and North Cumbria ICB  \n"
     ]
    }
   ],
   "source": [
    "# Function to test raw psycopg2 connection\n",
    "def test_psycopg2_connection():\n",
    "    try:\n",
    "        conn = psycopg2.connect(\n",
    "            host=host,\n",
    "            database=database,\n",
    "            user=user,\n",
    "            password=password\n",
    "        )\n",
    "        cur = conn.cursor()\n",
    "        cur.execute(\"SELECT current_database(), current_schema()\")\n",
    "        result = cur.fetchone()\n",
    "        print(f\"Successfully connected to database: {result[0]}, schema: {result[1]}\")\n",
    "        \n",
    "        # List all schemas\n",
    "        cur.execute(\"SELECT schema_name FROM information_schema.schemata\")\n",
    "        schemas = cur.fetchall()\n",
    "        print(\"Available schemas:\")\n",
    "        for schema in schemas:\n",
    "            print(f\"- {schema[0]}\")\n",
    "        \n",
    "        # List all tables in raw schema\n",
    "        cur.execute(\"\"\"\n",
    "            SELECT table_name \n",
    "            FROM information_schema.tables \n",
    "            WHERE table_schema = 'raw'\n",
    "        \"\"\")\n",
    "        tables = cur.fetchall()\n",
    "        print(\"Tables in raw schema:\")\n",
    "        for table in tables:\n",
    "            print(f\"- {table[0]}\")\n",
    "        \n",
    "        cur.close()\n",
    "        conn.close()\n",
    "    except Exception as e:\n",
    "        print(f\"Error connecting with psycopg2: {e}\")\n",
    "\n",
    "# Function to test SQLAlchemy connection\n",
    "def test_sqlalchemy_connection(engine):\n",
    "    try:\n",
    "        with engine.connect() as conn:\n",
    "            result = conn.execute(text(\"SELECT current_database(), current_schema()\"))\n",
    "            for row in result:\n",
    "                print(f\"Successfully connected to database: {row[0]}, schema: {row[1]}\")\n",
    "            \n",
    "            # List all schemas\n",
    "            result = conn.execute(text(\"SELECT schema_name FROM information_schema.schemata\"))\n",
    "            print(\"Available schemas:\")\n",
    "            for row in result:\n",
    "                print(f\"- {row[0]}\")\n",
    "            \n",
    "            # List all tables in raw schema\n",
    "            result = conn.execute(text(\"\"\"\n",
    "                SELECT table_name \n",
    "                FROM information_schema.tables \n",
    "                WHERE table_schema = 'raw'\n",
    "            \"\"\"))\n",
    "            print(\"Tables in raw schema:\")\n",
    "            tables = [row[0] for row in result]\n",
    "            for table in tables:\n",
    "                print(f\"- {table}\")\n",
    "            \n",
    "            return tables\n",
    "    except Exception as e:\n",
    "        print(f\"Error connecting with SQLAlchemy: {e}\")\n",
    "        return []\n",
    "\n",
    "# Run diagnostics\n",
    "print(\"Testing connection with psycopg2:\")\n",
    "test_psycopg2_connection()\n",
    "\n",
    "print(\"\\nTesting connection with SQLAlchemy:\")\n",
    "table_names = test_sqlalchemy_connection(engine)\n",
    "\n",
    "# If tables are found, try to get column information for one table\n",
    "if table_names:\n",
    "    print(f\"\\nAttempting to get column information for table: {table_names[0]}\")\n",
    "    inspector = inspect(engine)\n",
    "    columns = inspector.get_columns(table_names[0], schema='raw')\n",
    "    print(f\"Columns in raw.{table_names[0]}:\")\n",
    "    for column in columns:\n",
    "        print(f\"- {column['name']} ({column['type']})\")\n",
    "else:\n",
    "    print(\"\\nNo tables found to retrieve column information.\")\n",
    "\n",
    "# Function to get data from a table in the raw schema\n",
    "def get_data_from_raw_table(table_name, limit=5):\n",
    "    query = text(f\"SELECT * FROM raw.{table_name} LIMIT {limit}\")\n",
    "    try:\n",
    "        with engine.connect() as conn:\n",
    "            result = conn.execute(query)\n",
    "            df = pd.DataFrame(result.fetchall(), columns=result.keys())\n",
    "        print(f\"\\nSample data from raw.{table_name}:\")\n",
    "        print(df)\n",
    "    except Exception as e:\n",
    "        print(f\"Error retrieving data from {table_name}: {e}\")\n",
    "\n",
    "# Get sample data from each table\n",
    "for table in table_names:\n",
    "    get_data_from_raw_table(table)"
   ]
  },
  {
   "cell_type": "code",
   "execution_count": 8,
   "metadata": {},
   "outputs": [
    {
     "name": "stdout",
     "output_type": "stream",
     "text": [
      "Retrieving data for all_actual_duration_data...\n",
      "Shape of all_actual_duration_data: (594021, 4)\n",
      "  appointment_date         actual_duration  count_of_appointments  \\\n",
      "0        01DEC2021             1-5 Minutes                   1539   \n",
      "1        01DEC2021           31-60 Minutes                    364   \n",
      "2        01DEC2021  Unknown / Data Quality                   1277   \n",
      "3        01DEC2021           16-20 Minutes                    730   \n",
      "4        01DEC2021           11-15 Minutes                   1073   \n",
      "\n",
      "                               icb_name  \n",
      "0  NHS North East and North Cumbria ICB  \n",
      "1  NHS North East and North Cumbria ICB  \n",
      "2  NHS North East and North Cumbria ICB  \n",
      "3  NHS North East and North Cumbria ICB  \n",
      "4  NHS North East and North Cumbria ICB  \n",
      "\n",
      "==================================================\n",
      "\n",
      "Retrieving data for all_regional_data...\n",
      "Shape of all_regional_data: (1268228, 8)\n",
      "                 icb_name               region_name appointment_month  \\\n",
      "0  NHS West Yorkshire ICB  North East and Yorkshire        2023-11-01   \n",
      "1  NHS West Yorkshire ICB  North East and Yorkshire        2024-04-01   \n",
      "2  NHS West Yorkshire ICB  North East and Yorkshire        2022-06-01   \n",
      "3  NHS West Yorkshire ICB  North East and Yorkshire        2023-01-01   \n",
      "4  NHS West Yorkshire ICB  North East and Yorkshire        2023-05-01   \n",
      "\n",
      "  appt_status hcp_type     appt_mode time_between_book_and_appt  \\\n",
      "0    Attended       GP    Home Visit                      1 Day   \n",
      "1         DNA       GP  Face-to-Face                      1 Day   \n",
      "2    Attended       GP    Home Visit                      1 Day   \n",
      "3    Attended       GP    Home Visit                      1 Day   \n",
      "4         DNA       GP  Face-to-Face                      1 Day   \n",
      "\n",
      "   count_of_appointments  \n",
      "0                    313  \n",
      "1                    277  \n",
      "2                     40  \n",
      "3                     18  \n",
      "4                    120  \n",
      "\n",
      "==================================================\n",
      "\n",
      "Retrieving data for combined_fte_df...\n",
      "Shape of combined_fte_df: (966, 6)\n",
      "  report_month                                           icb_name  <= 0.4 fte  \\\n",
      "0   2022-09-01  NHS Bath and North East Somerset, Swindon and ...        70.0   \n",
      "1   2022-10-01  NHS Bath and North East Somerset, Swindon and ...        70.0   \n",
      "2   2022-11-01  NHS Bath and North East Somerset, Swindon and ...        70.0   \n",
      "3   2022-12-01  NHS Bath and North East Somerset, Swindon and ...        70.0   \n",
      "4   2023-01-01  NHS Bath and North East Somerset, Swindon and ...        70.0   \n",
      "\n",
      "   > 0.4 to < 1 fte  >= 1 fte  fte-gp  \n",
      "0             452.0     105.0  613.03  \n",
      "1             452.0     105.0  613.03  \n",
      "2             452.0     105.0  613.03  \n",
      "3             452.0     105.0  613.03  \n",
      "4             452.0     105.0  613.03  \n",
      "\n",
      "==================================================\n",
      "\n",
      "Retrieving data for national_categories...\n",
      "Shape of national_categories: (2458580, 5)\n",
      "  appointment_date            service_setting            context_type  \\\n",
      "0        01JAN2024           General Practice  Care Related Encounter   \n",
      "1        01JAN2024           General Practice  Care Related Encounter   \n",
      "2        02JAN2024  Extended Access Provision  Care Related Encounter   \n",
      "3        02JAN2024  Extended Access Provision  Care Related Encounter   \n",
      "4        02JAN2024  Extended Access Provision  Care Related Encounter   \n",
      "\n",
      "              national_category  count_of_appointments  \n",
      "0               Clinical Triage                      1  \n",
      "1               Planned Clinics                      4  \n",
      "2               Clinical Triage                      1  \n",
      "3    General Consultation Acute                      3  \n",
      "4  General Consultation Routine                     10  \n",
      "\n",
      "==================================================\n",
      "\n",
      "Actual Duration (ad) dataframe:\n",
      "(594021, 4)\n",
      "  appointment_date         actual_duration  count_of_appointments  \\\n",
      "0        01DEC2021             1-5 Minutes                   1539   \n",
      "1        01DEC2021           31-60 Minutes                    364   \n",
      "2        01DEC2021  Unknown / Data Quality                   1277   \n",
      "3        01DEC2021           16-20 Minutes                    730   \n",
      "4        01DEC2021           11-15 Minutes                   1073   \n",
      "\n",
      "                               icb_name  \n",
      "0  NHS North East and North Cumbria ICB  \n",
      "1  NHS North East and North Cumbria ICB  \n",
      "2  NHS North East and North Cumbria ICB  \n",
      "3  NHS North East and North Cumbria ICB  \n",
      "4  NHS North East and North Cumbria ICB  \n",
      "\n",
      "==================================================\n",
      "\n",
      "Appointments Regional (ar) dataframe:\n",
      "(1268228, 8)\n",
      "                 icb_name               region_name appointment_month  \\\n",
      "0  NHS West Yorkshire ICB  North East and Yorkshire        2023-11-01   \n",
      "1  NHS West Yorkshire ICB  North East and Yorkshire        2024-04-01   \n",
      "2  NHS West Yorkshire ICB  North East and Yorkshire        2022-06-01   \n",
      "3  NHS West Yorkshire ICB  North East and Yorkshire        2023-01-01   \n",
      "4  NHS West Yorkshire ICB  North East and Yorkshire        2023-05-01   \n",
      "\n",
      "  appt_status hcp_type     appt_mode time_between_book_and_appt  \\\n",
      "0    Attended       GP    Home Visit                      1 Day   \n",
      "1         DNA       GP  Face-to-Face                      1 Day   \n",
      "2    Attended       GP    Home Visit                      1 Day   \n",
      "3    Attended       GP    Home Visit                      1 Day   \n",
      "4         DNA       GP  Face-to-Face                      1 Day   \n",
      "\n",
      "   count_of_appointments  \n",
      "0                    313  \n",
      "1                    277  \n",
      "2                     40  \n",
      "3                     18  \n",
      "4                    120  \n",
      "\n",
      "==================================================\n",
      "\n",
      "National Categories (nc) dataframe:\n",
      "(2458580, 5)\n",
      "  appointment_date            service_setting            context_type  \\\n",
      "0        01JAN2024           General Practice  Care Related Encounter   \n",
      "1        01JAN2024           General Practice  Care Related Encounter   \n",
      "2        02JAN2024  Extended Access Provision  Care Related Encounter   \n",
      "3        02JAN2024  Extended Access Provision  Care Related Encounter   \n",
      "4        02JAN2024  Extended Access Provision  Care Related Encounter   \n",
      "\n",
      "              national_category  count_of_appointments  \n",
      "0               Clinical Triage                      1  \n",
      "1               Planned Clinics                      4  \n",
      "2               Clinical Triage                      1  \n",
      "3    General Consultation Acute                      3  \n",
      "4  General Consultation Routine                     10  \n"
     ]
    }
   ],
   "source": [
    "def get_data_from_sql(query):\n",
    "    return pd.read_sql_query(query, engine)\n",
    "\n",
    "# Updated queries to use the 'raw' schema\n",
    "queries = {\n",
    "    'all_actual_duration_data': 'SELECT * FROM raw.all_actual_duration_data',\n",
    "    'all_regional_data': 'SELECT * FROM raw.all_regional_data',\n",
    "    'combined_fte_df': 'SELECT * FROM raw.combined_fte_df',\n",
    "    'national_categories': 'SELECT * FROM raw.national_categories_data',\n",
    "}\n",
    "\n",
    "# Retrieve data\n",
    "data = {}\n",
    "for name, query in queries.items():\n",
    "    print(f\"Retrieving data for {name}...\")\n",
    "    data[name] = get_data_from_sql(query)\n",
    "    print(f\"Shape of {name}: {data[name].shape}\")\n",
    "    print(data[name].head())\n",
    "    print(\"\\n\" + \"=\"*50 + \"\\n\")\n",
    "\n",
    "# Create the requested dataframes\n",
    "ad = data['all_actual_duration_data']\n",
    "ar = data['all_regional_data']\n",
    "nc = data['national_categories']\n",
    "fte = data['combined_fte_df']\n",
    "\n",
    "print(\"Actual Duration (ad) dataframe:\")\n",
    "print(ad.shape)\n",
    "print(ad.head())\n",
    "print(\"\\n\" + \"=\"*50 + \"\\n\")\n",
    "\n",
    "print(\"Appointments Regional (ar) dataframe:\")\n",
    "print(ar.shape)\n",
    "print(ar.head())\n",
    "print(\"\\n\" + \"=\"*50 + \"\\n\")\n",
    "\n",
    "print(\"National Categories (nc) dataframe:\")\n",
    "print(nc.shape)\n",
    "print(nc.head())"
   ]
  },
  {
   "cell_type": "code",
   "execution_count": 9,
   "metadata": {},
   "outputs": [
    {
     "name": "stdout",
     "output_type": "stream",
     "text": [
      "Total number of appointments over the entire timeline: 3,185,948,825\n"
     ]
    }
   ],
   "source": [
    "# Calculate the total number of appointments from each DataFrame\n",
    "total_appointments_ar = ar['count_of_appointments'].sum()\n",
    "total_appointments_nc = nc['count_of_appointments'].sum()\n",
    "total_appointments_ad = ad['count_of_appointments'].sum()\n",
    "\n",
    "# Calculate the grand total\n",
    "total_appointments = total_appointments_ar + total_appointments_nc + total_appointments_ad\n",
    "\n",
    "print(f\"Total number of appointments over the entire timeline: {total_appointments:,}\")\n"
   ]
  },
  {
   "cell_type": "code",
   "execution_count": 10,
   "metadata": {},
   "outputs": [
    {
     "name": "stderr",
     "output_type": "stream",
     "text": [
      "C:\\Users\\willi\\AppData\\Local\\Temp\\ipykernel_18456\\1711413484.py:1: UserWarning: Could not infer format, so each element will be parsed individually, falling back to `dateutil`. To ensure parsing is consistent and as-expected, please specify a format.\n",
      "  nc['appointment_date'] = pd.to_datetime(nc['appointment_date'])\n"
     ]
    },
    {
     "name": "stdout",
     "output_type": "stream",
     "text": [
      "appointment_date\n",
      "2022-01-02       9672\n",
      "2022-01-09    4992406\n",
      "2022-01-16    6378111\n",
      "2022-01-23    6388667\n",
      "2022-01-30    6446940\n",
      "Freq: W-SUN, Name: count_of_appointments, dtype: int64\n"
     ]
    }
   ],
   "source": [
    "nc['appointment_date'] = pd.to_datetime(nc['appointment_date'])\n",
    "\n",
    "# Set the 'appointment_date' column as the index and create a new DataFrame\n",
    "nc_indexed = nc.set_index('appointment_date')\n",
    "\n",
    "# Resample and aggregate data by week\n",
    "weekly_appointments = nc_indexed['count_of_appointments'].resample('W').sum()\n",
    "\n",
    "# Verify the result\n",
    "print(weekly_appointments.head())  # Print the first few rows to verify"
   ]
  },
  {
   "cell_type": "code",
   "execution_count": 11,
   "metadata": {},
   "outputs": [
    {
     "name": "stdout",
     "output_type": "stream",
     "text": [
      "Aggregated GP appointments by month and ICB:\n",
      "  appointment_month                                           icb_name  \\\n",
      "0        2019-04-01  NHS Bath and North East Somerset Swindon and W...   \n",
      "1        2019-04-01       NHS Bedfordshire Luton and Milton Keynes ICB   \n",
      "2        2019-04-01                    NHS Birmingham and Solihull ICB   \n",
      "3        2019-04-01                              NHS Black Country ICB   \n",
      "4        2019-04-01  NHS Bristol North Somerset and South Glouceste...   \n",
      "5        2019-04-01  NHS Buckinghamshire Oxfordshire and Berkshire ...   \n",
      "6        2019-04-01            NHS Cambridgeshire and Peterborough ICB   \n",
      "7        2019-04-01                    NHS Cheshire and Merseyside ICB   \n",
      "8        2019-04-01           NHS Cornwall and The Isles of Scilly ICB   \n",
      "9        2019-04-01                  NHS Coventry and Warwickshire ICB   \n",
      "\n",
      "   count_of_appointments  \n",
      "0                 207848  \n",
      "1                 201141  \n",
      "2                 299071  \n",
      "3                 319095  \n",
      "4                 229006  \n",
      "5                 396649  \n",
      "6                 194568  \n",
      "7                 568392  \n",
      "8                 162030  \n",
      "9                 214869  \n",
      "\n",
      "Top 5 ICBs by average appointment count:\n",
      "icb_name\n",
      "NHS North East and North Cumbria ICB    673875.366667\n",
      "NHS Greater Manchester ICB              641099.500000\n",
      "NHS Cheshire and Merseyside ICB         601582.050000\n",
      "NHS North West London ICB               568259.883333\n",
      "NHS West Yorkshire ICB                  543898.416667\n",
      "Name: count_of_appointments, dtype: float64\n",
      "\n",
      "Bottom 5 ICBs by average appointment count:\n",
      "icb_name\n",
      "NHS Shropshire Telford and Wrekin ICB       109905.266667\n",
      "NHS Somerset ICB                            128759.983333\n",
      "NHS Lincolnshire ICB                        135835.083333\n",
      "NHS Cornwall and The Isles of Scilly ICB    149307.433333\n",
      "NHS Gloucestershire ICB                     152019.400000\n",
      "Name: count_of_appointments, dtype: float64\n",
      "\n",
      "Total number of GP appointments: 779,895,695\n",
      "Average number of appointments per month per ICB: 309,482.42\n"
     ]
    },
    {
     "data": {
      "application/vnd.plotly.v1+json": {
       "config": {
        "plotlyServerURL": "https://plot.ly"
       },
       "data": [
        {
         "mode": "lines",
         "name": "Total Appointments",
         "type": "scatter",
         "x": [
          "2019-04-01",
          "2019-05-01",
          "2019-06-01",
          "2019-07-01",
          "2019-08-01",
          "2019-09-01",
          "2019-10-01",
          "2019-11-01",
          "2019-12-01",
          "2020-01-01",
          "2020-02-01",
          "2020-03-01",
          "2020-04-01",
          "2020-05-01",
          "2020-06-01",
          "2020-07-01",
          "2020-08-01",
          "2020-09-01",
          "2020-10-01",
          "2020-11-01",
          "2020-12-01",
          "2021-01-01",
          "2021-02-01",
          "2021-03-01",
          "2021-04-01",
          "2021-05-01",
          "2021-06-01",
          "2021-07-01",
          "2021-08-01",
          "2021-09-01",
          "2021-12-01",
          "2022-01-01",
          "2022-02-01",
          "2022-03-01",
          "2022-04-01",
          "2022-05-01",
          "2022-06-01",
          "2022-07-01",
          "2022-08-01",
          "2022-09-01",
          "2022-10-01",
          "2022-11-01",
          "2022-12-01",
          "2023-01-01",
          "2023-02-01",
          "2023-03-01",
          "2023-04-01",
          "2023-05-01",
          "2023-06-01",
          "2023-07-01",
          "2023-08-01",
          "2023-09-01",
          "2023-10-01",
          "2023-11-01",
          "2023-12-01",
          "2024-01-01",
          "2024-02-01",
          "2024-03-01",
          "2024-04-01",
          "2024-05-01"
         ],
         "y": [
          12570434,
          13061650,
          12266272,
          13792436,
          11874494,
          13137119,
          14400091,
          13392672,
          12233227,
          14159913,
          12459755,
          12831187,
          8789661,
          8920211,
          11048464,
          11696787,
          10478877,
          13181903,
          13177084,
          12496461,
          11755170,
          11787080,
          11809876,
          14369217,
          12441198,
          12308189,
          14020944,
          13306822,
          12269372,
          14454510,
          12648107,
          13132651,
          12863908,
          15119387,
          11901145,
          13785188,
          12885050,
          12707475,
          12829386,
          13562299,
          14173871,
          14592476,
          13262053,
          14275754,
          13117840,
          15198581,
          11419332,
          13201465,
          13925402,
          12920150,
          13022156,
          13872665,
          14653715,
          14322052,
          12022551,
          14945984,
          13947232,
          13631933,
          13714471,
          13750340
         ]
        },
        {
         "mode": "lines",
         "name": "Trendline",
         "type": "scatter",
         "x": [
          "2019-04-01",
          "2019-05-01",
          "2019-06-01",
          "2019-07-01",
          "2019-08-01",
          "2019-09-01",
          "2019-10-01",
          "2019-11-01",
          "2019-12-01",
          "2020-01-01",
          "2020-02-01",
          "2020-03-01",
          "2020-04-01",
          "2020-05-01",
          "2020-06-01",
          "2020-07-01",
          "2020-08-01",
          "2020-09-01",
          "2020-10-01",
          "2020-11-01",
          "2020-12-01",
          "2021-01-01",
          "2021-02-01",
          "2021-03-01",
          "2021-04-01",
          "2021-05-01",
          "2021-06-01",
          "2021-07-01",
          "2021-08-01",
          "2021-09-01",
          "2021-12-01",
          "2022-01-01",
          "2022-02-01",
          "2022-03-01",
          "2022-04-01",
          "2022-05-01",
          "2022-06-01",
          "2022-07-01",
          "2022-08-01",
          "2022-09-01",
          "2022-10-01",
          "2022-11-01",
          "2022-12-01",
          "2023-01-01",
          "2023-02-01",
          "2023-03-01",
          "2023-04-01",
          "2023-05-01",
          "2023-06-01",
          "2023-07-01",
          "2023-08-01",
          "2023-09-01",
          "2023-10-01",
          "2023-11-01",
          "2023-12-01",
          "2024-01-01",
          "2024-02-01",
          "2024-03-01",
          "2024-04-01",
          "2024-05-01"
         ],
         "y": [
          12121055.44480875,
          12150791.246114668,
          12180527.047420586,
          12210262.848726504,
          12239998.650032422,
          12269734.451338341,
          12299470.25264426,
          12329206.053950178,
          12358941.855256096,
          12388677.656562014,
          12418413.457867932,
          12448149.25917385,
          12477885.060479768,
          12507620.861785688,
          12537356.663091606,
          12567092.464397524,
          12596828.265703442,
          12626564.06700936,
          12656299.868315278,
          12686035.669621196,
          12715771.470927114,
          12745507.272233034,
          12775243.073538952,
          12804978.87484487,
          12834714.676150788,
          12864450.477456706,
          12894186.278762624,
          12923922.080068542,
          12953657.88137446,
          12983393.68268038,
          13013129.483986298,
          13042865.285292216,
          13072601.086598134,
          13102336.887904052,
          13132072.68920997,
          13161808.490515888,
          13191544.291821806,
          13221280.093127724,
          13251015.894433644,
          13280751.695739562,
          13310487.49704548,
          13340223.298351398,
          13369959.099657316,
          13399694.900963234,
          13429430.702269152,
          13459166.503575072,
          13488902.30488099,
          13518638.106186908,
          13548373.907492826,
          13578109.708798744,
          13607845.510104662,
          13637581.31141058,
          13667317.112716498,
          13697052.914022416,
          13726788.715328336,
          13756524.516634254,
          13786260.317940172,
          13815996.11924609,
          13845731.920552008,
          13875467.721857926
         ]
        }
       ],
       "layout": {
        "template": {
         "data": {
          "bar": [
           {
            "error_x": {
             "color": "#2a3f5f"
            },
            "error_y": {
             "color": "#2a3f5f"
            },
            "marker": {
             "line": {
              "color": "#E5ECF6",
              "width": 0.5
             },
             "pattern": {
              "fillmode": "overlay",
              "size": 10,
              "solidity": 0.2
             }
            },
            "type": "bar"
           }
          ],
          "barpolar": [
           {
            "marker": {
             "line": {
              "color": "#E5ECF6",
              "width": 0.5
             },
             "pattern": {
              "fillmode": "overlay",
              "size": 10,
              "solidity": 0.2
             }
            },
            "type": "barpolar"
           }
          ],
          "carpet": [
           {
            "aaxis": {
             "endlinecolor": "#2a3f5f",
             "gridcolor": "white",
             "linecolor": "white",
             "minorgridcolor": "white",
             "startlinecolor": "#2a3f5f"
            },
            "baxis": {
             "endlinecolor": "#2a3f5f",
             "gridcolor": "white",
             "linecolor": "white",
             "minorgridcolor": "white",
             "startlinecolor": "#2a3f5f"
            },
            "type": "carpet"
           }
          ],
          "choropleth": [
           {
            "colorbar": {
             "outlinewidth": 0,
             "ticks": ""
            },
            "type": "choropleth"
           }
          ],
          "contour": [
           {
            "colorbar": {
             "outlinewidth": 0,
             "ticks": ""
            },
            "colorscale": [
             [
              0,
              "#0d0887"
             ],
             [
              0.1111111111111111,
              "#46039f"
             ],
             [
              0.2222222222222222,
              "#7201a8"
             ],
             [
              0.3333333333333333,
              "#9c179e"
             ],
             [
              0.4444444444444444,
              "#bd3786"
             ],
             [
              0.5555555555555556,
              "#d8576b"
             ],
             [
              0.6666666666666666,
              "#ed7953"
             ],
             [
              0.7777777777777778,
              "#fb9f3a"
             ],
             [
              0.8888888888888888,
              "#fdca26"
             ],
             [
              1,
              "#f0f921"
             ]
            ],
            "type": "contour"
           }
          ],
          "contourcarpet": [
           {
            "colorbar": {
             "outlinewidth": 0,
             "ticks": ""
            },
            "type": "contourcarpet"
           }
          ],
          "heatmap": [
           {
            "colorbar": {
             "outlinewidth": 0,
             "ticks": ""
            },
            "colorscale": [
             [
              0,
              "#0d0887"
             ],
             [
              0.1111111111111111,
              "#46039f"
             ],
             [
              0.2222222222222222,
              "#7201a8"
             ],
             [
              0.3333333333333333,
              "#9c179e"
             ],
             [
              0.4444444444444444,
              "#bd3786"
             ],
             [
              0.5555555555555556,
              "#d8576b"
             ],
             [
              0.6666666666666666,
              "#ed7953"
             ],
             [
              0.7777777777777778,
              "#fb9f3a"
             ],
             [
              0.8888888888888888,
              "#fdca26"
             ],
             [
              1,
              "#f0f921"
             ]
            ],
            "type": "heatmap"
           }
          ],
          "heatmapgl": [
           {
            "colorbar": {
             "outlinewidth": 0,
             "ticks": ""
            },
            "colorscale": [
             [
              0,
              "#0d0887"
             ],
             [
              0.1111111111111111,
              "#46039f"
             ],
             [
              0.2222222222222222,
              "#7201a8"
             ],
             [
              0.3333333333333333,
              "#9c179e"
             ],
             [
              0.4444444444444444,
              "#bd3786"
             ],
             [
              0.5555555555555556,
              "#d8576b"
             ],
             [
              0.6666666666666666,
              "#ed7953"
             ],
             [
              0.7777777777777778,
              "#fb9f3a"
             ],
             [
              0.8888888888888888,
              "#fdca26"
             ],
             [
              1,
              "#f0f921"
             ]
            ],
            "type": "heatmapgl"
           }
          ],
          "histogram": [
           {
            "marker": {
             "pattern": {
              "fillmode": "overlay",
              "size": 10,
              "solidity": 0.2
             }
            },
            "type": "histogram"
           }
          ],
          "histogram2d": [
           {
            "colorbar": {
             "outlinewidth": 0,
             "ticks": ""
            },
            "colorscale": [
             [
              0,
              "#0d0887"
             ],
             [
              0.1111111111111111,
              "#46039f"
             ],
             [
              0.2222222222222222,
              "#7201a8"
             ],
             [
              0.3333333333333333,
              "#9c179e"
             ],
             [
              0.4444444444444444,
              "#bd3786"
             ],
             [
              0.5555555555555556,
              "#d8576b"
             ],
             [
              0.6666666666666666,
              "#ed7953"
             ],
             [
              0.7777777777777778,
              "#fb9f3a"
             ],
             [
              0.8888888888888888,
              "#fdca26"
             ],
             [
              1,
              "#f0f921"
             ]
            ],
            "type": "histogram2d"
           }
          ],
          "histogram2dcontour": [
           {
            "colorbar": {
             "outlinewidth": 0,
             "ticks": ""
            },
            "colorscale": [
             [
              0,
              "#0d0887"
             ],
             [
              0.1111111111111111,
              "#46039f"
             ],
             [
              0.2222222222222222,
              "#7201a8"
             ],
             [
              0.3333333333333333,
              "#9c179e"
             ],
             [
              0.4444444444444444,
              "#bd3786"
             ],
             [
              0.5555555555555556,
              "#d8576b"
             ],
             [
              0.6666666666666666,
              "#ed7953"
             ],
             [
              0.7777777777777778,
              "#fb9f3a"
             ],
             [
              0.8888888888888888,
              "#fdca26"
             ],
             [
              1,
              "#f0f921"
             ]
            ],
            "type": "histogram2dcontour"
           }
          ],
          "mesh3d": [
           {
            "colorbar": {
             "outlinewidth": 0,
             "ticks": ""
            },
            "type": "mesh3d"
           }
          ],
          "parcoords": [
           {
            "line": {
             "colorbar": {
              "outlinewidth": 0,
              "ticks": ""
             }
            },
            "type": "parcoords"
           }
          ],
          "pie": [
           {
            "automargin": true,
            "type": "pie"
           }
          ],
          "scatter": [
           {
            "fillpattern": {
             "fillmode": "overlay",
             "size": 10,
             "solidity": 0.2
            },
            "type": "scatter"
           }
          ],
          "scatter3d": [
           {
            "line": {
             "colorbar": {
              "outlinewidth": 0,
              "ticks": ""
             }
            },
            "marker": {
             "colorbar": {
              "outlinewidth": 0,
              "ticks": ""
             }
            },
            "type": "scatter3d"
           }
          ],
          "scattercarpet": [
           {
            "marker": {
             "colorbar": {
              "outlinewidth": 0,
              "ticks": ""
             }
            },
            "type": "scattercarpet"
           }
          ],
          "scattergeo": [
           {
            "marker": {
             "colorbar": {
              "outlinewidth": 0,
              "ticks": ""
             }
            },
            "type": "scattergeo"
           }
          ],
          "scattergl": [
           {
            "marker": {
             "colorbar": {
              "outlinewidth": 0,
              "ticks": ""
             }
            },
            "type": "scattergl"
           }
          ],
          "scattermapbox": [
           {
            "marker": {
             "colorbar": {
              "outlinewidth": 0,
              "ticks": ""
             }
            },
            "type": "scattermapbox"
           }
          ],
          "scatterpolar": [
           {
            "marker": {
             "colorbar": {
              "outlinewidth": 0,
              "ticks": ""
             }
            },
            "type": "scatterpolar"
           }
          ],
          "scatterpolargl": [
           {
            "marker": {
             "colorbar": {
              "outlinewidth": 0,
              "ticks": ""
             }
            },
            "type": "scatterpolargl"
           }
          ],
          "scatterternary": [
           {
            "marker": {
             "colorbar": {
              "outlinewidth": 0,
              "ticks": ""
             }
            },
            "type": "scatterternary"
           }
          ],
          "surface": [
           {
            "colorbar": {
             "outlinewidth": 0,
             "ticks": ""
            },
            "colorscale": [
             [
              0,
              "#0d0887"
             ],
             [
              0.1111111111111111,
              "#46039f"
             ],
             [
              0.2222222222222222,
              "#7201a8"
             ],
             [
              0.3333333333333333,
              "#9c179e"
             ],
             [
              0.4444444444444444,
              "#bd3786"
             ],
             [
              0.5555555555555556,
              "#d8576b"
             ],
             [
              0.6666666666666666,
              "#ed7953"
             ],
             [
              0.7777777777777778,
              "#fb9f3a"
             ],
             [
              0.8888888888888888,
              "#fdca26"
             ],
             [
              1,
              "#f0f921"
             ]
            ],
            "type": "surface"
           }
          ],
          "table": [
           {
            "cells": {
             "fill": {
              "color": "#EBF0F8"
             },
             "line": {
              "color": "white"
             }
            },
            "header": {
             "fill": {
              "color": "#C8D4E3"
             },
             "line": {
              "color": "white"
             }
            },
            "type": "table"
           }
          ]
         },
         "layout": {
          "annotationdefaults": {
           "arrowcolor": "#2a3f5f",
           "arrowhead": 0,
           "arrowwidth": 1
          },
          "autotypenumbers": "strict",
          "coloraxis": {
           "colorbar": {
            "outlinewidth": 0,
            "ticks": ""
           }
          },
          "colorscale": {
           "diverging": [
            [
             0,
             "#8e0152"
            ],
            [
             0.1,
             "#c51b7d"
            ],
            [
             0.2,
             "#de77ae"
            ],
            [
             0.3,
             "#f1b6da"
            ],
            [
             0.4,
             "#fde0ef"
            ],
            [
             0.5,
             "#f7f7f7"
            ],
            [
             0.6,
             "#e6f5d0"
            ],
            [
             0.7,
             "#b8e186"
            ],
            [
             0.8,
             "#7fbc41"
            ],
            [
             0.9,
             "#4d9221"
            ],
            [
             1,
             "#276419"
            ]
           ],
           "sequential": [
            [
             0,
             "#0d0887"
            ],
            [
             0.1111111111111111,
             "#46039f"
            ],
            [
             0.2222222222222222,
             "#7201a8"
            ],
            [
             0.3333333333333333,
             "#9c179e"
            ],
            [
             0.4444444444444444,
             "#bd3786"
            ],
            [
             0.5555555555555556,
             "#d8576b"
            ],
            [
             0.6666666666666666,
             "#ed7953"
            ],
            [
             0.7777777777777778,
             "#fb9f3a"
            ],
            [
             0.8888888888888888,
             "#fdca26"
            ],
            [
             1,
             "#f0f921"
            ]
           ],
           "sequentialminus": [
            [
             0,
             "#0d0887"
            ],
            [
             0.1111111111111111,
             "#46039f"
            ],
            [
             0.2222222222222222,
             "#7201a8"
            ],
            [
             0.3333333333333333,
             "#9c179e"
            ],
            [
             0.4444444444444444,
             "#bd3786"
            ],
            [
             0.5555555555555556,
             "#d8576b"
            ],
            [
             0.6666666666666666,
             "#ed7953"
            ],
            [
             0.7777777777777778,
             "#fb9f3a"
            ],
            [
             0.8888888888888888,
             "#fdca26"
            ],
            [
             1,
             "#f0f921"
            ]
           ]
          },
          "colorway": [
           "#636efa",
           "#EF553B",
           "#00cc96",
           "#ab63fa",
           "#FFA15A",
           "#19d3f3",
           "#FF6692",
           "#B6E880",
           "#FF97FF",
           "#FECB52"
          ],
          "font": {
           "color": "#2a3f5f"
          },
          "geo": {
           "bgcolor": "white",
           "lakecolor": "white",
           "landcolor": "#E5ECF6",
           "showlakes": true,
           "showland": true,
           "subunitcolor": "white"
          },
          "hoverlabel": {
           "align": "left"
          },
          "hovermode": "closest",
          "mapbox": {
           "style": "light"
          },
          "paper_bgcolor": "white",
          "plot_bgcolor": "#E5ECF6",
          "polar": {
           "angularaxis": {
            "gridcolor": "white",
            "linecolor": "white",
            "ticks": ""
           },
           "bgcolor": "#E5ECF6",
           "radialaxis": {
            "gridcolor": "white",
            "linecolor": "white",
            "ticks": ""
           }
          },
          "scene": {
           "xaxis": {
            "backgroundcolor": "#E5ECF6",
            "gridcolor": "white",
            "gridwidth": 2,
            "linecolor": "white",
            "showbackground": true,
            "ticks": "",
            "zerolinecolor": "white"
           },
           "yaxis": {
            "backgroundcolor": "#E5ECF6",
            "gridcolor": "white",
            "gridwidth": 2,
            "linecolor": "white",
            "showbackground": true,
            "ticks": "",
            "zerolinecolor": "white"
           },
           "zaxis": {
            "backgroundcolor": "#E5ECF6",
            "gridcolor": "white",
            "gridwidth": 2,
            "linecolor": "white",
            "showbackground": true,
            "ticks": "",
            "zerolinecolor": "white"
           }
          },
          "shapedefaults": {
           "line": {
            "color": "#2a3f5f"
           }
          },
          "ternary": {
           "aaxis": {
            "gridcolor": "white",
            "linecolor": "white",
            "ticks": ""
           },
           "baxis": {
            "gridcolor": "white",
            "linecolor": "white",
            "ticks": ""
           },
           "bgcolor": "#E5ECF6",
           "caxis": {
            "gridcolor": "white",
            "linecolor": "white",
            "ticks": ""
           }
          },
          "title": {
           "x": 0.05
          },
          "xaxis": {
           "automargin": true,
           "gridcolor": "white",
           "linecolor": "white",
           "ticks": "",
           "title": {
            "standoff": 15
           },
           "zerolinecolor": "white",
           "zerolinewidth": 2
          },
          "yaxis": {
           "automargin": true,
           "gridcolor": "white",
           "linecolor": "white",
           "ticks": "",
           "title": {
            "standoff": 15
           },
           "zerolinecolor": "white",
           "zerolinewidth": 2
          }
         }
        },
        "title": {
         "text": "Total GP Appointments Over Time"
        },
        "xaxis": {
         "tickangle": 45,
         "tickmode": "array",
         "ticktext": [
          "Apr\n2019",
          "Jul\n2019",
          "Oct\n2019",
          "Jan\n2020",
          "Apr\n2020",
          "Jul\n2020",
          "Oct\n2020",
          "Jan\n2021",
          "Apr\n2021",
          "Jul\n2021",
          "Dec\n2021",
          "Mar\n2022",
          "Jun\n2022",
          "Sep\n2022",
          "Dec\n2022",
          "Mar\n2023",
          "Jun\n2023",
          "Sep\n2023",
          "Dec\n2023",
          "Mar\n2024"
         ],
         "tickvals": [
          "2019-04-01",
          "2019-07-01",
          "2019-10-01",
          "2020-01-01",
          "2020-04-01",
          "2020-07-01",
          "2020-10-01",
          "2021-01-01",
          "2021-04-01",
          "2021-07-01",
          "2021-12-01",
          "2022-03-01",
          "2022-06-01",
          "2022-09-01",
          "2022-12-01",
          "2023-03-01",
          "2023-06-01",
          "2023-09-01",
          "2023-12-01",
          "2024-03-01"
         ],
         "title": {
          "text": "Month"
         }
        },
        "yaxis": {
         "mirror": "ticks",
         "showgrid": true,
         "showline": true,
         "side": "left",
         "ticks": "outside",
         "title": {
          "text": "Total Appointments"
         }
        },
        "yaxis2": {
         "overlaying": "y",
         "showgrid": false,
         "showline": true,
         "side": "right",
         "tickmode": "sync",
         "ticks": "outside"
        }
       }
      }
     },
     "metadata": {},
     "output_type": "display_data"
    }
   ],
   "source": [
    "# Filter for GP appointments\n",
    "ar_gp = ar[ar['hcp_type'] == 'GP']\n",
    "\n",
    "# Aggregate count_of_appointments by month and ICB\n",
    "gp_appointments = ar_gp.groupby(['appointment_month', 'icb_name'])['count_of_appointments'].sum().reset_index()\n",
    "\n",
    "# Display the first few rows of the aggregated data\n",
    "print(\"Aggregated GP appointments by month and ICB:\")\n",
    "print(gp_appointments.head(10))\n",
    "\n",
    "# Identify ICBs with the highest and lowest appointment counts\n",
    "top_icbs = gp_appointments.groupby('icb_name')['count_of_appointments'].mean().sort_values(ascending=False).head(5)\n",
    "bottom_icbs = gp_appointments.groupby('icb_name')['count_of_appointments'].mean().sort_values().head(5)\n",
    "\n",
    "print(\"\\nTop 5 ICBs by average appointment count:\")\n",
    "print(top_icbs)\n",
    "\n",
    "print(\"\\nBottom 5 ICBs by average appointment count:\")\n",
    "print(bottom_icbs)\n",
    "\n",
    "# Time series of total GP appointments\n",
    "total_appointments_over_time = gp_appointments.groupby('appointment_month')['count_of_appointments'].sum()\n",
    "\n",
    "# Calculate the total number of GP appointments\n",
    "total_gp_appointments = gp_appointments['count_of_appointments'].sum()\n",
    "print(f\"\\nTotal number of GP appointments: {total_gp_appointments:,}\")\n",
    "\n",
    "# Calculate the average number of appointments per month per ICB\n",
    "avg_appointments_per_month_icb = gp_appointments['count_of_appointments'].mean()\n",
    "print(f\"Average number of appointments per month per ICB: {avg_appointments_per_month_icb:,.2f}\")\n",
    "\n",
    "# Create the plotly figure for the line plot\n",
    "fig1_trend1 = go.Figure()\n",
    "\n",
    "# Add the total appointments over time as a line trace\n",
    "fig1_trend1.add_trace(go.Scatter(\n",
    "    x=total_appointments_over_time.index,\n",
    "    y=total_appointments_over_time.values,\n",
    "    mode='lines',\n",
    "    name='Total Appointments'\n",
    "))\n",
    "\n",
    "# Add a trendline using ordinary least squares (OLS)\n",
    "X = sm.add_constant(range(len(total_appointments_over_time)))\n",
    "model = sm.OLS(total_appointments_over_time.values, X).fit()\n",
    "trendline = model.predict(X)\n",
    "\n",
    "fig1_trend1.add_trace(go.Scatter(\n",
    "    x=total_appointments_over_time.index,\n",
    "    y=trendline,\n",
    "    mode='lines',\n",
    "    name='Trendline'\n",
    "))\n",
    "\n",
    "# Update layout of the figure\n",
    "# Generate tickvals and ticktext for every third month\n",
    "tickvals = total_appointments_over_time.index[::3]\n",
    "ticktext = [pd.to_datetime(t).strftime('%b\\n%Y') for t in tickvals]\n",
    "\n",
    "fig1_trend1.update_layout(\n",
    "    title='Total GP Appointments Over Time',\n",
    "    xaxis_title='Month',\n",
    "    yaxis_title='Total Appointments',\n",
    "    xaxis=dict(\n",
    "        tickangle=45,\n",
    "        tickvals=tickvals,\n",
    "        ticktext=ticktext,\n",
    "        tickmode='array'\n",
    "    ),\n",
    "    yaxis=dict(\n",
    "        showline=True,\n",
    "        side='left',  # Keep the primary y-axis on the left\n",
    "        mirror='ticks',  # This will make sure the ticks are mirrored on both sides\n",
    "        ticks='outside',  # Ensure ticks are visible\n",
    "        showgrid=True,  # Show grid lines\n",
    "    ),\n",
    "    yaxis2=dict(\n",
    "        showline=True,\n",
    "        side='right',\n",
    "        overlaying='y',\n",
    "        tickmode='sync',  # Synchronize ticks with the left y-axis\n",
    "        ticks='outside',\n",
    "        showgrid=False,  # Don't show grid lines for the right axis to avoid clutter\n",
    "    )\n",
    ")\n",
    "\n",
    "# Get HTML string for fig1_trend3\n",
    "fig1_trend1_html = fig1_trend1.to_html(full_html=False, include_plotlyjs='cdn')\n",
    "fig1_trend1.show()"
   ]
  },
  {
   "cell_type": "code",
   "execution_count": 12,
   "metadata": {},
   "outputs": [
    {
     "name": "stdout",
     "output_type": "stream",
     "text": [
      "<class 'pandas.core.frame.DataFrame'>\n",
      "Index: 495788 entries, 0 to 1268227\n",
      "Data columns (total 8 columns):\n",
      " #   Column                      Non-Null Count   Dtype \n",
      "---  ------                      --------------   ----- \n",
      " 0   icb_name                    495788 non-null  object\n",
      " 1   region_name                 495788 non-null  object\n",
      " 2   appointment_month           495788 non-null  object\n",
      " 3   appt_status                 495788 non-null  object\n",
      " 4   hcp_type                    495788 non-null  object\n",
      " 5   appt_mode                   495788 non-null  object\n",
      " 6   time_between_book_and_appt  495788 non-null  object\n",
      " 7   count_of_appointments       495788 non-null  int64 \n",
      "dtypes: int64(1), object(7)\n",
      "memory usage: 34.0+ MB\n"
     ]
    }
   ],
   "source": [
    "ar_gp.info()"
   ]
  },
  {
   "cell_type": "code",
   "execution_count": 13,
   "metadata": {},
   "outputs": [
    {
     "name": "stderr",
     "output_type": "stream",
     "text": [
      "C:\\Users\\willi\\AppData\\Local\\Temp\\ipykernel_18456\\839356469.py:2: SettingWithCopyWarning:\n",
      "\n",
      "\n",
      "A value is trying to be set on a copy of a slice from a DataFrame.\n",
      "Try using .loc[row_indexer,col_indexer] = value instead\n",
      "\n",
      "See the caveats in the documentation: https://pandas.pydata.org/pandas-docs/stable/user_guide/indexing.html#returning-a-view-versus-a-copy\n",
      "\n",
      "C:\\Users\\willi\\AppData\\Local\\Temp\\ipykernel_18456\\839356469.py:6: FutureWarning:\n",
      "\n",
      "'M' is deprecated and will be removed in a future version, please use 'ME' instead.\n",
      "\n"
     ]
    },
    {
     "data": {
      "application/vnd.plotly.v1+json": {
       "config": {
        "plotlyServerURL": "https://plot.ly"
       },
       "data": [
        {
         "mode": "lines",
         "name": "Observed",
         "type": "scatter",
         "x": [
          "2019-04-30T00:00:00",
          "2019-05-31T00:00:00",
          "2019-06-30T00:00:00",
          "2019-07-31T00:00:00",
          "2019-08-31T00:00:00",
          "2019-09-30T00:00:00",
          "2019-10-31T00:00:00",
          "2019-11-30T00:00:00",
          "2019-12-31T00:00:00",
          "2020-01-31T00:00:00",
          "2020-02-29T00:00:00",
          "2020-03-31T00:00:00",
          "2020-04-30T00:00:00",
          "2020-05-31T00:00:00",
          "2020-06-30T00:00:00",
          "2020-07-31T00:00:00",
          "2020-08-31T00:00:00",
          "2020-09-30T00:00:00",
          "2020-10-31T00:00:00",
          "2020-11-30T00:00:00",
          "2020-12-31T00:00:00",
          "2021-01-31T00:00:00",
          "2021-02-28T00:00:00",
          "2021-03-31T00:00:00",
          "2021-04-30T00:00:00",
          "2021-05-31T00:00:00",
          "2021-06-30T00:00:00",
          "2021-07-31T00:00:00",
          "2021-08-31T00:00:00",
          "2021-09-30T00:00:00",
          "2021-10-31T00:00:00",
          "2021-11-30T00:00:00",
          "2021-12-31T00:00:00",
          "2022-01-31T00:00:00",
          "2022-02-28T00:00:00",
          "2022-03-31T00:00:00",
          "2022-04-30T00:00:00",
          "2022-05-31T00:00:00",
          "2022-06-30T00:00:00",
          "2022-07-31T00:00:00",
          "2022-08-31T00:00:00",
          "2022-09-30T00:00:00",
          "2022-10-31T00:00:00",
          "2022-11-30T00:00:00",
          "2022-12-31T00:00:00",
          "2023-01-31T00:00:00",
          "2023-02-28T00:00:00",
          "2023-03-31T00:00:00",
          "2023-04-30T00:00:00",
          "2023-05-31T00:00:00",
          "2023-06-30T00:00:00",
          "2023-07-31T00:00:00",
          "2023-08-31T00:00:00",
          "2023-09-30T00:00:00",
          "2023-10-31T00:00:00",
          "2023-11-30T00:00:00",
          "2023-12-31T00:00:00",
          "2024-01-31T00:00:00",
          "2024-02-29T00:00:00",
          "2024-03-31T00:00:00",
          "2024-04-30T00:00:00",
          "2024-05-31T00:00:00"
         ],
         "xaxis": "x",
         "y": [
          12570434,
          13061650,
          12266272,
          13792436,
          11874494,
          13137119,
          14400091,
          13392672,
          12233227,
          14159913,
          12459755,
          12831187,
          8789661,
          8920211,
          11048464,
          11696787,
          10478877,
          13181903,
          13177084,
          12496461,
          11755170,
          11787080,
          11809876,
          14369217,
          12441198,
          12308189,
          14020944,
          13306822,
          12269372,
          14454510,
          0,
          0,
          12648107,
          13132651,
          12863908,
          15119387,
          11901145,
          13785188,
          12885050,
          12707475,
          12829386,
          13562299,
          14173871,
          14592476,
          13262053,
          14275754,
          13117840,
          15198581,
          11419332,
          13201465,
          13925402,
          12920150,
          13022156,
          13872665,
          14653715,
          14322052,
          12022551,
          14945984,
          13947232,
          13631933,
          13714471,
          13750340
         ],
         "yaxis": "y"
        },
        {
         "mode": "lines",
         "name": "Trend",
         "type": "scatter",
         "x": [
          "2019-04-30T00:00:00",
          "2019-05-31T00:00:00",
          "2019-06-30T00:00:00",
          "2019-07-31T00:00:00",
          "2019-08-31T00:00:00",
          "2019-09-30T00:00:00",
          "2019-10-31T00:00:00",
          "2019-11-30T00:00:00",
          "2019-12-31T00:00:00",
          "2020-01-31T00:00:00",
          "2020-02-29T00:00:00",
          "2020-03-31T00:00:00",
          "2020-04-30T00:00:00",
          "2020-05-31T00:00:00",
          "2020-06-30T00:00:00",
          "2020-07-31T00:00:00",
          "2020-08-31T00:00:00",
          "2020-09-30T00:00:00",
          "2020-10-31T00:00:00",
          "2020-11-30T00:00:00",
          "2020-12-31T00:00:00",
          "2021-01-31T00:00:00",
          "2021-02-28T00:00:00",
          "2021-03-31T00:00:00",
          "2021-04-30T00:00:00",
          "2021-05-31T00:00:00",
          "2021-06-30T00:00:00",
          "2021-07-31T00:00:00",
          "2021-08-31T00:00:00",
          "2021-09-30T00:00:00",
          "2021-10-31T00:00:00",
          "2021-11-30T00:00:00",
          "2021-12-31T00:00:00",
          "2022-01-31T00:00:00",
          "2022-02-28T00:00:00",
          "2022-03-31T00:00:00",
          "2022-04-30T00:00:00",
          "2022-05-31T00:00:00",
          "2022-06-30T00:00:00",
          "2022-07-31T00:00:00",
          "2022-08-31T00:00:00",
          "2022-09-30T00:00:00",
          "2022-10-31T00:00:00",
          "2022-11-30T00:00:00",
          "2022-12-31T00:00:00",
          "2023-01-31T00:00:00",
          "2023-02-28T00:00:00",
          "2023-03-31T00:00:00",
          "2023-04-30T00:00:00",
          "2023-05-31T00:00:00",
          "2023-06-30T00:00:00",
          "2023-07-31T00:00:00",
          "2023-08-31T00:00:00",
          "2023-09-30T00:00:00",
          "2023-10-31T00:00:00",
          "2023-11-30T00:00:00",
          "2023-12-31T00:00:00",
          "2024-01-31T00:00:00",
          "2024-02-29T00:00:00",
          "2024-03-31T00:00:00",
          "2024-04-30T00:00:00",
          "2024-05-31T00:00:00"
         ],
         "xaxis": "x",
         "y": [
          11402561.062941177,
          11442826.878637455,
          11483092.694333734,
          11523358.510030013,
          11563624.325726291,
          11603890.14142257,
          11644155.957118848,
          11684421.772815127,
          11724687.588511406,
          11764953.404207684,
          11805219.219903963,
          11845485.035600241,
          11885750.851296518,
          11926016.666992797,
          11966282.482689075,
          12006548.298385354,
          12046814.114081632,
          12087079.929777911,
          12127345.74547419,
          12167611.561170468,
          12207877.376866747,
          12248143.192563025,
          12288409.008259304,
          12328674.823955582,
          12368940.639651861,
          12409206.45534814,
          12449472.271044418,
          12489738.086740697,
          12530003.902436975,
          12570269.718133254,
          12610535.533829533,
          12650801.349525811,
          12691067.16522209,
          12731332.980918368,
          12771598.796614647,
          12811864.612310924,
          12852130.428007204,
          12892396.24370348,
          12932662.05939976,
          12972927.875096038,
          13013193.690792317,
          13053459.506488595,
          13093725.322184874,
          13133991.137881152,
          13174256.95357743,
          13214522.76927371,
          13254788.584969988,
          13295054.400666267,
          13335320.216362545,
          13375586.032058824,
          13415851.847755102,
          13456117.663451381,
          13496383.47914766,
          13536649.294843938,
          13576915.110540217,
          13617180.926236495,
          13657446.741932772,
          13697712.557629053,
          13737978.37332533,
          13778244.18902161,
          13818510.004717886,
          13858775.820414167
         ],
         "yaxis": "y"
        },
        {
         "mode": "lines",
         "name": "Seasonal",
         "type": "scatter",
         "x": [
          "2019-04-30T00:00:00",
          "2019-05-31T00:00:00",
          "2019-06-30T00:00:00",
          "2019-07-31T00:00:00",
          "2019-08-31T00:00:00",
          "2019-09-30T00:00:00",
          "2019-10-31T00:00:00",
          "2019-11-30T00:00:00",
          "2019-12-31T00:00:00",
          "2020-01-31T00:00:00",
          "2020-02-29T00:00:00",
          "2020-03-31T00:00:00",
          "2020-04-30T00:00:00",
          "2020-05-31T00:00:00",
          "2020-06-30T00:00:00",
          "2020-07-31T00:00:00",
          "2020-08-31T00:00:00",
          "2020-09-30T00:00:00",
          "2020-10-31T00:00:00",
          "2020-11-30T00:00:00",
          "2020-12-31T00:00:00",
          "2021-01-31T00:00:00",
          "2021-02-28T00:00:00",
          "2021-03-31T00:00:00",
          "2021-04-30T00:00:00",
          "2021-05-31T00:00:00",
          "2021-06-30T00:00:00",
          "2021-07-31T00:00:00",
          "2021-08-31T00:00:00",
          "2021-09-30T00:00:00",
          "2021-10-31T00:00:00",
          "2021-11-30T00:00:00",
          "2021-12-31T00:00:00",
          "2022-01-31T00:00:00",
          "2022-02-28T00:00:00",
          "2022-03-31T00:00:00",
          "2022-04-30T00:00:00",
          "2022-05-31T00:00:00",
          "2022-06-30T00:00:00",
          "2022-07-31T00:00:00",
          "2022-08-31T00:00:00",
          "2022-09-30T00:00:00",
          "2022-10-31T00:00:00",
          "2022-11-30T00:00:00",
          "2022-12-31T00:00:00",
          "2023-01-31T00:00:00",
          "2023-02-28T00:00:00",
          "2023-03-31T00:00:00",
          "2023-04-30T00:00:00",
          "2023-05-31T00:00:00",
          "2023-06-30T00:00:00",
          "2023-07-31T00:00:00",
          "2023-08-31T00:00:00",
          "2023-09-30T00:00:00",
          "2023-10-31T00:00:00",
          "2023-11-30T00:00:00",
          "2023-12-31T00:00:00",
          "2024-01-31T00:00:00",
          "2024-02-29T00:00:00",
          "2024-03-31T00:00:00",
          "2024-04-30T00:00:00",
          "2024-05-31T00:00:00"
         ],
         "xaxis": "x2",
         "y": [
          -1298262.0562499997,
          -394655.7645833322,
          514059.4854166669,
          195909.28749999945,
          -335634.2541666661,
          1258426.589583332,
          -1364945.8979166665,
          -1700438.6229166668,
          79528.58958333293,
          935542.5479166668,
          156669.29791666643,
          1953800.7979166668,
          -1298262.0562499997,
          -394655.7645833322,
          514059.4854166669,
          195909.28749999945,
          -335634.2541666661,
          1258426.589583332,
          -1364945.8979166665,
          -1700438.6229166668,
          79528.58958333293,
          935542.5479166668,
          156669.29791666643,
          1953800.7979166668,
          -1298262.0562499997,
          -394655.7645833322,
          514059.4854166669,
          195909.28749999945,
          -335634.2541666661,
          1258426.589583332,
          -1364945.8979166665,
          -1700438.6229166668,
          79528.58958333293,
          935542.5479166668,
          156669.29791666643,
          1953800.7979166668,
          -1298262.0562499997,
          -394655.7645833322,
          514059.4854166669,
          195909.28749999945,
          -335634.2541666661,
          1258426.589583332,
          -1364945.8979166665,
          -1700438.6229166668,
          79528.58958333293,
          935542.5479166668,
          156669.29791666643,
          1953800.7979166668,
          -1298262.0562499997,
          -394655.7645833322,
          514059.4854166669,
          195909.28749999945,
          -335634.2541666661,
          1258426.589583332,
          -1364945.8979166665,
          -1700438.6229166668,
          79528.58958333293,
          935542.5479166668,
          156669.29791666643,
          1953800.7979166668,
          -1298262.0562499997,
          -394655.7645833322
         ],
         "yaxis": "y2"
        }
       ],
       "layout": {
        "annotations": [
         {
          "font": {
           "size": 14
          },
          "showarrow": false,
          "text": "Count of GP Appointments",
          "x": 0,
          "xref": "paper",
          "y": 1.05,
          "yref": "paper"
         },
         {
          "font": {
           "size": 14
          },
          "showarrow": false,
          "text": "Observed and Trend",
          "x": 0.5,
          "xref": "paper",
          "y": 0.99,
          "yref": "paper"
         },
         {
          "font": {
           "size": 14
          },
          "showarrow": false,
          "text": "Seasonal",
          "x": 0.5,
          "xref": "paper",
          "y": 0.46,
          "yref": "paper"
         }
        ],
        "height": 800,
        "template": {
         "data": {
          "bar": [
           {
            "error_x": {
             "color": "#2a3f5f"
            },
            "error_y": {
             "color": "#2a3f5f"
            },
            "marker": {
             "line": {
              "color": "#E5ECF6",
              "width": 0.5
             },
             "pattern": {
              "fillmode": "overlay",
              "size": 10,
              "solidity": 0.2
             }
            },
            "type": "bar"
           }
          ],
          "barpolar": [
           {
            "marker": {
             "line": {
              "color": "#E5ECF6",
              "width": 0.5
             },
             "pattern": {
              "fillmode": "overlay",
              "size": 10,
              "solidity": 0.2
             }
            },
            "type": "barpolar"
           }
          ],
          "carpet": [
           {
            "aaxis": {
             "endlinecolor": "#2a3f5f",
             "gridcolor": "white",
             "linecolor": "white",
             "minorgridcolor": "white",
             "startlinecolor": "#2a3f5f"
            },
            "baxis": {
             "endlinecolor": "#2a3f5f",
             "gridcolor": "white",
             "linecolor": "white",
             "minorgridcolor": "white",
             "startlinecolor": "#2a3f5f"
            },
            "type": "carpet"
           }
          ],
          "choropleth": [
           {
            "colorbar": {
             "outlinewidth": 0,
             "ticks": ""
            },
            "type": "choropleth"
           }
          ],
          "contour": [
           {
            "colorbar": {
             "outlinewidth": 0,
             "ticks": ""
            },
            "colorscale": [
             [
              0,
              "#0d0887"
             ],
             [
              0.1111111111111111,
              "#46039f"
             ],
             [
              0.2222222222222222,
              "#7201a8"
             ],
             [
              0.3333333333333333,
              "#9c179e"
             ],
             [
              0.4444444444444444,
              "#bd3786"
             ],
             [
              0.5555555555555556,
              "#d8576b"
             ],
             [
              0.6666666666666666,
              "#ed7953"
             ],
             [
              0.7777777777777778,
              "#fb9f3a"
             ],
             [
              0.8888888888888888,
              "#fdca26"
             ],
             [
              1,
              "#f0f921"
             ]
            ],
            "type": "contour"
           }
          ],
          "contourcarpet": [
           {
            "colorbar": {
             "outlinewidth": 0,
             "ticks": ""
            },
            "type": "contourcarpet"
           }
          ],
          "heatmap": [
           {
            "colorbar": {
             "outlinewidth": 0,
             "ticks": ""
            },
            "colorscale": [
             [
              0,
              "#0d0887"
             ],
             [
              0.1111111111111111,
              "#46039f"
             ],
             [
              0.2222222222222222,
              "#7201a8"
             ],
             [
              0.3333333333333333,
              "#9c179e"
             ],
             [
              0.4444444444444444,
              "#bd3786"
             ],
             [
              0.5555555555555556,
              "#d8576b"
             ],
             [
              0.6666666666666666,
              "#ed7953"
             ],
             [
              0.7777777777777778,
              "#fb9f3a"
             ],
             [
              0.8888888888888888,
              "#fdca26"
             ],
             [
              1,
              "#f0f921"
             ]
            ],
            "type": "heatmap"
           }
          ],
          "heatmapgl": [
           {
            "colorbar": {
             "outlinewidth": 0,
             "ticks": ""
            },
            "colorscale": [
             [
              0,
              "#0d0887"
             ],
             [
              0.1111111111111111,
              "#46039f"
             ],
             [
              0.2222222222222222,
              "#7201a8"
             ],
             [
              0.3333333333333333,
              "#9c179e"
             ],
             [
              0.4444444444444444,
              "#bd3786"
             ],
             [
              0.5555555555555556,
              "#d8576b"
             ],
             [
              0.6666666666666666,
              "#ed7953"
             ],
             [
              0.7777777777777778,
              "#fb9f3a"
             ],
             [
              0.8888888888888888,
              "#fdca26"
             ],
             [
              1,
              "#f0f921"
             ]
            ],
            "type": "heatmapgl"
           }
          ],
          "histogram": [
           {
            "marker": {
             "pattern": {
              "fillmode": "overlay",
              "size": 10,
              "solidity": 0.2
             }
            },
            "type": "histogram"
           }
          ],
          "histogram2d": [
           {
            "colorbar": {
             "outlinewidth": 0,
             "ticks": ""
            },
            "colorscale": [
             [
              0,
              "#0d0887"
             ],
             [
              0.1111111111111111,
              "#46039f"
             ],
             [
              0.2222222222222222,
              "#7201a8"
             ],
             [
              0.3333333333333333,
              "#9c179e"
             ],
             [
              0.4444444444444444,
              "#bd3786"
             ],
             [
              0.5555555555555556,
              "#d8576b"
             ],
             [
              0.6666666666666666,
              "#ed7953"
             ],
             [
              0.7777777777777778,
              "#fb9f3a"
             ],
             [
              0.8888888888888888,
              "#fdca26"
             ],
             [
              1,
              "#f0f921"
             ]
            ],
            "type": "histogram2d"
           }
          ],
          "histogram2dcontour": [
           {
            "colorbar": {
             "outlinewidth": 0,
             "ticks": ""
            },
            "colorscale": [
             [
              0,
              "#0d0887"
             ],
             [
              0.1111111111111111,
              "#46039f"
             ],
             [
              0.2222222222222222,
              "#7201a8"
             ],
             [
              0.3333333333333333,
              "#9c179e"
             ],
             [
              0.4444444444444444,
              "#bd3786"
             ],
             [
              0.5555555555555556,
              "#d8576b"
             ],
             [
              0.6666666666666666,
              "#ed7953"
             ],
             [
              0.7777777777777778,
              "#fb9f3a"
             ],
             [
              0.8888888888888888,
              "#fdca26"
             ],
             [
              1,
              "#f0f921"
             ]
            ],
            "type": "histogram2dcontour"
           }
          ],
          "mesh3d": [
           {
            "colorbar": {
             "outlinewidth": 0,
             "ticks": ""
            },
            "type": "mesh3d"
           }
          ],
          "parcoords": [
           {
            "line": {
             "colorbar": {
              "outlinewidth": 0,
              "ticks": ""
             }
            },
            "type": "parcoords"
           }
          ],
          "pie": [
           {
            "automargin": true,
            "type": "pie"
           }
          ],
          "scatter": [
           {
            "fillpattern": {
             "fillmode": "overlay",
             "size": 10,
             "solidity": 0.2
            },
            "type": "scatter"
           }
          ],
          "scatter3d": [
           {
            "line": {
             "colorbar": {
              "outlinewidth": 0,
              "ticks": ""
             }
            },
            "marker": {
             "colorbar": {
              "outlinewidth": 0,
              "ticks": ""
             }
            },
            "type": "scatter3d"
           }
          ],
          "scattercarpet": [
           {
            "marker": {
             "colorbar": {
              "outlinewidth": 0,
              "ticks": ""
             }
            },
            "type": "scattercarpet"
           }
          ],
          "scattergeo": [
           {
            "marker": {
             "colorbar": {
              "outlinewidth": 0,
              "ticks": ""
             }
            },
            "type": "scattergeo"
           }
          ],
          "scattergl": [
           {
            "marker": {
             "colorbar": {
              "outlinewidth": 0,
              "ticks": ""
             }
            },
            "type": "scattergl"
           }
          ],
          "scattermapbox": [
           {
            "marker": {
             "colorbar": {
              "outlinewidth": 0,
              "ticks": ""
             }
            },
            "type": "scattermapbox"
           }
          ],
          "scatterpolar": [
           {
            "marker": {
             "colorbar": {
              "outlinewidth": 0,
              "ticks": ""
             }
            },
            "type": "scatterpolar"
           }
          ],
          "scatterpolargl": [
           {
            "marker": {
             "colorbar": {
              "outlinewidth": 0,
              "ticks": ""
             }
            },
            "type": "scatterpolargl"
           }
          ],
          "scatterternary": [
           {
            "marker": {
             "colorbar": {
              "outlinewidth": 0,
              "ticks": ""
             }
            },
            "type": "scatterternary"
           }
          ],
          "surface": [
           {
            "colorbar": {
             "outlinewidth": 0,
             "ticks": ""
            },
            "colorscale": [
             [
              0,
              "#0d0887"
             ],
             [
              0.1111111111111111,
              "#46039f"
             ],
             [
              0.2222222222222222,
              "#7201a8"
             ],
             [
              0.3333333333333333,
              "#9c179e"
             ],
             [
              0.4444444444444444,
              "#bd3786"
             ],
             [
              0.5555555555555556,
              "#d8576b"
             ],
             [
              0.6666666666666666,
              "#ed7953"
             ],
             [
              0.7777777777777778,
              "#fb9f3a"
             ],
             [
              0.8888888888888888,
              "#fdca26"
             ],
             [
              1,
              "#f0f921"
             ]
            ],
            "type": "surface"
           }
          ],
          "table": [
           {
            "cells": {
             "fill": {
              "color": "#EBF0F8"
             },
             "line": {
              "color": "white"
             }
            },
            "header": {
             "fill": {
              "color": "#C8D4E3"
             },
             "line": {
              "color": "white"
             }
            },
            "type": "table"
           }
          ]
         },
         "layout": {
          "annotationdefaults": {
           "arrowcolor": "#2a3f5f",
           "arrowhead": 0,
           "arrowwidth": 1
          },
          "autotypenumbers": "strict",
          "coloraxis": {
           "colorbar": {
            "outlinewidth": 0,
            "ticks": ""
           }
          },
          "colorscale": {
           "diverging": [
            [
             0,
             "#8e0152"
            ],
            [
             0.1,
             "#c51b7d"
            ],
            [
             0.2,
             "#de77ae"
            ],
            [
             0.3,
             "#f1b6da"
            ],
            [
             0.4,
             "#fde0ef"
            ],
            [
             0.5,
             "#f7f7f7"
            ],
            [
             0.6,
             "#e6f5d0"
            ],
            [
             0.7,
             "#b8e186"
            ],
            [
             0.8,
             "#7fbc41"
            ],
            [
             0.9,
             "#4d9221"
            ],
            [
             1,
             "#276419"
            ]
           ],
           "sequential": [
            [
             0,
             "#0d0887"
            ],
            [
             0.1111111111111111,
             "#46039f"
            ],
            [
             0.2222222222222222,
             "#7201a8"
            ],
            [
             0.3333333333333333,
             "#9c179e"
            ],
            [
             0.4444444444444444,
             "#bd3786"
            ],
            [
             0.5555555555555556,
             "#d8576b"
            ],
            [
             0.6666666666666666,
             "#ed7953"
            ],
            [
             0.7777777777777778,
             "#fb9f3a"
            ],
            [
             0.8888888888888888,
             "#fdca26"
            ],
            [
             1,
             "#f0f921"
            ]
           ],
           "sequentialminus": [
            [
             0,
             "#0d0887"
            ],
            [
             0.1111111111111111,
             "#46039f"
            ],
            [
             0.2222222222222222,
             "#7201a8"
            ],
            [
             0.3333333333333333,
             "#9c179e"
            ],
            [
             0.4444444444444444,
             "#bd3786"
            ],
            [
             0.5555555555555556,
             "#d8576b"
            ],
            [
             0.6666666666666666,
             "#ed7953"
            ],
            [
             0.7777777777777778,
             "#fb9f3a"
            ],
            [
             0.8888888888888888,
             "#fdca26"
            ],
            [
             1,
             "#f0f921"
            ]
           ]
          },
          "colorway": [
           "#636efa",
           "#EF553B",
           "#00cc96",
           "#ab63fa",
           "#FFA15A",
           "#19d3f3",
           "#FF6692",
           "#B6E880",
           "#FF97FF",
           "#FECB52"
          ],
          "font": {
           "color": "#2a3f5f"
          },
          "geo": {
           "bgcolor": "white",
           "lakecolor": "white",
           "landcolor": "#E5ECF6",
           "showlakes": true,
           "showland": true,
           "subunitcolor": "white"
          },
          "hoverlabel": {
           "align": "left"
          },
          "hovermode": "closest",
          "mapbox": {
           "style": "light"
          },
          "paper_bgcolor": "white",
          "plot_bgcolor": "#E5ECF6",
          "polar": {
           "angularaxis": {
            "gridcolor": "white",
            "linecolor": "white",
            "ticks": ""
           },
           "bgcolor": "#E5ECF6",
           "radialaxis": {
            "gridcolor": "white",
            "linecolor": "white",
            "ticks": ""
           }
          },
          "scene": {
           "xaxis": {
            "backgroundcolor": "#E5ECF6",
            "gridcolor": "white",
            "gridwidth": 2,
            "linecolor": "white",
            "showbackground": true,
            "ticks": "",
            "zerolinecolor": "white"
           },
           "yaxis": {
            "backgroundcolor": "#E5ECF6",
            "gridcolor": "white",
            "gridwidth": 2,
            "linecolor": "white",
            "showbackground": true,
            "ticks": "",
            "zerolinecolor": "white"
           },
           "zaxis": {
            "backgroundcolor": "#E5ECF6",
            "gridcolor": "white",
            "gridwidth": 2,
            "linecolor": "white",
            "showbackground": true,
            "ticks": "",
            "zerolinecolor": "white"
           }
          },
          "shapedefaults": {
           "line": {
            "color": "#2a3f5f"
           }
          },
          "ternary": {
           "aaxis": {
            "gridcolor": "white",
            "linecolor": "white",
            "ticks": ""
           },
           "baxis": {
            "gridcolor": "white",
            "linecolor": "white",
            "ticks": ""
           },
           "bgcolor": "#E5ECF6",
           "caxis": {
            "gridcolor": "white",
            "linecolor": "white",
            "ticks": ""
           }
          },
          "title": {
           "x": 0.05
          },
          "xaxis": {
           "automargin": true,
           "gridcolor": "white",
           "linecolor": "white",
           "ticks": "",
           "title": {
            "standoff": 15
           },
           "zerolinecolor": "white",
           "zerolinewidth": 2
          },
          "yaxis": {
           "automargin": true,
           "gridcolor": "white",
           "linecolor": "white",
           "ticks": "",
           "title": {
            "standoff": 15
           },
           "zerolinecolor": "white",
           "zerolinewidth": 2
          }
         }
        },
        "title": {
         "text": "Total GP Appointments Over Time",
         "x": 0.06,
         "xanchor": "left"
        },
        "xaxis": {
         "anchor": "y",
         "domain": [
          0,
          1
         ],
         "matches": "x2",
         "showticklabels": false
        },
        "xaxis2": {
         "anchor": "y2",
         "domain": [
          0,
          1
         ],
         "title": {
          "text": "Date"
         }
        },
        "yaxis": {
         "anchor": "x",
         "domain": [
          0.515,
          1
         ],
         "title": {
          "text": "Count"
         }
        },
        "yaxis2": {
         "anchor": "x2",
         "domain": [
          0,
          0.485
         ],
         "title": {
          "text": "Count"
         }
        }
       }
      }
     },
     "metadata": {},
     "output_type": "display_data"
    }
   ],
   "source": [
    "# Convert the 'appointment_month' column to datetime and set it as index\n",
    "ar_gp['appointment_month'] = pd.to_datetime(ar_gp['appointment_month'])\n",
    "ar_gp_indexed = ar_gp.set_index('appointment_month')\n",
    "\n",
    "# Group by month and sum appointments\n",
    "monthly_appointments = ar_gp_indexed['count_of_appointments'].resample('M').sum()\n",
    "\n",
    "# Perform seasonal decomposition on monthly data\n",
    "decomposition = seasonal_decompose(monthly_appointments, model='additive', period=12)\n",
    "\n",
    "# Get the observed, trend, seasonal, and residual components\n",
    "observed = decomposition.observed\n",
    "trend = decomposition.trend\n",
    "seasonal = decomposition.seasonal\n",
    "resid = decomposition.resid\n",
    "\n",
    "# Extrapolate the trend using linear regression\n",
    "def extend_trend(trend, observed):\n",
    "    trend_series = trend.dropna()\n",
    "    X = np.arange(len(trend_series)).reshape(-1, 1)\n",
    "    y = trend_series.values\n",
    "    model = LinearRegression()\n",
    "\n",
    "    # Fit the model on the middle portion (existing trend)\n",
    "    model.fit(X, y)\n",
    "\n",
    "    # Predict for the entire range of the observed data\n",
    "    X_full = np.arange(len(observed)).reshape(-1, 1)\n",
    "    trend_full = model.predict(X_full)\n",
    "    \n",
    "    # Create a new series for the extended trend\n",
    "    trend_extended = pd.Series(trend_full, index=observed.index)\n",
    "    return trend_extended\n",
    "\n",
    "# Extend the trend\n",
    "trend_extended = extend_trend(trend, observed)\n",
    "\n",
    "# Create interactive plot for decomposition with 2 rows\n",
    "fig1_trend2 = make_subplots(rows=2, cols=1, shared_xaxes=True, vertical_spacing=0.03)\n",
    "\n",
    "# Add Observed and Trend to the first row\n",
    "fig1_trend2.add_trace(go.Scatter(x=observed.index, y=observed, mode='lines', name='Observed'), row=1, col=1)\n",
    "fig1_trend2.add_trace(go.Scatter(x=trend_extended.index, y=trend_extended, mode='lines', name='Trend'), row=1, col=1)\n",
    "\n",
    "# Add Seasonal to the second row\n",
    "fig1_trend2.add_trace(go.Scatter(x=seasonal.index, y=seasonal, mode='lines', name='Seasonal'), row=2, col=1)\n",
    "\n",
    "# Update layout to include title, subtitle, and centered subplot titles\n",
    "fig1_trend2.update_layout(\n",
    "    height=800,\n",
    "    title={\n",
    "        'text': \"Total GP Appointments Over Time\",\n",
    "        'x': 0.06,\n",
    "        'xanchor': 'left'\n",
    "    },\n",
    "    annotations=[\n",
    "        dict(\n",
    "            x=0.0,\n",
    "            y=1.05,\n",
    "            xref='paper',\n",
    "            yref='paper',\n",
    "            showarrow=False,\n",
    "            text=\"Count of GP Appointments\",\n",
    "            font=dict(size=14)\n",
    "        ),\n",
    "        dict(\n",
    "            x=0.5,\n",
    "            y=0.99,\n",
    "            xref='paper',\n",
    "            yref='paper',\n",
    "            showarrow=False,\n",
    "            text=\"Observed and Trend\",\n",
    "            font=dict(size=14)\n",
    "        ),\n",
    "        dict(\n",
    "            x=0.5,\n",
    "            y=0.46,\n",
    "            xref='paper',\n",
    "            yref='paper',\n",
    "            showarrow=False,\n",
    "            text=\"Seasonal\",\n",
    "            font=dict(size=14)\n",
    "        )\n",
    "    ]\n",
    ")\n",
    "\n",
    "# Update y-axis titles\n",
    "fig1_trend2.update_yaxes(title_text=\"Count\", row=1, col=1)\n",
    "fig1_trend2.update_yaxes(title_text=\"Count\", row=2, col=1)\n",
    "\n",
    "# Update x-axis title (only for the bottom subplot)\n",
    "fig1_trend2.update_xaxes(title_text=\"Date\", row=2, col=1)\n",
    "\n",
    "fig1_trend2.show()"
   ]
  },
  {
   "cell_type": "code",
   "execution_count": 14,
   "metadata": {},
   "outputs": [
    {
     "name": "stderr",
     "output_type": "stream",
     "text": [
      "c:\\Users\\willi\\AppData\\Local\\Programs\\Python\\Python312\\Lib\\site-packages\\statsmodels\\tsa\\statespace\\sarimax.py:866: UserWarning:\n",
      "\n",
      "Too few observations to estimate starting parameters for seasonal ARMA. All parameters except for variances will be set to zeros.\n",
      "\n",
      "c:\\Users\\willi\\AppData\\Local\\Programs\\Python\\Python312\\Lib\\site-packages\\statsmodels\\base\\model.py:607: ConvergenceWarning:\n",
      "\n",
      "Maximum Likelihood optimization failed to converge. Check mle_retvals\n",
      "\n"
     ]
    },
    {
     "name": "stdout",
     "output_type": "stream",
     "text": [
      "                                     SARIMAX Results                                      \n",
      "==========================================================================================\n",
      "Dep. Variable:              count_of_appointments   No. Observations:                  127\n",
      "Model:             SARIMAX(1, 1, 1)x(1, 1, 1, 52)   Log Likelihood               -1086.777\n",
      "Date:                            Mon, 23 Sep 2024   AIC                           2183.555\n",
      "Time:                                    14:40:12   BIC                           2195.075\n",
      "Sample:                                01-02-2022   HQIC                          2188.150\n",
      "                                     - 06-02-2024                                         \n",
      "Covariance Type:                              opg                                         \n",
      "==============================================================================\n",
      "                 coef    std err          z      P>|z|      [0.025      0.975]\n",
      "------------------------------------------------------------------------------\n",
      "ar.L1          0.4742      0.667      0.711      0.477      -0.832       1.781\n",
      "ma.L1         -0.6159      0.618     -0.997      0.319      -1.827       0.595\n",
      "ar.S.L52       0.3489      0.082      4.277      0.000       0.189       0.509\n",
      "ma.S.L52      -0.9874      0.127     -7.783      0.000      -1.236      -0.739\n",
      "sigma2      2.763e+11   4.74e-13   5.83e+23      0.000    2.76e+11    2.76e+11\n",
      "===================================================================================\n",
      "Ljung-Box (L1) (Q):                   2.09   Jarque-Bera (JB):                24.92\n",
      "Prob(Q):                              0.15   Prob(JB):                         0.00\n",
      "Heteroskedasticity (H):               1.22   Skew:                            -0.35\n",
      "Prob(H) (two-sided):                  0.62   Kurtosis:                         5.76\n",
      "===================================================================================\n",
      "\n",
      "Warnings:\n",
      "[1] Covariance matrix calculated using the outer product of gradients (complex-step).\n",
      "[2] Covariance matrix is singular or near-singular, with condition number 5.41e+40. Standard errors may be unstable.\n"
     ]
    },
    {
     "data": {
      "application/vnd.plotly.v1+json": {
       "config": {
        "plotlyServerURL": "https://plot.ly"
       },
       "data": [
        {
         "mode": "lines",
         "name": "Observed",
         "type": "scatter",
         "x": [
          "2022-01-02T00:00:00",
          "2022-01-09T00:00:00",
          "2022-01-16T00:00:00",
          "2022-01-23T00:00:00",
          "2022-01-30T00:00:00",
          "2022-02-06T00:00:00",
          "2022-02-13T00:00:00",
          "2022-02-20T00:00:00",
          "2022-02-27T00:00:00",
          "2022-03-06T00:00:00",
          "2022-03-13T00:00:00",
          "2022-03-20T00:00:00",
          "2022-03-27T00:00:00",
          "2022-04-03T00:00:00",
          "2022-04-10T00:00:00",
          "2022-04-17T00:00:00",
          "2022-04-24T00:00:00",
          "2022-05-01T00:00:00",
          "2022-05-08T00:00:00",
          "2022-05-15T00:00:00",
          "2022-05-22T00:00:00",
          "2022-05-29T00:00:00",
          "2022-06-05T00:00:00",
          "2022-06-12T00:00:00",
          "2022-06-19T00:00:00",
          "2022-06-26T00:00:00",
          "2022-07-03T00:00:00",
          "2022-07-10T00:00:00",
          "2022-07-17T00:00:00",
          "2022-07-24T00:00:00",
          "2022-07-31T00:00:00",
          "2022-08-07T00:00:00",
          "2022-08-14T00:00:00",
          "2022-08-21T00:00:00",
          "2022-08-28T00:00:00",
          "2022-09-04T00:00:00",
          "2022-09-11T00:00:00",
          "2022-09-18T00:00:00",
          "2022-09-25T00:00:00",
          "2022-10-02T00:00:00",
          "2022-10-09T00:00:00",
          "2022-10-16T00:00:00",
          "2022-10-23T00:00:00",
          "2022-10-30T00:00:00",
          "2022-11-06T00:00:00",
          "2022-11-13T00:00:00",
          "2022-11-20T00:00:00",
          "2022-11-27T00:00:00",
          "2022-12-04T00:00:00",
          "2022-12-11T00:00:00",
          "2022-12-18T00:00:00",
          "2022-12-25T00:00:00",
          "2023-01-01T00:00:00",
          "2023-01-08T00:00:00",
          "2023-01-15T00:00:00",
          "2023-01-22T00:00:00",
          "2023-01-29T00:00:00",
          "2023-02-05T00:00:00",
          "2023-02-12T00:00:00",
          "2023-02-19T00:00:00",
          "2023-02-26T00:00:00",
          "2023-03-05T00:00:00",
          "2023-03-12T00:00:00",
          "2023-03-19T00:00:00",
          "2023-03-26T00:00:00",
          "2023-04-02T00:00:00",
          "2023-04-09T00:00:00",
          "2023-04-16T00:00:00",
          "2023-04-23T00:00:00",
          "2023-04-30T00:00:00",
          "2023-05-07T00:00:00",
          "2023-05-14T00:00:00",
          "2023-05-21T00:00:00",
          "2023-05-28T00:00:00",
          "2023-06-04T00:00:00",
          "2023-06-11T00:00:00",
          "2023-06-18T00:00:00",
          "2023-06-25T00:00:00",
          "2023-07-02T00:00:00",
          "2023-07-09T00:00:00",
          "2023-07-16T00:00:00",
          "2023-07-23T00:00:00",
          "2023-07-30T00:00:00",
          "2023-08-06T00:00:00",
          "2023-08-13T00:00:00",
          "2023-08-20T00:00:00",
          "2023-08-27T00:00:00",
          "2023-09-03T00:00:00",
          "2023-09-10T00:00:00",
          "2023-09-17T00:00:00",
          "2023-09-24T00:00:00",
          "2023-10-01T00:00:00",
          "2023-10-08T00:00:00",
          "2023-10-15T00:00:00",
          "2023-10-22T00:00:00",
          "2023-10-29T00:00:00",
          "2023-11-05T00:00:00",
          "2023-11-12T00:00:00",
          "2023-11-19T00:00:00",
          "2023-11-26T00:00:00",
          "2023-12-03T00:00:00",
          "2023-12-10T00:00:00",
          "2023-12-17T00:00:00",
          "2023-12-24T00:00:00",
          "2023-12-31T00:00:00",
          "2024-01-07T00:00:00",
          "2024-01-14T00:00:00",
          "2024-01-21T00:00:00",
          "2024-01-28T00:00:00",
          "2024-02-04T00:00:00",
          "2024-02-11T00:00:00",
          "2024-02-18T00:00:00",
          "2024-02-25T00:00:00",
          "2024-03-03T00:00:00",
          "2024-03-10T00:00:00",
          "2024-03-17T00:00:00",
          "2024-03-24T00:00:00",
          "2024-03-31T00:00:00",
          "2024-04-07T00:00:00",
          "2024-04-14T00:00:00",
          "2024-04-21T00:00:00",
          "2024-04-28T00:00:00",
          "2024-05-05T00:00:00",
          "2024-05-12T00:00:00",
          "2024-05-19T00:00:00",
          "2024-05-26T00:00:00",
          "2024-06-02T00:00:00"
         ],
         "y": [
          9672,
          4992406,
          6378111,
          6388667,
          6446940,
          6525876,
          6499475,
          6149790,
          6174860,
          6523930,
          6517457,
          6439548,
          6361812,
          6373016,
          6261958,
          4973995,
          5008413,
          6449084,
          5241979,
          6549112,
          6560979,
          6558078,
          3775046,
          6521333,
          6444811,
          6437745,
          6412299,
          6340384,
          6202107,
          6068277,
          6090696,
          6003769,
          5905436,
          6016764,
          6000818,
          4922182,
          6324784,
          6636497,
          6111888,
          7491217,
          7739802,
          7761216,
          7479292,
          6829197,
          7275788,
          7153052,
          7048323,
          6943740,
          6980475,
          7091656,
          6971370,
          6636482,
          3390045,
          5571511,
          7057455,
          6930795,
          6908064,
          7043878,
          6945912,
          6542547,
          6770422,
          6940424,
          6816926,
          6918046,
          6961813,
          6857753,
          5365509,
          5139123,
          6723562,
          6883947,
          5583052,
          5634550,
          6884021,
          6873526,
          5177363,
          6840542,
          6771741,
          6724527,
          6615281,
          6652855,
          6615238,
          6581174,
          6488077,
          6423308,
          6362039,
          6405807,
          6411305,
          5201466,
          6635602,
          7245447,
          7820292,
          8219240,
          8374359,
          8090155,
          7609401,
          7105301,
          7117585,
          7239392,
          7123482,
          7165062,
          7117138,
          7056560,
          7105306,
          6909734,
          3371040,
          5616979,
          7381245,
          7345395,
          7431706,
          7512656,
          7434772,
          7076584,
          7325941,
          7456487,
          7487656,
          7483916,
          7443609,
          5950554,
          5614402,
          6915920,
          7318904,
          7379282,
          7462741,
          5956009,
          7369435,
          7274776,
          5482413
         ]
        },
        {
         "mode": "lines",
         "name": "Forecast",
         "type": "scatter",
         "x": [
          "2024-06-09T00:00:00",
          "2024-06-16T00:00:00",
          "2024-06-23T00:00:00",
          "2024-06-30T00:00:00",
          "2024-07-07T00:00:00",
          "2024-07-14T00:00:00",
          "2024-07-21T00:00:00",
          "2024-07-28T00:00:00",
          "2024-08-04T00:00:00",
          "2024-08-11T00:00:00",
          "2024-08-18T00:00:00",
          "2024-08-25T00:00:00",
          "2024-09-01T00:00:00",
          "2024-09-08T00:00:00",
          "2024-09-15T00:00:00",
          "2024-09-22T00:00:00",
          "2024-09-29T00:00:00",
          "2024-10-06T00:00:00",
          "2024-10-13T00:00:00",
          "2024-10-20T00:00:00",
          "2024-10-27T00:00:00",
          "2024-11-03T00:00:00",
          "2024-11-10T00:00:00",
          "2024-11-17T00:00:00",
          "2024-11-24T00:00:00",
          "2024-12-01T00:00:00",
          "2024-12-08T00:00:00",
          "2024-12-15T00:00:00",
          "2024-12-22T00:00:00",
          "2024-12-29T00:00:00",
          "2025-01-05T00:00:00",
          "2025-01-12T00:00:00",
          "2025-01-19T00:00:00",
          "2025-01-26T00:00:00",
          "2025-02-02T00:00:00",
          "2025-02-09T00:00:00",
          "2025-02-16T00:00:00",
          "2025-02-23T00:00:00",
          "2025-03-02T00:00:00",
          "2025-03-09T00:00:00",
          "2025-03-16T00:00:00",
          "2025-03-23T00:00:00",
          "2025-03-30T00:00:00",
          "2025-04-06T00:00:00",
          "2025-04-13T00:00:00",
          "2025-04-20T00:00:00",
          "2025-04-27T00:00:00",
          "2025-05-04T00:00:00",
          "2025-05-11T00:00:00",
          "2025-05-18T00:00:00",
          "2025-05-25T00:00:00",
          "2025-06-01T00:00:00"
         ],
         "y": [
          6967313.277844142,
          6941122.105419024,
          6924698.107700006,
          6861728.815698847,
          6875447.042777644,
          6832333.49152374,
          6791327.217921514,
          6739859.566378265,
          6687593.278122593,
          6635508.253064058,
          6679365.885830008,
          6680101.328749135,
          5788249.554580813,
          6865282.767247532,
          7277754.905967256,
          7535704.173275582,
          7993464.337062769,
          8125458.795318741,
          7959911.355025583,
          7629019.282089168,
          7225440.312137823,
          7304380.987946456,
          7357684.081067588,
          7273062.548022209,
          7283272.932569021,
          7265302.482335955,
          7256870.772217269,
          7287323.507706229,
          7161141.426648856,
          4812568.394635055,
          6958895.188439922,
          8291224.702555298,
          8256735.937465967,
          8308444.053201728,
          8380228.77689004,
          8321719.445591109,
          8029399.617846559,
          8198084.302275201,
          8336015.18533823,
          8336356.533670851,
          8337297.327350952,
          8310922.403129447,
          7483406.144255571,
          7093957.98057434,
          7610583.03475517,
          8038539.625651991,
          8276985.9857476745,
          8000668.653175168,
          7351951.872407241,
          8285975.4856629195,
          8232547.509357872,
          6678570.440906532
         ]
        }
       ],
       "layout": {
        "autosize": true,
        "height": 700,
        "template": {
         "data": {
          "bar": [
           {
            "error_x": {
             "color": "#2a3f5f"
            },
            "error_y": {
             "color": "#2a3f5f"
            },
            "marker": {
             "line": {
              "color": "#E5ECF6",
              "width": 0.5
             },
             "pattern": {
              "fillmode": "overlay",
              "size": 10,
              "solidity": 0.2
             }
            },
            "type": "bar"
           }
          ],
          "barpolar": [
           {
            "marker": {
             "line": {
              "color": "#E5ECF6",
              "width": 0.5
             },
             "pattern": {
              "fillmode": "overlay",
              "size": 10,
              "solidity": 0.2
             }
            },
            "type": "barpolar"
           }
          ],
          "carpet": [
           {
            "aaxis": {
             "endlinecolor": "#2a3f5f",
             "gridcolor": "white",
             "linecolor": "white",
             "minorgridcolor": "white",
             "startlinecolor": "#2a3f5f"
            },
            "baxis": {
             "endlinecolor": "#2a3f5f",
             "gridcolor": "white",
             "linecolor": "white",
             "minorgridcolor": "white",
             "startlinecolor": "#2a3f5f"
            },
            "type": "carpet"
           }
          ],
          "choropleth": [
           {
            "colorbar": {
             "outlinewidth": 0,
             "ticks": ""
            },
            "type": "choropleth"
           }
          ],
          "contour": [
           {
            "colorbar": {
             "outlinewidth": 0,
             "ticks": ""
            },
            "colorscale": [
             [
              0,
              "#0d0887"
             ],
             [
              0.1111111111111111,
              "#46039f"
             ],
             [
              0.2222222222222222,
              "#7201a8"
             ],
             [
              0.3333333333333333,
              "#9c179e"
             ],
             [
              0.4444444444444444,
              "#bd3786"
             ],
             [
              0.5555555555555556,
              "#d8576b"
             ],
             [
              0.6666666666666666,
              "#ed7953"
             ],
             [
              0.7777777777777778,
              "#fb9f3a"
             ],
             [
              0.8888888888888888,
              "#fdca26"
             ],
             [
              1,
              "#f0f921"
             ]
            ],
            "type": "contour"
           }
          ],
          "contourcarpet": [
           {
            "colorbar": {
             "outlinewidth": 0,
             "ticks": ""
            },
            "type": "contourcarpet"
           }
          ],
          "heatmap": [
           {
            "colorbar": {
             "outlinewidth": 0,
             "ticks": ""
            },
            "colorscale": [
             [
              0,
              "#0d0887"
             ],
             [
              0.1111111111111111,
              "#46039f"
             ],
             [
              0.2222222222222222,
              "#7201a8"
             ],
             [
              0.3333333333333333,
              "#9c179e"
             ],
             [
              0.4444444444444444,
              "#bd3786"
             ],
             [
              0.5555555555555556,
              "#d8576b"
             ],
             [
              0.6666666666666666,
              "#ed7953"
             ],
             [
              0.7777777777777778,
              "#fb9f3a"
             ],
             [
              0.8888888888888888,
              "#fdca26"
             ],
             [
              1,
              "#f0f921"
             ]
            ],
            "type": "heatmap"
           }
          ],
          "heatmapgl": [
           {
            "colorbar": {
             "outlinewidth": 0,
             "ticks": ""
            },
            "colorscale": [
             [
              0,
              "#0d0887"
             ],
             [
              0.1111111111111111,
              "#46039f"
             ],
             [
              0.2222222222222222,
              "#7201a8"
             ],
             [
              0.3333333333333333,
              "#9c179e"
             ],
             [
              0.4444444444444444,
              "#bd3786"
             ],
             [
              0.5555555555555556,
              "#d8576b"
             ],
             [
              0.6666666666666666,
              "#ed7953"
             ],
             [
              0.7777777777777778,
              "#fb9f3a"
             ],
             [
              0.8888888888888888,
              "#fdca26"
             ],
             [
              1,
              "#f0f921"
             ]
            ],
            "type": "heatmapgl"
           }
          ],
          "histogram": [
           {
            "marker": {
             "pattern": {
              "fillmode": "overlay",
              "size": 10,
              "solidity": 0.2
             }
            },
            "type": "histogram"
           }
          ],
          "histogram2d": [
           {
            "colorbar": {
             "outlinewidth": 0,
             "ticks": ""
            },
            "colorscale": [
             [
              0,
              "#0d0887"
             ],
             [
              0.1111111111111111,
              "#46039f"
             ],
             [
              0.2222222222222222,
              "#7201a8"
             ],
             [
              0.3333333333333333,
              "#9c179e"
             ],
             [
              0.4444444444444444,
              "#bd3786"
             ],
             [
              0.5555555555555556,
              "#d8576b"
             ],
             [
              0.6666666666666666,
              "#ed7953"
             ],
             [
              0.7777777777777778,
              "#fb9f3a"
             ],
             [
              0.8888888888888888,
              "#fdca26"
             ],
             [
              1,
              "#f0f921"
             ]
            ],
            "type": "histogram2d"
           }
          ],
          "histogram2dcontour": [
           {
            "colorbar": {
             "outlinewidth": 0,
             "ticks": ""
            },
            "colorscale": [
             [
              0,
              "#0d0887"
             ],
             [
              0.1111111111111111,
              "#46039f"
             ],
             [
              0.2222222222222222,
              "#7201a8"
             ],
             [
              0.3333333333333333,
              "#9c179e"
             ],
             [
              0.4444444444444444,
              "#bd3786"
             ],
             [
              0.5555555555555556,
              "#d8576b"
             ],
             [
              0.6666666666666666,
              "#ed7953"
             ],
             [
              0.7777777777777778,
              "#fb9f3a"
             ],
             [
              0.8888888888888888,
              "#fdca26"
             ],
             [
              1,
              "#f0f921"
             ]
            ],
            "type": "histogram2dcontour"
           }
          ],
          "mesh3d": [
           {
            "colorbar": {
             "outlinewidth": 0,
             "ticks": ""
            },
            "type": "mesh3d"
           }
          ],
          "parcoords": [
           {
            "line": {
             "colorbar": {
              "outlinewidth": 0,
              "ticks": ""
             }
            },
            "type": "parcoords"
           }
          ],
          "pie": [
           {
            "automargin": true,
            "type": "pie"
           }
          ],
          "scatter": [
           {
            "fillpattern": {
             "fillmode": "overlay",
             "size": 10,
             "solidity": 0.2
            },
            "type": "scatter"
           }
          ],
          "scatter3d": [
           {
            "line": {
             "colorbar": {
              "outlinewidth": 0,
              "ticks": ""
             }
            },
            "marker": {
             "colorbar": {
              "outlinewidth": 0,
              "ticks": ""
             }
            },
            "type": "scatter3d"
           }
          ],
          "scattercarpet": [
           {
            "marker": {
             "colorbar": {
              "outlinewidth": 0,
              "ticks": ""
             }
            },
            "type": "scattercarpet"
           }
          ],
          "scattergeo": [
           {
            "marker": {
             "colorbar": {
              "outlinewidth": 0,
              "ticks": ""
             }
            },
            "type": "scattergeo"
           }
          ],
          "scattergl": [
           {
            "marker": {
             "colorbar": {
              "outlinewidth": 0,
              "ticks": ""
             }
            },
            "type": "scattergl"
           }
          ],
          "scattermapbox": [
           {
            "marker": {
             "colorbar": {
              "outlinewidth": 0,
              "ticks": ""
             }
            },
            "type": "scattermapbox"
           }
          ],
          "scatterpolar": [
           {
            "marker": {
             "colorbar": {
              "outlinewidth": 0,
              "ticks": ""
             }
            },
            "type": "scatterpolar"
           }
          ],
          "scatterpolargl": [
           {
            "marker": {
             "colorbar": {
              "outlinewidth": 0,
              "ticks": ""
             }
            },
            "type": "scatterpolargl"
           }
          ],
          "scatterternary": [
           {
            "marker": {
             "colorbar": {
              "outlinewidth": 0,
              "ticks": ""
             }
            },
            "type": "scatterternary"
           }
          ],
          "surface": [
           {
            "colorbar": {
             "outlinewidth": 0,
             "ticks": ""
            },
            "colorscale": [
             [
              0,
              "#0d0887"
             ],
             [
              0.1111111111111111,
              "#46039f"
             ],
             [
              0.2222222222222222,
              "#7201a8"
             ],
             [
              0.3333333333333333,
              "#9c179e"
             ],
             [
              0.4444444444444444,
              "#bd3786"
             ],
             [
              0.5555555555555556,
              "#d8576b"
             ],
             [
              0.6666666666666666,
              "#ed7953"
             ],
             [
              0.7777777777777778,
              "#fb9f3a"
             ],
             [
              0.8888888888888888,
              "#fdca26"
             ],
             [
              1,
              "#f0f921"
             ]
            ],
            "type": "surface"
           }
          ],
          "table": [
           {
            "cells": {
             "fill": {
              "color": "#EBF0F8"
             },
             "line": {
              "color": "white"
             }
            },
            "header": {
             "fill": {
              "color": "#C8D4E3"
             },
             "line": {
              "color": "white"
             }
            },
            "type": "table"
           }
          ]
         },
         "layout": {
          "annotationdefaults": {
           "arrowcolor": "#2a3f5f",
           "arrowhead": 0,
           "arrowwidth": 1
          },
          "autotypenumbers": "strict",
          "coloraxis": {
           "colorbar": {
            "outlinewidth": 0,
            "ticks": ""
           }
          },
          "colorscale": {
           "diverging": [
            [
             0,
             "#8e0152"
            ],
            [
             0.1,
             "#c51b7d"
            ],
            [
             0.2,
             "#de77ae"
            ],
            [
             0.3,
             "#f1b6da"
            ],
            [
             0.4,
             "#fde0ef"
            ],
            [
             0.5,
             "#f7f7f7"
            ],
            [
             0.6,
             "#e6f5d0"
            ],
            [
             0.7,
             "#b8e186"
            ],
            [
             0.8,
             "#7fbc41"
            ],
            [
             0.9,
             "#4d9221"
            ],
            [
             1,
             "#276419"
            ]
           ],
           "sequential": [
            [
             0,
             "#0d0887"
            ],
            [
             0.1111111111111111,
             "#46039f"
            ],
            [
             0.2222222222222222,
             "#7201a8"
            ],
            [
             0.3333333333333333,
             "#9c179e"
            ],
            [
             0.4444444444444444,
             "#bd3786"
            ],
            [
             0.5555555555555556,
             "#d8576b"
            ],
            [
             0.6666666666666666,
             "#ed7953"
            ],
            [
             0.7777777777777778,
             "#fb9f3a"
            ],
            [
             0.8888888888888888,
             "#fdca26"
            ],
            [
             1,
             "#f0f921"
            ]
           ],
           "sequentialminus": [
            [
             0,
             "#0d0887"
            ],
            [
             0.1111111111111111,
             "#46039f"
            ],
            [
             0.2222222222222222,
             "#7201a8"
            ],
            [
             0.3333333333333333,
             "#9c179e"
            ],
            [
             0.4444444444444444,
             "#bd3786"
            ],
            [
             0.5555555555555556,
             "#d8576b"
            ],
            [
             0.6666666666666666,
             "#ed7953"
            ],
            [
             0.7777777777777778,
             "#fb9f3a"
            ],
            [
             0.8888888888888888,
             "#fdca26"
            ],
            [
             1,
             "#f0f921"
            ]
           ]
          },
          "colorway": [
           "#636efa",
           "#EF553B",
           "#00cc96",
           "#ab63fa",
           "#FFA15A",
           "#19d3f3",
           "#FF6692",
           "#B6E880",
           "#FF97FF",
           "#FECB52"
          ],
          "font": {
           "color": "#2a3f5f"
          },
          "geo": {
           "bgcolor": "white",
           "lakecolor": "white",
           "landcolor": "#E5ECF6",
           "showlakes": true,
           "showland": true,
           "subunitcolor": "white"
          },
          "hoverlabel": {
           "align": "left"
          },
          "hovermode": "closest",
          "mapbox": {
           "style": "light"
          },
          "paper_bgcolor": "white",
          "plot_bgcolor": "#E5ECF6",
          "polar": {
           "angularaxis": {
            "gridcolor": "white",
            "linecolor": "white",
            "ticks": ""
           },
           "bgcolor": "#E5ECF6",
           "radialaxis": {
            "gridcolor": "white",
            "linecolor": "white",
            "ticks": ""
           }
          },
          "scene": {
           "xaxis": {
            "backgroundcolor": "#E5ECF6",
            "gridcolor": "white",
            "gridwidth": 2,
            "linecolor": "white",
            "showbackground": true,
            "ticks": "",
            "zerolinecolor": "white"
           },
           "yaxis": {
            "backgroundcolor": "#E5ECF6",
            "gridcolor": "white",
            "gridwidth": 2,
            "linecolor": "white",
            "showbackground": true,
            "ticks": "",
            "zerolinecolor": "white"
           },
           "zaxis": {
            "backgroundcolor": "#E5ECF6",
            "gridcolor": "white",
            "gridwidth": 2,
            "linecolor": "white",
            "showbackground": true,
            "ticks": "",
            "zerolinecolor": "white"
           }
          },
          "shapedefaults": {
           "line": {
            "color": "#2a3f5f"
           }
          },
          "ternary": {
           "aaxis": {
            "gridcolor": "white",
            "linecolor": "white",
            "ticks": ""
           },
           "baxis": {
            "gridcolor": "white",
            "linecolor": "white",
            "ticks": ""
           },
           "bgcolor": "#E5ECF6",
           "caxis": {
            "gridcolor": "white",
            "linecolor": "white",
            "ticks": ""
           }
          },
          "title": {
           "x": 0.05
          },
          "xaxis": {
           "automargin": true,
           "gridcolor": "white",
           "linecolor": "white",
           "ticks": "",
           "title": {
            "standoff": 15
           },
           "zerolinecolor": "white",
           "zerolinewidth": 2
          },
          "yaxis": {
           "automargin": true,
           "gridcolor": "white",
           "linecolor": "white",
           "ticks": "",
           "title": {
            "standoff": 15
           },
           "zerolinecolor": "white",
           "zerolinewidth": 2
          }
         }
        },
        "title": {
         "text": "Actual vs Forecasted Appointments"
        },
        "xaxis": {
         "title": {
          "text": "Date"
         }
        },
        "yaxis": {
         "title": {
          "text": "Appointments"
         }
        }
       }
      }
     },
     "metadata": {},
     "output_type": "display_data"
    }
   ],
   "source": [
    "# Fit SARIMA model\n",
    "sarima_model = SARIMAX(weekly_appointments, order=(1, 1, 1), seasonal_order=(1, 1, 1, 52))\n",
    "results = sarima_model.fit()\n",
    "print(results.summary())\n",
    "\n",
    "# Forecast future appointments for one year (52 weeks)\n",
    "forecast = results.get_forecast(steps=52)\n",
    "forecast_index = pd.date_range(start=weekly_appointments.index[-1] + pd.Timedelta(weeks=1), periods=52, freq='W')\n",
    "forecast_df = pd.DataFrame({'forecast': forecast.predicted_mean}, index=forecast_index)\n",
    "\n",
    "# Calculate KPIs for the preceding 12 months\n",
    "preceding_12_months = weekly_appointments[-52:]\n",
    "preceding_total_patients_year = preceding_12_months.sum()\n",
    "preceding_avg_patients_month = preceding_total_patients_year / 12\n",
    "\n",
    "# Calculate KPIs for the forecasted 12 months\n",
    "forecasted_total_patients_year = forecast_df['forecast'].sum()\n",
    "forecasted_avg_patients_month = forecasted_total_patients_year / 12\n",
    "\n",
    "# Plot actual vs forecast\n",
    "fig1_trend3 = go.Figure()\n",
    "fig1_trend3.add_trace(go.Scatter(x=weekly_appointments.index, y=weekly_appointments, mode='lines', name='Observed'))\n",
    "fig1_trend3.add_trace(go.Scatter(x=forecast_df.index, y=forecast_df['forecast'], mode='lines', name='Forecast'))\n",
    "fig1_trend3.update_layout(title='Actual vs Forecasted Appointments', xaxis_title='Date', yaxis_title='Appointments')\n",
    "\n",
    "# Set the figure to fit the container width\n",
    "fig1_trend3.update_layout(\n",
    "    autosize=True,\n",
    "    height=700,\n",
    ")\n",
    "\n",
    "# Get HTML string for fig1_trend3\n",
    "fig1_trend3_html = fig1_trend3.to_html(full_html=False, include_plotlyjs='cdn')\n",
    "fig1_trend3.show()"
   ]
  },
  {
   "cell_type": "code",
   "execution_count": 15,
   "metadata": {},
   "outputs": [
    {
     "data": {
      "text/html": [
       "<div>\n",
       "<style scoped>\n",
       "    .dataframe tbody tr th:only-of-type {\n",
       "        vertical-align: middle;\n",
       "    }\n",
       "\n",
       "    .dataframe tbody tr th {\n",
       "        vertical-align: top;\n",
       "    }\n",
       "\n",
       "    .dataframe thead th {\n",
       "        text-align: right;\n",
       "    }\n",
       "</style>\n",
       "<table border=\"1\" class=\"dataframe\">\n",
       "  <thead>\n",
       "    <tr style=\"text-align: right;\">\n",
       "      <th></th>\n",
       "      <th>icb_name</th>\n",
       "      <th>region_name</th>\n",
       "      <th>appointment_month</th>\n",
       "      <th>appt_status</th>\n",
       "      <th>hcp_type</th>\n",
       "      <th>appt_mode</th>\n",
       "      <th>time_between_book_and_appt</th>\n",
       "      <th>count_of_appointments</th>\n",
       "    </tr>\n",
       "  </thead>\n",
       "  <tbody>\n",
       "    <tr>\n",
       "      <th>0</th>\n",
       "      <td>NHS West Yorkshire ICB</td>\n",
       "      <td>North East and Yorkshire</td>\n",
       "      <td>2023-11-01</td>\n",
       "      <td>Attended</td>\n",
       "      <td>GP</td>\n",
       "      <td>Home Visit</td>\n",
       "      <td>1 Day</td>\n",
       "      <td>313</td>\n",
       "    </tr>\n",
       "    <tr>\n",
       "      <th>1</th>\n",
       "      <td>NHS West Yorkshire ICB</td>\n",
       "      <td>North East and Yorkshire</td>\n",
       "      <td>2024-04-01</td>\n",
       "      <td>DNA</td>\n",
       "      <td>GP</td>\n",
       "      <td>Face-to-Face</td>\n",
       "      <td>1 Day</td>\n",
       "      <td>277</td>\n",
       "    </tr>\n",
       "    <tr>\n",
       "      <th>2</th>\n",
       "      <td>NHS West Yorkshire ICB</td>\n",
       "      <td>North East and Yorkshire</td>\n",
       "      <td>2022-06-01</td>\n",
       "      <td>Attended</td>\n",
       "      <td>GP</td>\n",
       "      <td>Home Visit</td>\n",
       "      <td>1 Day</td>\n",
       "      <td>40</td>\n",
       "    </tr>\n",
       "    <tr>\n",
       "      <th>3</th>\n",
       "      <td>NHS West Yorkshire ICB</td>\n",
       "      <td>North East and Yorkshire</td>\n",
       "      <td>2023-01-01</td>\n",
       "      <td>Attended</td>\n",
       "      <td>GP</td>\n",
       "      <td>Home Visit</td>\n",
       "      <td>1 Day</td>\n",
       "      <td>18</td>\n",
       "    </tr>\n",
       "    <tr>\n",
       "      <th>4</th>\n",
       "      <td>NHS West Yorkshire ICB</td>\n",
       "      <td>North East and Yorkshire</td>\n",
       "      <td>2023-05-01</td>\n",
       "      <td>DNA</td>\n",
       "      <td>GP</td>\n",
       "      <td>Face-to-Face</td>\n",
       "      <td>1 Day</td>\n",
       "      <td>120</td>\n",
       "    </tr>\n",
       "    <tr>\n",
       "      <th>...</th>\n",
       "      <td>...</td>\n",
       "      <td>...</td>\n",
       "      <td>...</td>\n",
       "      <td>...</td>\n",
       "      <td>...</td>\n",
       "      <td>...</td>\n",
       "      <td>...</td>\n",
       "      <td>...</td>\n",
       "    </tr>\n",
       "    <tr>\n",
       "      <th>1268223</th>\n",
       "      <td>NHS West Yorkshire ICB</td>\n",
       "      <td>North East and Yorkshire</td>\n",
       "      <td>2021-09-01</td>\n",
       "      <td>Unknown</td>\n",
       "      <td>Unknown</td>\n",
       "      <td>Unknown</td>\n",
       "      <td>Same Day</td>\n",
       "      <td>16</td>\n",
       "    </tr>\n",
       "    <tr>\n",
       "      <th>1268224</th>\n",
       "      <td>NHS West Yorkshire ICB</td>\n",
       "      <td>North East and Yorkshire</td>\n",
       "      <td>2022-07-01</td>\n",
       "      <td>DNA</td>\n",
       "      <td>GP</td>\n",
       "      <td>Face-to-Face</td>\n",
       "      <td>1 Day</td>\n",
       "      <td>306</td>\n",
       "    </tr>\n",
       "    <tr>\n",
       "      <th>1268225</th>\n",
       "      <td>NHS West Yorkshire ICB</td>\n",
       "      <td>North East and Yorkshire</td>\n",
       "      <td>2022-09-01</td>\n",
       "      <td>DNA</td>\n",
       "      <td>GP</td>\n",
       "      <td>Face-to-Face</td>\n",
       "      <td>1 Day</td>\n",
       "      <td>300</td>\n",
       "    </tr>\n",
       "    <tr>\n",
       "      <th>1268226</th>\n",
       "      <td>NHS West Yorkshire ICB</td>\n",
       "      <td>North East and Yorkshire</td>\n",
       "      <td>2022-11-01</td>\n",
       "      <td>DNA</td>\n",
       "      <td>GP</td>\n",
       "      <td>Telephone</td>\n",
       "      <td>1 Day</td>\n",
       "      <td>62</td>\n",
       "    </tr>\n",
       "    <tr>\n",
       "      <th>1268227</th>\n",
       "      <td>NHS West Yorkshire ICB</td>\n",
       "      <td>North East and Yorkshire</td>\n",
       "      <td>2022-11-01</td>\n",
       "      <td>Unknown</td>\n",
       "      <td>GP</td>\n",
       "      <td>Home Visit</td>\n",
       "      <td>1 Day</td>\n",
       "      <td>3</td>\n",
       "    </tr>\n",
       "  </tbody>\n",
       "</table>\n",
       "<p>1268228 rows × 8 columns</p>\n",
       "</div>"
      ],
      "text/plain": [
       "                       icb_name               region_name appointment_month  \\\n",
       "0        NHS West Yorkshire ICB  North East and Yorkshire        2023-11-01   \n",
       "1        NHS West Yorkshire ICB  North East and Yorkshire        2024-04-01   \n",
       "2        NHS West Yorkshire ICB  North East and Yorkshire        2022-06-01   \n",
       "3        NHS West Yorkshire ICB  North East and Yorkshire        2023-01-01   \n",
       "4        NHS West Yorkshire ICB  North East and Yorkshire        2023-05-01   \n",
       "...                         ...                       ...               ...   \n",
       "1268223  NHS West Yorkshire ICB  North East and Yorkshire        2021-09-01   \n",
       "1268224  NHS West Yorkshire ICB  North East and Yorkshire        2022-07-01   \n",
       "1268225  NHS West Yorkshire ICB  North East and Yorkshire        2022-09-01   \n",
       "1268226  NHS West Yorkshire ICB  North East and Yorkshire        2022-11-01   \n",
       "1268227  NHS West Yorkshire ICB  North East and Yorkshire        2022-11-01   \n",
       "\n",
       "        appt_status hcp_type     appt_mode time_between_book_and_appt  \\\n",
       "0          Attended       GP    Home Visit                      1 Day   \n",
       "1               DNA       GP  Face-to-Face                      1 Day   \n",
       "2          Attended       GP    Home Visit                      1 Day   \n",
       "3          Attended       GP    Home Visit                      1 Day   \n",
       "4               DNA       GP  Face-to-Face                      1 Day   \n",
       "...             ...      ...           ...                        ...   \n",
       "1268223     Unknown  Unknown       Unknown                   Same Day   \n",
       "1268224         DNA       GP  Face-to-Face                      1 Day   \n",
       "1268225         DNA       GP  Face-to-Face                      1 Day   \n",
       "1268226         DNA       GP     Telephone                      1 Day   \n",
       "1268227     Unknown       GP    Home Visit                      1 Day   \n",
       "\n",
       "         count_of_appointments  \n",
       "0                          313  \n",
       "1                          277  \n",
       "2                           40  \n",
       "3                           18  \n",
       "4                          120  \n",
       "...                        ...  \n",
       "1268223                     16  \n",
       "1268224                    306  \n",
       "1268225                    300  \n",
       "1268226                     62  \n",
       "1268227                      3  \n",
       "\n",
       "[1268228 rows x 8 columns]"
      ]
     },
     "execution_count": 15,
     "metadata": {},
     "output_type": "execute_result"
    }
   ],
   "source": [
    "ar"
   ]
  },
  {
   "cell_type": "code",
   "execution_count": 16,
   "metadata": {},
   "outputs": [
    {
     "name": "stdout",
     "output_type": "stream",
     "text": [
      "                          icb_name appointment_month region_name  fte-gp  \\\n",
      "0  NHS Birmingham and Solihull ICB        2022-09-01    Midlands  925.03   \n",
      "1  NHS Birmingham and Solihull ICB        2022-10-01    Midlands  925.03   \n",
      "2  NHS Birmingham and Solihull ICB        2022-11-01    Midlands  925.03   \n",
      "3  NHS Birmingham and Solihull ICB        2022-12-01    Midlands  925.03   \n",
      "4  NHS Birmingham and Solihull ICB        2023-01-01    Midlands  925.03   \n",
      "\n",
      "   <= 0.4 fte  > 0.4 to < 1 fte  >= 1 fte  Total FTE  count_of_appointments  \\\n",
      "0        87.0             579.0     242.0      908.0                 380931   \n",
      "1        87.0             579.0     242.0      908.0                 386693   \n",
      "2        87.0             579.0     242.0      908.0                 410126   \n",
      "3        87.0             579.0     242.0      908.0                 361952   \n",
      "4        87.0             579.0     242.0      908.0                 406294   \n",
      "\n",
      "   Working Days  Max Appointments  Utilisation Rate  <= 0.4 fte %  \\\n",
      "0          19.5        450952.125          0.844726      9.581498   \n",
      "1          18.5        427826.375          0.903855      9.581498   \n",
      "2          19.5        450952.125          0.909467      9.581498   \n",
      "3          17.5        404700.625          0.894370      9.581498   \n",
      "4          18.5        427826.375          0.949670      9.581498   \n",
      "\n",
      "   > 0.4 to < 1 fte %  >= 1 fte %  \n",
      "0            63.76652   26.651982  \n",
      "1            63.76652   26.651982  \n",
      "2            63.76652   26.651982  \n",
      "3            63.76652   26.651982  \n",
      "4            63.76652   26.651982  \n",
      "Index(['icb_name', 'appointment_month', 'region_name', 'fte-gp', '<= 0.4 fte',\n",
      "       '> 0.4 to < 1 fte', '>= 1 fte', 'Total FTE', 'count_of_appointments',\n",
      "       'Working Days', 'Max Appointments', 'Utilisation Rate', '<= 0.4 fte %',\n",
      "       '> 0.4 to < 1 fte %', '>= 1 fte %'],\n",
      "      dtype='object')\n",
      "The sum of the number of FTEs for the most recent month (May 2024) is: 30481.0\n"
     ]
    }
   ],
   "source": [
    "# Ensure the 'appointment_month' column is datetime in both DataFrames\n",
    "ar['appointment_month'] = pd.to_datetime(ar['appointment_month'])\n",
    "\n",
    "# Filter ar DataFrame to include only GP appointments\n",
    "ar_gp = ar[ar['hcp_type'] == 'GP']\n",
    "\n",
    "# Check if 'report_month' exists in fte and rename it to 'appointment_month'\n",
    "if 'report_month' in fte.columns:\n",
    "    fte['report_month'] = pd.to_datetime(fte['report_month'])\n",
    "    fte = fte.rename(columns={'report_month': 'appointment_month'})\n",
    "    \n",
    "# Create the 'Total FTE' column in the fte DataFrame\n",
    "fte['Total FTE'] = fte['<= 0.4 fte'] + fte['> 0.4 to < 1 fte'] + fte['>= 1 fte']\n",
    "\n",
    "# Merge the dataframes\n",
    "FTE_ar_merge = pd.merge(ar_gp, fte, on=['icb_name', 'appointment_month'], how='left')\n",
    "\n",
    "# Group by ICB and appointment month, and sum the count of appointments and FTE columns\n",
    "FTE_ar_merge = FTE_ar_merge.groupby(['icb_name', 'appointment_month', 'region_name', 'fte-gp', '<= 0.4 fte', '> 0.4 to < 1 fte', '>= 1 fte', 'Total FTE']).agg({\n",
    "    'count_of_appointments': 'sum'\n",
    "}).reset_index()\n",
    "\n",
    "# Calculate working days for each appointment month\n",
    "FTE_ar_merge['Working Days'] = FTE_ar_merge['appointment_month'].apply(lambda x: get_working_days_in_month(x.year, x.month))\n",
    "\n",
    "# Sort the dataframe\n",
    "FTE_ar_merge = FTE_ar_merge.sort_values(['icb_name', 'appointment_month'])\n",
    "\n",
    "# Forward fill FTE data\n",
    "FTE_ar_merge['fte-gp'] = FTE_ar_merge.groupby('icb_name')['fte-gp'].ffill()\n",
    "\n",
    "# Calculate Max Appointments and Utilisation Rate\n",
    "FTE_ar_merge['Max Appointments'] = FTE_ar_merge['fte-gp'] * FTE_ar_merge['Working Days'] * 25\n",
    "FTE_ar_merge['Utilisation Rate'] = FTE_ar_merge['count_of_appointments'] / FTE_ar_merge['Max Appointments']\n",
    "\n",
    "# Add percentage columns based on total FTE\n",
    "FTE_ar_merge['<= 0.4 fte %'] = FTE_ar_merge['<= 0.4 fte'] / FTE_ar_merge['Total FTE'] * 100\n",
    "FTE_ar_merge['> 0.4 to < 1 fte %'] = FTE_ar_merge['> 0.4 to < 1 fte'] / FTE_ar_merge['Total FTE'] * 100\n",
    "FTE_ar_merge['>= 1 fte %'] = FTE_ar_merge['>= 1 fte'] / FTE_ar_merge['Total FTE'] * 100\n",
    "\n",
    "print(FTE_ar_merge.head())\n",
    "print(FTE_ar_merge.columns)\n",
    "\n",
    "# Identify the most recent month\n",
    "most_recent_month = FTE_ar_merge['appointment_month'].max()\n",
    "\n",
    "# Filter the DataFrame for the most recent month\n",
    "most_recent_data = FTE_ar_merge[FTE_ar_merge['appointment_month'] == most_recent_month]\n",
    "\n",
    "# Sum the 'Total FTE' for the most recent month\n",
    "sum_total_fte = most_recent_data['Total FTE'].sum()\n",
    "\n",
    "# Print the result\n",
    "print(f\"The sum of the number of FTEs for the most recent month ({most_recent_month.strftime('%B %Y')}) is: {sum_total_fte}\")"
   ]
  },
  {
   "cell_type": "code",
   "execution_count": 17,
   "metadata": {},
   "outputs": [
    {
     "data": {
      "application/vnd.plotly.v1+json": {
       "config": {
        "plotlyServerURL": "https://plot.ly"
       },
       "data": [
        {
         "fill": "tozeroy",
         "hoverinfo": "x+y",
         "line": {
          "color": "orange",
          "width": 2
         },
         "mode": "lines",
         "name": "< 15 hours",
         "type": "scatter",
         "x": [
          "2022-09-01T00:00:00",
          "2022-10-01T00:00:00",
          "2022-11-01T00:00:00",
          "2022-12-01T00:00:00",
          "2023-01-01T00:00:00",
          "2023-02-01T00:00:00",
          "2023-03-01T00:00:00",
          "2023-04-01T00:00:00",
          "2023-05-01T00:00:00",
          "2023-06-01T00:00:00",
          "2023-07-01T00:00:00",
          "2023-08-01T00:00:00",
          "2023-09-01T00:00:00",
          "2023-10-01T00:00:00",
          "2023-11-01T00:00:00",
          "2023-12-01T00:00:00",
          "2024-01-01T00:00:00",
          "2024-02-01T00:00:00",
          "2024-03-01T00:00:00",
          "2024-04-01T00:00:00",
          "2024-05-01T00:00:00"
         ],
         "xaxis": "x",
         "y": [
          0.07919034140933996,
          0.07919034140933996,
          0.07919034140933996,
          0.07919034140933996,
          0.07919034140933996,
          0.07919034140933996,
          0.07993290408369533,
          0.07993290408369533,
          0.07993290408369533,
          0.07993290408369533,
          0.07993290408369533,
          0.07993290408369533,
          0.08155157117854717,
          0.08155157117854717,
          0.08155157117854717,
          0.08155157117854717,
          0.08155157117854717,
          0.08155157117854717,
          0.08429716359420991,
          0.08429716359420991,
          0.08429716359420991
         ],
         "yaxis": "y"
        },
        {
         "fill": "tozeroy",
         "hoverinfo": "x+y",
         "line": {
          "color": "purple",
          "width": 2
         },
         "mode": "lines",
         "name": "15 to 37.5 hours",
         "type": "scatter",
         "x": [
          "2022-09-01T00:00:00",
          "2022-10-01T00:00:00",
          "2022-11-01T00:00:00",
          "2022-12-01T00:00:00",
          "2023-01-01T00:00:00",
          "2023-02-01T00:00:00",
          "2023-03-01T00:00:00",
          "2023-04-01T00:00:00",
          "2023-05-01T00:00:00",
          "2023-06-01T00:00:00",
          "2023-07-01T00:00:00",
          "2023-08-01T00:00:00",
          "2023-09-01T00:00:00",
          "2023-10-01T00:00:00",
          "2023-11-01T00:00:00",
          "2023-12-01T00:00:00",
          "2024-01-01T00:00:00",
          "2024-02-01T00:00:00",
          "2024-03-01T00:00:00",
          "2024-04-01T00:00:00",
          "2024-05-01T00:00:00"
         ],
         "xaxis": "x2",
         "y": [
          0.6810299884870389,
          0.6810299884870389,
          0.6810299884870389,
          0.6810299884870389,
          0.6810299884870389,
          0.6810299884870389,
          0.6851580469386778,
          0.6851580469386778,
          0.6851580469386778,
          0.6851580469386778,
          0.6851580469386778,
          0.6851580469386778,
          0.6881400124477532,
          0.6881400124477532,
          0.6881400124477532,
          0.6881400124477532,
          0.6881400124477532,
          0.6881400124477532,
          0.6947978921226778,
          0.6947978921226778,
          0.6947978921226778
         ],
         "yaxis": "y2"
        },
        {
         "fill": "tozeroy",
         "hoverinfo": "x+y",
         "line": {
          "color": "deeppink",
          "width": 2
         },
         "mode": "lines",
         "name": "> 37.5 hours",
         "type": "scatter",
         "x": [
          "2022-09-01T00:00:00",
          "2022-10-01T00:00:00",
          "2022-11-01T00:00:00",
          "2022-12-01T00:00:00",
          "2023-01-01T00:00:00",
          "2023-02-01T00:00:00",
          "2023-03-01T00:00:00",
          "2023-04-01T00:00:00",
          "2023-05-01T00:00:00",
          "2023-06-01T00:00:00",
          "2023-07-01T00:00:00",
          "2023-08-01T00:00:00",
          "2023-09-01T00:00:00",
          "2023-10-01T00:00:00",
          "2023-11-01T00:00:00",
          "2023-12-01T00:00:00",
          "2024-01-01T00:00:00",
          "2024-02-01T00:00:00",
          "2024-03-01T00:00:00",
          "2024-04-01T00:00:00",
          "2024-05-01T00:00:00"
         ],
         "xaxis": "x3",
         "y": [
          0.23977967010362114,
          0.23977967010362114,
          0.23977967010362114,
          0.23977967010362114,
          0.23977967010362114,
          0.23977967010362114,
          0.23490904897762696,
          0.23490904897762696,
          0.23490904897762696,
          0.23490904897762696,
          0.23490904897762696,
          0.23490904897762696,
          0.23030841637369956,
          0.23030841637369956,
          0.23030841637369956,
          0.23030841637369956,
          0.23030841637369956,
          0.23030841637369956,
          0.22090494428311216,
          0.22090494428311216,
          0.22090494428311216
         ],
         "yaxis": "y3"
        }
       ],
       "layout": {
        "annotations": [
         {
          "font": {
           "size": 16
          },
          "showarrow": false,
          "text": "< 15 hours",
          "x": 0.14444444444444446,
          "xanchor": "center",
          "xref": "paper",
          "y": 1,
          "yanchor": "bottom",
          "yref": "paper"
         },
         {
          "font": {
           "size": 16
          },
          "showarrow": false,
          "text": "15 to 37.5 hours",
          "x": 0.5,
          "xanchor": "center",
          "xref": "paper",
          "y": 1,
          "yanchor": "bottom",
          "yref": "paper"
         },
         {
          "font": {
           "size": 16
          },
          "showarrow": false,
          "text": "> 37.5 hours",
          "x": 0.8555555555555556,
          "xanchor": "center",
          "xref": "paper",
          "y": 1,
          "yanchor": "bottom",
          "yref": "paper"
         }
        ],
        "legend": {
         "orientation": "h",
         "title": {
          "text": "FTE Type"
         },
         "x": 1,
         "xanchor": "right",
         "y": -0.2,
         "yanchor": "bottom"
        },
        "margin": {
         "b": 40,
         "l": 40,
         "r": 40,
         "t": 40
        },
        "template": {
         "data": {
          "bar": [
           {
            "error_x": {
             "color": "#2a3f5f"
            },
            "error_y": {
             "color": "#2a3f5f"
            },
            "marker": {
             "line": {
              "color": "white",
              "width": 0.5
             },
             "pattern": {
              "fillmode": "overlay",
              "size": 10,
              "solidity": 0.2
             }
            },
            "type": "bar"
           }
          ],
          "barpolar": [
           {
            "marker": {
             "line": {
              "color": "white",
              "width": 0.5
             },
             "pattern": {
              "fillmode": "overlay",
              "size": 10,
              "solidity": 0.2
             }
            },
            "type": "barpolar"
           }
          ],
          "carpet": [
           {
            "aaxis": {
             "endlinecolor": "#2a3f5f",
             "gridcolor": "#C8D4E3",
             "linecolor": "#C8D4E3",
             "minorgridcolor": "#C8D4E3",
             "startlinecolor": "#2a3f5f"
            },
            "baxis": {
             "endlinecolor": "#2a3f5f",
             "gridcolor": "#C8D4E3",
             "linecolor": "#C8D4E3",
             "minorgridcolor": "#C8D4E3",
             "startlinecolor": "#2a3f5f"
            },
            "type": "carpet"
           }
          ],
          "choropleth": [
           {
            "colorbar": {
             "outlinewidth": 0,
             "ticks": ""
            },
            "type": "choropleth"
           }
          ],
          "contour": [
           {
            "colorbar": {
             "outlinewidth": 0,
             "ticks": ""
            },
            "colorscale": [
             [
              0,
              "#0d0887"
             ],
             [
              0.1111111111111111,
              "#46039f"
             ],
             [
              0.2222222222222222,
              "#7201a8"
             ],
             [
              0.3333333333333333,
              "#9c179e"
             ],
             [
              0.4444444444444444,
              "#bd3786"
             ],
             [
              0.5555555555555556,
              "#d8576b"
             ],
             [
              0.6666666666666666,
              "#ed7953"
             ],
             [
              0.7777777777777778,
              "#fb9f3a"
             ],
             [
              0.8888888888888888,
              "#fdca26"
             ],
             [
              1,
              "#f0f921"
             ]
            ],
            "type": "contour"
           }
          ],
          "contourcarpet": [
           {
            "colorbar": {
             "outlinewidth": 0,
             "ticks": ""
            },
            "type": "contourcarpet"
           }
          ],
          "heatmap": [
           {
            "colorbar": {
             "outlinewidth": 0,
             "ticks": ""
            },
            "colorscale": [
             [
              0,
              "#0d0887"
             ],
             [
              0.1111111111111111,
              "#46039f"
             ],
             [
              0.2222222222222222,
              "#7201a8"
             ],
             [
              0.3333333333333333,
              "#9c179e"
             ],
             [
              0.4444444444444444,
              "#bd3786"
             ],
             [
              0.5555555555555556,
              "#d8576b"
             ],
             [
              0.6666666666666666,
              "#ed7953"
             ],
             [
              0.7777777777777778,
              "#fb9f3a"
             ],
             [
              0.8888888888888888,
              "#fdca26"
             ],
             [
              1,
              "#f0f921"
             ]
            ],
            "type": "heatmap"
           }
          ],
          "heatmapgl": [
           {
            "colorbar": {
             "outlinewidth": 0,
             "ticks": ""
            },
            "colorscale": [
             [
              0,
              "#0d0887"
             ],
             [
              0.1111111111111111,
              "#46039f"
             ],
             [
              0.2222222222222222,
              "#7201a8"
             ],
             [
              0.3333333333333333,
              "#9c179e"
             ],
             [
              0.4444444444444444,
              "#bd3786"
             ],
             [
              0.5555555555555556,
              "#d8576b"
             ],
             [
              0.6666666666666666,
              "#ed7953"
             ],
             [
              0.7777777777777778,
              "#fb9f3a"
             ],
             [
              0.8888888888888888,
              "#fdca26"
             ],
             [
              1,
              "#f0f921"
             ]
            ],
            "type": "heatmapgl"
           }
          ],
          "histogram": [
           {
            "marker": {
             "pattern": {
              "fillmode": "overlay",
              "size": 10,
              "solidity": 0.2
             }
            },
            "type": "histogram"
           }
          ],
          "histogram2d": [
           {
            "colorbar": {
             "outlinewidth": 0,
             "ticks": ""
            },
            "colorscale": [
             [
              0,
              "#0d0887"
             ],
             [
              0.1111111111111111,
              "#46039f"
             ],
             [
              0.2222222222222222,
              "#7201a8"
             ],
             [
              0.3333333333333333,
              "#9c179e"
             ],
             [
              0.4444444444444444,
              "#bd3786"
             ],
             [
              0.5555555555555556,
              "#d8576b"
             ],
             [
              0.6666666666666666,
              "#ed7953"
             ],
             [
              0.7777777777777778,
              "#fb9f3a"
             ],
             [
              0.8888888888888888,
              "#fdca26"
             ],
             [
              1,
              "#f0f921"
             ]
            ],
            "type": "histogram2d"
           }
          ],
          "histogram2dcontour": [
           {
            "colorbar": {
             "outlinewidth": 0,
             "ticks": ""
            },
            "colorscale": [
             [
              0,
              "#0d0887"
             ],
             [
              0.1111111111111111,
              "#46039f"
             ],
             [
              0.2222222222222222,
              "#7201a8"
             ],
             [
              0.3333333333333333,
              "#9c179e"
             ],
             [
              0.4444444444444444,
              "#bd3786"
             ],
             [
              0.5555555555555556,
              "#d8576b"
             ],
             [
              0.6666666666666666,
              "#ed7953"
             ],
             [
              0.7777777777777778,
              "#fb9f3a"
             ],
             [
              0.8888888888888888,
              "#fdca26"
             ],
             [
              1,
              "#f0f921"
             ]
            ],
            "type": "histogram2dcontour"
           }
          ],
          "mesh3d": [
           {
            "colorbar": {
             "outlinewidth": 0,
             "ticks": ""
            },
            "type": "mesh3d"
           }
          ],
          "parcoords": [
           {
            "line": {
             "colorbar": {
              "outlinewidth": 0,
              "ticks": ""
             }
            },
            "type": "parcoords"
           }
          ],
          "pie": [
           {
            "automargin": true,
            "type": "pie"
           }
          ],
          "scatter": [
           {
            "fillpattern": {
             "fillmode": "overlay",
             "size": 10,
             "solidity": 0.2
            },
            "type": "scatter"
           }
          ],
          "scatter3d": [
           {
            "line": {
             "colorbar": {
              "outlinewidth": 0,
              "ticks": ""
             }
            },
            "marker": {
             "colorbar": {
              "outlinewidth": 0,
              "ticks": ""
             }
            },
            "type": "scatter3d"
           }
          ],
          "scattercarpet": [
           {
            "marker": {
             "colorbar": {
              "outlinewidth": 0,
              "ticks": ""
             }
            },
            "type": "scattercarpet"
           }
          ],
          "scattergeo": [
           {
            "marker": {
             "colorbar": {
              "outlinewidth": 0,
              "ticks": ""
             }
            },
            "type": "scattergeo"
           }
          ],
          "scattergl": [
           {
            "marker": {
             "colorbar": {
              "outlinewidth": 0,
              "ticks": ""
             }
            },
            "type": "scattergl"
           }
          ],
          "scattermapbox": [
           {
            "marker": {
             "colorbar": {
              "outlinewidth": 0,
              "ticks": ""
             }
            },
            "type": "scattermapbox"
           }
          ],
          "scatterpolar": [
           {
            "marker": {
             "colorbar": {
              "outlinewidth": 0,
              "ticks": ""
             }
            },
            "type": "scatterpolar"
           }
          ],
          "scatterpolargl": [
           {
            "marker": {
             "colorbar": {
              "outlinewidth": 0,
              "ticks": ""
             }
            },
            "type": "scatterpolargl"
           }
          ],
          "scatterternary": [
           {
            "marker": {
             "colorbar": {
              "outlinewidth": 0,
              "ticks": ""
             }
            },
            "type": "scatterternary"
           }
          ],
          "surface": [
           {
            "colorbar": {
             "outlinewidth": 0,
             "ticks": ""
            },
            "colorscale": [
             [
              0,
              "#0d0887"
             ],
             [
              0.1111111111111111,
              "#46039f"
             ],
             [
              0.2222222222222222,
              "#7201a8"
             ],
             [
              0.3333333333333333,
              "#9c179e"
             ],
             [
              0.4444444444444444,
              "#bd3786"
             ],
             [
              0.5555555555555556,
              "#d8576b"
             ],
             [
              0.6666666666666666,
              "#ed7953"
             ],
             [
              0.7777777777777778,
              "#fb9f3a"
             ],
             [
              0.8888888888888888,
              "#fdca26"
             ],
             [
              1,
              "#f0f921"
             ]
            ],
            "type": "surface"
           }
          ],
          "table": [
           {
            "cells": {
             "fill": {
              "color": "#EBF0F8"
             },
             "line": {
              "color": "white"
             }
            },
            "header": {
             "fill": {
              "color": "#C8D4E3"
             },
             "line": {
              "color": "white"
             }
            },
            "type": "table"
           }
          ]
         },
         "layout": {
          "annotationdefaults": {
           "arrowcolor": "#2a3f5f",
           "arrowhead": 0,
           "arrowwidth": 1
          },
          "autotypenumbers": "strict",
          "coloraxis": {
           "colorbar": {
            "outlinewidth": 0,
            "ticks": ""
           }
          },
          "colorscale": {
           "diverging": [
            [
             0,
             "#8e0152"
            ],
            [
             0.1,
             "#c51b7d"
            ],
            [
             0.2,
             "#de77ae"
            ],
            [
             0.3,
             "#f1b6da"
            ],
            [
             0.4,
             "#fde0ef"
            ],
            [
             0.5,
             "#f7f7f7"
            ],
            [
             0.6,
             "#e6f5d0"
            ],
            [
             0.7,
             "#b8e186"
            ],
            [
             0.8,
             "#7fbc41"
            ],
            [
             0.9,
             "#4d9221"
            ],
            [
             1,
             "#276419"
            ]
           ],
           "sequential": [
            [
             0,
             "#0d0887"
            ],
            [
             0.1111111111111111,
             "#46039f"
            ],
            [
             0.2222222222222222,
             "#7201a8"
            ],
            [
             0.3333333333333333,
             "#9c179e"
            ],
            [
             0.4444444444444444,
             "#bd3786"
            ],
            [
             0.5555555555555556,
             "#d8576b"
            ],
            [
             0.6666666666666666,
             "#ed7953"
            ],
            [
             0.7777777777777778,
             "#fb9f3a"
            ],
            [
             0.8888888888888888,
             "#fdca26"
            ],
            [
             1,
             "#f0f921"
            ]
           ],
           "sequentialminus": [
            [
             0,
             "#0d0887"
            ],
            [
             0.1111111111111111,
             "#46039f"
            ],
            [
             0.2222222222222222,
             "#7201a8"
            ],
            [
             0.3333333333333333,
             "#9c179e"
            ],
            [
             0.4444444444444444,
             "#bd3786"
            ],
            [
             0.5555555555555556,
             "#d8576b"
            ],
            [
             0.6666666666666666,
             "#ed7953"
            ],
            [
             0.7777777777777778,
             "#fb9f3a"
            ],
            [
             0.8888888888888888,
             "#fdca26"
            ],
            [
             1,
             "#f0f921"
            ]
           ]
          },
          "colorway": [
           "#636efa",
           "#EF553B",
           "#00cc96",
           "#ab63fa",
           "#FFA15A",
           "#19d3f3",
           "#FF6692",
           "#B6E880",
           "#FF97FF",
           "#FECB52"
          ],
          "font": {
           "color": "#2a3f5f"
          },
          "geo": {
           "bgcolor": "white",
           "lakecolor": "white",
           "landcolor": "white",
           "showlakes": true,
           "showland": true,
           "subunitcolor": "#C8D4E3"
          },
          "hoverlabel": {
           "align": "left"
          },
          "hovermode": "closest",
          "mapbox": {
           "style": "light"
          },
          "paper_bgcolor": "white",
          "plot_bgcolor": "white",
          "polar": {
           "angularaxis": {
            "gridcolor": "#EBF0F8",
            "linecolor": "#EBF0F8",
            "ticks": ""
           },
           "bgcolor": "white",
           "radialaxis": {
            "gridcolor": "#EBF0F8",
            "linecolor": "#EBF0F8",
            "ticks": ""
           }
          },
          "scene": {
           "xaxis": {
            "backgroundcolor": "white",
            "gridcolor": "#DFE8F3",
            "gridwidth": 2,
            "linecolor": "#EBF0F8",
            "showbackground": true,
            "ticks": "",
            "zerolinecolor": "#EBF0F8"
           },
           "yaxis": {
            "backgroundcolor": "white",
            "gridcolor": "#DFE8F3",
            "gridwidth": 2,
            "linecolor": "#EBF0F8",
            "showbackground": true,
            "ticks": "",
            "zerolinecolor": "#EBF0F8"
           },
           "zaxis": {
            "backgroundcolor": "white",
            "gridcolor": "#DFE8F3",
            "gridwidth": 2,
            "linecolor": "#EBF0F8",
            "showbackground": true,
            "ticks": "",
            "zerolinecolor": "#EBF0F8"
           }
          },
          "shapedefaults": {
           "line": {
            "color": "#2a3f5f"
           }
          },
          "ternary": {
           "aaxis": {
            "gridcolor": "#DFE8F3",
            "linecolor": "#A2B1C6",
            "ticks": ""
           },
           "baxis": {
            "gridcolor": "#DFE8F3",
            "linecolor": "#A2B1C6",
            "ticks": ""
           },
           "bgcolor": "white",
           "caxis": {
            "gridcolor": "#DFE8F3",
            "linecolor": "#A2B1C6",
            "ticks": ""
           }
          },
          "title": {
           "x": 0.05
          },
          "xaxis": {
           "automargin": true,
           "gridcolor": "#EBF0F8",
           "linecolor": "#EBF0F8",
           "ticks": "",
           "title": {
            "standoff": 15
           },
           "zerolinecolor": "#EBF0F8",
           "zerolinewidth": 2
          },
          "yaxis": {
           "automargin": true,
           "gridcolor": "#EBF0F8",
           "linecolor": "#EBF0F8",
           "ticks": "",
           "title": {
            "standoff": 15
           },
           "zerolinecolor": "#EBF0F8",
           "zerolinewidth": 2
          }
         }
        },
        "title": {
         "text": "Distribution of GP FTE Types Over Time"
        },
        "xaxis": {
         "anchor": "y",
         "domain": [
          0,
          0.2888888888888889
         ],
         "dtick": "M6",
         "tickangle": 45,
         "tickformat": "%b %y",
         "tickmode": "linear"
        },
        "xaxis2": {
         "anchor": "y2",
         "domain": [
          0.35555555555555557,
          0.6444444444444445
         ],
         "dtick": "M6",
         "tickangle": 45,
         "tickformat": "%b %y",
         "tickmode": "linear"
        },
        "xaxis3": {
         "anchor": "y3",
         "domain": [
          0.7111111111111111,
          1
         ],
         "dtick": "M6",
         "tickangle": 45,
         "tickformat": "%b %y",
         "tickmode": "linear"
        },
        "yaxis": {
         "anchor": "x",
         "domain": [
          0,
          1
         ],
         "range": [
          0,
          1
         ],
         "tickformat": ".0%"
        },
        "yaxis2": {
         "anchor": "x2",
         "domain": [
          0,
          1
         ],
         "range": [
          0,
          1
         ],
         "tickformat": ".0%"
        },
        "yaxis3": {
         "anchor": "x3",
         "domain": [
          0,
          1
         ],
         "range": [
          0,
          1
         ],
         "tickformat": ".0%"
        }
       }
      }
     },
     "metadata": {},
     "output_type": "display_data"
    },
    {
     "name": "stdout",
     "output_type": "stream",
     "text": [
      "  appointment_month  <= 0.4 fte %  > 0.4 to < 1 fte %  >= 1 fte %\n",
      "0        2022-09-01      7.919034           68.102999   23.977967\n",
      "1        2022-10-01      7.919034           68.102999   23.977967\n",
      "2        2022-11-01      7.919034           68.102999   23.977967\n",
      "3        2022-12-01      7.919034           68.102999   23.977967\n",
      "4        2023-01-01      7.919034           68.102999   23.977967\n"
     ]
    }
   ],
   "source": [
    "\n",
    "# Group by appointment month and calculate mean percentages\n",
    "fte_grouped = FTE_ar_merge.groupby('appointment_month').agg({\n",
    "    '<= 0.4 fte %': 'mean',\n",
    "    '> 0.4 to < 1 fte %': 'mean',\n",
    "    '>= 1 fte %': 'mean'\n",
    "}).reset_index()\n",
    "\n",
    "# Function to convert and validate percentage values\n",
    "def convert_percentage(value):\n",
    "    if pd.isna(value):\n",
    "        return np.nan\n",
    "    if 0 <= value <= 1:\n",
    "        return value * 100\n",
    "    elif 1 < value <= 100:\n",
    "        return value\n",
    "    else:\n",
    "        return np.nan\n",
    "\n",
    "# Apply the conversion function to the percentage columns\n",
    "for col in ['<= 0.4 fte %', '> 0.4 to < 1 fte %', '>= 1 fte %']:\n",
    "    fte_grouped[col] = fte_grouped[col].apply(convert_percentage)\n",
    "\n",
    "# Create the subplots\n",
    "fig2_GP1 = make_subplots(\n",
    "    rows=1, cols=3,\n",
    "    shared_xaxes=True,\n",
    "    vertical_spacing=0.1,\n",
    "    subplot_titles=(\"< 15 hours\", \"15 to 37.5 hours\", \"> 37.5 hours\")\n",
    ")\n",
    "\n",
    "# Add the first subplot\n",
    "fig2_GP1.add_trace(go.Scatter(\n",
    "    x=fte_grouped['appointment_month'], y=fte_grouped['<= 0.4 fte %']/100,\n",
    "    mode='lines', line=dict(width=2, color='orange'),\n",
    "    fill='tozeroy',\n",
    "    name='< 15 hours',\n",
    "    hoverinfo='x+y'\n",
    "), row=1, col=1)\n",
    "\n",
    "# Add the second subplot\n",
    "fig2_GP1.add_trace(go.Scatter(\n",
    "    x=fte_grouped['appointment_month'], y=fte_grouped['> 0.4 to < 1 fte %']/100,\n",
    "    mode='lines', line=dict(width=2, color='purple'),\n",
    "    fill='tozeroy',\n",
    "    name='15 to 37.5 hours',\n",
    "    hoverinfo='x+y'\n",
    "), row=1, col=2)\n",
    "\n",
    "# Add the third subplot\n",
    "fig2_GP1.add_trace(go.Scatter(\n",
    "    x=fte_grouped['appointment_month'], y=fte_grouped['>= 1 fte %']/100,\n",
    "    mode='lines', line=dict(width=2, color='deeppink'),\n",
    "    fill='tozeroy',\n",
    "    name='> 37.5 hours',\n",
    "    hoverinfo='x+y'\n",
    "), row=1, col=3)\n",
    "\n",
    "# Update layout\n",
    "fig2_GP1.update_layout(\n",
    "    title='Distribution of GP FTE Types Over Time',\n",
    "    legend=dict(title='FTE Type', orientation='h', yanchor='bottom', y=-0.2, xanchor='right', x=1),\n",
    "    margin=dict(l=40, r=40, t=40, b=40),\n",
    "    template='plotly_white'\n",
    ")\n",
    "\n",
    "# Update y-axes for all subplots\n",
    "for i in range(1, 4):\n",
    "    fig2_GP1.update_yaxes(\n",
    "        tickformat='.0%',\n",
    "        range=[0, 1],\n",
    "        row=1, col=i\n",
    "    )\n",
    "\n",
    "# Update x-axis\n",
    "fig2_GP1.update_xaxes(\n",
    "    tickmode='linear',\n",
    "    dtick='M6',\n",
    "    tickformat='%b %y',\n",
    "    tickangle=45\n",
    ")\n",
    "\n",
    "fig2_GP1_html = fig2_GP1.to_html(full_html=False, include_plotlyjs='cdn')\n",
    "\n",
    "# Show the plot\n",
    "fig2_GP1.show()\n",
    "\n",
    "# Print the first few rows of the data to verify\n",
    "print(fte_grouped.head())"
   ]
  },
  {
   "cell_type": "code",
   "execution_count": 18,
   "metadata": {},
   "outputs": [
    {
     "name": "stdout",
     "output_type": "stream",
     "text": [
      "September 2022 average: 13053459.51\n",
      "June 2024 average: nan\n",
      "Percent increase from September 2022 to June 2024: nan%\n",
      "Average monthly appointments in September 2022: 13053460\n",
      "Average monthly appointments in June 2024: nan\n",
      "Yearly total appointments (based on Sept 2022): 156641514\n",
      "Yearly total appointments (based on June 2024): nan\n"
     ]
    }
   ],
   "source": [
    "# Find the trend values for September 2022 and June 2024\n",
    "sept_2022 = trend_extended['2022-09-01':'2022-09-30'].mean()\n",
    "june_2024 = trend_extended['2024-06-01':'2024-06-30'].mean()  # Note: Changed to June 30\n",
    "\n",
    "# Calculate the percent increase\n",
    "percent_increase = ((june_2024 - sept_2022) / sept_2022) * 100\n",
    "\n",
    "print(f\"September 2022 average: {sept_2022:.2f}\")\n",
    "print(f\"June 2024 average: {june_2024:.2f}\")\n",
    "print(f\"Percent increase from September 2022 to June 2024: {percent_increase:.2f}%\")\n",
    "\n",
    "# Calculate average monthly appointments\n",
    "avg_monthly_appointments_2022 = trend_extended['2022-09-01':'2022-09-30'].mean()\n",
    "avg_monthly_appointments_2024 = trend_extended['2024-06-01':'2024-06-30'].mean()  # Note: Changed to June 30\n",
    "\n",
    "print(f\"Average monthly appointments in September 2022: {avg_monthly_appointments_2022:.0f}\")\n",
    "print(f\"Average monthly appointments in June 2024: {avg_monthly_appointments_2024:.0f}\")\n",
    "\n",
    "# Calculate yearly totals\n",
    "yearly_total_2022 = avg_monthly_appointments_2022 * 12\n",
    "yearly_total_2024 = avg_monthly_appointments_2024 * 12\n",
    "\n",
    "print(f\"Yearly total appointments (based on Sept 2022): {yearly_total_2022:.0f}\")\n",
    "print(f\"Yearly total appointments (based on June 2024): {yearly_total_2024:.0f}\")"
   ]
  },
  {
   "cell_type": "code",
   "execution_count": 19,
   "metadata": {},
   "outputs": [
    {
     "data": {
      "application/vnd.plotly.v1+json": {
       "config": {
        "plotlyServerURL": "https://plot.ly"
       },
       "data": [
        {
         "line": {
          "color": "blue",
          "width": 2
         },
         "marker": {
          "size": 8
         },
         "mode": "lines+markers",
         "name": "Total FTE",
         "type": "scatter",
         "x": [
          "2022-09-01T00:00:00",
          "2022-10-01T00:00:00",
          "2022-11-01T00:00:00",
          "2022-12-01T00:00:00",
          "2023-01-01T00:00:00",
          "2023-02-01T00:00:00",
          "2023-03-01T00:00:00",
          "2023-04-01T00:00:00",
          "2023-05-01T00:00:00",
          "2023-06-01T00:00:00",
          "2023-07-01T00:00:00",
          "2023-08-01T00:00:00",
          "2023-09-01T00:00:00",
          "2023-10-01T00:00:00",
          "2023-11-01T00:00:00",
          "2023-12-01T00:00:00",
          "2024-01-01T00:00:00",
          "2024-02-01T00:00:00",
          "2024-03-01T00:00:00",
          "2024-04-01T00:00:00",
          "2024-05-01T00:00:00",
          "2024-06-01T00:00:00",
          "2024-07-01T00:00:00"
         ],
         "y": [
          35403,
          35403,
          35403,
          35403,
          35403,
          35403,
          35194,
          35194,
          35194,
          35194,
          35194,
          35194,
          35438,
          35438,
          35438,
          35438,
          35438,
          35438,
          36143,
          36143,
          36143,
          36143,
          36143
         ]
        }
       ],
       "layout": {
        "hovermode": "x unified",
        "template": {
         "data": {
          "bar": [
           {
            "error_x": {
             "color": "#2a3f5f"
            },
            "error_y": {
             "color": "#2a3f5f"
            },
            "marker": {
             "line": {
              "color": "white",
              "width": 0.5
             },
             "pattern": {
              "fillmode": "overlay",
              "size": 10,
              "solidity": 0.2
             }
            },
            "type": "bar"
           }
          ],
          "barpolar": [
           {
            "marker": {
             "line": {
              "color": "white",
              "width": 0.5
             },
             "pattern": {
              "fillmode": "overlay",
              "size": 10,
              "solidity": 0.2
             }
            },
            "type": "barpolar"
           }
          ],
          "carpet": [
           {
            "aaxis": {
             "endlinecolor": "#2a3f5f",
             "gridcolor": "#C8D4E3",
             "linecolor": "#C8D4E3",
             "minorgridcolor": "#C8D4E3",
             "startlinecolor": "#2a3f5f"
            },
            "baxis": {
             "endlinecolor": "#2a3f5f",
             "gridcolor": "#C8D4E3",
             "linecolor": "#C8D4E3",
             "minorgridcolor": "#C8D4E3",
             "startlinecolor": "#2a3f5f"
            },
            "type": "carpet"
           }
          ],
          "choropleth": [
           {
            "colorbar": {
             "outlinewidth": 0,
             "ticks": ""
            },
            "type": "choropleth"
           }
          ],
          "contour": [
           {
            "colorbar": {
             "outlinewidth": 0,
             "ticks": ""
            },
            "colorscale": [
             [
              0,
              "#0d0887"
             ],
             [
              0.1111111111111111,
              "#46039f"
             ],
             [
              0.2222222222222222,
              "#7201a8"
             ],
             [
              0.3333333333333333,
              "#9c179e"
             ],
             [
              0.4444444444444444,
              "#bd3786"
             ],
             [
              0.5555555555555556,
              "#d8576b"
             ],
             [
              0.6666666666666666,
              "#ed7953"
             ],
             [
              0.7777777777777778,
              "#fb9f3a"
             ],
             [
              0.8888888888888888,
              "#fdca26"
             ],
             [
              1,
              "#f0f921"
             ]
            ],
            "type": "contour"
           }
          ],
          "contourcarpet": [
           {
            "colorbar": {
             "outlinewidth": 0,
             "ticks": ""
            },
            "type": "contourcarpet"
           }
          ],
          "heatmap": [
           {
            "colorbar": {
             "outlinewidth": 0,
             "ticks": ""
            },
            "colorscale": [
             [
              0,
              "#0d0887"
             ],
             [
              0.1111111111111111,
              "#46039f"
             ],
             [
              0.2222222222222222,
              "#7201a8"
             ],
             [
              0.3333333333333333,
              "#9c179e"
             ],
             [
              0.4444444444444444,
              "#bd3786"
             ],
             [
              0.5555555555555556,
              "#d8576b"
             ],
             [
              0.6666666666666666,
              "#ed7953"
             ],
             [
              0.7777777777777778,
              "#fb9f3a"
             ],
             [
              0.8888888888888888,
              "#fdca26"
             ],
             [
              1,
              "#f0f921"
             ]
            ],
            "type": "heatmap"
           }
          ],
          "heatmapgl": [
           {
            "colorbar": {
             "outlinewidth": 0,
             "ticks": ""
            },
            "colorscale": [
             [
              0,
              "#0d0887"
             ],
             [
              0.1111111111111111,
              "#46039f"
             ],
             [
              0.2222222222222222,
              "#7201a8"
             ],
             [
              0.3333333333333333,
              "#9c179e"
             ],
             [
              0.4444444444444444,
              "#bd3786"
             ],
             [
              0.5555555555555556,
              "#d8576b"
             ],
             [
              0.6666666666666666,
              "#ed7953"
             ],
             [
              0.7777777777777778,
              "#fb9f3a"
             ],
             [
              0.8888888888888888,
              "#fdca26"
             ],
             [
              1,
              "#f0f921"
             ]
            ],
            "type": "heatmapgl"
           }
          ],
          "histogram": [
           {
            "marker": {
             "pattern": {
              "fillmode": "overlay",
              "size": 10,
              "solidity": 0.2
             }
            },
            "type": "histogram"
           }
          ],
          "histogram2d": [
           {
            "colorbar": {
             "outlinewidth": 0,
             "ticks": ""
            },
            "colorscale": [
             [
              0,
              "#0d0887"
             ],
             [
              0.1111111111111111,
              "#46039f"
             ],
             [
              0.2222222222222222,
              "#7201a8"
             ],
             [
              0.3333333333333333,
              "#9c179e"
             ],
             [
              0.4444444444444444,
              "#bd3786"
             ],
             [
              0.5555555555555556,
              "#d8576b"
             ],
             [
              0.6666666666666666,
              "#ed7953"
             ],
             [
              0.7777777777777778,
              "#fb9f3a"
             ],
             [
              0.8888888888888888,
              "#fdca26"
             ],
             [
              1,
              "#f0f921"
             ]
            ],
            "type": "histogram2d"
           }
          ],
          "histogram2dcontour": [
           {
            "colorbar": {
             "outlinewidth": 0,
             "ticks": ""
            },
            "colorscale": [
             [
              0,
              "#0d0887"
             ],
             [
              0.1111111111111111,
              "#46039f"
             ],
             [
              0.2222222222222222,
              "#7201a8"
             ],
             [
              0.3333333333333333,
              "#9c179e"
             ],
             [
              0.4444444444444444,
              "#bd3786"
             ],
             [
              0.5555555555555556,
              "#d8576b"
             ],
             [
              0.6666666666666666,
              "#ed7953"
             ],
             [
              0.7777777777777778,
              "#fb9f3a"
             ],
             [
              0.8888888888888888,
              "#fdca26"
             ],
             [
              1,
              "#f0f921"
             ]
            ],
            "type": "histogram2dcontour"
           }
          ],
          "mesh3d": [
           {
            "colorbar": {
             "outlinewidth": 0,
             "ticks": ""
            },
            "type": "mesh3d"
           }
          ],
          "parcoords": [
           {
            "line": {
             "colorbar": {
              "outlinewidth": 0,
              "ticks": ""
             }
            },
            "type": "parcoords"
           }
          ],
          "pie": [
           {
            "automargin": true,
            "type": "pie"
           }
          ],
          "scatter": [
           {
            "fillpattern": {
             "fillmode": "overlay",
             "size": 10,
             "solidity": 0.2
            },
            "type": "scatter"
           }
          ],
          "scatter3d": [
           {
            "line": {
             "colorbar": {
              "outlinewidth": 0,
              "ticks": ""
             }
            },
            "marker": {
             "colorbar": {
              "outlinewidth": 0,
              "ticks": ""
             }
            },
            "type": "scatter3d"
           }
          ],
          "scattercarpet": [
           {
            "marker": {
             "colorbar": {
              "outlinewidth": 0,
              "ticks": ""
             }
            },
            "type": "scattercarpet"
           }
          ],
          "scattergeo": [
           {
            "marker": {
             "colorbar": {
              "outlinewidth": 0,
              "ticks": ""
             }
            },
            "type": "scattergeo"
           }
          ],
          "scattergl": [
           {
            "marker": {
             "colorbar": {
              "outlinewidth": 0,
              "ticks": ""
             }
            },
            "type": "scattergl"
           }
          ],
          "scattermapbox": [
           {
            "marker": {
             "colorbar": {
              "outlinewidth": 0,
              "ticks": ""
             }
            },
            "type": "scattermapbox"
           }
          ],
          "scatterpolar": [
           {
            "marker": {
             "colorbar": {
              "outlinewidth": 0,
              "ticks": ""
             }
            },
            "type": "scatterpolar"
           }
          ],
          "scatterpolargl": [
           {
            "marker": {
             "colorbar": {
              "outlinewidth": 0,
              "ticks": ""
             }
            },
            "type": "scatterpolargl"
           }
          ],
          "scatterternary": [
           {
            "marker": {
             "colorbar": {
              "outlinewidth": 0,
              "ticks": ""
             }
            },
            "type": "scatterternary"
           }
          ],
          "surface": [
           {
            "colorbar": {
             "outlinewidth": 0,
             "ticks": ""
            },
            "colorscale": [
             [
              0,
              "#0d0887"
             ],
             [
              0.1111111111111111,
              "#46039f"
             ],
             [
              0.2222222222222222,
              "#7201a8"
             ],
             [
              0.3333333333333333,
              "#9c179e"
             ],
             [
              0.4444444444444444,
              "#bd3786"
             ],
             [
              0.5555555555555556,
              "#d8576b"
             ],
             [
              0.6666666666666666,
              "#ed7953"
             ],
             [
              0.7777777777777778,
              "#fb9f3a"
             ],
             [
              0.8888888888888888,
              "#fdca26"
             ],
             [
              1,
              "#f0f921"
             ]
            ],
            "type": "surface"
           }
          ],
          "table": [
           {
            "cells": {
             "fill": {
              "color": "#EBF0F8"
             },
             "line": {
              "color": "white"
             }
            },
            "header": {
             "fill": {
              "color": "#C8D4E3"
             },
             "line": {
              "color": "white"
             }
            },
            "type": "table"
           }
          ]
         },
         "layout": {
          "annotationdefaults": {
           "arrowcolor": "#2a3f5f",
           "arrowhead": 0,
           "arrowwidth": 1
          },
          "autotypenumbers": "strict",
          "coloraxis": {
           "colorbar": {
            "outlinewidth": 0,
            "ticks": ""
           }
          },
          "colorscale": {
           "diverging": [
            [
             0,
             "#8e0152"
            ],
            [
             0.1,
             "#c51b7d"
            ],
            [
             0.2,
             "#de77ae"
            ],
            [
             0.3,
             "#f1b6da"
            ],
            [
             0.4,
             "#fde0ef"
            ],
            [
             0.5,
             "#f7f7f7"
            ],
            [
             0.6,
             "#e6f5d0"
            ],
            [
             0.7,
             "#b8e186"
            ],
            [
             0.8,
             "#7fbc41"
            ],
            [
             0.9,
             "#4d9221"
            ],
            [
             1,
             "#276419"
            ]
           ],
           "sequential": [
            [
             0,
             "#0d0887"
            ],
            [
             0.1111111111111111,
             "#46039f"
            ],
            [
             0.2222222222222222,
             "#7201a8"
            ],
            [
             0.3333333333333333,
             "#9c179e"
            ],
            [
             0.4444444444444444,
             "#bd3786"
            ],
            [
             0.5555555555555556,
             "#d8576b"
            ],
            [
             0.6666666666666666,
             "#ed7953"
            ],
            [
             0.7777777777777778,
             "#fb9f3a"
            ],
            [
             0.8888888888888888,
             "#fdca26"
            ],
            [
             1,
             "#f0f921"
            ]
           ],
           "sequentialminus": [
            [
             0,
             "#0d0887"
            ],
            [
             0.1111111111111111,
             "#46039f"
            ],
            [
             0.2222222222222222,
             "#7201a8"
            ],
            [
             0.3333333333333333,
             "#9c179e"
            ],
            [
             0.4444444444444444,
             "#bd3786"
            ],
            [
             0.5555555555555556,
             "#d8576b"
            ],
            [
             0.6666666666666666,
             "#ed7953"
            ],
            [
             0.7777777777777778,
             "#fb9f3a"
            ],
            [
             0.8888888888888888,
             "#fdca26"
            ],
            [
             1,
             "#f0f921"
            ]
           ]
          },
          "colorway": [
           "#636efa",
           "#EF553B",
           "#00cc96",
           "#ab63fa",
           "#FFA15A",
           "#19d3f3",
           "#FF6692",
           "#B6E880",
           "#FF97FF",
           "#FECB52"
          ],
          "font": {
           "color": "#2a3f5f"
          },
          "geo": {
           "bgcolor": "white",
           "lakecolor": "white",
           "landcolor": "white",
           "showlakes": true,
           "showland": true,
           "subunitcolor": "#C8D4E3"
          },
          "hoverlabel": {
           "align": "left"
          },
          "hovermode": "closest",
          "mapbox": {
           "style": "light"
          },
          "paper_bgcolor": "white",
          "plot_bgcolor": "white",
          "polar": {
           "angularaxis": {
            "gridcolor": "#EBF0F8",
            "linecolor": "#EBF0F8",
            "ticks": ""
           },
           "bgcolor": "white",
           "radialaxis": {
            "gridcolor": "#EBF0F8",
            "linecolor": "#EBF0F8",
            "ticks": ""
           }
          },
          "scene": {
           "xaxis": {
            "backgroundcolor": "white",
            "gridcolor": "#DFE8F3",
            "gridwidth": 2,
            "linecolor": "#EBF0F8",
            "showbackground": true,
            "ticks": "",
            "zerolinecolor": "#EBF0F8"
           },
           "yaxis": {
            "backgroundcolor": "white",
            "gridcolor": "#DFE8F3",
            "gridwidth": 2,
            "linecolor": "#EBF0F8",
            "showbackground": true,
            "ticks": "",
            "zerolinecolor": "#EBF0F8"
           },
           "zaxis": {
            "backgroundcolor": "white",
            "gridcolor": "#DFE8F3",
            "gridwidth": 2,
            "linecolor": "#EBF0F8",
            "showbackground": true,
            "ticks": "",
            "zerolinecolor": "#EBF0F8"
           }
          },
          "shapedefaults": {
           "line": {
            "color": "#2a3f5f"
           }
          },
          "ternary": {
           "aaxis": {
            "gridcolor": "#DFE8F3",
            "linecolor": "#A2B1C6",
            "ticks": ""
           },
           "baxis": {
            "gridcolor": "#DFE8F3",
            "linecolor": "#A2B1C6",
            "ticks": ""
           },
           "bgcolor": "white",
           "caxis": {
            "gridcolor": "#DFE8F3",
            "linecolor": "#A2B1C6",
            "ticks": ""
           }
          },
          "title": {
           "x": 0.05
          },
          "xaxis": {
           "automargin": true,
           "gridcolor": "#EBF0F8",
           "linecolor": "#EBF0F8",
           "ticks": "",
           "title": {
            "standoff": 15
           },
           "zerolinecolor": "#EBF0F8",
           "zerolinewidth": 2
          },
          "yaxis": {
           "automargin": true,
           "gridcolor": "#EBF0F8",
           "linecolor": "#EBF0F8",
           "ticks": "",
           "title": {
            "standoff": 15
           },
           "zerolinecolor": "#EBF0F8",
           "zerolinewidth": 2
          }
         }
        },
        "title": {
         "text": "Total Summed FTE Over Time"
        },
        "xaxis": {
         "dtick": "M3",
         "tickangle": 45,
         "tickformat": "%b %Y",
         "tickmode": "linear",
         "title": {
          "text": "Date"
         }
        },
        "yaxis": {
         "tickformat": ",",
         "title": {
          "text": "Total FTE"
         }
        }
       }
      }
     },
     "metadata": {},
     "output_type": "display_data"
    },
    {
     "name": "stdout",
     "output_type": "stream",
     "text": [
      "  appointment_month  Total FTE\n",
      "0        2022-09-01    35403.0\n",
      "1        2022-10-01    35403.0\n",
      "2        2022-11-01    35403.0\n",
      "3        2022-12-01    35403.0\n",
      "4        2023-01-01    35403.0\n",
      "FTE for GPs for the most recent month (July 2024) is: 36143.00\n"
     ]
    }
   ],
   "source": [
    "# Ensure 'appointment_month' is in datetime format\n",
    "fte['appointment_month'] = pd.to_datetime(fte['appointment_month'], format='%Y-%m', errors='coerce')\n",
    "\n",
    "# Group by appointment month and sum the Total FTE\n",
    "fte_summed = fte.groupby('appointment_month')['Total FTE'].sum().reset_index()\n",
    "\n",
    "# Create the figure\n",
    "fig_total_fte = go.Figure()\n",
    "\n",
    "# Add the Total FTE trace\n",
    "fig_total_fte.add_trace(go.Scatter(\n",
    "    x=fte_summed['appointment_month'],\n",
    "    y=fte_summed['Total FTE'],\n",
    "    mode='lines+markers',\n",
    "    name='Total FTE',\n",
    "    line=dict(color='blue', width=2),\n",
    "    marker=dict(size=8)\n",
    "))\n",
    "\n",
    "# Update layout\n",
    "fig_total_fte.update_layout(\n",
    "    title='Total Summed FTE Over Time',\n",
    "    xaxis_title='Date',\n",
    "    yaxis_title='Total FTE',\n",
    "    template='plotly_white',\n",
    "    hovermode='x unified'\n",
    ")\n",
    "\n",
    "# Update x-axis\n",
    "fig_total_fte.update_xaxes(\n",
    "    tickmode='linear',\n",
    "    dtick='M3',  # Show tick every 3 months\n",
    "    tickformat='%b %Y',\n",
    "    tickangle=45\n",
    ")\n",
    "\n",
    "# Update y-axis to show comma-separated thousands\n",
    "fig_total_fte.update_yaxes(\n",
    "    tickformat=',',\n",
    ")\n",
    "\n",
    "# Show the plot\n",
    "fig_total_fte.show()\n",
    "\n",
    "# Convert to HTML for your dashboard\n",
    "fig_total_fte_html = fig_total_fte.to_html(full_html=False, include_plotlyjs='cdn')\n",
    "\n",
    "# Print the first few rows of the summed data to verify\n",
    "print(fte_summed.head())\n",
    "\n",
    "# Calculate and print the most recent month's total FTE\n",
    "most_recent_month = fte_summed['appointment_month'].max()\n",
    "most_recent_fte = fte_summed.loc[fte_summed['appointment_month'] == most_recent_month, 'Total FTE'].values[0]\n",
    "print(f\"FTE for GPs for the most recent month ({most_recent_month.strftime('%B %Y')}) is: {most_recent_fte:.2f}\")"
   ]
  },
  {
   "cell_type": "code",
   "execution_count": 20,
   "metadata": {},
   "outputs": [
    {
     "data": {
      "text/html": [
       "<div>\n",
       "<style scoped>\n",
       "    .dataframe tbody tr th:only-of-type {\n",
       "        vertical-align: middle;\n",
       "    }\n",
       "\n",
       "    .dataframe tbody tr th {\n",
       "        vertical-align: top;\n",
       "    }\n",
       "\n",
       "    .dataframe thead th {\n",
       "        text-align: right;\n",
       "    }\n",
       "</style>\n",
       "<table border=\"1\" class=\"dataframe\">\n",
       "  <thead>\n",
       "    <tr style=\"text-align: right;\">\n",
       "      <th></th>\n",
       "      <th>appointment_month</th>\n",
       "      <th>icb_name</th>\n",
       "      <th>&lt;= 0.4 fte</th>\n",
       "      <th>&gt; 0.4 to &lt; 1 fte</th>\n",
       "      <th>&gt;= 1 fte</th>\n",
       "      <th>fte-gp</th>\n",
       "      <th>Total FTE</th>\n",
       "    </tr>\n",
       "  </thead>\n",
       "  <tbody>\n",
       "    <tr>\n",
       "      <th>0</th>\n",
       "      <td>2022-09-01</td>\n",
       "      <td>NHS Bath and North East Somerset, Swindon and ...</td>\n",
       "      <td>70.0</td>\n",
       "      <td>452.0</td>\n",
       "      <td>105.0</td>\n",
       "      <td>613.03</td>\n",
       "      <td>627.0</td>\n",
       "    </tr>\n",
       "    <tr>\n",
       "      <th>1</th>\n",
       "      <td>2022-10-01</td>\n",
       "      <td>NHS Bath and North East Somerset, Swindon and ...</td>\n",
       "      <td>70.0</td>\n",
       "      <td>452.0</td>\n",
       "      <td>105.0</td>\n",
       "      <td>613.03</td>\n",
       "      <td>627.0</td>\n",
       "    </tr>\n",
       "    <tr>\n",
       "      <th>2</th>\n",
       "      <td>2022-11-01</td>\n",
       "      <td>NHS Bath and North East Somerset, Swindon and ...</td>\n",
       "      <td>70.0</td>\n",
       "      <td>452.0</td>\n",
       "      <td>105.0</td>\n",
       "      <td>613.03</td>\n",
       "      <td>627.0</td>\n",
       "    </tr>\n",
       "    <tr>\n",
       "      <th>3</th>\n",
       "      <td>2022-12-01</td>\n",
       "      <td>NHS Bath and North East Somerset, Swindon and ...</td>\n",
       "      <td>70.0</td>\n",
       "      <td>452.0</td>\n",
       "      <td>105.0</td>\n",
       "      <td>613.03</td>\n",
       "      <td>627.0</td>\n",
       "    </tr>\n",
       "    <tr>\n",
       "      <th>4</th>\n",
       "      <td>2023-01-01</td>\n",
       "      <td>NHS Bath and North East Somerset, Swindon and ...</td>\n",
       "      <td>70.0</td>\n",
       "      <td>452.0</td>\n",
       "      <td>105.0</td>\n",
       "      <td>613.03</td>\n",
       "      <td>627.0</td>\n",
       "    </tr>\n",
       "    <tr>\n",
       "      <th>...</th>\n",
       "      <td>...</td>\n",
       "      <td>...</td>\n",
       "      <td>...</td>\n",
       "      <td>...</td>\n",
       "      <td>...</td>\n",
       "      <td>...</td>\n",
       "      <td>...</td>\n",
       "    </tr>\n",
       "    <tr>\n",
       "      <th>961</th>\n",
       "      <td>2024-03-01</td>\n",
       "      <td>NHS West Yorkshire ICB</td>\n",
       "      <td>92.0</td>\n",
       "      <td>1216.0</td>\n",
       "      <td>291.0</td>\n",
       "      <td>1621.85</td>\n",
       "      <td>1599.0</td>\n",
       "    </tr>\n",
       "    <tr>\n",
       "      <th>962</th>\n",
       "      <td>2024-04-01</td>\n",
       "      <td>NHS West Yorkshire ICB</td>\n",
       "      <td>92.0</td>\n",
       "      <td>1216.0</td>\n",
       "      <td>291.0</td>\n",
       "      <td>1621.85</td>\n",
       "      <td>1599.0</td>\n",
       "    </tr>\n",
       "    <tr>\n",
       "      <th>963</th>\n",
       "      <td>2024-05-01</td>\n",
       "      <td>NHS West Yorkshire ICB</td>\n",
       "      <td>92.0</td>\n",
       "      <td>1216.0</td>\n",
       "      <td>291.0</td>\n",
       "      <td>1621.85</td>\n",
       "      <td>1599.0</td>\n",
       "    </tr>\n",
       "    <tr>\n",
       "      <th>964</th>\n",
       "      <td>2024-06-01</td>\n",
       "      <td>NHS West Yorkshire ICB</td>\n",
       "      <td>92.0</td>\n",
       "      <td>1216.0</td>\n",
       "      <td>291.0</td>\n",
       "      <td>1621.85</td>\n",
       "      <td>1599.0</td>\n",
       "    </tr>\n",
       "    <tr>\n",
       "      <th>965</th>\n",
       "      <td>2024-07-01</td>\n",
       "      <td>NHS West Yorkshire ICB</td>\n",
       "      <td>92.0</td>\n",
       "      <td>1216.0</td>\n",
       "      <td>291.0</td>\n",
       "      <td>1621.85</td>\n",
       "      <td>1599.0</td>\n",
       "    </tr>\n",
       "  </tbody>\n",
       "</table>\n",
       "<p>966 rows × 7 columns</p>\n",
       "</div>"
      ],
      "text/plain": [
       "    appointment_month                                           icb_name  \\\n",
       "0          2022-09-01  NHS Bath and North East Somerset, Swindon and ...   \n",
       "1          2022-10-01  NHS Bath and North East Somerset, Swindon and ...   \n",
       "2          2022-11-01  NHS Bath and North East Somerset, Swindon and ...   \n",
       "3          2022-12-01  NHS Bath and North East Somerset, Swindon and ...   \n",
       "4          2023-01-01  NHS Bath and North East Somerset, Swindon and ...   \n",
       "..                ...                                                ...   \n",
       "961        2024-03-01                             NHS West Yorkshire ICB   \n",
       "962        2024-04-01                             NHS West Yorkshire ICB   \n",
       "963        2024-05-01                             NHS West Yorkshire ICB   \n",
       "964        2024-06-01                             NHS West Yorkshire ICB   \n",
       "965        2024-07-01                             NHS West Yorkshire ICB   \n",
       "\n",
       "     <= 0.4 fte  > 0.4 to < 1 fte  >= 1 fte   fte-gp  Total FTE  \n",
       "0          70.0             452.0     105.0   613.03      627.0  \n",
       "1          70.0             452.0     105.0   613.03      627.0  \n",
       "2          70.0             452.0     105.0   613.03      627.0  \n",
       "3          70.0             452.0     105.0   613.03      627.0  \n",
       "4          70.0             452.0     105.0   613.03      627.0  \n",
       "..          ...               ...       ...      ...        ...  \n",
       "961        92.0            1216.0     291.0  1621.85     1599.0  \n",
       "962        92.0            1216.0     291.0  1621.85     1599.0  \n",
       "963        92.0            1216.0     291.0  1621.85     1599.0  \n",
       "964        92.0            1216.0     291.0  1621.85     1599.0  \n",
       "965        92.0            1216.0     291.0  1621.85     1599.0  \n",
       "\n",
       "[966 rows x 7 columns]"
      ]
     },
     "execution_count": 20,
     "metadata": {},
     "output_type": "execute_result"
    }
   ],
   "source": [
    "fte"
   ]
  },
  {
   "cell_type": "code",
   "execution_count": 21,
   "metadata": {},
   "outputs": [
    {
     "name": "stdout",
     "output_type": "stream",
     "text": [
      "FTE for GPs for the most recent month (July 2024) is: 36143.0\n"
     ]
    }
   ],
   "source": [
    "# Ensure 'appointment_month' is in datetime format\n",
    "fte['appointment_month'] = pd.to_datetime(fte['appointment_month'], format='%Y-%m', errors='coerce')\n",
    "\n",
    "# Identify the most recent month\n",
    "most_recent_month = fte['appointment_month'].max()\n",
    "\n",
    "# Filter the DataFrame for the most recent month\n",
    "most_recent_data = fte[fte['appointment_month'] == most_recent_month]\n",
    "\n",
    "# Sum the 'Total FTE' for the most recent month\n",
    "sum_total_fte = most_recent_data['Total FTE'].sum()\n",
    "\n",
    "# Print the result\n",
    "print(f\"FTE for GPs for the most recent month ({most_recent_month.strftime('%B %Y')}) is: {sum_total_fte}\")"
   ]
  },
  {
   "cell_type": "code",
   "execution_count": 22,
   "metadata": {},
   "outputs": [
    {
     "data": {
      "image/png": "[encoded data removed]",
      "text/plain": [
       "<Figure size 1500x800 with 1 Axes>"
      ]
     },
     "metadata": {},
     "output_type": "display_data"
    },
    {
     "name": "stdout",
     "output_type": "stream",
     "text": [
      "Significant decline (>10% year-over-year) first observed in: 2020-06-01\n"
     ]
    }
   ],
   "source": [
    "# Calculate 3-month rolling average of appointments\n",
    "rolling_avg = gp_appointments.groupby('appointment_month')['count_of_appointments'].sum().rolling(window=3).mean()\n",
    "\n",
    "# Calculate percentage change from the previous year\n",
    "yoy_change = rolling_avg.pct_change(periods=12)\n",
    "\n",
    "# Plot the year-over-year change\n",
    "plt.figure(figsize=(15, 8))\n",
    "yoy_change.plot()\n",
    "plt.title('Year-over-Year Change in GP Appointments (3-Month Rolling Average)')\n",
    "plt.xlabel('Month')\n",
    "plt.ylabel('Percentage Change')\n",
    "plt.axhline(y=0, color='r', linestyle='--')\n",
    "plt.tight_layout()\n",
    "plt.show()\n",
    "\n",
    "# Identify the point where the decline became significant\n",
    "significant_decline = yoy_change[yoy_change < -0.1].first_valid_index()\n",
    "print(f\"Significant decline (>10% year-over-year) first observed in: {significant_decline}\")"
   ]
  },
  {
   "cell_type": "code",
   "execution_count": 23,
   "metadata": {},
   "outputs": [
    {
     "name": "stdout",
     "output_type": "stream",
     "text": [
      "Earliest date in original data: 2022-09-01 00:00:00\n",
      "Date range in all_months: 2021-09-01 00:00:00 to 2024-06-01 00:00:00\n",
      "Date range in extended_data: 2021-09-01 00:00:00 to 2024-06-01 00:00:00\n",
      "2021-09-01 00:00:00\n",
      "2024-06-01 00:00:00\n",
      "34\n"
     ]
    }
   ],
   "source": [
    "def extend_fte_data(FTE_ar_merge, start_date, end_date):\n",
    "    # Sort the DataFrame by icb_name and appointment_month\n",
    "    FTE_ar_merge_sorted = FTE_ar_merge.sort_values(['icb_name', 'appointment_month'])\n",
    "    \n",
    "    # Find the earliest data\n",
    "    earliest_date = FTE_ar_merge_sorted['appointment_month'].min()\n",
    "    print(f\"Earliest date in original data: {earliest_date}\")\n",
    "    earliest_data = FTE_ar_merge_sorted[FTE_ar_merge_sorted['appointment_month'] == earliest_date]\n",
    "    \n",
    "    # Create a DataFrame with all months in the specified range\n",
    "    all_months = pd.DataFrame({'appointment_month': pd.date_range(start=start_date, end=end_date, freq='MS')})\n",
    "    print(f\"Date range in all_months: {all_months['appointment_month'].min()} to {all_months['appointment_month'].max()}\")\n",
    "    \n",
    "    # Create a list to store the extended data\n",
    "    extended_data_list = []\n",
    "    \n",
    "    # Iterate through the ICBs\n",
    "    for icb in FTE_ar_merge_sorted['icb_name'].unique():\n",
    "        icb_data = FTE_ar_merge_sorted[FTE_ar_merge_sorted['icb_name'] == icb].copy()\n",
    "        icb_earliest = earliest_data[earliest_data['icb_name'] == icb].copy()\n",
    "        \n",
    "        # Create DataFrame for the period before the earliest date\n",
    "        pre_earliest = all_months[all_months['appointment_month'] < earliest_date].copy()\n",
    "        pre_earliest['icb_name'] = icb\n",
    "        for col in icb_earliest.columns:\n",
    "            if col not in ['appointment_month', 'icb_name']:\n",
    "                pre_earliest[col] = icb_earliest[col].iloc[0]\n",
    "        \n",
    "        # Combine pre-earliest data with actual data\n",
    "        extended_icb_data = pd.concat([pre_earliest, icb_data], ignore_index=True)\n",
    "        \n",
    "        # Ensure all months are present and forward fill any missing data\n",
    "        extended_icb_data = extended_icb_data.set_index('appointment_month')\n",
    "        extended_icb_data = extended_icb_data.reindex(all_months['appointment_month'])\n",
    "        extended_icb_data = extended_icb_data.ffill()\n",
    "        extended_icb_data['icb_name'] = icb\n",
    "        \n",
    "        extended_data_list.append(extended_icb_data.reset_index())\n",
    "    \n",
    "    # Combine all extended data\n",
    "    extended_data = pd.concat(extended_data_list, ignore_index=True)\n",
    "    \n",
    "    # Recalculate Working Days, Max Appointments, and Utilisation Rate\n",
    "    extended_data['Working Days'] = extended_data['appointment_month'].apply(lambda x: get_working_days_in_month(x.year, x.month))\n",
    "    extended_data['Max Appointments'] = extended_data['fte-gp'] * extended_data['Working Days'] * 25\n",
    "    extended_data['Utilisation Rate'] = extended_data['count_of_appointments'] / extended_data['Max Appointments']\n",
    "    \n",
    "    print(f\"Date range in extended_data: {extended_data['appointment_month'].min()} to {extended_data['appointment_month'].max()}\")\n",
    "    \n",
    "    return extended_data\n",
    "\n",
    "start_date = '2021-09-01'\n",
    "end_date = '2024-06-30'\n",
    "extended_FTE_ar_merge = extend_fte_data(FTE_ar_merge, start_date, end_date)\n",
    "\n",
    "# Check the result\n",
    "print(extended_FTE_ar_merge['appointment_month'].min())\n",
    "print(extended_FTE_ar_merge['appointment_month'].max())\n",
    "print(extended_FTE_ar_merge['appointment_month'].nunique())"
   ]
  },
  {
   "cell_type": "code",
   "execution_count": 24,
   "metadata": {},
   "outputs": [],
   "source": [
    "# Sort the dataframe by date and forward fill FTE data\n",
    "FTE_ar_merge_sorted = FTE_ar_merge.sort_values(['icb_name', 'appointment_month'])\n",
    "FTE_ar_merge_sorted['fte-gp'] = FTE_ar_merge_sorted.groupby('icb_name')['fte-gp'].ffill()\n",
    "\n",
    "# Recalculate Max Appointments and Utilisation Rate\n",
    "FTE_ar_merge_sorted['Max Appointments'] = FTE_ar_merge_sorted['fte-gp'] * FTE_ar_merge_sorted['Working Days'] * 25\n",
    "FTE_ar_merge_sorted['Utilisation Rate'] = FTE_ar_merge_sorted['count_of_appointments'] / FTE_ar_merge_sorted['Max Appointments']\n",
    "\n",
    "# Calculate average utilization rate for each ICB\n",
    "icb_avg_utilization = FTE_ar_merge_sorted.groupby('icb_name')['Utilisation Rate'].mean().sort_values(ascending=False)\n",
    "\n",
    "# Get the top 5 and bottom 5 ICBs\n",
    "top_5_icbs = icb_avg_utilization.head(5).index.tolist()\n",
    "bottom_5_icbs = icb_avg_utilization.tail(5).index.tolist()\n",
    "highlighted_icbs = top_5_icbs + bottom_5_icbs\n",
    "\n",
    "# Create a dictionary to map ICBs to their regions\n",
    "icb_to_region = FTE_ar_merge_sorted.groupby('icb_name')['region_name'].first().to_dict()\n",
    "\n",
    "# Create a list of regions and ICBs ordered by region and then alphabetically by ICB\n",
    "regions = sorted(FTE_ar_merge_sorted['region_name'].unique())\n",
    "ordered_icbs = {region: sorted([icb for icb in FTE_ar_merge_sorted['icb_name'].unique() if icb_to_region[icb] == region])\n",
    "                for region in regions}\n",
    "\n",
    "# Calculate average utilization rate for each month nationally\n",
    "national_avg_utilization = FTE_ar_merge_sorted.groupby('appointment_month')['Utilisation Rate'].mean()\n",
    "\n",
    "# Identify quarterly FTE update months\n",
    "fte_update_months = pd.to_datetime(FTE_ar_merge[FTE_ar_merge['fte-gp'].notnull()]['appointment_month'].unique())\n",
    "quarterly_updates = fte_update_months[fte_update_months.is_quarter_start]\n"
   ]
  },
  {
   "cell_type": "code",
   "execution_count": 25,
   "metadata": {},
   "outputs": [
    {
     "data": {
      "application/vnd.plotly.v1+json": {
       "config": {
        "plotlyServerURL": "https://plot.ly"
       },
       "data": [
        {
         "line": {
          "color": "blue"
         },
         "mode": "lines+markers",
         "name": "Face-to-Face",
         "type": "scatter",
         "x": [
          "2019-04-01T00:00:00",
          "2019-05-01T00:00:00",
          "2019-06-01T00:00:00",
          "2019-07-01T00:00:00",
          "2019-08-01T00:00:00",
          "2019-09-01T00:00:00",
          "2019-10-01T00:00:00",
          "2019-11-01T00:00:00",
          "2019-12-01T00:00:00",
          "2020-01-01T00:00:00",
          "2020-02-01T00:00:00",
          "2020-03-01T00:00:00",
          "2020-04-01T00:00:00",
          "2020-05-01T00:00:00",
          "2020-06-01T00:00:00",
          "2020-07-01T00:00:00",
          "2020-08-01T00:00:00",
          "2020-09-01T00:00:00",
          "2020-10-01T00:00:00",
          "2020-11-01T00:00:00",
          "2020-12-01T00:00:00",
          "2021-01-01T00:00:00",
          "2021-02-01T00:00:00",
          "2021-03-01T00:00:00",
          "2021-04-01T00:00:00",
          "2021-05-01T00:00:00",
          "2021-06-01T00:00:00",
          "2021-07-01T00:00:00",
          "2021-08-01T00:00:00",
          "2021-09-01T00:00:00",
          "2021-12-01T00:00:00",
          "2022-01-01T00:00:00",
          "2022-02-01T00:00:00",
          "2022-03-01T00:00:00",
          "2022-04-01T00:00:00",
          "2022-05-01T00:00:00",
          "2022-06-01T00:00:00",
          "2022-07-01T00:00:00",
          "2022-08-01T00:00:00",
          "2022-09-01T00:00:00",
          "2022-10-01T00:00:00",
          "2022-11-01T00:00:00",
          "2022-12-01T00:00:00",
          "2023-01-01T00:00:00",
          "2023-02-01T00:00:00",
          "2023-03-01T00:00:00",
          "2023-04-01T00:00:00",
          "2023-05-01T00:00:00",
          "2023-06-01T00:00:00",
          "2023-07-01T00:00:00",
          "2023-08-01T00:00:00",
          "2023-09-01T00:00:00",
          "2023-10-01T00:00:00",
          "2023-11-01T00:00:00",
          "2023-12-01T00:00:00",
          "2024-01-01T00:00:00",
          "2024-02-01T00:00:00",
          "2024-03-01T00:00:00",
          "2024-04-01T00:00:00",
          "2024-05-01T00:00:00"
         ],
         "y": [
          85.30401003832327,
          85.4761392394374,
          85.58168918172015,
          85.51597439511018,
          85.39837420252168,
          86.35681588555903,
          87.04210466475337,
          86.20988984182833,
          85.23295305657845,
          85.44623391336617,
          85.26906221103938,
          70.57704864258659,
          49.43353845891562,
          49.72934694628841,
          49.780744847514114,
          52.51277081254398,
          54.30336502729573,
          59.526387170645464,
          62.90110753786043,
          58.24834879003827,
          58.60086261030594,
          55.43546270463996,
          55.41881190680746,
          56.21537261142533,
          57.410513214255566,
          58.04410742048929,
          58.674143853094705,
          59.263259517342945,
          60.034679326347316,
          63.26613000541927,
          63.700566664669026,
          62.58684500848193,
          63.7750666216327,
          64.49953904367797,
          65.58893307758122,
          66.71799446700119,
          67.43843811219774,
          68.00106979278003,
          68.7698524123642,
          70.90834754191165,
          74.50828349786882,
          72.3487140566615,
          71.08228705060614,
          71.89474105459355,
          72.42026639630382,
          72.40280180959799,
          72.02894846082522,
          72.0408615597158,
          71.84537994536,
          71.70744179747457,
          71.69117630473335,
          74.74663117354908,
          75.42311180970763,
          72.64531193022079,
          71.53541416041288,
          71.73816358093275,
          71.69495873585494,
          71.45988134802138,
          71.65168461789231,
          71.74127455195287
         ]
        },
        {
         "line": {
          "color": "red"
         },
         "mode": "lines+markers",
         "name": "Telephone",
         "type": "scatter",
         "x": [
          "2019-04-01T00:00:00",
          "2019-05-01T00:00:00",
          "2019-06-01T00:00:00",
          "2019-07-01T00:00:00",
          "2019-08-01T00:00:00",
          "2019-09-01T00:00:00",
          "2019-10-01T00:00:00",
          "2019-11-01T00:00:00",
          "2019-12-01T00:00:00",
          "2020-01-01T00:00:00",
          "2020-02-01T00:00:00",
          "2020-03-01T00:00:00",
          "2020-04-01T00:00:00",
          "2020-05-01T00:00:00",
          "2020-06-01T00:00:00",
          "2020-07-01T00:00:00",
          "2020-08-01T00:00:00",
          "2020-09-01T00:00:00",
          "2020-10-01T00:00:00",
          "2020-11-01T00:00:00",
          "2020-12-01T00:00:00",
          "2021-01-01T00:00:00",
          "2021-02-01T00:00:00",
          "2021-03-01T00:00:00",
          "2021-04-01T00:00:00",
          "2021-05-01T00:00:00",
          "2021-06-01T00:00:00",
          "2021-07-01T00:00:00",
          "2021-08-01T00:00:00",
          "2021-09-01T00:00:00",
          "2021-12-01T00:00:00",
          "2022-01-01T00:00:00",
          "2022-02-01T00:00:00",
          "2022-03-01T00:00:00",
          "2022-04-01T00:00:00",
          "2022-05-01T00:00:00",
          "2022-06-01T00:00:00",
          "2022-07-01T00:00:00",
          "2022-08-01T00:00:00",
          "2022-09-01T00:00:00",
          "2022-10-01T00:00:00",
          "2022-11-01T00:00:00",
          "2022-12-01T00:00:00",
          "2023-01-01T00:00:00",
          "2023-02-01T00:00:00",
          "2023-03-01T00:00:00",
          "2023-04-01T00:00:00",
          "2023-05-01T00:00:00",
          "2023-06-01T00:00:00",
          "2023-07-01T00:00:00",
          "2023-08-01T00:00:00",
          "2023-09-01T00:00:00",
          "2023-10-01T00:00:00",
          "2023-11-01T00:00:00",
          "2023-12-01T00:00:00",
          "2024-01-01T00:00:00",
          "2024-02-01T00:00:00",
          "2024-03-01T00:00:00",
          "2024-04-01T00:00:00",
          "2024-05-01T00:00:00"
         ],
         "y": [
          14.695989961676728,
          14.523860760562602,
          14.418310818279856,
          14.484025604889824,
          14.60162579747832,
          13.64318411444097,
          12.957895335246636,
          13.790110158171679,
          14.767046943421544,
          14.553766086633827,
          14.730937788960615,
          29.422951357413414,
          50.56646154108437,
          50.27065305371159,
          50.219255152485886,
          47.48722918745602,
          45.69663497270427,
          40.47361282935453,
          37.09889246213957,
          41.75165120996173,
          41.39913738969406,
          44.56453729536004,
          44.581188093192544,
          43.78462738857468,
          42.58948678574443,
          41.95589257951072,
          41.325856146905295,
          40.736740482657055,
          39.96532067365268,
          36.73386999458073,
          36.299433335330974,
          37.41315499151807,
          36.22493337836729,
          35.50046095632203,
          34.41106692241878,
          33.28200553299882,
          32.561561887802256,
          31.998930207219967,
          31.230147587635805,
          29.091652458088348,
          25.49171650213118,
          27.651285943338493,
          28.91771294939386,
          28.105258945406447,
          27.579733603696177,
          27.597198190402022,
          27.97105153917478,
          27.959138440284203,
          28.15462005464,
          28.292558202525424,
          28.30882369526666,
          25.253368826450924,
          24.57688819029236,
          27.354688069779215,
          28.464585839587116,
          28.261836419067254,
          28.305041264145064,
          28.540118651978613,
          28.348315382107682,
          28.258725448047134
         ]
        }
       ],
       "layout": {
        "legend": {
         "title": {
          "text": "Appointment Mode"
         }
        },
        "margin": {
         "b": 40,
         "l": 40,
         "r": 40,
         "t": 40
        },
        "template": {
         "data": {
          "bar": [
           {
            "error_x": {
             "color": "#2a3f5f"
            },
            "error_y": {
             "color": "#2a3f5f"
            },
            "marker": {
             "line": {
              "color": "#E5ECF6",
              "width": 0.5
             },
             "pattern": {
              "fillmode": "overlay",
              "size": 10,
              "solidity": 0.2
             }
            },
            "type": "bar"
           }
          ],
          "barpolar": [
           {
            "marker": {
             "line": {
              "color": "#E5ECF6",
              "width": 0.5
             },
             "pattern": {
              "fillmode": "overlay",
              "size": 10,
              "solidity": 0.2
             }
            },
            "type": "barpolar"
           }
          ],
          "carpet": [
           {
            "aaxis": {
             "endlinecolor": "#2a3f5f",
             "gridcolor": "white",
             "linecolor": "white",
             "minorgridcolor": "white",
             "startlinecolor": "#2a3f5f"
            },
            "baxis": {
             "endlinecolor": "#2a3f5f",
             "gridcolor": "white",
             "linecolor": "white",
             "minorgridcolor": "white",
             "startlinecolor": "#2a3f5f"
            },
            "type": "carpet"
           }
          ],
          "choropleth": [
           {
            "colorbar": {
             "outlinewidth": 0,
             "ticks": ""
            },
            "type": "choropleth"
           }
          ],
          "contour": [
           {
            "colorbar": {
             "outlinewidth": 0,
             "ticks": ""
            },
            "colorscale": [
             [
              0,
              "#0d0887"
             ],
             [
              0.1111111111111111,
              "#46039f"
             ],
             [
              0.2222222222222222,
              "#7201a8"
             ],
             [
              0.3333333333333333,
              "#9c179e"
             ],
             [
              0.4444444444444444,
              "#bd3786"
             ],
             [
              0.5555555555555556,
              "#d8576b"
             ],
             [
              0.6666666666666666,
              "#ed7953"
             ],
             [
              0.7777777777777778,
              "#fb9f3a"
             ],
             [
              0.8888888888888888,
              "#fdca26"
             ],
             [
              1,
              "#f0f921"
             ]
            ],
            "type": "contour"
           }
          ],
          "contourcarpet": [
           {
            "colorbar": {
             "outlinewidth": 0,
             "ticks": ""
            },
            "type": "contourcarpet"
           }
          ],
          "heatmap": [
           {
            "colorbar": {
             "outlinewidth": 0,
             "ticks": ""
            },
            "colorscale": [
             [
              0,
              "#0d0887"
             ],
             [
              0.1111111111111111,
              "#46039f"
             ],
             [
              0.2222222222222222,
              "#7201a8"
             ],
             [
              0.3333333333333333,
              "#9c179e"
             ],
             [
              0.4444444444444444,
              "#bd3786"
             ],
             [
              0.5555555555555556,
              "#d8576b"
             ],
             [
              0.6666666666666666,
              "#ed7953"
             ],
             [
              0.7777777777777778,
              "#fb9f3a"
             ],
             [
              0.8888888888888888,
              "#fdca26"
             ],
             [
              1,
              "#f0f921"
             ]
            ],
            "type": "heatmap"
           }
          ],
          "heatmapgl": [
           {
            "colorbar": {
             "outlinewidth": 0,
             "ticks": ""
            },
            "colorscale": [
             [
              0,
              "#0d0887"
             ],
             [
              0.1111111111111111,
              "#46039f"
             ],
             [
              0.2222222222222222,
              "#7201a8"
             ],
             [
              0.3333333333333333,
              "#9c179e"
             ],
             [
              0.4444444444444444,
              "#bd3786"
             ],
             [
              0.5555555555555556,
              "#d8576b"
             ],
             [
              0.6666666666666666,
              "#ed7953"
             ],
             [
              0.7777777777777778,
              "#fb9f3a"
             ],
             [
              0.8888888888888888,
              "#fdca26"
             ],
             [
              1,
              "#f0f921"
             ]
            ],
            "type": "heatmapgl"
           }
          ],
          "histogram": [
           {
            "marker": {
             "pattern": {
              "fillmode": "overlay",
              "size": 10,
              "solidity": 0.2
             }
            },
            "type": "histogram"
           }
          ],
          "histogram2d": [
           {
            "colorbar": {
             "outlinewidth": 0,
             "ticks": ""
            },
            "colorscale": [
             [
              0,
              "#0d0887"
             ],
             [
              0.1111111111111111,
              "#46039f"
             ],
             [
              0.2222222222222222,
              "#7201a8"
             ],
             [
              0.3333333333333333,
              "#9c179e"
             ],
             [
              0.4444444444444444,
              "#bd3786"
             ],
             [
              0.5555555555555556,
              "#d8576b"
             ],
             [
              0.6666666666666666,
              "#ed7953"
             ],
             [
              0.7777777777777778,
              "#fb9f3a"
             ],
             [
              0.8888888888888888,
              "#fdca26"
             ],
             [
              1,
              "#f0f921"
             ]
            ],
            "type": "histogram2d"
           }
          ],
          "histogram2dcontour": [
           {
            "colorbar": {
             "outlinewidth": 0,
             "ticks": ""
            },
            "colorscale": [
             [
              0,
              "#0d0887"
             ],
             [
              0.1111111111111111,
              "#46039f"
             ],
             [
              0.2222222222222222,
              "#7201a8"
             ],
             [
              0.3333333333333333,
              "#9c179e"
             ],
             [
              0.4444444444444444,
              "#bd3786"
             ],
             [
              0.5555555555555556,
              "#d8576b"
             ],
             [
              0.6666666666666666,
              "#ed7953"
             ],
             [
              0.7777777777777778,
              "#fb9f3a"
             ],
             [
              0.8888888888888888,
              "#fdca26"
             ],
             [
              1,
              "#f0f921"
             ]
            ],
            "type": "histogram2dcontour"
           }
          ],
          "mesh3d": [
           {
            "colorbar": {
             "outlinewidth": 0,
             "ticks": ""
            },
            "type": "mesh3d"
           }
          ],
          "parcoords": [
           {
            "line": {
             "colorbar": {
              "outlinewidth": 0,
              "ticks": ""
             }
            },
            "type": "parcoords"
           }
          ],
          "pie": [
           {
            "automargin": true,
            "type": "pie"
           }
          ],
          "scatter": [
           {
            "fillpattern": {
             "fillmode": "overlay",
             "size": 10,
             "solidity": 0.2
            },
            "type": "scatter"
           }
          ],
          "scatter3d": [
           {
            "line": {
             "colorbar": {
              "outlinewidth": 0,
              "ticks": ""
             }
            },
            "marker": {
             "colorbar": {
              "outlinewidth": 0,
              "ticks": ""
             }
            },
            "type": "scatter3d"
           }
          ],
          "scattercarpet": [
           {
            "marker": {
             "colorbar": {
              "outlinewidth": 0,
              "ticks": ""
             }
            },
            "type": "scattercarpet"
           }
          ],
          "scattergeo": [
           {
            "marker": {
             "colorbar": {
              "outlinewidth": 0,
              "ticks": ""
             }
            },
            "type": "scattergeo"
           }
          ],
          "scattergl": [
           {
            "marker": {
             "colorbar": {
              "outlinewidth": 0,
              "ticks": ""
             }
            },
            "type": "scattergl"
           }
          ],
          "scattermapbox": [
           {
            "marker": {
             "colorbar": {
              "outlinewidth": 0,
              "ticks": ""
             }
            },
            "type": "scattermapbox"
           }
          ],
          "scatterpolar": [
           {
            "marker": {
             "colorbar": {
              "outlinewidth": 0,
              "ticks": ""
             }
            },
            "type": "scatterpolar"
           }
          ],
          "scatterpolargl": [
           {
            "marker": {
             "colorbar": {
              "outlinewidth": 0,
              "ticks": ""
             }
            },
            "type": "scatterpolargl"
           }
          ],
          "scatterternary": [
           {
            "marker": {
             "colorbar": {
              "outlinewidth": 0,
              "ticks": ""
             }
            },
            "type": "scatterternary"
           }
          ],
          "surface": [
           {
            "colorbar": {
             "outlinewidth": 0,
             "ticks": ""
            },
            "colorscale": [
             [
              0,
              "#0d0887"
             ],
             [
              0.1111111111111111,
              "#46039f"
             ],
             [
              0.2222222222222222,
              "#7201a8"
             ],
             [
              0.3333333333333333,
              "#9c179e"
             ],
             [
              0.4444444444444444,
              "#bd3786"
             ],
             [
              0.5555555555555556,
              "#d8576b"
             ],
             [
              0.6666666666666666,
              "#ed7953"
             ],
             [
              0.7777777777777778,
              "#fb9f3a"
             ],
             [
              0.8888888888888888,
              "#fdca26"
             ],
             [
              1,
              "#f0f921"
             ]
            ],
            "type": "surface"
           }
          ],
          "table": [
           {
            "cells": {
             "fill": {
              "color": "#EBF0F8"
             },
             "line": {
              "color": "white"
             }
            },
            "header": {
             "fill": {
              "color": "#C8D4E3"
             },
             "line": {
              "color": "white"
             }
            },
            "type": "table"
           }
          ]
         },
         "layout": {
          "annotationdefaults": {
           "arrowcolor": "#2a3f5f",
           "arrowhead": 0,
           "arrowwidth": 1
          },
          "autotypenumbers": "strict",
          "coloraxis": {
           "colorbar": {
            "outlinewidth": 0,
            "ticks": ""
           }
          },
          "colorscale": {
           "diverging": [
            [
             0,
             "#8e0152"
            ],
            [
             0.1,
             "#c51b7d"
            ],
            [
             0.2,
             "#de77ae"
            ],
            [
             0.3,
             "#f1b6da"
            ],
            [
             0.4,
             "#fde0ef"
            ],
            [
             0.5,
             "#f7f7f7"
            ],
            [
             0.6,
             "#e6f5d0"
            ],
            [
             0.7,
             "#b8e186"
            ],
            [
             0.8,
             "#7fbc41"
            ],
            [
             0.9,
             "#4d9221"
            ],
            [
             1,
             "#276419"
            ]
           ],
           "sequential": [
            [
             0,
             "#0d0887"
            ],
            [
             0.1111111111111111,
             "#46039f"
            ],
            [
             0.2222222222222222,
             "#7201a8"
            ],
            [
             0.3333333333333333,
             "#9c179e"
            ],
            [
             0.4444444444444444,
             "#bd3786"
            ],
            [
             0.5555555555555556,
             "#d8576b"
            ],
            [
             0.6666666666666666,
             "#ed7953"
            ],
            [
             0.7777777777777778,
             "#fb9f3a"
            ],
            [
             0.8888888888888888,
             "#fdca26"
            ],
            [
             1,
             "#f0f921"
            ]
           ],
           "sequentialminus": [
            [
             0,
             "#0d0887"
            ],
            [
             0.1111111111111111,
             "#46039f"
            ],
            [
             0.2222222222222222,
             "#7201a8"
            ],
            [
             0.3333333333333333,
             "#9c179e"
            ],
            [
             0.4444444444444444,
             "#bd3786"
            ],
            [
             0.5555555555555556,
             "#d8576b"
            ],
            [
             0.6666666666666666,
             "#ed7953"
            ],
            [
             0.7777777777777778,
             "#fb9f3a"
            ],
            [
             0.8888888888888888,
             "#fdca26"
            ],
            [
             1,
             "#f0f921"
            ]
           ]
          },
          "colorway": [
           "#636efa",
           "#EF553B",
           "#00cc96",
           "#ab63fa",
           "#FFA15A",
           "#19d3f3",
           "#FF6692",
           "#B6E880",
           "#FF97FF",
           "#FECB52"
          ],
          "font": {
           "color": "#2a3f5f"
          },
          "geo": {
           "bgcolor": "white",
           "lakecolor": "white",
           "landcolor": "#E5ECF6",
           "showlakes": true,
           "showland": true,
           "subunitcolor": "white"
          },
          "hoverlabel": {
           "align": "left"
          },
          "hovermode": "closest",
          "mapbox": {
           "style": "light"
          },
          "paper_bgcolor": "white",
          "plot_bgcolor": "#E5ECF6",
          "polar": {
           "angularaxis": {
            "gridcolor": "white",
            "linecolor": "white",
            "ticks": ""
           },
           "bgcolor": "#E5ECF6",
           "radialaxis": {
            "gridcolor": "white",
            "linecolor": "white",
            "ticks": ""
           }
          },
          "scene": {
           "xaxis": {
            "backgroundcolor": "#E5ECF6",
            "gridcolor": "white",
            "gridwidth": 2,
            "linecolor": "white",
            "showbackground": true,
            "ticks": "",
            "zerolinecolor": "white"
           },
           "yaxis": {
            "backgroundcolor": "#E5ECF6",
            "gridcolor": "white",
            "gridwidth": 2,
            "linecolor": "white",
            "showbackground": true,
            "ticks": "",
            "zerolinecolor": "white"
           },
           "zaxis": {
            "backgroundcolor": "#E5ECF6",
            "gridcolor": "white",
            "gridwidth": 2,
            "linecolor": "white",
            "showbackground": true,
            "ticks": "",
            "zerolinecolor": "white"
           }
          },
          "shapedefaults": {
           "line": {
            "color": "#2a3f5f"
           }
          },
          "ternary": {
           "aaxis": {
            "gridcolor": "white",
            "linecolor": "white",
            "ticks": ""
           },
           "baxis": {
            "gridcolor": "white",
            "linecolor": "white",
            "ticks": ""
           },
           "bgcolor": "#E5ECF6",
           "caxis": {
            "gridcolor": "white",
            "linecolor": "white",
            "ticks": ""
           }
          },
          "title": {
           "x": 0.05
          },
          "xaxis": {
           "automargin": true,
           "gridcolor": "white",
           "linecolor": "white",
           "ticks": "",
           "title": {
            "standoff": 15
           },
           "zerolinecolor": "white",
           "zerolinewidth": 2
          },
          "yaxis": {
           "automargin": true,
           "gridcolor": "white",
           "linecolor": "white",
           "ticks": "",
           "title": {
            "standoff": 15
           },
           "zerolinecolor": "white",
           "zerolinewidth": 2
          }
         }
        },
        "title": {
         "text": "Percentage of Appointment Modes Per Month"
        },
        "xaxis": {
         "title": {
          "text": "Month"
         }
        },
        "yaxis": {
         "mirror": true,
         "showline": true,
         "title": {
          "text": "Percentage"
         }
        }
       }
      }
     },
     "metadata": {},
     "output_type": "display_data"
    }
   ],
   "source": [
    "# Filter the dataset to include only face-to-face and telephone appointments\n",
    "filtered_ar = ar[ar['appt_mode'].isin(['Face-to-Face', 'Telephone'])]\n",
    "\n",
    "# Group by appointment month and mode, and calculate the sum of appointments\n",
    "monthly_appointments = filtered_ar.groupby(['appointment_month', 'appt_mode'])['count_of_appointments'].sum().reset_index()\n",
    "\n",
    "# Pivot the table to have appointment modes as columns\n",
    "pivot_table = monthly_appointments.pivot(index='appointment_month', columns='appt_mode', values='count_of_appointments').fillna(0)\n",
    "\n",
    "# Calculate the total appointments per month\n",
    "pivot_table['total'] = pivot_table.sum(axis=1)\n",
    "\n",
    "# Calculate the percentage for face-to-face and telephone appointments\n",
    "pivot_table['face-to-face_percentage'] = (pivot_table['Face-to-Face'] / pivot_table['total']) * 100\n",
    "pivot_table['telephone_percentage'] = (pivot_table['Telephone'] / pivot_table['total']) * 100\n",
    "\n",
    "# Create the plotly figure for the percentage of appointment modes\n",
    "fig = go.Figure()\n",
    "\n",
    "# Add the face-to-face percentage trace\n",
    "fig.add_trace(go.Scatter(\n",
    "    x=pivot_table.index,\n",
    "    y=pivot_table['face-to-face_percentage'],\n",
    "    mode='lines+markers',\n",
    "    name='Face-to-Face',\n",
    "    line=dict(color='blue')\n",
    "))\n",
    "\n",
    "# Add the telephone percentage trace\n",
    "fig.add_trace(go.Scatter(\n",
    "    x=pivot_table.index,\n",
    "    y=pivot_table['telephone_percentage'],\n",
    "    mode='lines+markers',\n",
    "    name='Telephone',\n",
    "    line=dict(color='red')\n",
    "))\n",
    "\n",
    "# Update layout of the figure\n",
    "fig.update_layout(\n",
    "    title='Percentage of Appointment Modes Per Month',\n",
    "    xaxis_title='Month',\n",
    "    yaxis_title='Percentage',\n",
    "    yaxis=dict(showline=True, mirror=True),\n",
    "    legend=dict(title='Appointment Mode'),\n",
    "    margin=dict(l=40, r=40, t=40, b=40)\n",
    ")\n",
    "\n",
    "# Show the figure\n",
    "fig.show()"
   ]
  },
  {
   "cell_type": "code",
   "execution_count": 26,
   "metadata": {},
   "outputs": [
    {
     "data": {
      "application/vnd.plotly.v1+json": {
       "config": {
        "plotlyServerURL": "https://plot.ly"
       },
       "data": [
        {
         "hovertemplate": "<b>%{fullData.name}</b><br>%{x|%B %Y}<br>Utilisation Rate: %{y:.2f}<extra></extra>",
         "legendgroup": "East of England",
         "legendgrouptitle": {
          "text": "East of England"
         },
         "line": {
          "width": 1
         },
         "mode": "lines",
         "name": "NHS Cambridgeshire and Peterborough ICB",
         "opacity": 0.5,
         "type": "scatter",
         "visible": "legendonly",
         "x": [
          "2021-09-01T00:00:00",
          "2021-10-01T00:00:00",
          "2021-11-01T00:00:00",
          "2021-12-01T00:00:00",
          "2022-01-01T00:00:00",
          "2022-02-01T00:00:00",
          "2022-03-01T00:00:00",
          "2022-04-01T00:00:00",
          "2022-05-01T00:00:00",
          "2022-06-01T00:00:00",
          "2022-07-01T00:00:00",
          "2022-08-01T00:00:00",
          "2022-09-01T00:00:00",
          "2022-10-01T00:00:00",
          "2022-11-01T00:00:00",
          "2022-12-01T00:00:00",
          "2023-01-01T00:00:00",
          "2023-02-01T00:00:00",
          "2023-03-01T00:00:00",
          "2023-04-01T00:00:00",
          "2023-05-01T00:00:00",
          "2023-06-01T00:00:00",
          "2023-07-01T00:00:00",
          "2023-08-01T00:00:00",
          "2023-09-01T00:00:00",
          "2023-10-01T00:00:00",
          "2023-11-01T00:00:00",
          "2023-12-01T00:00:00",
          "2024-01-01T00:00:00",
          "2024-02-01T00:00:00",
          "2024-03-01T00:00:00",
          "2024-04-01T00:00:00",
          "2024-05-01T00:00:00",
          "2024-06-01T00:00:00"
         ],
         "y": [
          0.727357383678599,
          0.7666739990125774,
          0.727357383678599,
          0.7666739990125774,
          0.8104839418132961,
          0.8104839418132961,
          0.6918765356942772,
          0.8596041807110717,
          0.8104839418132961,
          0.727357383678599,
          0.7666739990125774,
          0.727357383678599,
          0.727357383678599,
          0.8149814491648458,
          0.7911663907323159,
          0.8003761982275276,
          0.8041765042307636,
          0.7891439940056326,
          0.7967821842356202,
          0.7909281562277822,
          0.7608676347185596,
          0.7765594811779328,
          0.7593031064068831,
          0.7449727516180058,
          0.8670982719113041,
          0.8782464234519027,
          0.8490492600081639,
          0.8431804157831554,
          0.8900862928260187,
          0.8692796461770914,
          0.8406394835168631,
          0.7561890052302241,
          0.7330232488647304,
          0.7749102916570006
         ]
        },
        {
         "hovertemplate": "<b>%{fullData.name}</b><br>%{x|%B %Y}<br>Utilisation Rate: %{y:.2f}<extra></extra>",
         "legendgroup": "East of England",
         "legendgrouptitle": {
          "text": "East of England"
         },
         "line": {
          "width": 1
         },
         "mode": "lines",
         "name": "NHS Hertfordshire and West Essex ICB",
         "opacity": 0.5,
         "type": "scatter",
         "visible": "legendonly",
         "x": [
          "2021-09-01T00:00:00",
          "2021-10-01T00:00:00",
          "2021-11-01T00:00:00",
          "2021-12-01T00:00:00",
          "2022-01-01T00:00:00",
          "2022-02-01T00:00:00",
          "2022-03-01T00:00:00",
          "2022-04-01T00:00:00",
          "2022-05-01T00:00:00",
          "2022-06-01T00:00:00",
          "2022-07-01T00:00:00",
          "2022-08-01T00:00:00",
          "2022-09-01T00:00:00",
          "2022-10-01T00:00:00",
          "2022-11-01T00:00:00",
          "2022-12-01T00:00:00",
          "2023-01-01T00:00:00",
          "2023-02-01T00:00:00",
          "2023-03-01T00:00:00",
          "2023-04-01T00:00:00",
          "2023-05-01T00:00:00",
          "2023-06-01T00:00:00",
          "2023-07-01T00:00:00",
          "2023-08-01T00:00:00",
          "2023-09-01T00:00:00",
          "2023-10-01T00:00:00",
          "2023-11-01T00:00:00",
          "2023-12-01T00:00:00",
          "2024-01-01T00:00:00",
          "2024-02-01T00:00:00",
          "2024-03-01T00:00:00",
          "2024-04-01T00:00:00",
          "2024-05-01T00:00:00",
          "2024-06-01T00:00:00"
         ],
         "y": [
          0.8190919141893743,
          0.8633671527942055,
          0.8190919141893743,
          0.8633671527942055,
          0.9127024186681599,
          0.9127024186681599,
          0.7791362110581853,
          0.9680177167692605,
          0.9127024186681599,
          0.8190919141893743,
          0.8633671527942055,
          0.8190919141893743,
          0.8190919141893743,
          0.903926124481352,
          0.8660633322180871,
          0.8783166744655226,
          0.8846369862317884,
          0.8611655326362946,
          0.8597816802724924,
          0.835461498305478,
          0.7951509176785312,
          0.8010323152886728,
          0.7785375923058943,
          0.7531203277414424,
          0.8706954924141758,
          0.852577805549161,
          0.8351673408535316,
          0.8406001010532863,
          0.8776685193102467,
          0.8596998024103626,
          0.8791072018462446,
          0.8215861397025681,
          0.821540059288213,
          0.8684852055332537
         ]
        },
        {
         "hovertemplate": "<b>%{fullData.name}</b><br>%{x|%B %Y}<br>Utilisation Rate: %{y:.2f}<extra></extra>",
         "legendgroup": "East of England",
         "legendgrouptitle": {
          "text": "East of England"
         },
         "line": {
          "width": 1
         },
         "mode": "lines",
         "name": "NHS Mid and South Essex ICB",
         "opacity": 0.5,
         "type": "scatter",
         "visible": "legendonly",
         "x": [
          "2021-09-01T00:00:00",
          "2021-10-01T00:00:00",
          "2021-11-01T00:00:00",
          "2021-12-01T00:00:00",
          "2022-01-01T00:00:00",
          "2022-02-01T00:00:00",
          "2022-03-01T00:00:00",
          "2022-04-01T00:00:00",
          "2022-05-01T00:00:00",
          "2022-06-01T00:00:00",
          "2022-07-01T00:00:00",
          "2022-08-01T00:00:00",
          "2022-09-01T00:00:00",
          "2022-10-01T00:00:00",
          "2022-11-01T00:00:00",
          "2022-12-01T00:00:00",
          "2023-01-01T00:00:00",
          "2023-02-01T00:00:00",
          "2023-03-01T00:00:00",
          "2023-04-01T00:00:00",
          "2023-05-01T00:00:00",
          "2023-06-01T00:00:00",
          "2023-07-01T00:00:00",
          "2023-08-01T00:00:00",
          "2023-09-01T00:00:00",
          "2023-10-01T00:00:00",
          "2023-11-01T00:00:00",
          "2023-12-01T00:00:00",
          "2024-01-01T00:00:00",
          "2024-02-01T00:00:00",
          "2024-03-01T00:00:00",
          "2024-04-01T00:00:00",
          "2024-05-01T00:00:00",
          "2024-06-01T00:00:00"
         ],
         "y": [
          0.8356391992545292,
          0.88080888570072,
          0.8356391992545292,
          0.88080888570072,
          0.9311408220264754,
          0.9311408220264754,
          0.7948763114860156,
          0.987573599118989,
          0.9311408220264754,
          0.8356391992545292,
          0.88080888570072,
          0.8356391992545292,
          0.8356391992545292,
          0.8940836587632932,
          0.8772994566182356,
          0.8812705547935018,
          0.900340489889152,
          0.8648347471332481,
          0.8778199050978746,
          0.8705872123821845,
          0.8638755721596842,
          0.8570722823255975,
          0.8323585052866451,
          0.7985983036812446,
          0.8960393872795109,
          0.8654134521534039,
          0.8522026467749585,
          0.8479395714022989,
          0.8881104009925719,
          0.8829562742307504,
          0.8979696132273486,
          0.8611143452505592,
          0.8618262002481754,
          0.9110734116909281
         ]
        },
        {
         "hovertemplate": "<b>%{fullData.name}</b><br>%{x|%B %Y}<br>Utilisation Rate: %{y:.2f}<extra></extra>",
         "legendgroup": "East of England",
         "legendgrouptitle": {
          "text": "East of England"
         },
         "line": {
          "width": 1
         },
         "mode": "lines",
         "name": "NHS Norfolk and Waveney ICB",
         "opacity": 1,
         "type": "scatter",
         "visible": true,
         "x": [
          "2021-09-01T00:00:00",
          "2021-10-01T00:00:00",
          "2021-11-01T00:00:00",
          "2021-12-01T00:00:00",
          "2022-01-01T00:00:00",
          "2022-02-01T00:00:00",
          "2022-03-01T00:00:00",
          "2022-04-01T00:00:00",
          "2022-05-01T00:00:00",
          "2022-06-01T00:00:00",
          "2022-07-01T00:00:00",
          "2022-08-01T00:00:00",
          "2022-09-01T00:00:00",
          "2022-10-01T00:00:00",
          "2022-11-01T00:00:00",
          "2022-12-01T00:00:00",
          "2023-01-01T00:00:00",
          "2023-02-01T00:00:00",
          "2023-03-01T00:00:00",
          "2023-04-01T00:00:00",
          "2023-05-01T00:00:00",
          "2023-06-01T00:00:00",
          "2023-07-01T00:00:00",
          "2023-08-01T00:00:00",
          "2023-09-01T00:00:00",
          "2023-10-01T00:00:00",
          "2023-11-01T00:00:00",
          "2023-12-01T00:00:00",
          "2024-01-01T00:00:00",
          "2024-02-01T00:00:00",
          "2024-03-01T00:00:00",
          "2024-04-01T00:00:00",
          "2024-05-01T00:00:00",
          "2024-06-01T00:00:00"
         ],
         "y": [
          0.6643809488256629,
          0.700293432545969,
          0.6643809488256629,
          0.700293432545969,
          0.7403102001200244,
          0.7403102001200244,
          0.6319721220536794,
          0.7851774849757834,
          0.7403102001200244,
          0.6643809488256629,
          0.700293432545969,
          0.6643809488256629,
          0.6643809488256629,
          0.7543351902229046,
          0.7171103362431711,
          0.7293667523880296,
          0.7534728043076668,
          0.7320566844247822,
          0.7289697202718521,
          0.7209060994971042,
          0.7016706010382117,
          0.6963317032055003,
          0.6706249829703226,
          0.6505784564624267,
          0.6895913133102882,
          0.71496728363023,
          0.6870188303739567,
          0.6865537528454,
          0.733156641536229,
          0.7254974188443167,
          0.771245080470217,
          0.7188206152253928,
          0.72852121072516,
          0.7701509941951692
         ]
        },
        {
         "hovertemplate": "<b>%{fullData.name}</b><br>%{x|%B %Y}<br>Utilisation Rate: %{y:.2f}<extra></extra>",
         "legendgroup": "East of England",
         "legendgrouptitle": {
          "text": "East of England"
         },
         "line": {
          "width": 1
         },
         "mode": "lines",
         "name": "NHS Suffolk and North East Essex ICB",
         "opacity": 1,
         "type": "scatter",
         "visible": true,
         "x": [
          "2021-09-01T00:00:00",
          "2021-10-01T00:00:00",
          "2021-11-01T00:00:00",
          "2021-12-01T00:00:00",
          "2022-01-01T00:00:00",
          "2022-02-01T00:00:00",
          "2022-03-01T00:00:00",
          "2022-04-01T00:00:00",
          "2022-05-01T00:00:00",
          "2022-06-01T00:00:00",
          "2022-07-01T00:00:00",
          "2022-08-01T00:00:00",
          "2022-09-01T00:00:00",
          "2022-10-01T00:00:00",
          "2022-11-01T00:00:00",
          "2022-12-01T00:00:00",
          "2023-01-01T00:00:00",
          "2023-02-01T00:00:00",
          "2023-03-01T00:00:00",
          "2023-04-01T00:00:00",
          "2023-05-01T00:00:00",
          "2023-06-01T00:00:00",
          "2023-07-01T00:00:00",
          "2023-08-01T00:00:00",
          "2023-09-01T00:00:00",
          "2023-10-01T00:00:00",
          "2023-11-01T00:00:00",
          "2023-12-01T00:00:00",
          "2024-01-01T00:00:00",
          "2024-02-01T00:00:00",
          "2024-03-01T00:00:00",
          "2024-04-01T00:00:00",
          "2024-05-01T00:00:00",
          "2024-06-01T00:00:00"
         ],
         "y": [
          0.6775744726613511,
          0.7142001198322349,
          0.6775744726613511,
          0.7142001198322349,
          0.7550115552512198,
          0.7550115552512198,
          0.6445220593607973,
          0.8007698313270513,
          0.7550115552512198,
          0.6775744726613511,
          0.7142001198322349,
          0.6775744726613511,
          0.6775744726613511,
          0.7576284321640823,
          0.7330291438140449,
          0.767450630342011,
          0.7651126261072336,
          0.742314229466502,
          0.7740012086448037,
          0.7617908817219601,
          0.7318184942915915,
          0.7368028827625775,
          0.702982486586478,
          0.6703727368959221,
          0.7743915765717625,
          0.7619397334049465,
          0.7349386034862148,
          0.7353820345163724,
          0.7883051127680815,
          0.7711372802748243,
          0.8042997539878592,
          0.7497690870062867,
          0.765923150042292,
          0.8096901871875658
         ]
        },
        {
         "hovertemplate": "<b>%{fullData.name}</b><br>%{x|%B %Y}<br>Utilisation Rate: %{y:.2f}<extra></extra>",
         "legendgroup": "London",
         "legendgrouptitle": {
          "text": "London"
         },
         "line": {
          "width": 1
         },
         "mode": "lines",
         "name": "NHS North Central London ICB",
         "opacity": 0.5,
         "type": "scatter",
         "visible": "legendonly",
         "x": [
          "2021-09-01T00:00:00",
          "2021-10-01T00:00:00",
          "2021-11-01T00:00:00",
          "2021-12-01T00:00:00",
          "2022-01-01T00:00:00",
          "2022-02-01T00:00:00",
          "2022-03-01T00:00:00",
          "2022-04-01T00:00:00",
          "2022-05-01T00:00:00",
          "2022-06-01T00:00:00",
          "2022-07-01T00:00:00",
          "2022-08-01T00:00:00",
          "2022-09-01T00:00:00",
          "2022-10-01T00:00:00",
          "2022-11-01T00:00:00",
          "2022-12-01T00:00:00",
          "2023-01-01T00:00:00",
          "2023-02-01T00:00:00",
          "2023-03-01T00:00:00",
          "2023-04-01T00:00:00",
          "2023-05-01T00:00:00",
          "2023-06-01T00:00:00",
          "2023-07-01T00:00:00",
          "2023-08-01T00:00:00",
          "2023-09-01T00:00:00",
          "2023-10-01T00:00:00",
          "2023-11-01T00:00:00",
          "2023-12-01T00:00:00",
          "2024-01-01T00:00:00",
          "2024-02-01T00:00:00",
          "2024-03-01T00:00:00",
          "2024-04-01T00:00:00",
          "2024-05-01T00:00:00",
          "2024-06-01T00:00:00"
         ],
         "y": [
          0.7776558624132518,
          0.8196913144355896,
          0.7776558624132518,
          0.8196913144355896,
          0.8665308181176233,
          0.8665308181176233,
          0.7397214301004102,
          0.9190478373974793,
          0.8665308181176233,
          0.7776558624132518,
          0.8196913144355896,
          0.7776558624132518,
          0.7776558624132518,
          0.863429676019205,
          0.8553512998988638,
          0.825612543413411,
          0.8518151158320633,
          0.8387854332694442,
          0.8371708313610204,
          0.8316109262249168,
          0.8179024376777185,
          0.8057683140829208,
          0.791528034674102,
          0.7533359524370761,
          0.8654629826419836,
          0.8684693673970396,
          0.8741523191527852,
          0.8484283358245998,
          0.894425197536502,
          0.8928083897778983,
          0.9178667432745776,
          0.8742574680234991,
          0.8834681643661184,
          0.9339520594727537
         ]
        },
        {
         "hovertemplate": "<b>%{fullData.name}</b><br>%{x|%B %Y}<br>Utilisation Rate: %{y:.2f}<extra></extra>",
         "legendgroup": "London",
         "legendgrouptitle": {
          "text": "London"
         },
         "line": {
          "width": 1
         },
         "mode": "lines",
         "name": "NHS North East London ICB",
         "opacity": 1,
         "type": "scatter",
         "visible": true,
         "x": [
          "2021-09-01T00:00:00",
          "2021-10-01T00:00:00",
          "2021-11-01T00:00:00",
          "2021-12-01T00:00:00",
          "2022-01-01T00:00:00",
          "2022-02-01T00:00:00",
          "2022-03-01T00:00:00",
          "2022-04-01T00:00:00",
          "2022-05-01T00:00:00",
          "2022-06-01T00:00:00",
          "2022-07-01T00:00:00",
          "2022-08-01T00:00:00",
          "2022-09-01T00:00:00",
          "2022-10-01T00:00:00",
          "2022-11-01T00:00:00",
          "2022-12-01T00:00:00",
          "2023-01-01T00:00:00",
          "2023-02-01T00:00:00",
          "2023-03-01T00:00:00",
          "2023-04-01T00:00:00",
          "2023-05-01T00:00:00",
          "2023-06-01T00:00:00",
          "2023-07-01T00:00:00",
          "2023-08-01T00:00:00",
          "2023-09-01T00:00:00",
          "2023-10-01T00:00:00",
          "2023-11-01T00:00:00",
          "2023-12-01T00:00:00",
          "2024-01-01T00:00:00",
          "2024-02-01T00:00:00",
          "2024-03-01T00:00:00",
          "2024-04-01T00:00:00",
          "2024-05-01T00:00:00",
          "2024-06-01T00:00:00"
         ],
         "y": [
          0.9233544548968378,
          0.9732655065128832,
          0.9233544548968378,
          0.9732655065128832,
          1.0288806783136195,
          1.0288806783136195,
          0.8783127741701628,
          1.0912370830598994,
          1.0288806783136195,
          0.9233544548968378,
          0.9732655065128832,
          0.9233544548968378,
          0.9233544548968378,
          0.9933797092225783,
          0.9765953240238371,
          0.9675930021339686,
          0.9888110506149509,
          0.9597716011308458,
          0.9826682871010547,
          0.9672587188719577,
          0.9441137798570441,
          0.961200155416321,
          0.9402095323243768,
          0.8836662603436763,
          0.9989940028652209,
          0.9992187922188539,
          1.0029866783158201,
          0.9896636580351892,
          1.016421191058099,
          1.0159365104030496,
          1.0457442440860831,
          1.0095839486395632,
          1.021706638622668,
          1.080089875115392
         ]
        },
        {
         "hovertemplate": "<b>%{fullData.name}</b><br>%{x|%B %Y}<br>Utilisation Rate: %{y:.2f}<extra></extra>",
         "legendgroup": "London",
         "legendgrouptitle": {
          "text": "London"
         },
         "line": {
          "width": 1
         },
         "mode": "lines",
         "name": "NHS North West London ICB",
         "opacity": 1,
         "type": "scatter",
         "visible": true,
         "x": [
          "2021-09-01T00:00:00",
          "2021-10-01T00:00:00",
          "2021-11-01T00:00:00",
          "2021-12-01T00:00:00",
          "2022-01-01T00:00:00",
          "2022-02-01T00:00:00",
          "2022-03-01T00:00:00",
          "2022-04-01T00:00:00",
          "2022-05-01T00:00:00",
          "2022-06-01T00:00:00",
          "2022-07-01T00:00:00",
          "2022-08-01T00:00:00",
          "2022-09-01T00:00:00",
          "2022-10-01T00:00:00",
          "2022-11-01T00:00:00",
          "2022-12-01T00:00:00",
          "2023-01-01T00:00:00",
          "2023-02-01T00:00:00",
          "2023-03-01T00:00:00",
          "2023-04-01T00:00:00",
          "2023-05-01T00:00:00",
          "2023-06-01T00:00:00",
          "2023-07-01T00:00:00",
          "2023-08-01T00:00:00",
          "2023-09-01T00:00:00",
          "2023-10-01T00:00:00",
          "2023-11-01T00:00:00",
          "2023-12-01T00:00:00",
          "2024-01-01T00:00:00",
          "2024-02-01T00:00:00",
          "2024-03-01T00:00:00",
          "2024-04-01T00:00:00",
          "2024-05-01T00:00:00",
          "2024-06-01T00:00:00"
         ],
         "y": [
          0.9160347702431948,
          0.9655501632293133,
          0.9160347702431948,
          0.9655501632293133,
          1.0207244582709882,
          1.0207244582709882,
          0.8713501473045022,
          1.0825865466510483,
          1.0207244582709882,
          0.9160347702431948,
          0.9655501632293133,
          0.9160347702431948,
          0.9160347702431948,
          0.9826327269172571,
          0.9743983893934917,
          0.9837303680420251,
          0.9979573424679294,
          0.9934753544247931,
          0.9951881775105822,
          0.998560233688308,
          0.9655930740243717,
          0.9770712552973336,
          0.9597853827213894,
          0.9132291032086487,
          1.0361006749123869,
          1.0269671911048273,
          1.0351418190700086,
          1.0306971649138776,
          1.050197789672036,
          1.0503151764104959,
          1.0951154260349532,
          1.0365339050449829,
          1.0596257605326598,
          1.120175803991669
         ]
        },
        {
         "hovertemplate": "<b>%{fullData.name}</b><br>%{x|%B %Y}<br>Utilisation Rate: %{y:.2f}<extra></extra>",
         "legendgroup": "London",
         "legendgrouptitle": {
          "text": "London"
         },
         "line": {
          "width": 1
         },
         "mode": "lines",
         "name": "NHS South East London ICB",
         "opacity": 0.5,
         "type": "scatter",
         "visible": "legendonly",
         "x": [
          "2021-09-01T00:00:00",
          "2021-10-01T00:00:00",
          "2021-11-01T00:00:00",
          "2021-12-01T00:00:00",
          "2022-01-01T00:00:00",
          "2022-02-01T00:00:00",
          "2022-03-01T00:00:00",
          "2022-04-01T00:00:00",
          "2022-05-01T00:00:00",
          "2022-06-01T00:00:00",
          "2022-07-01T00:00:00",
          "2022-08-01T00:00:00",
          "2022-09-01T00:00:00",
          "2022-10-01T00:00:00",
          "2022-11-01T00:00:00",
          "2022-12-01T00:00:00",
          "2023-01-01T00:00:00",
          "2023-02-01T00:00:00",
          "2023-03-01T00:00:00",
          "2023-04-01T00:00:00",
          "2023-05-01T00:00:00",
          "2023-06-01T00:00:00",
          "2023-07-01T00:00:00",
          "2023-08-01T00:00:00",
          "2023-09-01T00:00:00",
          "2023-10-01T00:00:00",
          "2023-11-01T00:00:00",
          "2023-12-01T00:00:00",
          "2024-01-01T00:00:00",
          "2024-02-01T00:00:00",
          "2024-03-01T00:00:00",
          "2024-04-01T00:00:00",
          "2024-05-01T00:00:00",
          "2024-06-01T00:00:00"
         ],
         "y": [
          0.8002727645729674,
          0.8435307518471818,
          0.8002727645729674,
          0.8435307518471818,
          0.8917325090955922,
          0.8917325090955922,
          0.7612350687401397,
          0.9457769035862342,
          0.8917325090955922,
          0.8002727645729674,
          0.8435307518471818,
          0.8002727645729674,
          0.8002727645729674,
          0.8855459922397042,
          0.8692313471218136,
          0.8687754274123443,
          0.8781117019656574,
          0.843846356933578,
          0.8663036991843027,
          0.8716838290816737,
          0.8368634376175698,
          0.853657608696969,
          0.8260788832530613,
          0.7797128230328944,
          0.8693188663470981,
          0.8625727912503544,
          0.8610092235649441,
          0.8503420574202689,
          0.8895176146290559,
          0.8876167806331253,
          0.9062021387063102,
          0.8604029510417959,
          0.8750140601083238,
          0.9250148635430853
         ]
        },
        {
         "hovertemplate": "<b>%{fullData.name}</b><br>%{x|%B %Y}<br>Utilisation Rate: %{y:.2f}<extra></extra>",
         "legendgroup": "London",
         "legendgrouptitle": {
          "text": "London"
         },
         "line": {
          "width": 1
         },
         "mode": "lines",
         "name": "NHS South West London ICB",
         "opacity": 0.5,
         "type": "scatter",
         "visible": "legendonly",
         "x": [
          "2021-09-01T00:00:00",
          "2021-10-01T00:00:00",
          "2021-11-01T00:00:00",
          "2021-12-01T00:00:00",
          "2022-01-01T00:00:00",
          "2022-02-01T00:00:00",
          "2022-03-01T00:00:00",
          "2022-04-01T00:00:00",
          "2022-05-01T00:00:00",
          "2022-06-01T00:00:00",
          "2022-07-01T00:00:00",
          "2022-08-01T00:00:00",
          "2022-09-01T00:00:00",
          "2022-10-01T00:00:00",
          "2022-11-01T00:00:00",
          "2022-12-01T00:00:00",
          "2023-01-01T00:00:00",
          "2023-02-01T00:00:00",
          "2023-03-01T00:00:00",
          "2023-04-01T00:00:00",
          "2023-05-01T00:00:00",
          "2023-06-01T00:00:00",
          "2023-07-01T00:00:00",
          "2023-08-01T00:00:00",
          "2023-09-01T00:00:00",
          "2023-10-01T00:00:00",
          "2023-11-01T00:00:00",
          "2023-12-01T00:00:00",
          "2024-01-01T00:00:00",
          "2024-02-01T00:00:00",
          "2024-03-01T00:00:00",
          "2024-04-01T00:00:00",
          "2024-05-01T00:00:00",
          "2024-06-01T00:00:00"
         ],
         "y": [
          0.7800977586186589,
          0.8222652050304784,
          0.7800977586186589,
          0.8222652050304784,
          0.8692517881750771,
          0.8692517881750771,
          0.7420442094177487,
          0.9219337147311424,
          0.8692517881750771,
          0.7800977586186589,
          0.8222652050304784,
          0.7800977586186589,
          0.7800977586186589,
          0.8381680716085861,
          0.8330033096592582,
          0.8544371677931623,
          0.8475854448844803,
          0.8333145219502592,
          0.8242045928457078,
          0.8219157933443649,
          0.796195644072092,
          0.8108994394708681,
          0.781095491520202,
          0.7378260521117664,
          0.8296700142894115,
          0.8329230043153811,
          0.8365056208865592,
          0.8268428914503657,
          0.8856304593105518,
          0.8720891240359179,
          0.8945490890534779,
          0.8485859337522141,
          0.8538665579674984,
          0.9026589327084983
         ]
        },
        {
         "hovertemplate": "<b>%{fullData.name}</b><br>%{x|%B %Y}<br>Utilisation Rate: %{y:.2f}<extra></extra>",
         "legendgroup": "Midlands",
         "legendgrouptitle": {
          "text": "Midlands"
         },
         "line": {
          "width": 1
         },
         "mode": "lines",
         "name": "NHS Birmingham and Solihull ICB",
         "opacity": 0.5,
         "type": "scatter",
         "visible": "legendonly",
         "x": [
          "2021-09-01T00:00:00",
          "2021-10-01T00:00:00",
          "2021-11-01T00:00:00",
          "2021-12-01T00:00:00",
          "2022-01-01T00:00:00",
          "2022-02-01T00:00:00",
          "2022-03-01T00:00:00",
          "2022-04-01T00:00:00",
          "2022-05-01T00:00:00",
          "2022-06-01T00:00:00",
          "2022-07-01T00:00:00",
          "2022-08-01T00:00:00",
          "2022-09-01T00:00:00",
          "2022-10-01T00:00:00",
          "2022-11-01T00:00:00",
          "2022-12-01T00:00:00",
          "2023-01-01T00:00:00",
          "2023-02-01T00:00:00",
          "2023-03-01T00:00:00",
          "2023-04-01T00:00:00",
          "2023-05-01T00:00:00",
          "2023-06-01T00:00:00",
          "2023-07-01T00:00:00",
          "2023-08-01T00:00:00",
          "2023-09-01T00:00:00",
          "2023-10-01T00:00:00",
          "2023-11-01T00:00:00",
          "2023-12-01T00:00:00",
          "2024-01-01T00:00:00",
          "2024-02-01T00:00:00",
          "2024-03-01T00:00:00",
          "2024-04-01T00:00:00",
          "2024-05-01T00:00:00",
          "2024-06-01T00:00:00"
         ],
         "y": [
          0.8447260338334142,
          0.8903869005271122,
          0.8447260338334142,
          0.8903869005271122,
          0.9412661519858043,
          0.9412661519858043,
          0.8035198858415403,
          0.9983125854394894,
          0.9412661519858043,
          0.8447260338334142,
          0.8903869005271122,
          0.8447260338334142,
          0.8447260338334142,
          0.9038549808903202,
          0.9094668308747852,
          0.894369757892022,
          0.9496702955725906,
          0.925061581014361,
          0.8847543328043421,
          0.8748494980964664,
          0.8824398200322735,
          0.8736034037781276,
          0.8480130253525043,
          0.8013830597172862,
          0.8919786764544225,
          0.8897041791677233,
          0.8556639803803395,
          0.8523121353536218,
          0.8920710092949679,
          0.8846054600218234,
          0.9056800753725177,
          0.8749043154524127,
          0.8882017996482385,
          0.9389561881995664
         ]
        },
        {
         "hovertemplate": "<b>%{fullData.name}</b><br>%{x|%B %Y}<br>Utilisation Rate: %{y:.2f}<extra></extra>",
         "legendgroup": "Midlands",
         "legendgrouptitle": {
          "text": "Midlands"
         },
         "line": {
          "width": 1
         },
         "mode": "lines",
         "name": "NHS Black Country ICB",
         "opacity": 1,
         "type": "scatter",
         "visible": true,
         "x": [
          "2021-09-01T00:00:00",
          "2021-10-01T00:00:00",
          "2021-11-01T00:00:00",
          "2021-12-01T00:00:00",
          "2022-01-01T00:00:00",
          "2022-02-01T00:00:00",
          "2022-03-01T00:00:00",
          "2022-04-01T00:00:00",
          "2022-05-01T00:00:00",
          "2022-06-01T00:00:00",
          "2022-07-01T00:00:00",
          "2022-08-01T00:00:00",
          "2022-09-01T00:00:00",
          "2022-10-01T00:00:00",
          "2022-11-01T00:00:00",
          "2022-12-01T00:00:00",
          "2023-01-01T00:00:00",
          "2023-02-01T00:00:00",
          "2023-03-01T00:00:00",
          "2023-04-01T00:00:00",
          "2023-05-01T00:00:00",
          "2023-06-01T00:00:00",
          "2023-07-01T00:00:00",
          "2023-08-01T00:00:00",
          "2023-09-01T00:00:00",
          "2023-10-01T00:00:00",
          "2023-11-01T00:00:00",
          "2023-12-01T00:00:00",
          "2024-01-01T00:00:00",
          "2024-02-01T00:00:00",
          "2024-03-01T00:00:00",
          "2024-04-01T00:00:00",
          "2024-05-01T00:00:00",
          "2024-06-01T00:00:00"
         ],
         "y": [
          0.8538115292788223,
          0.8999635038344344,
          0.8538115292788223,
          0.8999635038344344,
          0.9513899897678306,
          0.9513899897678306,
          0.8121621863871725,
          1.0090499891476992,
          0.9513899897678306,
          0.8538115292788223,
          0.8999635038344344,
          0.8538115292788223,
          0.8538115292788223,
          0.906391814576109,
          0.9067157988168523,
          0.9016562938135522,
          0.9583573687394178,
          0.9326006798113328,
          0.9204049071604917,
          0.9023286588203631,
          0.8986740956148221,
          0.9149265860546931,
          0.9036288156747048,
          0.8540293358648999,
          0.9700287945792384,
          0.982219125452359,
          0.9593396405229878,
          0.9536622753346682,
          0.9946245109334662,
          0.9776376706901894,
          0.9723415995911328,
          0.9574268177726037,
          0.95284417672137,
          1.0072924153911624
         ]
        },
        {
         "hovertemplate": "<b>%{fullData.name}</b><br>%{x|%B %Y}<br>Utilisation Rate: %{y:.2f}<extra></extra>",
         "legendgroup": "Midlands",
         "legendgrouptitle": {
          "text": "Midlands"
         },
         "line": {
          "width": 1
         },
         "mode": "lines",
         "name": "NHS Coventry and Warwickshire ICB",
         "opacity": 0.5,
         "type": "scatter",
         "visible": "legendonly",
         "x": [
          "2021-09-01T00:00:00",
          "2021-10-01T00:00:00",
          "2021-11-01T00:00:00",
          "2021-12-01T00:00:00",
          "2022-01-01T00:00:00",
          "2022-02-01T00:00:00",
          "2022-03-01T00:00:00",
          "2022-04-01T00:00:00",
          "2022-05-01T00:00:00",
          "2022-06-01T00:00:00",
          "2022-07-01T00:00:00",
          "2022-08-01T00:00:00",
          "2022-09-01T00:00:00",
          "2022-10-01T00:00:00",
          "2022-11-01T00:00:00",
          "2022-12-01T00:00:00",
          "2023-01-01T00:00:00",
          "2023-02-01T00:00:00",
          "2023-03-01T00:00:00",
          "2023-04-01T00:00:00",
          "2023-05-01T00:00:00",
          "2023-06-01T00:00:00",
          "2023-07-01T00:00:00",
          "2023-08-01T00:00:00",
          "2023-09-01T00:00:00",
          "2023-10-01T00:00:00",
          "2023-11-01T00:00:00",
          "2023-12-01T00:00:00",
          "2024-01-01T00:00:00",
          "2024-02-01T00:00:00",
          "2024-03-01T00:00:00",
          "2024-04-01T00:00:00",
          "2024-05-01T00:00:00",
          "2024-06-01T00:00:00"
         ],
         "y": [
          0.8823680072791237,
          0.9300635752401574,
          0.8823680072791237,
          0.9300635752401574,
          0.9832100652538805,
          0.9832100652538805,
          0.8393256654606297,
          1.042798554057146,
          0.9832100652538805,
          0.8823680072791237,
          0.9300635752401574,
          0.8823680072791237,
          0.8823680072791237,
          0.9894419527033891,
          0.964629744909432,
          0.9617638380310645,
          0.9740345431267451,
          0.9592523617648053,
          0.9025750317049501,
          0.8837944521414022,
          0.8735963110973392,
          0.8836442454786674,
          0.8684997072475894,
          0.8199122115526967,
          0.9041810546537181,
          0.9046751578668546,
          0.8679082777123903,
          0.855793093196855,
          0.903402394095309,
          0.8947269070064119,
          0.8787613999377433,
          0.8595554400929233,
          0.8553887612442064,
          0.9042681190295896
         ]
        },
        {
         "hovertemplate": "<b>%{fullData.name}</b><br>%{x|%B %Y}<br>Utilisation Rate: %{y:.2f}<extra></extra>",
         "legendgroup": "Midlands",
         "legendgrouptitle": {
          "text": "Midlands"
         },
         "line": {
          "width": 1
         },
         "mode": "lines",
         "name": "NHS Derby and Derbyshire ICB",
         "opacity": 0.5,
         "type": "scatter",
         "visible": "legendonly",
         "x": [
          "2021-09-01T00:00:00",
          "2021-10-01T00:00:00",
          "2021-11-01T00:00:00",
          "2021-12-01T00:00:00",
          "2022-01-01T00:00:00",
          "2022-02-01T00:00:00",
          "2022-03-01T00:00:00",
          "2022-04-01T00:00:00",
          "2022-05-01T00:00:00",
          "2022-06-01T00:00:00",
          "2022-07-01T00:00:00",
          "2022-08-01T00:00:00",
          "2022-09-01T00:00:00",
          "2022-10-01T00:00:00",
          "2022-11-01T00:00:00",
          "2022-12-01T00:00:00",
          "2023-01-01T00:00:00",
          "2023-02-01T00:00:00",
          "2023-03-01T00:00:00",
          "2023-04-01T00:00:00",
          "2023-05-01T00:00:00",
          "2023-06-01T00:00:00",
          "2023-07-01T00:00:00",
          "2023-08-01T00:00:00",
          "2023-09-01T00:00:00",
          "2023-10-01T00:00:00",
          "2023-11-01T00:00:00",
          "2023-12-01T00:00:00",
          "2024-01-01T00:00:00",
          "2024-02-01T00:00:00",
          "2024-03-01T00:00:00",
          "2024-04-01T00:00:00",
          "2024-05-01T00:00:00",
          "2024-06-01T00:00:00"
         ],
         "y": [
          0.7854972672089332,
          0.8279565789499564,
          0.7854972672089332,
          0.8279565789499564,
          0.8752683834613825,
          0.8752683834613825,
          0.7471803273450827,
          0.9283149521560118,
          0.8752683834613825,
          0.7854972672089332,
          0.8279565789499564,
          0.7854972672089332,
          0.7854972672089332,
          0.8726348646878448,
          0.8474671533255335,
          0.8685947165417364,
          0.877059579046334,
          0.8478817303793652,
          0.8189865683382079,
          0.8099603059782624,
          0.7837076822533585,
          0.7891948781960103,
          0.763764373970766,
          0.7527322068818193,
          0.8707159406840194,
          0.8472296882270137,
          0.8029689996733392,
          0.8022176732382927,
          0.8411624993455724,
          0.8199620550582504,
          0.8142329328230458,
          0.7776348057594985,
          0.79075363803459,
          0.8359395602079952
         ]
        },
        {
         "hovertemplate": "<b>%{fullData.name}</b><br>%{x|%B %Y}<br>Utilisation Rate: %{y:.2f}<extra></extra>",
         "legendgroup": "Midlands",
         "legendgrouptitle": {
          "text": "Midlands"
         },
         "line": {
          "width": 1
         },
         "mode": "lines",
         "name": "NHS Herefordshire and Worcestershire ICB",
         "opacity": 0.5,
         "type": "scatter",
         "visible": "legendonly",
         "x": [
          "2021-09-01T00:00:00",
          "2021-10-01T00:00:00",
          "2021-11-01T00:00:00",
          "2021-12-01T00:00:00",
          "2022-01-01T00:00:00",
          "2022-02-01T00:00:00",
          "2022-03-01T00:00:00",
          "2022-04-01T00:00:00",
          "2022-05-01T00:00:00",
          "2022-06-01T00:00:00",
          "2022-07-01T00:00:00",
          "2022-08-01T00:00:00",
          "2022-09-01T00:00:00",
          "2022-10-01T00:00:00",
          "2022-11-01T00:00:00",
          "2022-12-01T00:00:00",
          "2023-01-01T00:00:00",
          "2023-02-01T00:00:00",
          "2023-03-01T00:00:00",
          "2023-04-01T00:00:00",
          "2023-05-01T00:00:00",
          "2023-06-01T00:00:00",
          "2023-07-01T00:00:00",
          "2023-08-01T00:00:00",
          "2023-09-01T00:00:00",
          "2023-10-01T00:00:00",
          "2023-11-01T00:00:00",
          "2023-12-01T00:00:00",
          "2024-01-01T00:00:00",
          "2024-02-01T00:00:00",
          "2024-03-01T00:00:00",
          "2024-04-01T00:00:00",
          "2024-05-01T00:00:00",
          "2024-06-01T00:00:00"
         ],
         "y": [
          0.8039561295255412,
          0.8474132176080027,
          0.8039561295255412,
          0.8474132176080027,
          0.8958368300427457,
          0.8958368300427457,
          0.7647387573535636,
          0.9501299712574577,
          0.8958368300427457,
          0.8039561295255412,
          0.8474132176080027,
          0.8039561295255412,
          0.8039561295255412,
          0.9073482428115016,
          0.8600600219687102,
          0.8831475783140217,
          0.8819414075520434,
          0.8664144128227401,
          0.8534219677793287,
          0.8491465044451497,
          0.8158626965610477,
          0.8005279557170925,
          0.7980781113661812,
          0.7733520924597549,
          0.9090172285589218,
          0.9251189200266219,
          0.8428478422113048,
          0.8578550195354777,
          0.8843188779535054,
          0.875412650078468,
          0.8954311693365985,
          0.8775519668689546,
          0.8489763445980609,
          0.8974892785750931
         ]
        },
        {
         "hovertemplate": "<b>%{fullData.name}</b><br>%{x|%B %Y}<br>Utilisation Rate: %{y:.2f}<extra></extra>",
         "legendgroup": "Midlands",
         "legendgrouptitle": {
          "text": "Midlands"
         },
         "line": {
          "width": 1
         },
         "mode": "lines",
         "name": "NHS Lincolnshire ICB",
         "opacity": 0.5,
         "type": "scatter",
         "visible": "legendonly",
         "x": [
          "2021-09-01T00:00:00",
          "2021-10-01T00:00:00",
          "2021-11-01T00:00:00",
          "2021-12-01T00:00:00",
          "2022-01-01T00:00:00",
          "2022-02-01T00:00:00",
          "2022-03-01T00:00:00",
          "2022-04-01T00:00:00",
          "2022-05-01T00:00:00",
          "2022-06-01T00:00:00",
          "2022-07-01T00:00:00",
          "2022-08-01T00:00:00",
          "2022-09-01T00:00:00",
          "2022-10-01T00:00:00",
          "2022-11-01T00:00:00",
          "2022-12-01T00:00:00",
          "2023-01-01T00:00:00",
          "2023-02-01T00:00:00",
          "2023-03-01T00:00:00",
          "2023-04-01T00:00:00",
          "2023-05-01T00:00:00",
          "2023-06-01T00:00:00",
          "2023-07-01T00:00:00",
          "2023-08-01T00:00:00",
          "2023-09-01T00:00:00",
          "2023-10-01T00:00:00",
          "2023-11-01T00:00:00",
          "2023-12-01T00:00:00",
          "2024-01-01T00:00:00",
          "2024-02-01T00:00:00",
          "2024-03-01T00:00:00",
          "2024-04-01T00:00:00",
          "2024-05-01T00:00:00",
          "2024-06-01T00:00:00"
         ],
         "y": [
          0.6973173707800475,
          0.7350102016330231,
          0.6973173707800475,
          0.7350102016330231,
          0.7770107845834815,
          0.7770107845834815,
          0.6633018892785818,
          0.8241023472855107,
          0.7770107845834815,
          0.6973173707800475,
          0.7350102016330231,
          0.6973173707800475,
          0.6973173707800475,
          0.8246880788807787,
          0.763123755560454,
          0.772254024924669,
          0.7996759854701321,
          0.7676529605594293,
          0.7645945983449972,
          0.7559508879685312,
          0.734691262474308,
          0.7345645693834579,
          0.7368132403216794,
          0.6979387007833812,
          0.8043410006845543,
          0.8306940314177031,
          0.7816630776067074,
          0.7670573570402173,
          0.811571910600667,
          0.8389341541122154,
          0.8480323550541469,
          0.7978585775195943,
          0.8278908448399973,
          0.8751988931165686
         ]
        },
        {
         "hovertemplate": "<b>%{fullData.name}</b><br>%{x|%B %Y}<br>Utilisation Rate: %{y:.2f}<extra></extra>",
         "legendgroup": "Midlands",
         "legendgrouptitle": {
          "text": "Midlands"
         },
         "line": {
          "width": 1
         },
         "mode": "lines",
         "name": "NHS Northamptonshire ICB",
         "opacity": 0.5,
         "type": "scatter",
         "visible": "legendonly",
         "x": [
          "2021-09-01T00:00:00",
          "2021-10-01T00:00:00",
          "2021-11-01T00:00:00",
          "2021-12-01T00:00:00",
          "2022-01-01T00:00:00",
          "2022-02-01T00:00:00",
          "2022-03-01T00:00:00",
          "2022-04-01T00:00:00",
          "2022-05-01T00:00:00",
          "2022-06-01T00:00:00",
          "2022-07-01T00:00:00",
          "2022-08-01T00:00:00",
          "2022-09-01T00:00:00",
          "2022-10-01T00:00:00",
          "2022-11-01T00:00:00",
          "2022-12-01T00:00:00",
          "2023-01-01T00:00:00",
          "2023-02-01T00:00:00",
          "2023-03-01T00:00:00",
          "2023-04-01T00:00:00",
          "2023-05-01T00:00:00",
          "2023-06-01T00:00:00",
          "2023-07-01T00:00:00",
          "2023-08-01T00:00:00",
          "2023-09-01T00:00:00",
          "2023-10-01T00:00:00",
          "2023-11-01T00:00:00",
          "2023-12-01T00:00:00",
          "2024-01-01T00:00:00",
          "2024-02-01T00:00:00",
          "2024-03-01T00:00:00",
          "2024-04-01T00:00:00",
          "2024-05-01T00:00:00",
          "2024-06-01T00:00:00"
         ],
         "y": [
          0.7875335011587391,
          0.830102879599752,
          0.7875335011587391,
          0.830102879599752,
          0.877537329862595,
          0.877537329862595,
          0.7491172328095324,
          0.9307214104603281,
          0.877537329862595,
          0.7875335011587391,
          0.830102879599752,
          0.7875335011587391,
          0.7875335011587391,
          0.8696621560369181,
          0.837792793735138,
          0.8562518616366862,
          0.8552898833018496,
          0.8255953999766891,
          0.8116515641873179,
          0.8261519520994879,
          0.7985919742776674,
          0.8010722495526054,
          0.7552923905777872,
          0.7238859484967713,
          0.8438681106760566,
          0.8491890184445087,
          0.7964320752565089,
          0.7922752360003472,
          0.8349249626350767,
          0.8426646995846596,
          0.8524944284745324,
          0.8041796261556604,
          0.8470122394608036,
          0.8954129388585639
         ]
        },
        {
         "hovertemplate": "<b>%{fullData.name}</b><br>%{x|%B %Y}<br>Utilisation Rate: %{y:.2f}<extra></extra>",
         "legendgroup": "Midlands",
         "legendgrouptitle": {
          "text": "Midlands"
         },
         "line": {
          "width": 1
         },
         "mode": "lines",
         "name": "NHS Nottingham and Nottinghamshire ICB",
         "opacity": 0.5,
         "type": "scatter",
         "visible": "legendonly",
         "x": [
          "2021-09-01T00:00:00",
          "2021-10-01T00:00:00",
          "2021-11-01T00:00:00",
          "2021-12-01T00:00:00",
          "2022-01-01T00:00:00",
          "2022-02-01T00:00:00",
          "2022-03-01T00:00:00",
          "2022-04-01T00:00:00",
          "2022-05-01T00:00:00",
          "2022-06-01T00:00:00",
          "2022-07-01T00:00:00",
          "2022-08-01T00:00:00",
          "2022-09-01T00:00:00",
          "2022-10-01T00:00:00",
          "2022-11-01T00:00:00",
          "2022-12-01T00:00:00",
          "2023-01-01T00:00:00",
          "2023-02-01T00:00:00",
          "2023-03-01T00:00:00",
          "2023-04-01T00:00:00",
          "2023-05-01T00:00:00",
          "2023-06-01T00:00:00",
          "2023-07-01T00:00:00",
          "2023-08-01T00:00:00",
          "2023-09-01T00:00:00",
          "2023-10-01T00:00:00",
          "2023-11-01T00:00:00",
          "2023-12-01T00:00:00",
          "2024-01-01T00:00:00",
          "2024-02-01T00:00:00",
          "2024-03-01T00:00:00",
          "2024-04-01T00:00:00",
          "2024-05-01T00:00:00",
          "2024-06-01T00:00:00"
         ],
         "y": [
          0.7831600419459844,
          0.8254930171863077,
          0.7831600419459844,
          0.8254930171863077,
          0.872664046739811,
          0.872664046739811,
          0.7449571130705704,
          0.9255527768452544,
          0.872664046739811,
          0.7831600419459844,
          0.8254930171863077,
          0.7831600419459844,
          0.7831600419459844,
          0.8474636206265598,
          0.8488692705945102,
          0.8819392991004126,
          0.8882409649182811,
          0.8616153054309146,
          0.8439470670217611,
          0.8278298306862244,
          0.8099373711704502,
          0.8054202486580471,
          0.79131990454073,
          0.7544559282819782,
          0.8285327874979243,
          0.8189645987496154,
          0.7993966406522094,
          0.8054782508536544,
          0.8355590767819484,
          0.8373109284541009,
          0.8369248976774003,
          0.7814349491947007,
          0.7978430622545224,
          0.8434340943833523
         ]
        },
        {
         "hovertemplate": "<b>%{fullData.name}</b><br>%{x|%B %Y}<br>Utilisation Rate: %{y:.2f}<extra></extra>",
         "legendgroup": "Midlands",
         "legendgrouptitle": {
          "text": "Midlands"
         },
         "line": {
          "width": 1
         },
         "mode": "lines",
         "name": "NHS Staffordshire and Stoke-on-Trent ICB",
         "opacity": 0.5,
         "type": "scatter",
         "visible": "legendonly",
         "x": [
          "2021-09-01T00:00:00",
          "2021-10-01T00:00:00",
          "2021-11-01T00:00:00",
          "2021-12-01T00:00:00",
          "2022-01-01T00:00:00",
          "2022-02-01T00:00:00",
          "2022-03-01T00:00:00",
          "2022-04-01T00:00:00",
          "2022-05-01T00:00:00",
          "2022-06-01T00:00:00",
          "2022-07-01T00:00:00",
          "2022-08-01T00:00:00",
          "2022-09-01T00:00:00",
          "2022-10-01T00:00:00",
          "2022-11-01T00:00:00",
          "2022-12-01T00:00:00",
          "2023-01-01T00:00:00",
          "2023-02-01T00:00:00",
          "2023-03-01T00:00:00",
          "2023-04-01T00:00:00",
          "2023-05-01T00:00:00",
          "2023-06-01T00:00:00",
          "2023-07-01T00:00:00",
          "2023-08-01T00:00:00",
          "2023-09-01T00:00:00",
          "2023-10-01T00:00:00",
          "2023-11-01T00:00:00",
          "2023-12-01T00:00:00",
          "2024-01-01T00:00:00",
          "2024-02-01T00:00:00",
          "2024-03-01T00:00:00",
          "2024-04-01T00:00:00",
          "2024-05-01T00:00:00",
          "2024-06-01T00:00:00"
         ],
         "y": [
          0.7430779073773314,
          0.7832442807490793,
          0.7430779073773314,
          0.7832442807490793,
          0.8280010967918837,
          0.8280010967918837,
          0.7068302045784374,
          0.8781829814459372,
          0.8280010967918837,
          0.7430779073773314,
          0.7832442807490793,
          0.7430779073773314,
          0.7430779073773314,
          0.857214988500977,
          0.8221073871745656,
          0.8209085092770313,
          0.8248240563019834,
          0.8080577643725436,
          0.7864432645534607,
          0.7920512223563475,
          0.7875706438005743,
          0.7788813100866007,
          0.7744339258662218,
          0.7334280615684616,
          0.8387273478102707,
          0.8318366079480503,
          0.7813928194187347,
          0.7872531990123682,
          0.8337351685012715,
          0.8189732731507902,
          0.8193114557823129,
          0.7879100128700128,
          0.7758183783783784,
          0.8201508571428572
         ]
        },
        {
         "hovertemplate": "<b>%{fullData.name}</b><br>%{x|%B %Y}<br>Utilisation Rate: %{y:.2f}<extra></extra>",
         "legendgroup": "North East and Yorkshire",
         "legendgrouptitle": {
          "text": "North East and Yorkshire"
         },
         "line": {
          "width": 1
         },
         "mode": "lines",
         "name": "NHS Humber and North Yorkshire ICB",
         "opacity": 0.5,
         "type": "scatter",
         "visible": "legendonly",
         "x": [
          "2021-09-01T00:00:00",
          "2021-10-01T00:00:00",
          "2021-11-01T00:00:00",
          "2021-12-01T00:00:00",
          "2022-01-01T00:00:00",
          "2022-02-01T00:00:00",
          "2022-03-01T00:00:00",
          "2022-04-01T00:00:00",
          "2022-05-01T00:00:00",
          "2022-06-01T00:00:00",
          "2022-07-01T00:00:00",
          "2022-08-01T00:00:00",
          "2022-09-01T00:00:00",
          "2022-10-01T00:00:00",
          "2022-11-01T00:00:00",
          "2022-12-01T00:00:00",
          "2023-01-01T00:00:00",
          "2023-02-01T00:00:00",
          "2023-03-01T00:00:00",
          "2023-04-01T00:00:00",
          "2023-05-01T00:00:00",
          "2023-06-01T00:00:00",
          "2023-07-01T00:00:00",
          "2023-08-01T00:00:00",
          "2023-09-01T00:00:00",
          "2023-10-01T00:00:00",
          "2023-11-01T00:00:00",
          "2023-12-01T00:00:00",
          "2024-01-01T00:00:00",
          "2024-02-01T00:00:00",
          "2024-03-01T00:00:00",
          "2024-04-01T00:00:00",
          "2024-05-01T00:00:00",
          "2024-06-01T00:00:00"
         ],
         "y": [
          0.7092824428364354,
          0.7476220343411075,
          0.7092824428364354,
          0.7476220343411075,
          0.7903432934463136,
          0.7903432934463136,
          0.6746832992834385,
          0.8382428869885145,
          0.7903432934463136,
          0.7092824428364354,
          0.7476220343411075,
          0.7092824428364354,
          0.7092824428364354,
          0.7905733242928112,
          0.7495508215408919,
          0.7672965842597617,
          0.7994152801765545,
          0.7685066278363754,
          0.7739587963301182,
          0.7708632642022444,
          0.7377385503522726,
          0.7406734295293486,
          0.7254861165227036,
          0.704237328485012,
          0.7917245229181036,
          0.7866124489327432,
          0.7594902466182974,
          0.76306810442551,
          0.7944936423706066,
          0.767182428165377,
          0.7839905325935191,
          0.753987574028994,
          0.7521984070325457,
          0.7951811731486911
         ]
        },
        {
         "hovertemplate": "<b>%{fullData.name}</b><br>%{x|%B %Y}<br>Utilisation Rate: %{y:.2f}<extra></extra>",
         "legendgroup": "North East and Yorkshire",
         "legendgrouptitle": {
          "text": "North East and Yorkshire"
         },
         "line": {
          "width": 1
         },
         "mode": "lines",
         "name": "NHS North East and North Cumbria ICB",
         "opacity": 0.5,
         "type": "scatter",
         "visible": "legendonly",
         "x": [
          "2021-09-01T00:00:00",
          "2021-10-01T00:00:00",
          "2021-11-01T00:00:00",
          "2021-12-01T00:00:00",
          "2022-01-01T00:00:00",
          "2022-02-01T00:00:00",
          "2022-03-01T00:00:00",
          "2022-04-01T00:00:00",
          "2022-05-01T00:00:00",
          "2022-06-01T00:00:00",
          "2022-07-01T00:00:00",
          "2022-08-01T00:00:00",
          "2022-09-01T00:00:00",
          "2022-10-01T00:00:00",
          "2022-11-01T00:00:00",
          "2022-12-01T00:00:00",
          "2023-01-01T00:00:00",
          "2023-02-01T00:00:00",
          "2023-03-01T00:00:00",
          "2023-04-01T00:00:00",
          "2023-05-01T00:00:00",
          "2023-06-01T00:00:00",
          "2023-07-01T00:00:00",
          "2023-08-01T00:00:00",
          "2023-09-01T00:00:00",
          "2023-10-01T00:00:00",
          "2023-11-01T00:00:00",
          "2023-12-01T00:00:00",
          "2024-01-01T00:00:00",
          "2024-02-01T00:00:00",
          "2024-03-01T00:00:00",
          "2024-04-01T00:00:00",
          "2024-05-01T00:00:00",
          "2024-06-01T00:00:00"
         ],
         "y": [
          0.7490663087639785,
          0.7895563795079773,
          0.7490663087639785,
          0.7895563795079773,
          0.8346738869084331,
          0.8346738869084331,
          0.7125264888242722,
          0.8852601830847019,
          0.8346738869084331,
          0.7490663087639785,
          0.7895563795079773,
          0.7490663087639785,
          0.7490663087639785,
          0.8090291070940683,
          0.7910142622291235,
          0.8184934565314463,
          0.8274812964903601,
          0.7947622382948599,
          0.7895798099272837,
          0.7873489706187098,
          0.7482474148650565,
          0.7511063289274121,
          0.7321963599494209,
          0.6963502357847322,
          0.7670647653167681,
          0.7687836320028599,
          0.7580651443725005,
          0.7596762547964296,
          0.7947677474261596,
          0.772016298891754,
          0.7689195834601191,
          0.7404806811636947,
          0.7290959406120772,
          0.7707585657899101
         ]
        },
        {
         "hovertemplate": "<b>%{fullData.name}</b><br>%{x|%B %Y}<br>Utilisation Rate: %{y:.2f}<extra></extra>",
         "legendgroup": "North East and Yorkshire",
         "legendgrouptitle": {
          "text": "North East and Yorkshire"
         },
         "line": {
          "width": 1
         },
         "mode": "lines",
         "name": "NHS South Yorkshire ICB",
         "opacity": 0.5,
         "type": "scatter",
         "visible": "legendonly",
         "x": [
          "2021-09-01T00:00:00",
          "2021-10-01T00:00:00",
          "2021-11-01T00:00:00",
          "2021-12-01T00:00:00",
          "2022-01-01T00:00:00",
          "2022-02-01T00:00:00",
          "2022-03-01T00:00:00",
          "2022-04-01T00:00:00",
          "2022-05-01T00:00:00",
          "2022-06-01T00:00:00",
          "2022-07-01T00:00:00",
          "2022-08-01T00:00:00",
          "2022-09-01T00:00:00",
          "2022-10-01T00:00:00",
          "2022-11-01T00:00:00",
          "2022-12-01T00:00:00",
          "2023-01-01T00:00:00",
          "2023-02-01T00:00:00",
          "2023-03-01T00:00:00",
          "2023-04-01T00:00:00",
          "2023-05-01T00:00:00",
          "2023-06-01T00:00:00",
          "2023-07-01T00:00:00",
          "2023-08-01T00:00:00",
          "2023-09-01T00:00:00",
          "2023-10-01T00:00:00",
          "2023-11-01T00:00:00",
          "2023-12-01T00:00:00",
          "2024-01-01T00:00:00",
          "2024-02-01T00:00:00",
          "2024-03-01T00:00:00",
          "2024-04-01T00:00:00",
          "2024-05-01T00:00:00",
          "2024-06-01T00:00:00"
         ],
         "y": [
          0.7194507841483933,
          0.758340015723982,
          0.7194507841483933,
          0.758340015723982,
          0.8016737309082096,
          0.8016737309082096,
          0.6843556239460326,
          0.8502600176299193,
          0.8016737309082096,
          0.7194507841483933,
          0.758340015723982,
          0.7194507841483933,
          0.7194507841483933,
          0.7990413560033813,
          0.7742166673249656,
          0.78729903588252,
          0.8087895007726231,
          0.7888656071898991,
          0.7852725200191912,
          0.7989367284017537,
          0.7728274046327547,
          0.7770504950233408,
          0.7552744302307415,
          0.7256466554759335,
          0.7920029364072685,
          0.7804313616587985,
          0.7657264516470292,
          0.774855309151338,
          0.8199772549953055,
          0.795701322777135,
          0.8062904390189726,
          0.7815499644922966,
          0.7768159826405522,
          0.8212054673628696
         ]
        },
        {
         "hovertemplate": "<b>%{fullData.name}</b><br>%{x|%B %Y}<br>Utilisation Rate: %{y:.2f}<extra></extra>",
         "legendgroup": "North East and Yorkshire",
         "legendgrouptitle": {
          "text": "North East and Yorkshire"
         },
         "line": {
          "width": 1
         },
         "mode": "lines",
         "name": "NHS West Yorkshire ICB",
         "opacity": 0.5,
         "type": "scatter",
         "visible": "legendonly",
         "x": [
          "2021-09-01T00:00:00",
          "2021-10-01T00:00:00",
          "2021-11-01T00:00:00",
          "2021-12-01T00:00:00",
          "2022-01-01T00:00:00",
          "2022-02-01T00:00:00",
          "2022-03-01T00:00:00",
          "2022-04-01T00:00:00",
          "2022-05-01T00:00:00",
          "2022-06-01T00:00:00",
          "2022-07-01T00:00:00",
          "2022-08-01T00:00:00",
          "2022-09-01T00:00:00",
          "2022-10-01T00:00:00",
          "2022-11-01T00:00:00",
          "2022-12-01T00:00:00",
          "2023-01-01T00:00:00",
          "2023-02-01T00:00:00",
          "2023-03-01T00:00:00",
          "2023-04-01T00:00:00",
          "2023-05-01T00:00:00",
          "2023-06-01T00:00:00",
          "2023-07-01T00:00:00",
          "2023-08-01T00:00:00",
          "2023-09-01T00:00:00",
          "2023-10-01T00:00:00",
          "2023-11-01T00:00:00",
          "2023-12-01T00:00:00",
          "2024-01-01T00:00:00",
          "2024-02-01T00:00:00",
          "2024-03-01T00:00:00",
          "2024-04-01T00:00:00",
          "2024-05-01T00:00:00",
          "2024-06-01T00:00:00"
         ],
         "y": [
          0.7279832282873381,
          0.7673336730596266,
          0.7279832282873381,
          0.7673336730596266,
          0.8111813115201768,
          0.8111813115201768,
          0.6924718512977118,
          0.8603438152486723,
          0.8111813115201768,
          0.7279832282873381,
          0.7673336730596266,
          0.7279832282873381,
          0.7279832282873381,
          0.7892497092253804,
          0.7773244509711622,
          0.7947952002071139,
          0.8188374315752889,
          0.7817413523755145,
          0.8221240587221416,
          0.8237314419603425,
          0.8000985540385442,
          0.7950041410739885,
          0.7857876568156942,
          0.7513779896662336,
          0.8028517489963891,
          0.8021384001323593,
          0.7799542685278139,
          0.7911227930604462,
          0.8091382411779061,
          0.782501085458856,
          0.7957417235167952,
          0.7670133122918522,
          0.770470158785971,
          0.8144970250023121
         ]
        },
        {
         "hovertemplate": "<b>%{fullData.name}</b><br>%{x|%B %Y}<br>Utilisation Rate: %{y:.2f}<extra></extra>",
         "legendgroup": "North West",
         "legendgrouptitle": {
          "text": "North West"
         },
         "line": {
          "width": 1
         },
         "mode": "lines",
         "name": "NHS Cheshire and Merseyside ICB",
         "opacity": 0.5,
         "type": "scatter",
         "visible": "legendonly",
         "x": [
          "2021-09-01T00:00:00",
          "2021-10-01T00:00:00",
          "2021-11-01T00:00:00",
          "2021-12-01T00:00:00",
          "2022-01-01T00:00:00",
          "2022-02-01T00:00:00",
          "2022-03-01T00:00:00",
          "2022-04-01T00:00:00",
          "2022-05-01T00:00:00",
          "2022-06-01T00:00:00",
          "2022-07-01T00:00:00",
          "2022-08-01T00:00:00",
          "2022-09-01T00:00:00",
          "2022-10-01T00:00:00",
          "2022-11-01T00:00:00",
          "2022-12-01T00:00:00",
          "2023-01-01T00:00:00",
          "2023-02-01T00:00:00",
          "2023-03-01T00:00:00",
          "2023-04-01T00:00:00",
          "2023-05-01T00:00:00",
          "2023-06-01T00:00:00",
          "2023-07-01T00:00:00",
          "2023-08-01T00:00:00",
          "2023-09-01T00:00:00",
          "2023-10-01T00:00:00",
          "2023-11-01T00:00:00",
          "2023-12-01T00:00:00",
          "2024-01-01T00:00:00",
          "2024-02-01T00:00:00",
          "2024-03-01T00:00:00",
          "2024-04-01T00:00:00",
          "2024-05-01T00:00:00",
          "2024-06-01T00:00:00"
         ],
         "y": [
          0.7395937166813982,
          0.7795717554209332,
          0.7395937166813982,
          0.7795717554209332,
          0.824118712873558,
          0.824118712873558,
          0.7035159744042568,
          0.8740653015325615,
          0.824118712873558,
          0.7395937166813982,
          0.7795717554209332,
          0.7395937166813982,
          0.7395937166813982,
          0.8144147450126671,
          0.7972294213435471,
          0.8152198344074677,
          0.8318157840416505,
          0.7981468314946905,
          0.7861324207118454,
          0.7860113710148676,
          0.7603026281449555,
          0.751235958289922,
          0.7441013297330449,
          0.7279589230884946,
          0.787426661606036,
          0.7887983894187046,
          0.7762330276675068,
          0.7805989593531593,
          0.825348098958851,
          0.7982247432234508,
          0.8083476735053294,
          0.7729682741593015,
          0.7743217765909376,
          0.8185687352532768
         ]
        },
        {
         "hovertemplate": "<b>%{fullData.name}</b><br>%{x|%B %Y}<br>Utilisation Rate: %{y:.2f}<extra></extra>",
         "legendgroup": "North West",
         "legendgrouptitle": {
          "text": "North West"
         },
         "line": {
          "width": 1
         },
         "mode": "lines",
         "name": "NHS Greater Manchester ICB",
         "opacity": 0.5,
         "type": "scatter",
         "visible": "legendonly",
         "x": [
          "2021-09-01T00:00:00",
          "2021-10-01T00:00:00",
          "2021-11-01T00:00:00",
          "2021-12-01T00:00:00",
          "2022-01-01T00:00:00",
          "2022-02-01T00:00:00",
          "2022-03-01T00:00:00",
          "2022-04-01T00:00:00",
          "2022-05-01T00:00:00",
          "2022-06-01T00:00:00",
          "2022-07-01T00:00:00",
          "2022-08-01T00:00:00",
          "2022-09-01T00:00:00",
          "2022-10-01T00:00:00",
          "2022-11-01T00:00:00",
          "2022-12-01T00:00:00",
          "2023-01-01T00:00:00",
          "2023-02-01T00:00:00",
          "2023-03-01T00:00:00",
          "2023-04-01T00:00:00",
          "2023-05-01T00:00:00",
          "2023-06-01T00:00:00",
          "2023-07-01T00:00:00",
          "2023-08-01T00:00:00",
          "2023-09-01T00:00:00",
          "2023-10-01T00:00:00",
          "2023-11-01T00:00:00",
          "2023-12-01T00:00:00",
          "2024-01-01T00:00:00",
          "2024-02-01T00:00:00",
          "2024-03-01T00:00:00",
          "2024-04-01T00:00:00",
          "2024-05-01T00:00:00",
          "2024-06-01T00:00:00"
         ],
         "y": [
          0.7751250397073298,
          0.8170236905023206,
          0.7751250397073298,
          0.8170236905023206,
          0.8637107585310247,
          0.8637107585310247,
          0.7373140621606308,
          0.9160568651086625,
          0.8637107585310247,
          0.7751250397073298,
          0.8170236905023206,
          0.7751250397073298,
          0.7751250397073298,
          0.8579140659525601,
          0.8411064792871495,
          0.8502726257608795,
          0.8592922213075058,
          0.8379368155196064,
          0.8452223332770847,
          0.8285464128139538,
          0.8085657504231214,
          0.7959134473237719,
          0.7944277433367375,
          0.7509245234098879,
          0.824631170948583,
          0.8321258608234808,
          0.81956870735828,
          0.8184451902788862,
          0.8544324963299283,
          0.8410168102310966,
          0.8453261621019098,
          0.7940807543851865,
          0.7991315766274728,
          0.8447962381490426
         ]
        },
        {
         "hovertemplate": "<b>%{fullData.name}</b><br>%{x|%B %Y}<br>Utilisation Rate: %{y:.2f}<extra></extra>",
         "legendgroup": "North West",
         "legendgrouptitle": {
          "text": "North West"
         },
         "line": {
          "width": 1
         },
         "mode": "lines",
         "name": "NHS Lancashire and South Cumbria ICB",
         "opacity": 0.5,
         "type": "scatter",
         "visible": "legendonly",
         "x": [
          "2021-09-01T00:00:00",
          "2021-10-01T00:00:00",
          "2021-11-01T00:00:00",
          "2021-12-01T00:00:00",
          "2022-01-01T00:00:00",
          "2022-02-01T00:00:00",
          "2022-03-01T00:00:00",
          "2022-04-01T00:00:00",
          "2022-05-01T00:00:00",
          "2022-06-01T00:00:00",
          "2022-07-01T00:00:00",
          "2022-08-01T00:00:00",
          "2022-09-01T00:00:00",
          "2022-10-01T00:00:00",
          "2022-11-01T00:00:00",
          "2022-12-01T00:00:00",
          "2023-01-01T00:00:00",
          "2023-02-01T00:00:00",
          "2023-03-01T00:00:00",
          "2023-04-01T00:00:00",
          "2023-05-01T00:00:00",
          "2023-06-01T00:00:00",
          "2023-07-01T00:00:00",
          "2023-08-01T00:00:00",
          "2023-09-01T00:00:00",
          "2023-10-01T00:00:00",
          "2023-11-01T00:00:00",
          "2023-12-01T00:00:00",
          "2024-01-01T00:00:00",
          "2024-02-01T00:00:00",
          "2024-03-01T00:00:00",
          "2024-04-01T00:00:00",
          "2024-05-01T00:00:00",
          "2024-06-01T00:00:00"
         ],
         "y": [
          0.816883576548283,
          0.861039445550893,
          0.816883576548283,
          0.861039445550893,
          0.9102416995823726,
          0.9102416995823726,
          0.7770355972044644,
          0.9654078631934254,
          0.9102416995823726,
          0.816883576548283,
          0.861039445550893,
          0.816883576548283,
          0.816883576548283,
          0.8733384955078937,
          0.8626971677140574,
          0.8876028429637837,
          0.8930449278253606,
          0.8574621841730561,
          0.8400081967274341,
          0.8096060582210693,
          0.795221510596624,
          0.7931434069841737,
          0.7807242504915973,
          0.7469001966587641,
          0.8381557249481778,
          0.8189232151496303,
          0.8051843334862204,
          0.8003237471505054,
          0.8428636353164656,
          0.8286058663417154,
          0.8432673354161665,
          0.7938315022180925,
          0.8045965068136746,
          0.8505734500601702
         ]
        },
        {
         "hovertemplate": "<b>%{fullData.name}</b><br>%{x|%B %Y}<br>Utilisation Rate: %{y:.2f}<extra></extra>",
         "legendgroup": "South East",
         "legendgrouptitle": {
          "text": "South East"
         },
         "line": {
          "width": 1
         },
         "mode": "lines",
         "name": "NHS Frimley ICB",
         "opacity": 1,
         "type": "scatter",
         "visible": true,
         "x": [
          "2021-09-01T00:00:00",
          "2021-10-01T00:00:00",
          "2021-11-01T00:00:00",
          "2021-12-01T00:00:00",
          "2022-01-01T00:00:00",
          "2022-02-01T00:00:00",
          "2022-03-01T00:00:00",
          "2022-04-01T00:00:00",
          "2022-05-01T00:00:00",
          "2022-06-01T00:00:00",
          "2022-07-01T00:00:00",
          "2022-08-01T00:00:00",
          "2022-09-01T00:00:00",
          "2022-10-01T00:00:00",
          "2022-11-01T00:00:00",
          "2022-12-01T00:00:00",
          "2023-01-01T00:00:00",
          "2023-02-01T00:00:00",
          "2023-03-01T00:00:00",
          "2023-04-01T00:00:00",
          "2023-05-01T00:00:00",
          "2023-06-01T00:00:00",
          "2023-07-01T00:00:00",
          "2023-08-01T00:00:00",
          "2023-09-01T00:00:00",
          "2023-10-01T00:00:00",
          "2023-11-01T00:00:00",
          "2023-12-01T00:00:00",
          "2024-01-01T00:00:00",
          "2024-02-01T00:00:00",
          "2024-03-01T00:00:00",
          "2024-04-01T00:00:00",
          "2024-05-01T00:00:00",
          "2024-06-01T00:00:00"
         ],
         "y": [
          0.9521461149368126,
          1.0036134725009644,
          0.9521461149368126,
          1.0036134725009644,
          1.060962813786734,
          1.060962813786734,
          0.9056999629886754,
          1.1252635903798696,
          1.060962813786734,
          0.9521461149368126,
          1.0036134725009644,
          0.9521461149368126,
          0.9521461149368126,
          1.0100347271937464,
          1.0111731972197089,
          1.0434202593671031,
          1.0233917135237058,
          0.9960774253133057,
          0.981993063704626,
          0.9601114908737003,
          0.9425901845789377,
          0.9226100151745068,
          0.8912911840699042,
          0.8450666831457692,
          1.0254829101124716,
          0.9879355808216851,
          0.99380003213398,
          0.9857252957142381,
          1.0552279149772703,
          1.0218118966736736,
          1.001023872393167,
          0.9480371267044443,
          0.9598009929960137,
          1.0146467640243575
         ]
        },
        {
         "hovertemplate": "<b>%{fullData.name}</b><br>%{x|%B %Y}<br>Utilisation Rate: %{y:.2f}<extra></extra>",
         "legendgroup": "South East",
         "legendgrouptitle": {
          "text": "South East"
         },
         "line": {
          "width": 1
         },
         "mode": "lines",
         "name": "NHS Kent and Medway ICB",
         "opacity": 1,
         "type": "scatter",
         "visible": true,
         "x": [
          "2021-09-01T00:00:00",
          "2021-10-01T00:00:00",
          "2021-11-01T00:00:00",
          "2021-12-01T00:00:00",
          "2022-01-01T00:00:00",
          "2022-02-01T00:00:00",
          "2022-03-01T00:00:00",
          "2022-04-01T00:00:00",
          "2022-05-01T00:00:00",
          "2022-06-01T00:00:00",
          "2022-07-01T00:00:00",
          "2022-08-01T00:00:00",
          "2022-09-01T00:00:00",
          "2022-10-01T00:00:00",
          "2022-11-01T00:00:00",
          "2022-12-01T00:00:00",
          "2023-01-01T00:00:00",
          "2023-02-01T00:00:00",
          "2023-03-01T00:00:00",
          "2023-04-01T00:00:00",
          "2023-05-01T00:00:00",
          "2023-06-01T00:00:00",
          "2023-07-01T00:00:00",
          "2023-08-01T00:00:00",
          "2023-09-01T00:00:00",
          "2023-10-01T00:00:00",
          "2023-11-01T00:00:00",
          "2023-12-01T00:00:00",
          "2024-01-01T00:00:00",
          "2024-02-01T00:00:00",
          "2024-03-01T00:00:00",
          "2024-04-01T00:00:00",
          "2024-05-01T00:00:00",
          "2024-06-01T00:00:00"
         ],
         "y": [
          0.8747201698066595,
          0.92200234114756,
          0.8747201698066595,
          0.92200234114756,
          0.9746881892131347,
          0.9746881892131347,
          0.8320508932307248,
          1.0337602006805975,
          0.9746881892131347,
          0.8747201698066595,
          0.92200234114756,
          0.8747201698066595,
          0.8747201698066595,
          0.97762875828328,
          0.9496199549023107,
          0.9457387197111123,
          0.9870375315390795,
          0.9531395642457936,
          0.9402817599421311,
          0.9433384258117482,
          0.8791365330130787,
          0.8869571395303859,
          0.8588761782460792,
          0.8130272040375175,
          0.9391920778089626,
          0.9103109589663203,
          0.898256999069279,
          0.8864714406539697,
          0.9459675453445939,
          0.9295809520560645,
          0.94845662647825,
          0.9128414359171177,
          0.9081159584629005,
          0.960008298946495
         ]
        },
        {
         "hovertemplate": "<b>%{fullData.name}</b><br>%{x|%B %Y}<br>Utilisation Rate: %{y:.2f}<extra></extra>",
         "legendgroup": "South East",
         "legendgrouptitle": {
          "text": "South East"
         },
         "line": {
          "width": 1
         },
         "mode": "lines",
         "name": "NHS Surrey Heartlands ICB",
         "opacity": 0.5,
         "type": "scatter",
         "visible": "legendonly",
         "x": [
          "2021-09-01T00:00:00",
          "2021-10-01T00:00:00",
          "2021-11-01T00:00:00",
          "2021-12-01T00:00:00",
          "2022-01-01T00:00:00",
          "2022-02-01T00:00:00",
          "2022-03-01T00:00:00",
          "2022-04-01T00:00:00",
          "2022-05-01T00:00:00",
          "2022-06-01T00:00:00",
          "2022-07-01T00:00:00",
          "2022-08-01T00:00:00",
          "2022-09-01T00:00:00",
          "2022-10-01T00:00:00",
          "2022-11-01T00:00:00",
          "2022-12-01T00:00:00",
          "2023-01-01T00:00:00",
          "2023-02-01T00:00:00",
          "2023-03-01T00:00:00",
          "2023-04-01T00:00:00",
          "2023-05-01T00:00:00",
          "2023-06-01T00:00:00",
          "2023-07-01T00:00:00",
          "2023-08-01T00:00:00",
          "2023-09-01T00:00:00",
          "2023-10-01T00:00:00",
          "2023-11-01T00:00:00",
          "2023-12-01T00:00:00",
          "2024-01-01T00:00:00",
          "2024-02-01T00:00:00",
          "2024-03-01T00:00:00",
          "2024-04-01T00:00:00",
          "2024-05-01T00:00:00",
          "2024-06-01T00:00:00"
         ],
         "y": [
          0.7468873879634043,
          0.7872596792046693,
          0.7468873879634043,
          0.7872596792046693,
          0.8322459465877934,
          0.8322459465877934,
          0.7104538568432383,
          0.8826850948658415,
          0.8322459465877934,
          0.7468873879634043,
          0.7872596792046693,
          0.7468873879634043,
          0.7468873879634043,
          0.8757459287911155,
          0.8129487760740595,
          0.8342368829598692,
          0.8296283974083581,
          0.8090706935500649,
          0.7728738841725027,
          0.7769265403300263,
          0.7493178292070379,
          0.7557954455255276,
          0.7730378507546812,
          0.7434128897225623,
          0.8570905088069795,
          0.9017536687150008,
          0.8707408071798767,
          0.8687745177793446,
          0.9255827600640227,
          0.9089488642609747,
          0.9213468311568286,
          0.8800250956330218,
          0.9021380509597094,
          0.9536887967288357
         ]
        },
        {
         "hovertemplate": "<b>%{fullData.name}</b><br>%{x|%B %Y}<br>Utilisation Rate: %{y:.2f}<extra></extra>",
         "legendgroup": "South East",
         "legendgrouptitle": {
          "text": "South East"
         },
         "line": {
          "width": 1
         },
         "mode": "lines",
         "name": "NHS Sussex ICB",
         "opacity": 0.5,
         "type": "scatter",
         "visible": "legendonly",
         "x": [
          "2021-09-01T00:00:00",
          "2021-10-01T00:00:00",
          "2021-11-01T00:00:00",
          "2021-12-01T00:00:00",
          "2022-01-01T00:00:00",
          "2022-02-01T00:00:00",
          "2022-03-01T00:00:00",
          "2022-04-01T00:00:00",
          "2022-05-01T00:00:00",
          "2022-06-01T00:00:00",
          "2022-07-01T00:00:00",
          "2022-08-01T00:00:00",
          "2022-09-01T00:00:00",
          "2022-10-01T00:00:00",
          "2022-11-01T00:00:00",
          "2022-12-01T00:00:00",
          "2023-01-01T00:00:00",
          "2023-02-01T00:00:00",
          "2023-03-01T00:00:00",
          "2023-04-01T00:00:00",
          "2023-05-01T00:00:00",
          "2023-06-01T00:00:00",
          "2023-07-01T00:00:00",
          "2023-08-01T00:00:00",
          "2023-09-01T00:00:00",
          "2023-10-01T00:00:00",
          "2023-11-01T00:00:00",
          "2023-12-01T00:00:00",
          "2024-01-01T00:00:00",
          "2024-02-01T00:00:00",
          "2024-03-01T00:00:00",
          "2024-04-01T00:00:00",
          "2024-05-01T00:00:00",
          "2024-06-01T00:00:00"
         ],
         "y": [
          0.7960907714822281,
          0.8391227050758622,
          0.7960907714822281,
          0.8391227050758622,
          0.8870725739373398,
          0.8870725739373398,
          0.7572570753123634,
          0.9408345481153606,
          0.8870725739373398,
          0.7960907714822281,
          0.8391227050758622,
          0.7960907714822281,
          0.7960907714822281,
          0.8880627532622031,
          0.8598833976158691,
          0.8402458162515444,
          0.8848319971155418,
          0.8602082923953625,
          0.870804602917526,
          0.8594947899668255,
          0.8345114506296039,
          0.8387518723604317,
          0.7981380613081974,
          0.7800092040119952,
          0.8058250048750752,
          0.8110451360514809,
          0.7963285762495361,
          0.7672827033981451,
          0.8216730395041549,
          0.8008823151856397,
          0.8027340310756144,
          0.7601756194787731,
          0.7756778855327312,
          0.8200023361346017
         ]
        },
        {
         "hovertemplate": "<b>%{fullData.name}</b><br>%{x|%B %Y}<br>Utilisation Rate: %{y:.2f}<extra></extra>",
         "legendgroup": "South West",
         "legendgrouptitle": {
          "text": "South West"
         },
         "line": {
          "width": 1
         },
         "mode": "lines",
         "name": "NHS Devon ICB",
         "opacity": 1,
         "type": "scatter",
         "visible": true,
         "x": [
          "2021-09-01T00:00:00",
          "2021-10-01T00:00:00",
          "2021-11-01T00:00:00",
          "2021-12-01T00:00:00",
          "2022-01-01T00:00:00",
          "2022-02-01T00:00:00",
          "2022-03-01T00:00:00",
          "2022-04-01T00:00:00",
          "2022-05-01T00:00:00",
          "2022-06-01T00:00:00",
          "2022-07-01T00:00:00",
          "2022-08-01T00:00:00",
          "2022-09-01T00:00:00",
          "2022-10-01T00:00:00",
          "2022-11-01T00:00:00",
          "2022-12-01T00:00:00",
          "2023-01-01T00:00:00",
          "2023-02-01T00:00:00",
          "2023-03-01T00:00:00",
          "2023-04-01T00:00:00",
          "2023-05-01T00:00:00",
          "2023-06-01T00:00:00",
          "2023-07-01T00:00:00",
          "2023-08-01T00:00:00",
          "2023-09-01T00:00:00",
          "2023-10-01T00:00:00",
          "2023-11-01T00:00:00",
          "2023-12-01T00:00:00",
          "2024-01-01T00:00:00",
          "2024-02-01T00:00:00",
          "2024-03-01T00:00:00",
          "2024-04-01T00:00:00",
          "2024-05-01T00:00:00",
          "2024-06-01T00:00:00"
         ],
         "y": [
          0.7032757434924869,
          0.7412906485461349,
          0.7032757434924869,
          0.7412906485461349,
          0.7836501141773425,
          0.7836501141773425,
          0.6689696096635851,
          0.8311440604911209,
          0.7836501141773425,
          0.7032757434924869,
          0.7412906485461349,
          0.7032757434924869,
          0.7032757434924869,
          0.7796718094415196,
          0.7546205947939896,
          0.7898972790958703,
          0.8160683034700916,
          0.7995157332507644,
          0.7887136696642187,
          0.77215833926936,
          0.7420412107207961,
          0.7393775920139147,
          0.7297778690297843,
          0.6879755865785608,
          0.7567932243256918,
          0.7798781305274812,
          0.7542219685076827,
          0.7277991587318624,
          0.7962621793790625,
          0.7824709513021202,
          0.8089070254570461,
          0.7499403003725771,
          0.7360494738016352,
          0.7781094437331572
         ]
        },
        {
         "hovertemplate": "<b>%{fullData.name}</b><br>%{x|%B %Y}<br>Utilisation Rate: %{y:.2f}<extra></extra>",
         "legendgroup": "South West",
         "legendgrouptitle": {
          "text": "South West"
         },
         "line": {
          "width": 1
         },
         "mode": "lines",
         "name": "NHS Dorset ICB",
         "opacity": 1,
         "type": "scatter",
         "visible": true,
         "x": [
          "2021-09-01T00:00:00",
          "2021-10-01T00:00:00",
          "2021-11-01T00:00:00",
          "2021-12-01T00:00:00",
          "2022-01-01T00:00:00",
          "2022-02-01T00:00:00",
          "2022-03-01T00:00:00",
          "2022-04-01T00:00:00",
          "2022-05-01T00:00:00",
          "2022-06-01T00:00:00",
          "2022-07-01T00:00:00",
          "2022-08-01T00:00:00",
          "2022-09-01T00:00:00",
          "2022-10-01T00:00:00",
          "2022-11-01T00:00:00",
          "2022-12-01T00:00:00",
          "2023-01-01T00:00:00",
          "2023-02-01T00:00:00",
          "2023-03-01T00:00:00",
          "2023-04-01T00:00:00",
          "2023-05-01T00:00:00",
          "2023-06-01T00:00:00",
          "2023-07-01T00:00:00",
          "2023-08-01T00:00:00",
          "2023-09-01T00:00:00",
          "2023-10-01T00:00:00",
          "2023-11-01T00:00:00",
          "2023-12-01T00:00:00",
          "2024-01-01T00:00:00",
          "2024-02-01T00:00:00",
          "2024-03-01T00:00:00",
          "2024-04-01T00:00:00",
          "2024-05-01T00:00:00",
          "2024-06-01T00:00:00"
         ],
         "y": [
          0.6892214597451035,
          0.7264766737853794,
          0.6892214597451035,
          0.7264766737853794,
          0.7679896265731154,
          0.7679896265731154,
          0.6556009007331473,
          0.8145344524260315,
          0.7679896265731154,
          0.6892214597451035,
          0.7264766737853794,
          0.6892214597451035,
          0.6892214597451035,
          0.7627088252460842,
          0.7660957210388952,
          0.7679192982552534,
          0.7968370670626397,
          0.7701390357877734,
          0.7404536075090975,
          0.7496894961490418,
          0.7137595293954259,
          0.7075172579301777,
          0.6955424501396239,
          0.6606001571683349,
          0.7386002474093321,
          0.7468849287993757,
          0.717388831386604,
          0.6852347623165361,
          0.7593147849843667,
          0.7202562319864639,
          0.7549850525311654,
          0.728869279050812,
          0.7142933924784284,
          0.7551101577629099
         ]
        },
        {
         "hovertemplate": "<b>%{fullData.name}</b><br>%{x|%B %Y}<br>Utilisation Rate: %{y:.2f}<extra></extra>",
         "legendgroup": "South West",
         "legendgrouptitle": {
          "text": "South West"
         },
         "line": {
          "width": 1
         },
         "mode": "lines",
         "name": "NHS Gloucestershire ICB",
         "opacity": 1,
         "type": "scatter",
         "visible": true,
         "x": [
          "2021-09-01T00:00:00",
          "2021-10-01T00:00:00",
          "2021-11-01T00:00:00",
          "2021-12-01T00:00:00",
          "2022-01-01T00:00:00",
          "2022-02-01T00:00:00",
          "2022-03-01T00:00:00",
          "2022-04-01T00:00:00",
          "2022-05-01T00:00:00",
          "2022-06-01T00:00:00",
          "2022-07-01T00:00:00",
          "2022-08-01T00:00:00",
          "2022-09-01T00:00:00",
          "2022-10-01T00:00:00",
          "2022-11-01T00:00:00",
          "2022-12-01T00:00:00",
          "2023-01-01T00:00:00",
          "2023-02-01T00:00:00",
          "2023-03-01T00:00:00",
          "2023-04-01T00:00:00",
          "2023-05-01T00:00:00",
          "2023-06-01T00:00:00",
          "2023-07-01T00:00:00",
          "2023-08-01T00:00:00",
          "2023-09-01T00:00:00",
          "2023-10-01T00:00:00",
          "2023-11-01T00:00:00",
          "2023-12-01T00:00:00",
          "2024-01-01T00:00:00",
          "2024-02-01T00:00:00",
          "2024-03-01T00:00:00",
          "2024-04-01T00:00:00",
          "2024-05-01T00:00:00",
          "2024-06-01T00:00:00"
         ],
         "y": [
          0.6714259195751281,
          0.7077192125251349,
          0.6714259195751281,
          0.7077192125251349,
          0.7481603103837142,
          0.7481603103837142,
          0.6386734356934146,
          0.7935033594978786,
          0.7481603103837142,
          0.6714259195751281,
          0.7077192125251349,
          0.6714259195751281,
          0.6714259195751281,
          0.7509332720179789,
          0.7146640154125122,
          0.733571340925425,
          0.7465557094580776,
          0.712484881064373,
          0.7462684710166265,
          0.7531416096669976,
          0.703663193885945,
          0.711679070801669,
          0.7097248583390395,
          0.6808278724619483,
          0.7338058649646955,
          0.7710875350016401,
          0.7183018780088836,
          0.7217027218279332,
          0.7637246828381868,
          0.7470489333633389,
          0.7564492350822921,
          0.741005089000352,
          0.7074304891933042,
          0.7478550885757788
         ]
        },
        {
         "hovertemplate": "<b>%{fullData.name}</b><br>%{x|%B %Y}<br>Utilisation Rate: %{y:.2f}<extra></extra>",
         "legendgroup": "South West",
         "legendgrouptitle": {
          "text": "South West"
         },
         "line": {
          "width": 1
         },
         "mode": "lines",
         "name": "NHS Somerset ICB",
         "opacity": 0.5,
         "type": "scatter",
         "visible": "legendonly",
         "x": [
          "2021-09-01T00:00:00",
          "2021-10-01T00:00:00",
          "2021-11-01T00:00:00",
          "2021-12-01T00:00:00",
          "2022-01-01T00:00:00",
          "2022-02-01T00:00:00",
          "2022-03-01T00:00:00",
          "2022-04-01T00:00:00",
          "2022-05-01T00:00:00",
          "2022-06-01T00:00:00",
          "2022-07-01T00:00:00",
          "2022-08-01T00:00:00",
          "2022-09-01T00:00:00",
          "2022-10-01T00:00:00",
          "2022-11-01T00:00:00",
          "2022-12-01T00:00:00",
          "2023-01-01T00:00:00",
          "2023-02-01T00:00:00",
          "2023-03-01T00:00:00",
          "2023-04-01T00:00:00",
          "2023-05-01T00:00:00",
          "2023-06-01T00:00:00",
          "2023-07-01T00:00:00",
          "2023-08-01T00:00:00",
          "2023-09-01T00:00:00",
          "2023-10-01T00:00:00",
          "2023-11-01T00:00:00",
          "2023-12-01T00:00:00",
          "2024-01-01T00:00:00",
          "2024-02-01T00:00:00",
          "2024-03-01T00:00:00",
          "2024-04-01T00:00:00",
          "2024-05-01T00:00:00",
          "2024-06-01T00:00:00"
         ],
         "y": [
          0.7243677065560016,
          0.7635227177211908,
          0.7243677065560016,
          0.7635227177211908,
          0.807152587305259,
          0.807152587305259,
          0.6890326964800991,
          0.85607092592982,
          0.807152587305259,
          0.7243677065560016,
          0.7635227177211908,
          0.7243677065560016,
          0.7243677065560016,
          0.8343166205761624,
          0.793518798607857,
          0.8072818332360315,
          0.7865019773416718,
          0.77206819191552,
          0.7896259198225548,
          0.7783026144449874,
          0.7355140666032708,
          0.7263306364051736,
          0.7194903487281463,
          0.6980584446321403,
          0.8044382113838925,
          0.815165837427636,
          0.753775165173206,
          0.7382233244776757,
          0.7588619948370615,
          0.7466311936481125,
          0.7717234049847441,
          0.7217757714517974,
          0.6865497607038283,
          0.72578117560119
         ]
        },
        {
         "hovertemplate": "<b>National Average</b><br>%{x|%B %Y}<br>Utilisation Rate: %{y:.2f}<extra></extra>",
         "line": {
          "color": "black",
          "dash": "dash",
          "width": 2
         },
         "mode": "lines",
         "name": "National Average",
         "type": "scatter",
         "x": [
          "2021-09-01T00:00:00",
          "2021-10-01T00:00:00",
          "2021-11-01T00:00:00",
          "2021-12-01T00:00:00",
          "2022-01-01T00:00:00",
          "2022-02-01T00:00:00",
          "2022-03-01T00:00:00",
          "2022-04-01T00:00:00",
          "2022-05-01T00:00:00",
          "2022-06-01T00:00:00",
          "2022-07-01T00:00:00",
          "2022-08-01T00:00:00",
          "2022-09-01T00:00:00",
          "2022-10-01T00:00:00",
          "2022-11-01T00:00:00",
          "2022-12-01T00:00:00",
          "2023-01-01T00:00:00",
          "2023-02-01T00:00:00",
          "2023-03-01T00:00:00",
          "2023-04-01T00:00:00",
          "2023-05-01T00:00:00",
          "2023-06-01T00:00:00",
          "2023-07-01T00:00:00",
          "2023-08-01T00:00:00",
          "2023-09-01T00:00:00",
          "2023-10-01T00:00:00",
          "2023-11-01T00:00:00",
          "2023-12-01T00:00:00",
          "2024-01-01T00:00:00",
          "2024-02-01T00:00:00",
          "2024-03-01T00:00:00",
          "2024-04-01T00:00:00",
          "2024-05-01T00:00:00",
          "2024-06-01T00:00:00"
         ],
         "y": [
          0.7793655202433337,
          0.8214933862024328,
          0.7793655202433337,
          0.8214933862024328,
          0.8684358654140004,
          0.8684358654140004,
          0.7413476899875613,
          0.9210683421057579,
          0.8684358654140004,
          0.7793655202433337,
          0.8214933862024328,
          0.7793655202433337,
          0.7793655202433337,
          0.8611610361299723,
          0.8385042591988,
          0.8494443002458201,
          0.8644306849902815,
          0.839793121350427,
          0.8353818442024867,
          0.8291463004612821,
          0.8036076253383717,
          0.80445226828011,
          0.7875360053136151,
          0.7532030649255306,
          0.8477599736756086,
          0.8483765369472278,
          0.8242006509796518,
          0.8189070148801851,
          0.8621331073025036,
          0.8488365910270739,
          0.8615723122654495,
          0.82064357914564,
          0.8231156073287584,
          0.8701507848904018
         ]
        },
        {
         "hovertemplate": "<b>%{fullData.name}</b><br>%{x|%B %Y}<br>Utilisation Rate: %{y:.2f}<extra></extra>",
         "legendgroup": "East of England",
         "legendgrouptitle": {
          "text": "East of England"
         },
         "line": {
          "width": 1
         },
         "mode": "lines",
         "name": "NHS Cambridgeshire and Peterborough ICB",
         "opacity": 0.5,
         "type": "scatter",
         "visible": "legendonly",
         "x": [
          "2021-09-01T00:00:00",
          "2021-10-01T00:00:00",
          "2021-11-01T00:00:00",
          "2021-12-01T00:00:00",
          "2022-01-01T00:00:00",
          "2022-02-01T00:00:00",
          "2022-03-01T00:00:00",
          "2022-04-01T00:00:00",
          "2022-05-01T00:00:00",
          "2022-06-01T00:00:00",
          "2022-07-01T00:00:00",
          "2022-08-01T00:00:00",
          "2022-09-01T00:00:00",
          "2022-10-01T00:00:00",
          "2022-11-01T00:00:00",
          "2022-12-01T00:00:00",
          "2023-01-01T00:00:00",
          "2023-02-01T00:00:00",
          "2023-03-01T00:00:00",
          "2023-04-01T00:00:00",
          "2023-05-01T00:00:00",
          "2023-06-01T00:00:00",
          "2023-07-01T00:00:00",
          "2023-08-01T00:00:00",
          "2023-09-01T00:00:00",
          "2023-10-01T00:00:00",
          "2023-11-01T00:00:00",
          "2023-12-01T00:00:00",
          "2024-01-01T00:00:00",
          "2024-02-01T00:00:00",
          "2024-03-01T00:00:00",
          "2024-04-01T00:00:00",
          "2024-05-01T00:00:00",
          "2024-06-01T00:00:00"
         ],
         "y": [
          0.727357383678599,
          0.7666739990125774,
          0.727357383678599,
          0.7666739990125774,
          0.8104839418132961,
          0.8104839418132961,
          0.6918765356942772,
          0.8596041807110717,
          0.8104839418132961,
          0.727357383678599,
          0.7666739990125774,
          0.727357383678599,
          0.727357383678599,
          0.8149814491648458,
          0.7911663907323159,
          0.8003761982275276,
          0.8041765042307636,
          0.7891439940056326,
          0.7967821842356202,
          0.7909281562277822,
          0.7608676347185596,
          0.7765594811779328,
          0.7593031064068831,
          0.7449727516180058,
          0.8670982719113041,
          0.8782464234519027,
          0.8490492600081639,
          0.8431804157831554,
          0.8900862928260187,
          0.8692796461770914,
          0.8406394835168631,
          0.7561890052302241,
          0.7330232488647304,
          0.7749102916570006
         ]
        },
        {
         "hovertemplate": "<b>%{fullData.name}</b><br>%{x|%B %Y}<br>Utilisation Rate: %{y:.2f}<extra></extra>",
         "legendgroup": "East of England",
         "legendgrouptitle": {
          "text": "East of England"
         },
         "line": {
          "width": 1
         },
         "mode": "lines",
         "name": "NHS Hertfordshire and West Essex ICB",
         "opacity": 0.5,
         "type": "scatter",
         "visible": "legendonly",
         "x": [
          "2021-09-01T00:00:00",
          "2021-10-01T00:00:00",
          "2021-11-01T00:00:00",
          "2021-12-01T00:00:00",
          "2022-01-01T00:00:00",
          "2022-02-01T00:00:00",
          "2022-03-01T00:00:00",
          "2022-04-01T00:00:00",
          "2022-05-01T00:00:00",
          "2022-06-01T00:00:00",
          "2022-07-01T00:00:00",
          "2022-08-01T00:00:00",
          "2022-09-01T00:00:00",
          "2022-10-01T00:00:00",
          "2022-11-01T00:00:00",
          "2022-12-01T00:00:00",
          "2023-01-01T00:00:00",
          "2023-02-01T00:00:00",
          "2023-03-01T00:00:00",
          "2023-04-01T00:00:00",
          "2023-05-01T00:00:00",
          "2023-06-01T00:00:00",
          "2023-07-01T00:00:00",
          "2023-08-01T00:00:00",
          "2023-09-01T00:00:00",
          "2023-10-01T00:00:00",
          "2023-11-01T00:00:00",
          "2023-12-01T00:00:00",
          "2024-01-01T00:00:00",
          "2024-02-01T00:00:00",
          "2024-03-01T00:00:00",
          "2024-04-01T00:00:00",
          "2024-05-01T00:00:00",
          "2024-06-01T00:00:00"
         ],
         "y": [
          0.8190919141893743,
          0.8633671527942055,
          0.8190919141893743,
          0.8633671527942055,
          0.9127024186681599,
          0.9127024186681599,
          0.7791362110581853,
          0.9680177167692605,
          0.9127024186681599,
          0.8190919141893743,
          0.8633671527942055,
          0.8190919141893743,
          0.8190919141893743,
          0.903926124481352,
          0.8660633322180871,
          0.8783166744655226,
          0.8846369862317884,
          0.8611655326362946,
          0.8597816802724924,
          0.835461498305478,
          0.7951509176785312,
          0.8010323152886728,
          0.7785375923058943,
          0.7531203277414424,
          0.8706954924141758,
          0.852577805549161,
          0.8351673408535316,
          0.8406001010532863,
          0.8776685193102467,
          0.8596998024103626,
          0.8791072018462446,
          0.8215861397025681,
          0.821540059288213,
          0.8684852055332537
         ]
        },
        {
         "hovertemplate": "<b>%{fullData.name}</b><br>%{x|%B %Y}<br>Utilisation Rate: %{y:.2f}<extra></extra>",
         "legendgroup": "East of England",
         "legendgrouptitle": {
          "text": "East of England"
         },
         "line": {
          "width": 1
         },
         "mode": "lines",
         "name": "NHS Mid and South Essex ICB",
         "opacity": 0.5,
         "type": "scatter",
         "visible": "legendonly",
         "x": [
          "2021-09-01T00:00:00",
          "2021-10-01T00:00:00",
          "2021-11-01T00:00:00",
          "2021-12-01T00:00:00",
          "2022-01-01T00:00:00",
          "2022-02-01T00:00:00",
          "2022-03-01T00:00:00",
          "2022-04-01T00:00:00",
          "2022-05-01T00:00:00",
          "2022-06-01T00:00:00",
          "2022-07-01T00:00:00",
          "2022-08-01T00:00:00",
          "2022-09-01T00:00:00",
          "2022-10-01T00:00:00",
          "2022-11-01T00:00:00",
          "2022-12-01T00:00:00",
          "2023-01-01T00:00:00",
          "2023-02-01T00:00:00",
          "2023-03-01T00:00:00",
          "2023-04-01T00:00:00",
          "2023-05-01T00:00:00",
          "2023-06-01T00:00:00",
          "2023-07-01T00:00:00",
          "2023-08-01T00:00:00",
          "2023-09-01T00:00:00",
          "2023-10-01T00:00:00",
          "2023-11-01T00:00:00",
          "2023-12-01T00:00:00",
          "2024-01-01T00:00:00",
          "2024-02-01T00:00:00",
          "2024-03-01T00:00:00",
          "2024-04-01T00:00:00",
          "2024-05-01T00:00:00",
          "2024-06-01T00:00:00"
         ],
         "y": [
          0.8356391992545292,
          0.88080888570072,
          0.8356391992545292,
          0.88080888570072,
          0.9311408220264754,
          0.9311408220264754,
          0.7948763114860156,
          0.987573599118989,
          0.9311408220264754,
          0.8356391992545292,
          0.88080888570072,
          0.8356391992545292,
          0.8356391992545292,
          0.8940836587632932,
          0.8772994566182356,
          0.8812705547935018,
          0.900340489889152,
          0.8648347471332481,
          0.8778199050978746,
          0.8705872123821845,
          0.8638755721596842,
          0.8570722823255975,
          0.8323585052866451,
          0.7985983036812446,
          0.8960393872795109,
          0.8654134521534039,
          0.8522026467749585,
          0.8479395714022989,
          0.8881104009925719,
          0.8829562742307504,
          0.8979696132273486,
          0.8611143452505592,
          0.8618262002481754,
          0.9110734116909281
         ]
        },
        {
         "hovertemplate": "<b>%{fullData.name}</b><br>%{x|%B %Y}<br>Utilisation Rate: %{y:.2f}<extra></extra>",
         "legendgroup": "East of England",
         "legendgrouptitle": {
          "text": "East of England"
         },
         "line": {
          "width": 2
         },
         "mode": "lines",
         "name": "NHS Norfolk and Waveney ICB",
         "opacity": 1,
         "type": "scatter",
         "visible": true,
         "x": [
          "2021-09-01T00:00:00",
          "2021-10-01T00:00:00",
          "2021-11-01T00:00:00",
          "2021-12-01T00:00:00",
          "2022-01-01T00:00:00",
          "2022-02-01T00:00:00",
          "2022-03-01T00:00:00",
          "2022-04-01T00:00:00",
          "2022-05-01T00:00:00",
          "2022-06-01T00:00:00",
          "2022-07-01T00:00:00",
          "2022-08-01T00:00:00",
          "2022-09-01T00:00:00",
          "2022-10-01T00:00:00",
          "2022-11-01T00:00:00",
          "2022-12-01T00:00:00",
          "2023-01-01T00:00:00",
          "2023-02-01T00:00:00",
          "2023-03-01T00:00:00",
          "2023-04-01T00:00:00",
          "2023-05-01T00:00:00",
          "2023-06-01T00:00:00",
          "2023-07-01T00:00:00",
          "2023-08-01T00:00:00",
          "2023-09-01T00:00:00",
          "2023-10-01T00:00:00",
          "2023-11-01T00:00:00",
          "2023-12-01T00:00:00",
          "2024-01-01T00:00:00",
          "2024-02-01T00:00:00",
          "2024-03-01T00:00:00",
          "2024-04-01T00:00:00",
          "2024-05-01T00:00:00",
          "2024-06-01T00:00:00"
         ],
         "y": [
          0.6643809488256629,
          0.700293432545969,
          0.6643809488256629,
          0.700293432545969,
          0.7403102001200244,
          0.7403102001200244,
          0.6319721220536794,
          0.7851774849757834,
          0.7403102001200244,
          0.6643809488256629,
          0.700293432545969,
          0.6643809488256629,
          0.6643809488256629,
          0.7543351902229046,
          0.7171103362431711,
          0.7293667523880296,
          0.7534728043076668,
          0.7320566844247822,
          0.7289697202718521,
          0.7209060994971042,
          0.7016706010382117,
          0.6963317032055003,
          0.6706249829703226,
          0.6505784564624267,
          0.6895913133102882,
          0.71496728363023,
          0.6870188303739567,
          0.6865537528454,
          0.733156641536229,
          0.7254974188443167,
          0.771245080470217,
          0.7188206152253928,
          0.72852121072516,
          0.7701509941951692
         ]
        },
        {
         "hovertemplate": "<b>%{fullData.name}</b><br>%{x|%B %Y}<br>Utilisation Rate: %{y:.2f}<extra></extra>",
         "legendgroup": "East of England",
         "legendgrouptitle": {
          "text": "East of England"
         },
         "line": {
          "width": 2
         },
         "mode": "lines",
         "name": "NHS Suffolk and North East Essex ICB",
         "opacity": 1,
         "type": "scatter",
         "visible": true,
         "x": [
          "2021-09-01T00:00:00",
          "2021-10-01T00:00:00",
          "2021-11-01T00:00:00",
          "2021-12-01T00:00:00",
          "2022-01-01T00:00:00",
          "2022-02-01T00:00:00",
          "2022-03-01T00:00:00",
          "2022-04-01T00:00:00",
          "2022-05-01T00:00:00",
          "2022-06-01T00:00:00",
          "2022-07-01T00:00:00",
          "2022-08-01T00:00:00",
          "2022-09-01T00:00:00",
          "2022-10-01T00:00:00",
          "2022-11-01T00:00:00",
          "2022-12-01T00:00:00",
          "2023-01-01T00:00:00",
          "2023-02-01T00:00:00",
          "2023-03-01T00:00:00",
          "2023-04-01T00:00:00",
          "2023-05-01T00:00:00",
          "2023-06-01T00:00:00",
          "2023-07-01T00:00:00",
          "2023-08-01T00:00:00",
          "2023-09-01T00:00:00",
          "2023-10-01T00:00:00",
          "2023-11-01T00:00:00",
          "2023-12-01T00:00:00",
          "2024-01-01T00:00:00",
          "2024-02-01T00:00:00",
          "2024-03-01T00:00:00",
          "2024-04-01T00:00:00",
          "2024-05-01T00:00:00",
          "2024-06-01T00:00:00"
         ],
         "y": [
          0.6775744726613511,
          0.7142001198322349,
          0.6775744726613511,
          0.7142001198322349,
          0.7550115552512198,
          0.7550115552512198,
          0.6445220593607973,
          0.8007698313270513,
          0.7550115552512198,
          0.6775744726613511,
          0.7142001198322349,
          0.6775744726613511,
          0.6775744726613511,
          0.7576284321640823,
          0.7330291438140449,
          0.767450630342011,
          0.7651126261072336,
          0.742314229466502,
          0.7740012086448037,
          0.7617908817219601,
          0.7318184942915915,
          0.7368028827625775,
          0.702982486586478,
          0.6703727368959221,
          0.7743915765717625,
          0.7619397334049465,
          0.7349386034862148,
          0.7353820345163724,
          0.7883051127680815,
          0.7711372802748243,
          0.8042997539878592,
          0.7497690870062867,
          0.765923150042292,
          0.8096901871875658
         ]
        },
        {
         "hovertemplate": "<b>%{fullData.name}</b><br>%{x|%B %Y}<br>Utilisation Rate: %{y:.2f}<extra></extra>",
         "legendgroup": "London",
         "legendgrouptitle": {
          "text": "London"
         },
         "line": {
          "width": 1
         },
         "mode": "lines",
         "name": "NHS North Central London ICB",
         "opacity": 0.5,
         "type": "scatter",
         "visible": "legendonly",
         "x": [
          "2021-09-01T00:00:00",
          "2021-10-01T00:00:00",
          "2021-11-01T00:00:00",
          "2021-12-01T00:00:00",
          "2022-01-01T00:00:00",
          "2022-02-01T00:00:00",
          "2022-03-01T00:00:00",
          "2022-04-01T00:00:00",
          "2022-05-01T00:00:00",
          "2022-06-01T00:00:00",
          "2022-07-01T00:00:00",
          "2022-08-01T00:00:00",
          "2022-09-01T00:00:00",
          "2022-10-01T00:00:00",
          "2022-11-01T00:00:00",
          "2022-12-01T00:00:00",
          "2023-01-01T00:00:00",
          "2023-02-01T00:00:00",
          "2023-03-01T00:00:00",
          "2023-04-01T00:00:00",
          "2023-05-01T00:00:00",
          "2023-06-01T00:00:00",
          "2023-07-01T00:00:00",
          "2023-08-01T00:00:00",
          "2023-09-01T00:00:00",
          "2023-10-01T00:00:00",
          "2023-11-01T00:00:00",
          "2023-12-01T00:00:00",
          "2024-01-01T00:00:00",
          "2024-02-01T00:00:00",
          "2024-03-01T00:00:00",
          "2024-04-01T00:00:00",
          "2024-05-01T00:00:00",
          "2024-06-01T00:00:00"
         ],
         "y": [
          0.7776558624132518,
          0.8196913144355896,
          0.7776558624132518,
          0.8196913144355896,
          0.8665308181176233,
          0.8665308181176233,
          0.7397214301004102,
          0.9190478373974793,
          0.8665308181176233,
          0.7776558624132518,
          0.8196913144355896,
          0.7776558624132518,
          0.7776558624132518,
          0.863429676019205,
          0.8553512998988638,
          0.825612543413411,
          0.8518151158320633,
          0.8387854332694442,
          0.8371708313610204,
          0.8316109262249168,
          0.8179024376777185,
          0.8057683140829208,
          0.791528034674102,
          0.7533359524370761,
          0.8654629826419836,
          0.8684693673970396,
          0.8741523191527852,
          0.8484283358245998,
          0.894425197536502,
          0.8928083897778983,
          0.9178667432745776,
          0.8742574680234991,
          0.8834681643661184,
          0.9339520594727537
         ]
        },
        {
         "hovertemplate": "<b>%{fullData.name}</b><br>%{x|%B %Y}<br>Utilisation Rate: %{y:.2f}<extra></extra>",
         "legendgroup": "London",
         "legendgrouptitle": {
          "text": "London"
         },
         "line": {
          "width": 2
         },
         "mode": "lines",
         "name": "NHS North East London ICB",
         "opacity": 1,
         "type": "scatter",
         "visible": true,
         "x": [
          "2021-09-01T00:00:00",
          "2021-10-01T00:00:00",
          "2021-11-01T00:00:00",
          "2021-12-01T00:00:00",
          "2022-01-01T00:00:00",
          "2022-02-01T00:00:00",
          "2022-03-01T00:00:00",
          "2022-04-01T00:00:00",
          "2022-05-01T00:00:00",
          "2022-06-01T00:00:00",
          "2022-07-01T00:00:00",
          "2022-08-01T00:00:00",
          "2022-09-01T00:00:00",
          "2022-10-01T00:00:00",
          "2022-11-01T00:00:00",
          "2022-12-01T00:00:00",
          "2023-01-01T00:00:00",
          "2023-02-01T00:00:00",
          "2023-03-01T00:00:00",
          "2023-04-01T00:00:00",
          "2023-05-01T00:00:00",
          "2023-06-01T00:00:00",
          "2023-07-01T00:00:00",
          "2023-08-01T00:00:00",
          "2023-09-01T00:00:00",
          "2023-10-01T00:00:00",
          "2023-11-01T00:00:00",
          "2023-12-01T00:00:00",
          "2024-01-01T00:00:00",
          "2024-02-01T00:00:00",
          "2024-03-01T00:00:00",
          "2024-04-01T00:00:00",
          "2024-05-01T00:00:00",
          "2024-06-01T00:00:00"
         ],
         "y": [
          0.9233544548968378,
          0.9732655065128832,
          0.9233544548968378,
          0.9732655065128832,
          1.0288806783136195,
          1.0288806783136195,
          0.8783127741701628,
          1.0912370830598994,
          1.0288806783136195,
          0.9233544548968378,
          0.9732655065128832,
          0.9233544548968378,
          0.9233544548968378,
          0.9933797092225783,
          0.9765953240238371,
          0.9675930021339686,
          0.9888110506149509,
          0.9597716011308458,
          0.9826682871010547,
          0.9672587188719577,
          0.9441137798570441,
          0.961200155416321,
          0.9402095323243768,
          0.8836662603436763,
          0.9989940028652209,
          0.9992187922188539,
          1.0029866783158201,
          0.9896636580351892,
          1.016421191058099,
          1.0159365104030496,
          1.0457442440860831,
          1.0095839486395632,
          1.021706638622668,
          1.080089875115392
         ]
        },
        {
         "hovertemplate": "<b>%{fullData.name}</b><br>%{x|%B %Y}<br>Utilisation Rate: %{y:.2f}<extra></extra>",
         "legendgroup": "London",
         "legendgrouptitle": {
          "text": "London"
         },
         "line": {
          "width": 2
         },
         "mode": "lines",
         "name": "NHS North West London ICB",
         "opacity": 1,
         "type": "scatter",
         "visible": true,
         "x": [
          "2021-09-01T00:00:00",
          "2021-10-01T00:00:00",
          "2021-11-01T00:00:00",
          "2021-12-01T00:00:00",
          "2022-01-01T00:00:00",
          "2022-02-01T00:00:00",
          "2022-03-01T00:00:00",
          "2022-04-01T00:00:00",
          "2022-05-01T00:00:00",
          "2022-06-01T00:00:00",
          "2022-07-01T00:00:00",
          "2022-08-01T00:00:00",
          "2022-09-01T00:00:00",
          "2022-10-01T00:00:00",
          "2022-11-01T00:00:00",
          "2022-12-01T00:00:00",
          "2023-01-01T00:00:00",
          "2023-02-01T00:00:00",
          "2023-03-01T00:00:00",
          "2023-04-01T00:00:00",
          "2023-05-01T00:00:00",
          "2023-06-01T00:00:00",
          "2023-07-01T00:00:00",
          "2023-08-01T00:00:00",
          "2023-09-01T00:00:00",
          "2023-10-01T00:00:00",
          "2023-11-01T00:00:00",
          "2023-12-01T00:00:00",
          "2024-01-01T00:00:00",
          "2024-02-01T00:00:00",
          "2024-03-01T00:00:00",
          "2024-04-01T00:00:00",
          "2024-05-01T00:00:00",
          "2024-06-01T00:00:00"
         ],
         "y": [
          0.9160347702431948,
          0.9655501632293133,
          0.9160347702431948,
          0.9655501632293133,
          1.0207244582709882,
          1.0207244582709882,
          0.8713501473045022,
          1.0825865466510483,
          1.0207244582709882,
          0.9160347702431948,
          0.9655501632293133,
          0.9160347702431948,
          0.9160347702431948,
          0.9826327269172571,
          0.9743983893934917,
          0.9837303680420251,
          0.9979573424679294,
          0.9934753544247931,
          0.9951881775105822,
          0.998560233688308,
          0.9655930740243717,
          0.9770712552973336,
          0.9597853827213894,
          0.9132291032086487,
          1.0361006749123869,
          1.0269671911048273,
          1.0351418190700086,
          1.0306971649138776,
          1.050197789672036,
          1.0503151764104959,
          1.0951154260349532,
          1.0365339050449829,
          1.0596257605326598,
          1.120175803991669
         ]
        },
        {
         "hovertemplate": "<b>%{fullData.name}</b><br>%{x|%B %Y}<br>Utilisation Rate: %{y:.2f}<extra></extra>",
         "legendgroup": "London",
         "legendgrouptitle": {
          "text": "London"
         },
         "line": {
          "width": 1
         },
         "mode": "lines",
         "name": "NHS South East London ICB",
         "opacity": 0.5,
         "type": "scatter",
         "visible": "legendonly",
         "x": [
          "2021-09-01T00:00:00",
          "2021-10-01T00:00:00",
          "2021-11-01T00:00:00",
          "2021-12-01T00:00:00",
          "2022-01-01T00:00:00",
          "2022-02-01T00:00:00",
          "2022-03-01T00:00:00",
          "2022-04-01T00:00:00",
          "2022-05-01T00:00:00",
          "2022-06-01T00:00:00",
          "2022-07-01T00:00:00",
          "2022-08-01T00:00:00",
          "2022-09-01T00:00:00",
          "2022-10-01T00:00:00",
          "2022-11-01T00:00:00",
          "2022-12-01T00:00:00",
          "2023-01-01T00:00:00",
          "2023-02-01T00:00:00",
          "2023-03-01T00:00:00",
          "2023-04-01T00:00:00",
          "2023-05-01T00:00:00",
          "2023-06-01T00:00:00",
          "2023-07-01T00:00:00",
          "2023-08-01T00:00:00",
          "2023-09-01T00:00:00",
          "2023-10-01T00:00:00",
          "2023-11-01T00:00:00",
          "2023-12-01T00:00:00",
          "2024-01-01T00:00:00",
          "2024-02-01T00:00:00",
          "2024-03-01T00:00:00",
          "2024-04-01T00:00:00",
          "2024-05-01T00:00:00",
          "2024-06-01T00:00:00"
         ],
         "y": [
          0.8002727645729674,
          0.8435307518471818,
          0.8002727645729674,
          0.8435307518471818,
          0.8917325090955922,
          0.8917325090955922,
          0.7612350687401397,
          0.9457769035862342,
          0.8917325090955922,
          0.8002727645729674,
          0.8435307518471818,
          0.8002727645729674,
          0.8002727645729674,
          0.8855459922397042,
          0.8692313471218136,
          0.8687754274123443,
          0.8781117019656574,
          0.843846356933578,
          0.8663036991843027,
          0.8716838290816737,
          0.8368634376175698,
          0.853657608696969,
          0.8260788832530613,
          0.7797128230328944,
          0.8693188663470981,
          0.8625727912503544,
          0.8610092235649441,
          0.8503420574202689,
          0.8895176146290559,
          0.8876167806331253,
          0.9062021387063102,
          0.8604029510417959,
          0.8750140601083238,
          0.9250148635430853
         ]
        },
        {
         "hovertemplate": "<b>%{fullData.name}</b><br>%{x|%B %Y}<br>Utilisation Rate: %{y:.2f}<extra></extra>",
         "legendgroup": "London",
         "legendgrouptitle": {
          "text": "London"
         },
         "line": {
          "width": 1
         },
         "mode": "lines",
         "name": "NHS South West London ICB",
         "opacity": 0.5,
         "type": "scatter",
         "visible": "legendonly",
         "x": [
          "2021-09-01T00:00:00",
          "2021-10-01T00:00:00",
          "2021-11-01T00:00:00",
          "2021-12-01T00:00:00",
          "2022-01-01T00:00:00",
          "2022-02-01T00:00:00",
          "2022-03-01T00:00:00",
          "2022-04-01T00:00:00",
          "2022-05-01T00:00:00",
          "2022-06-01T00:00:00",
          "2022-07-01T00:00:00",
          "2022-08-01T00:00:00",
          "2022-09-01T00:00:00",
          "2022-10-01T00:00:00",
          "2022-11-01T00:00:00",
          "2022-12-01T00:00:00",
          "2023-01-01T00:00:00",
          "2023-02-01T00:00:00",
          "2023-03-01T00:00:00",
          "2023-04-01T00:00:00",
          "2023-05-01T00:00:00",
          "2023-06-01T00:00:00",
          "2023-07-01T00:00:00",
          "2023-08-01T00:00:00",
          "2023-09-01T00:00:00",
          "2023-10-01T00:00:00",
          "2023-11-01T00:00:00",
          "2023-12-01T00:00:00",
          "2024-01-01T00:00:00",
          "2024-02-01T00:00:00",
          "2024-03-01T00:00:00",
          "2024-04-01T00:00:00",
          "2024-05-01T00:00:00",
          "2024-06-01T00:00:00"
         ],
         "y": [
          0.7800977586186589,
          0.8222652050304784,
          0.7800977586186589,
          0.8222652050304784,
          0.8692517881750771,
          0.8692517881750771,
          0.7420442094177487,
          0.9219337147311424,
          0.8692517881750771,
          0.7800977586186589,
          0.8222652050304784,
          0.7800977586186589,
          0.7800977586186589,
          0.8381680716085861,
          0.8330033096592582,
          0.8544371677931623,
          0.8475854448844803,
          0.8333145219502592,
          0.8242045928457078,
          0.8219157933443649,
          0.796195644072092,
          0.8108994394708681,
          0.781095491520202,
          0.7378260521117664,
          0.8296700142894115,
          0.8329230043153811,
          0.8365056208865592,
          0.8268428914503657,
          0.8856304593105518,
          0.8720891240359179,
          0.8945490890534779,
          0.8485859337522141,
          0.8538665579674984,
          0.9026589327084983
         ]
        },
        {
         "hovertemplate": "<b>%{fullData.name}</b><br>%{x|%B %Y}<br>Utilisation Rate: %{y:.2f}<extra></extra>",
         "legendgroup": "Midlands",
         "legendgrouptitle": {
          "text": "Midlands"
         },
         "line": {
          "width": 1
         },
         "mode": "lines",
         "name": "NHS Birmingham and Solihull ICB",
         "opacity": 0.5,
         "type": "scatter",
         "visible": "legendonly",
         "x": [
          "2021-09-01T00:00:00",
          "2021-10-01T00:00:00",
          "2021-11-01T00:00:00",
          "2021-12-01T00:00:00",
          "2022-01-01T00:00:00",
          "2022-02-01T00:00:00",
          "2022-03-01T00:00:00",
          "2022-04-01T00:00:00",
          "2022-05-01T00:00:00",
          "2022-06-01T00:00:00",
          "2022-07-01T00:00:00",
          "2022-08-01T00:00:00",
          "2022-09-01T00:00:00",
          "2022-10-01T00:00:00",
          "2022-11-01T00:00:00",
          "2022-12-01T00:00:00",
          "2023-01-01T00:00:00",
          "2023-02-01T00:00:00",
          "2023-03-01T00:00:00",
          "2023-04-01T00:00:00",
          "2023-05-01T00:00:00",
          "2023-06-01T00:00:00",
          "2023-07-01T00:00:00",
          "2023-08-01T00:00:00",
          "2023-09-01T00:00:00",
          "2023-10-01T00:00:00",
          "2023-11-01T00:00:00",
          "2023-12-01T00:00:00",
          "2024-01-01T00:00:00",
          "2024-02-01T00:00:00",
          "2024-03-01T00:00:00",
          "2024-04-01T00:00:00",
          "2024-05-01T00:00:00",
          "2024-06-01T00:00:00"
         ],
         "y": [
          0.8447260338334142,
          0.8903869005271122,
          0.8447260338334142,
          0.8903869005271122,
          0.9412661519858043,
          0.9412661519858043,
          0.8035198858415403,
          0.9983125854394894,
          0.9412661519858043,
          0.8447260338334142,
          0.8903869005271122,
          0.8447260338334142,
          0.8447260338334142,
          0.9038549808903202,
          0.9094668308747852,
          0.894369757892022,
          0.9496702955725906,
          0.925061581014361,
          0.8847543328043421,
          0.8748494980964664,
          0.8824398200322735,
          0.8736034037781276,
          0.8480130253525043,
          0.8013830597172862,
          0.8919786764544225,
          0.8897041791677233,
          0.8556639803803395,
          0.8523121353536218,
          0.8920710092949679,
          0.8846054600218234,
          0.9056800753725177,
          0.8749043154524127,
          0.8882017996482385,
          0.9389561881995664
         ]
        },
        {
         "hovertemplate": "<b>%{fullData.name}</b><br>%{x|%B %Y}<br>Utilisation Rate: %{y:.2f}<extra></extra>",
         "legendgroup": "Midlands",
         "legendgrouptitle": {
          "text": "Midlands"
         },
         "line": {
          "width": 2
         },
         "mode": "lines",
         "name": "NHS Black Country ICB",
         "opacity": 1,
         "type": "scatter",
         "visible": true,
         "x": [
          "2021-09-01T00:00:00",
          "2021-10-01T00:00:00",
          "2021-11-01T00:00:00",
          "2021-12-01T00:00:00",
          "2022-01-01T00:00:00",
          "2022-02-01T00:00:00",
          "2022-03-01T00:00:00",
          "2022-04-01T00:00:00",
          "2022-05-01T00:00:00",
          "2022-06-01T00:00:00",
          "2022-07-01T00:00:00",
          "2022-08-01T00:00:00",
          "2022-09-01T00:00:00",
          "2022-10-01T00:00:00",
          "2022-11-01T00:00:00",
          "2022-12-01T00:00:00",
          "2023-01-01T00:00:00",
          "2023-02-01T00:00:00",
          "2023-03-01T00:00:00",
          "2023-04-01T00:00:00",
          "2023-05-01T00:00:00",
          "2023-06-01T00:00:00",
          "2023-07-01T00:00:00",
          "2023-08-01T00:00:00",
          "2023-09-01T00:00:00",
          "2023-10-01T00:00:00",
          "2023-11-01T00:00:00",
          "2023-12-01T00:00:00",
          "2024-01-01T00:00:00",
          "2024-02-01T00:00:00",
          "2024-03-01T00:00:00",
          "2024-04-01T00:00:00",
          "2024-05-01T00:00:00",
          "2024-06-01T00:00:00"
         ],
         "y": [
          0.8538115292788223,
          0.8999635038344344,
          0.8538115292788223,
          0.8999635038344344,
          0.9513899897678306,
          0.9513899897678306,
          0.8121621863871725,
          1.0090499891476992,
          0.9513899897678306,
          0.8538115292788223,
          0.8999635038344344,
          0.8538115292788223,
          0.8538115292788223,
          0.906391814576109,
          0.9067157988168523,
          0.9016562938135522,
          0.9583573687394178,
          0.9326006798113328,
          0.9204049071604917,
          0.9023286588203631,
          0.8986740956148221,
          0.9149265860546931,
          0.9036288156747048,
          0.8540293358648999,
          0.9700287945792384,
          0.982219125452359,
          0.9593396405229878,
          0.9536622753346682,
          0.9946245109334662,
          0.9776376706901894,
          0.9723415995911328,
          0.9574268177726037,
          0.95284417672137,
          1.0072924153911624
         ]
        },
        {
         "hovertemplate": "<b>%{fullData.name}</b><br>%{x|%B %Y}<br>Utilisation Rate: %{y:.2f}<extra></extra>",
         "legendgroup": "Midlands",
         "legendgrouptitle": {
          "text": "Midlands"
         },
         "line": {
          "width": 1
         },
         "mode": "lines",
         "name": "NHS Coventry and Warwickshire ICB",
         "opacity": 0.5,
         "type": "scatter",
         "visible": "legendonly",
         "x": [
          "2021-09-01T00:00:00",
          "2021-10-01T00:00:00",
          "2021-11-01T00:00:00",
          "2021-12-01T00:00:00",
          "2022-01-01T00:00:00",
          "2022-02-01T00:00:00",
          "2022-03-01T00:00:00",
          "2022-04-01T00:00:00",
          "2022-05-01T00:00:00",
          "2022-06-01T00:00:00",
          "2022-07-01T00:00:00",
          "2022-08-01T00:00:00",
          "2022-09-01T00:00:00",
          "2022-10-01T00:00:00",
          "2022-11-01T00:00:00",
          "2022-12-01T00:00:00",
          "2023-01-01T00:00:00",
          "2023-02-01T00:00:00",
          "2023-03-01T00:00:00",
          "2023-04-01T00:00:00",
          "2023-05-01T00:00:00",
          "2023-06-01T00:00:00",
          "2023-07-01T00:00:00",
          "2023-08-01T00:00:00",
          "2023-09-01T00:00:00",
          "2023-10-01T00:00:00",
          "2023-11-01T00:00:00",
          "2023-12-01T00:00:00",
          "2024-01-01T00:00:00",
          "2024-02-01T00:00:00",
          "2024-03-01T00:00:00",
          "2024-04-01T00:00:00",
          "2024-05-01T00:00:00",
          "2024-06-01T00:00:00"
         ],
         "y": [
          0.8823680072791237,
          0.9300635752401574,
          0.8823680072791237,
          0.9300635752401574,
          0.9832100652538805,
          0.9832100652538805,
          0.8393256654606297,
          1.042798554057146,
          0.9832100652538805,
          0.8823680072791237,
          0.9300635752401574,
          0.8823680072791237,
          0.8823680072791237,
          0.9894419527033891,
          0.964629744909432,
          0.9617638380310645,
          0.9740345431267451,
          0.9592523617648053,
          0.9025750317049501,
          0.8837944521414022,
          0.8735963110973392,
          0.8836442454786674,
          0.8684997072475894,
          0.8199122115526967,
          0.9041810546537181,
          0.9046751578668546,
          0.8679082777123903,
          0.855793093196855,
          0.903402394095309,
          0.8947269070064119,
          0.8787613999377433,
          0.8595554400929233,
          0.8553887612442064,
          0.9042681190295896
         ]
        },
        {
         "hovertemplate": "<b>%{fullData.name}</b><br>%{x|%B %Y}<br>Utilisation Rate: %{y:.2f}<extra></extra>",
         "legendgroup": "Midlands",
         "legendgrouptitle": {
          "text": "Midlands"
         },
         "line": {
          "width": 1
         },
         "mode": "lines",
         "name": "NHS Derby and Derbyshire ICB",
         "opacity": 0.5,
         "type": "scatter",
         "visible": "legendonly",
         "x": [
          "2021-09-01T00:00:00",
          "2021-10-01T00:00:00",
          "2021-11-01T00:00:00",
          "2021-12-01T00:00:00",
          "2022-01-01T00:00:00",
          "2022-02-01T00:00:00",
          "2022-03-01T00:00:00",
          "2022-04-01T00:00:00",
          "2022-05-01T00:00:00",
          "2022-06-01T00:00:00",
          "2022-07-01T00:00:00",
          "2022-08-01T00:00:00",
          "2022-09-01T00:00:00",
          "2022-10-01T00:00:00",
          "2022-11-01T00:00:00",
          "2022-12-01T00:00:00",
          "2023-01-01T00:00:00",
          "2023-02-01T00:00:00",
          "2023-03-01T00:00:00",
          "2023-04-01T00:00:00",
          "2023-05-01T00:00:00",
          "2023-06-01T00:00:00",
          "2023-07-01T00:00:00",
          "2023-08-01T00:00:00",
          "2023-09-01T00:00:00",
          "2023-10-01T00:00:00",
          "2023-11-01T00:00:00",
          "2023-12-01T00:00:00",
          "2024-01-01T00:00:00",
          "2024-02-01T00:00:00",
          "2024-03-01T00:00:00",
          "2024-04-01T00:00:00",
          "2024-05-01T00:00:00",
          "2024-06-01T00:00:00"
         ],
         "y": [
          0.7854972672089332,
          0.8279565789499564,
          0.7854972672089332,
          0.8279565789499564,
          0.8752683834613825,
          0.8752683834613825,
          0.7471803273450827,
          0.9283149521560118,
          0.8752683834613825,
          0.7854972672089332,
          0.8279565789499564,
          0.7854972672089332,
          0.7854972672089332,
          0.8726348646878448,
          0.8474671533255335,
          0.8685947165417364,
          0.877059579046334,
          0.8478817303793652,
          0.8189865683382079,
          0.8099603059782624,
          0.7837076822533585,
          0.7891948781960103,
          0.763764373970766,
          0.7527322068818193,
          0.8707159406840194,
          0.8472296882270137,
          0.8029689996733392,
          0.8022176732382927,
          0.8411624993455724,
          0.8199620550582504,
          0.8142329328230458,
          0.7776348057594985,
          0.79075363803459,
          0.8359395602079952
         ]
        },
        {
         "hovertemplate": "<b>%{fullData.name}</b><br>%{x|%B %Y}<br>Utilisation Rate: %{y:.2f}<extra></extra>",
         "legendgroup": "Midlands",
         "legendgrouptitle": {
          "text": "Midlands"
         },
         "line": {
          "width": 1
         },
         "mode": "lines",
         "name": "NHS Herefordshire and Worcestershire ICB",
         "opacity": 0.5,
         "type": "scatter",
         "visible": "legendonly",
         "x": [
          "2021-09-01T00:00:00",
          "2021-10-01T00:00:00",
          "2021-11-01T00:00:00",
          "2021-12-01T00:00:00",
          "2022-01-01T00:00:00",
          "2022-02-01T00:00:00",
          "2022-03-01T00:00:00",
          "2022-04-01T00:00:00",
          "2022-05-01T00:00:00",
          "2022-06-01T00:00:00",
          "2022-07-01T00:00:00",
          "2022-08-01T00:00:00",
          "2022-09-01T00:00:00",
          "2022-10-01T00:00:00",
          "2022-11-01T00:00:00",
          "2022-12-01T00:00:00",
          "2023-01-01T00:00:00",
          "2023-02-01T00:00:00",
          "2023-03-01T00:00:00",
          "2023-04-01T00:00:00",
          "2023-05-01T00:00:00",
          "2023-06-01T00:00:00",
          "2023-07-01T00:00:00",
          "2023-08-01T00:00:00",
          "2023-09-01T00:00:00",
          "2023-10-01T00:00:00",
          "2023-11-01T00:00:00",
          "2023-12-01T00:00:00",
          "2024-01-01T00:00:00",
          "2024-02-01T00:00:00",
          "2024-03-01T00:00:00",
          "2024-04-01T00:00:00",
          "2024-05-01T00:00:00",
          "2024-06-01T00:00:00"
         ],
         "y": [
          0.8039561295255412,
          0.8474132176080027,
          0.8039561295255412,
          0.8474132176080027,
          0.8958368300427457,
          0.8958368300427457,
          0.7647387573535636,
          0.9501299712574577,
          0.8958368300427457,
          0.8039561295255412,
          0.8474132176080027,
          0.8039561295255412,
          0.8039561295255412,
          0.9073482428115016,
          0.8600600219687102,
          0.8831475783140217,
          0.8819414075520434,
          0.8664144128227401,
          0.8534219677793287,
          0.8491465044451497,
          0.8158626965610477,
          0.8005279557170925,
          0.7980781113661812,
          0.7733520924597549,
          0.9090172285589218,
          0.9251189200266219,
          0.8428478422113048,
          0.8578550195354777,
          0.8843188779535054,
          0.875412650078468,
          0.8954311693365985,
          0.8775519668689546,
          0.8489763445980609,
          0.8974892785750931
         ]
        },
        {
         "hovertemplate": "<b>%{fullData.name}</b><br>%{x|%B %Y}<br>Utilisation Rate: %{y:.2f}<extra></extra>",
         "legendgroup": "Midlands",
         "legendgrouptitle": {
          "text": "Midlands"
         },
         "line": {
          "width": 1
         },
         "mode": "lines",
         "name": "NHS Lincolnshire ICB",
         "opacity": 0.5,
         "type": "scatter",
         "visible": "legendonly",
         "x": [
          "2021-09-01T00:00:00",
          "2021-10-01T00:00:00",
          "2021-11-01T00:00:00",
          "2021-12-01T00:00:00",
          "2022-01-01T00:00:00",
          "2022-02-01T00:00:00",
          "2022-03-01T00:00:00",
          "2022-04-01T00:00:00",
          "2022-05-01T00:00:00",
          "2022-06-01T00:00:00",
          "2022-07-01T00:00:00",
          "2022-08-01T00:00:00",
          "2022-09-01T00:00:00",
          "2022-10-01T00:00:00",
          "2022-11-01T00:00:00",
          "2022-12-01T00:00:00",
          "2023-01-01T00:00:00",
          "2023-02-01T00:00:00",
          "2023-03-01T00:00:00",
          "2023-04-01T00:00:00",
          "2023-05-01T00:00:00",
          "2023-06-01T00:00:00",
          "2023-07-01T00:00:00",
          "2023-08-01T00:00:00",
          "2023-09-01T00:00:00",
          "2023-10-01T00:00:00",
          "2023-11-01T00:00:00",
          "2023-12-01T00:00:00",
          "2024-01-01T00:00:00",
          "2024-02-01T00:00:00",
          "2024-03-01T00:00:00",
          "2024-04-01T00:00:00",
          "2024-05-01T00:00:00",
          "2024-06-01T00:00:00"
         ],
         "y": [
          0.6973173707800475,
          0.7350102016330231,
          0.6973173707800475,
          0.7350102016330231,
          0.7770107845834815,
          0.7770107845834815,
          0.6633018892785818,
          0.8241023472855107,
          0.7770107845834815,
          0.6973173707800475,
          0.7350102016330231,
          0.6973173707800475,
          0.6973173707800475,
          0.8246880788807787,
          0.763123755560454,
          0.772254024924669,
          0.7996759854701321,
          0.7676529605594293,
          0.7645945983449972,
          0.7559508879685312,
          0.734691262474308,
          0.7345645693834579,
          0.7368132403216794,
          0.6979387007833812,
          0.8043410006845543,
          0.8306940314177031,
          0.7816630776067074,
          0.7670573570402173,
          0.811571910600667,
          0.8389341541122154,
          0.8480323550541469,
          0.7978585775195943,
          0.8278908448399973,
          0.8751988931165686
         ]
        },
        {
         "hovertemplate": "<b>%{fullData.name}</b><br>%{x|%B %Y}<br>Utilisation Rate: %{y:.2f}<extra></extra>",
         "legendgroup": "Midlands",
         "legendgrouptitle": {
          "text": "Midlands"
         },
         "line": {
          "width": 1
         },
         "mode": "lines",
         "name": "NHS Northamptonshire ICB",
         "opacity": 0.5,
         "type": "scatter",
         "visible": "legendonly",
         "x": [
          "2021-09-01T00:00:00",
          "2021-10-01T00:00:00",
          "2021-11-01T00:00:00",
          "2021-12-01T00:00:00",
          "2022-01-01T00:00:00",
          "2022-02-01T00:00:00",
          "2022-03-01T00:00:00",
          "2022-04-01T00:00:00",
          "2022-05-01T00:00:00",
          "2022-06-01T00:00:00",
          "2022-07-01T00:00:00",
          "2022-08-01T00:00:00",
          "2022-09-01T00:00:00",
          "2022-10-01T00:00:00",
          "2022-11-01T00:00:00",
          "2022-12-01T00:00:00",
          "2023-01-01T00:00:00",
          "2023-02-01T00:00:00",
          "2023-03-01T00:00:00",
          "2023-04-01T00:00:00",
          "2023-05-01T00:00:00",
          "2023-06-01T00:00:00",
          "2023-07-01T00:00:00",
          "2023-08-01T00:00:00",
          "2023-09-01T00:00:00",
          "2023-10-01T00:00:00",
          "2023-11-01T00:00:00",
          "2023-12-01T00:00:00",
          "2024-01-01T00:00:00",
          "2024-02-01T00:00:00",
          "2024-03-01T00:00:00",
          "2024-04-01T00:00:00",
          "2024-05-01T00:00:00",
          "2024-06-01T00:00:00"
         ],
         "y": [
          0.7875335011587391,
          0.830102879599752,
          0.7875335011587391,
          0.830102879599752,
          0.877537329862595,
          0.877537329862595,
          0.7491172328095324,
          0.9307214104603281,
          0.877537329862595,
          0.7875335011587391,
          0.830102879599752,
          0.7875335011587391,
          0.7875335011587391,
          0.8696621560369181,
          0.837792793735138,
          0.8562518616366862,
          0.8552898833018496,
          0.8255953999766891,
          0.8116515641873179,
          0.8261519520994879,
          0.7985919742776674,
          0.8010722495526054,
          0.7552923905777872,
          0.7238859484967713,
          0.8438681106760566,
          0.8491890184445087,
          0.7964320752565089,
          0.7922752360003472,
          0.8349249626350767,
          0.8426646995846596,
          0.8524944284745324,
          0.8041796261556604,
          0.8470122394608036,
          0.8954129388585639
         ]
        },
        {
         "hovertemplate": "<b>%{fullData.name}</b><br>%{x|%B %Y}<br>Utilisation Rate: %{y:.2f}<extra></extra>",
         "legendgroup": "Midlands",
         "legendgrouptitle": {
          "text": "Midlands"
         },
         "line": {
          "width": 1
         },
         "mode": "lines",
         "name": "NHS Nottingham and Nottinghamshire ICB",
         "opacity": 0.5,
         "type": "scatter",
         "visible": "legendonly",
         "x": [
          "2021-09-01T00:00:00",
          "2021-10-01T00:00:00",
          "2021-11-01T00:00:00",
          "2021-12-01T00:00:00",
          "2022-01-01T00:00:00",
          "2022-02-01T00:00:00",
          "2022-03-01T00:00:00",
          "2022-04-01T00:00:00",
          "2022-05-01T00:00:00",
          "2022-06-01T00:00:00",
          "2022-07-01T00:00:00",
          "2022-08-01T00:00:00",
          "2022-09-01T00:00:00",
          "2022-10-01T00:00:00",
          "2022-11-01T00:00:00",
          "2022-12-01T00:00:00",
          "2023-01-01T00:00:00",
          "2023-02-01T00:00:00",
          "2023-03-01T00:00:00",
          "2023-04-01T00:00:00",
          "2023-05-01T00:00:00",
          "2023-06-01T00:00:00",
          "2023-07-01T00:00:00",
          "2023-08-01T00:00:00",
          "2023-09-01T00:00:00",
          "2023-10-01T00:00:00",
          "2023-11-01T00:00:00",
          "2023-12-01T00:00:00",
          "2024-01-01T00:00:00",
          "2024-02-01T00:00:00",
          "2024-03-01T00:00:00",
          "2024-04-01T00:00:00",
          "2024-05-01T00:00:00",
          "2024-06-01T00:00:00"
         ],
         "y": [
          0.7831600419459844,
          0.8254930171863077,
          0.7831600419459844,
          0.8254930171863077,
          0.872664046739811,
          0.872664046739811,
          0.7449571130705704,
          0.9255527768452544,
          0.872664046739811,
          0.7831600419459844,
          0.8254930171863077,
          0.7831600419459844,
          0.7831600419459844,
          0.8474636206265598,
          0.8488692705945102,
          0.8819392991004126,
          0.8882409649182811,
          0.8616153054309146,
          0.8439470670217611,
          0.8278298306862244,
          0.8099373711704502,
          0.8054202486580471,
          0.79131990454073,
          0.7544559282819782,
          0.8285327874979243,
          0.8189645987496154,
          0.7993966406522094,
          0.8054782508536544,
          0.8355590767819484,
          0.8373109284541009,
          0.8369248976774003,
          0.7814349491947007,
          0.7978430622545224,
          0.8434340943833523
         ]
        },
        {
         "hovertemplate": "<b>%{fullData.name}</b><br>%{x|%B %Y}<br>Utilisation Rate: %{y:.2f}<extra></extra>",
         "legendgroup": "Midlands",
         "legendgrouptitle": {
          "text": "Midlands"
         },
         "line": {
          "width": 1
         },
         "mode": "lines",
         "name": "NHS Staffordshire and Stoke-on-Trent ICB",
         "opacity": 0.5,
         "type": "scatter",
         "visible": "legendonly",
         "x": [
          "2021-09-01T00:00:00",
          "2021-10-01T00:00:00",
          "2021-11-01T00:00:00",
          "2021-12-01T00:00:00",
          "2022-01-01T00:00:00",
          "2022-02-01T00:00:00",
          "2022-03-01T00:00:00",
          "2022-04-01T00:00:00",
          "2022-05-01T00:00:00",
          "2022-06-01T00:00:00",
          "2022-07-01T00:00:00",
          "2022-08-01T00:00:00",
          "2022-09-01T00:00:00",
          "2022-10-01T00:00:00",
          "2022-11-01T00:00:00",
          "2022-12-01T00:00:00",
          "2023-01-01T00:00:00",
          "2023-02-01T00:00:00",
          "2023-03-01T00:00:00",
          "2023-04-01T00:00:00",
          "2023-05-01T00:00:00",
          "2023-06-01T00:00:00",
          "2023-07-01T00:00:00",
          "2023-08-01T00:00:00",
          "2023-09-01T00:00:00",
          "2023-10-01T00:00:00",
          "2023-11-01T00:00:00",
          "2023-12-01T00:00:00",
          "2024-01-01T00:00:00",
          "2024-02-01T00:00:00",
          "2024-03-01T00:00:00",
          "2024-04-01T00:00:00",
          "2024-05-01T00:00:00",
          "2024-06-01T00:00:00"
         ],
         "y": [
          0.7430779073773314,
          0.7832442807490793,
          0.7430779073773314,
          0.7832442807490793,
          0.8280010967918837,
          0.8280010967918837,
          0.7068302045784374,
          0.8781829814459372,
          0.8280010967918837,
          0.7430779073773314,
          0.7832442807490793,
          0.7430779073773314,
          0.7430779073773314,
          0.857214988500977,
          0.8221073871745656,
          0.8209085092770313,
          0.8248240563019834,
          0.8080577643725436,
          0.7864432645534607,
          0.7920512223563475,
          0.7875706438005743,
          0.7788813100866007,
          0.7744339258662218,
          0.7334280615684616,
          0.8387273478102707,
          0.8318366079480503,
          0.7813928194187347,
          0.7872531990123682,
          0.8337351685012715,
          0.8189732731507902,
          0.8193114557823129,
          0.7879100128700128,
          0.7758183783783784,
          0.8201508571428572
         ]
        },
        {
         "hovertemplate": "<b>%{fullData.name}</b><br>%{x|%B %Y}<br>Utilisation Rate: %{y:.2f}<extra></extra>",
         "legendgroup": "North East and Yorkshire",
         "legendgrouptitle": {
          "text": "North East and Yorkshire"
         },
         "line": {
          "width": 1
         },
         "mode": "lines",
         "name": "NHS Humber and North Yorkshire ICB",
         "opacity": 0.5,
         "type": "scatter",
         "visible": "legendonly",
         "x": [
          "2021-09-01T00:00:00",
          "2021-10-01T00:00:00",
          "2021-11-01T00:00:00",
          "2021-12-01T00:00:00",
          "2022-01-01T00:00:00",
          "2022-02-01T00:00:00",
          "2022-03-01T00:00:00",
          "2022-04-01T00:00:00",
          "2022-05-01T00:00:00",
          "2022-06-01T00:00:00",
          "2022-07-01T00:00:00",
          "2022-08-01T00:00:00",
          "2022-09-01T00:00:00",
          "2022-10-01T00:00:00",
          "2022-11-01T00:00:00",
          "2022-12-01T00:00:00",
          "2023-01-01T00:00:00",
          "2023-02-01T00:00:00",
          "2023-03-01T00:00:00",
          "2023-04-01T00:00:00",
          "2023-05-01T00:00:00",
          "2023-06-01T00:00:00",
          "2023-07-01T00:00:00",
          "2023-08-01T00:00:00",
          "2023-09-01T00:00:00",
          "2023-10-01T00:00:00",
          "2023-11-01T00:00:00",
          "2023-12-01T00:00:00",
          "2024-01-01T00:00:00",
          "2024-02-01T00:00:00",
          "2024-03-01T00:00:00",
          "2024-04-01T00:00:00",
          "2024-05-01T00:00:00",
          "2024-06-01T00:00:00"
         ],
         "y": [
          0.7092824428364354,
          0.7476220343411075,
          0.7092824428364354,
          0.7476220343411075,
          0.7903432934463136,
          0.7903432934463136,
          0.6746832992834385,
          0.8382428869885145,
          0.7903432934463136,
          0.7092824428364354,
          0.7476220343411075,
          0.7092824428364354,
          0.7092824428364354,
          0.7905733242928112,
          0.7495508215408919,
          0.7672965842597617,
          0.7994152801765545,
          0.7685066278363754,
          0.7739587963301182,
          0.7708632642022444,
          0.7377385503522726,
          0.7406734295293486,
          0.7254861165227036,
          0.704237328485012,
          0.7917245229181036,
          0.7866124489327432,
          0.7594902466182974,
          0.76306810442551,
          0.7944936423706066,
          0.767182428165377,
          0.7839905325935191,
          0.753987574028994,
          0.7521984070325457,
          0.7951811731486911
         ]
        },
        {
         "hovertemplate": "<b>%{fullData.name}</b><br>%{x|%B %Y}<br>Utilisation Rate: %{y:.2f}<extra></extra>",
         "legendgroup": "North East and Yorkshire",
         "legendgrouptitle": {
          "text": "North East and Yorkshire"
         },
         "line": {
          "width": 1
         },
         "mode": "lines",
         "name": "NHS North East and North Cumbria ICB",
         "opacity": 0.5,
         "type": "scatter",
         "visible": "legendonly",
         "x": [
          "2021-09-01T00:00:00",
          "2021-10-01T00:00:00",
          "2021-11-01T00:00:00",
          "2021-12-01T00:00:00",
          "2022-01-01T00:00:00",
          "2022-02-01T00:00:00",
          "2022-03-01T00:00:00",
          "2022-04-01T00:00:00",
          "2022-05-01T00:00:00",
          "2022-06-01T00:00:00",
          "2022-07-01T00:00:00",
          "2022-08-01T00:00:00",
          "2022-09-01T00:00:00",
          "2022-10-01T00:00:00",
          "2022-11-01T00:00:00",
          "2022-12-01T00:00:00",
          "2023-01-01T00:00:00",
          "2023-02-01T00:00:00",
          "2023-03-01T00:00:00",
          "2023-04-01T00:00:00",
          "2023-05-01T00:00:00",
          "2023-06-01T00:00:00",
          "2023-07-01T00:00:00",
          "2023-08-01T00:00:00",
          "2023-09-01T00:00:00",
          "2023-10-01T00:00:00",
          "2023-11-01T00:00:00",
          "2023-12-01T00:00:00",
          "2024-01-01T00:00:00",
          "2024-02-01T00:00:00",
          "2024-03-01T00:00:00",
          "2024-04-01T00:00:00",
          "2024-05-01T00:00:00",
          "2024-06-01T00:00:00"
         ],
         "y": [
          0.7490663087639785,
          0.7895563795079773,
          0.7490663087639785,
          0.7895563795079773,
          0.8346738869084331,
          0.8346738869084331,
          0.7125264888242722,
          0.8852601830847019,
          0.8346738869084331,
          0.7490663087639785,
          0.7895563795079773,
          0.7490663087639785,
          0.7490663087639785,
          0.8090291070940683,
          0.7910142622291235,
          0.8184934565314463,
          0.8274812964903601,
          0.7947622382948599,
          0.7895798099272837,
          0.7873489706187098,
          0.7482474148650565,
          0.7511063289274121,
          0.7321963599494209,
          0.6963502357847322,
          0.7670647653167681,
          0.7687836320028599,
          0.7580651443725005,
          0.7596762547964296,
          0.7947677474261596,
          0.772016298891754,
          0.7689195834601191,
          0.7404806811636947,
          0.7290959406120772,
          0.7707585657899101
         ]
        },
        {
         "hovertemplate": "<b>%{fullData.name}</b><br>%{x|%B %Y}<br>Utilisation Rate: %{y:.2f}<extra></extra>",
         "legendgroup": "North East and Yorkshire",
         "legendgrouptitle": {
          "text": "North East and Yorkshire"
         },
         "line": {
          "width": 1
         },
         "mode": "lines",
         "name": "NHS South Yorkshire ICB",
         "opacity": 0.5,
         "type": "scatter",
         "visible": "legendonly",
         "x": [
          "2021-09-01T00:00:00",
          "2021-10-01T00:00:00",
          "2021-11-01T00:00:00",
          "2021-12-01T00:00:00",
          "2022-01-01T00:00:00",
          "2022-02-01T00:00:00",
          "2022-03-01T00:00:00",
          "2022-04-01T00:00:00",
          "2022-05-01T00:00:00",
          "2022-06-01T00:00:00",
          "2022-07-01T00:00:00",
          "2022-08-01T00:00:00",
          "2022-09-01T00:00:00",
          "2022-10-01T00:00:00",
          "2022-11-01T00:00:00",
          "2022-12-01T00:00:00",
          "2023-01-01T00:00:00",
          "2023-02-01T00:00:00",
          "2023-03-01T00:00:00",
          "2023-04-01T00:00:00",
          "2023-05-01T00:00:00",
          "2023-06-01T00:00:00",
          "2023-07-01T00:00:00",
          "2023-08-01T00:00:00",
          "2023-09-01T00:00:00",
          "2023-10-01T00:00:00",
          "2023-11-01T00:00:00",
          "2023-12-01T00:00:00",
          "2024-01-01T00:00:00",
          "2024-02-01T00:00:00",
          "2024-03-01T00:00:00",
          "2024-04-01T00:00:00",
          "2024-05-01T00:00:00",
          "2024-06-01T00:00:00"
         ],
         "y": [
          0.7194507841483933,
          0.758340015723982,
          0.7194507841483933,
          0.758340015723982,
          0.8016737309082096,
          0.8016737309082096,
          0.6843556239460326,
          0.8502600176299193,
          0.8016737309082096,
          0.7194507841483933,
          0.758340015723982,
          0.7194507841483933,
          0.7194507841483933,
          0.7990413560033813,
          0.7742166673249656,
          0.78729903588252,
          0.8087895007726231,
          0.7888656071898991,
          0.7852725200191912,
          0.7989367284017537,
          0.7728274046327547,
          0.7770504950233408,
          0.7552744302307415,
          0.7256466554759335,
          0.7920029364072685,
          0.7804313616587985,
          0.7657264516470292,
          0.774855309151338,
          0.8199772549953055,
          0.795701322777135,
          0.8062904390189726,
          0.7815499644922966,
          0.7768159826405522,
          0.8212054673628696
         ]
        },
        {
         "hovertemplate": "<b>%{fullData.name}</b><br>%{x|%B %Y}<br>Utilisation Rate: %{y:.2f}<extra></extra>",
         "legendgroup": "North East and Yorkshire",
         "legendgrouptitle": {
          "text": "North East and Yorkshire"
         },
         "line": {
          "width": 1
         },
         "mode": "lines",
         "name": "NHS West Yorkshire ICB",
         "opacity": 0.5,
         "type": "scatter",
         "visible": "legendonly",
         "x": [
          "2021-09-01T00:00:00",
          "2021-10-01T00:00:00",
          "2021-11-01T00:00:00",
          "2021-12-01T00:00:00",
          "2022-01-01T00:00:00",
          "2022-02-01T00:00:00",
          "2022-03-01T00:00:00",
          "2022-04-01T00:00:00",
          "2022-05-01T00:00:00",
          "2022-06-01T00:00:00",
          "2022-07-01T00:00:00",
          "2022-08-01T00:00:00",
          "2022-09-01T00:00:00",
          "2022-10-01T00:00:00",
          "2022-11-01T00:00:00",
          "2022-12-01T00:00:00",
          "2023-01-01T00:00:00",
          "2023-02-01T00:00:00",
          "2023-03-01T00:00:00",
          "2023-04-01T00:00:00",
          "2023-05-01T00:00:00",
          "2023-06-01T00:00:00",
          "2023-07-01T00:00:00",
          "2023-08-01T00:00:00",
          "2023-09-01T00:00:00",
          "2023-10-01T00:00:00",
          "2023-11-01T00:00:00",
          "2023-12-01T00:00:00",
          "2024-01-01T00:00:00",
          "2024-02-01T00:00:00",
          "2024-03-01T00:00:00",
          "2024-04-01T00:00:00",
          "2024-05-01T00:00:00",
          "2024-06-01T00:00:00"
         ],
         "y": [
          0.7279832282873381,
          0.7673336730596266,
          0.7279832282873381,
          0.7673336730596266,
          0.8111813115201768,
          0.8111813115201768,
          0.6924718512977118,
          0.8603438152486723,
          0.8111813115201768,
          0.7279832282873381,
          0.7673336730596266,
          0.7279832282873381,
          0.7279832282873381,
          0.7892497092253804,
          0.7773244509711622,
          0.7947952002071139,
          0.8188374315752889,
          0.7817413523755145,
          0.8221240587221416,
          0.8237314419603425,
          0.8000985540385442,
          0.7950041410739885,
          0.7857876568156942,
          0.7513779896662336,
          0.8028517489963891,
          0.8021384001323593,
          0.7799542685278139,
          0.7911227930604462,
          0.8091382411779061,
          0.782501085458856,
          0.7957417235167952,
          0.7670133122918522,
          0.770470158785971,
          0.8144970250023121
         ]
        },
        {
         "hovertemplate": "<b>%{fullData.name}</b><br>%{x|%B %Y}<br>Utilisation Rate: %{y:.2f}<extra></extra>",
         "legendgroup": "North West",
         "legendgrouptitle": {
          "text": "North West"
         },
         "line": {
          "width": 1
         },
         "mode": "lines",
         "name": "NHS Cheshire and Merseyside ICB",
         "opacity": 0.5,
         "type": "scatter",
         "visible": "legendonly",
         "x": [
          "2021-09-01T00:00:00",
          "2021-10-01T00:00:00",
          "2021-11-01T00:00:00",
          "2021-12-01T00:00:00",
          "2022-01-01T00:00:00",
          "2022-02-01T00:00:00",
          "2022-03-01T00:00:00",
          "2022-04-01T00:00:00",
          "2022-05-01T00:00:00",
          "2022-06-01T00:00:00",
          "2022-07-01T00:00:00",
          "2022-08-01T00:00:00",
          "2022-09-01T00:00:00",
          "2022-10-01T00:00:00",
          "2022-11-01T00:00:00",
          "2022-12-01T00:00:00",
          "2023-01-01T00:00:00",
          "2023-02-01T00:00:00",
          "2023-03-01T00:00:00",
          "2023-04-01T00:00:00",
          "2023-05-01T00:00:00",
          "2023-06-01T00:00:00",
          "2023-07-01T00:00:00",
          "2023-08-01T00:00:00",
          "2023-09-01T00:00:00",
          "2023-10-01T00:00:00",
          "2023-11-01T00:00:00",
          "2023-12-01T00:00:00",
          "2024-01-01T00:00:00",
          "2024-02-01T00:00:00",
          "2024-03-01T00:00:00",
          "2024-04-01T00:00:00",
          "2024-05-01T00:00:00",
          "2024-06-01T00:00:00"
         ],
         "y": [
          0.7395937166813982,
          0.7795717554209332,
          0.7395937166813982,
          0.7795717554209332,
          0.824118712873558,
          0.824118712873558,
          0.7035159744042568,
          0.8740653015325615,
          0.824118712873558,
          0.7395937166813982,
          0.7795717554209332,
          0.7395937166813982,
          0.7395937166813982,
          0.8144147450126671,
          0.7972294213435471,
          0.8152198344074677,
          0.8318157840416505,
          0.7981468314946905,
          0.7861324207118454,
          0.7860113710148676,
          0.7603026281449555,
          0.751235958289922,
          0.7441013297330449,
          0.7279589230884946,
          0.787426661606036,
          0.7887983894187046,
          0.7762330276675068,
          0.7805989593531593,
          0.825348098958851,
          0.7982247432234508,
          0.8083476735053294,
          0.7729682741593015,
          0.7743217765909376,
          0.8185687352532768
         ]
        },
        {
         "hovertemplate": "<b>%{fullData.name}</b><br>%{x|%B %Y}<br>Utilisation Rate: %{y:.2f}<extra></extra>",
         "legendgroup": "North West",
         "legendgrouptitle": {
          "text": "North West"
         },
         "line": {
          "width": 1
         },
         "mode": "lines",
         "name": "NHS Greater Manchester ICB",
         "opacity": 0.5,
         "type": "scatter",
         "visible": "legendonly",
         "x": [
          "2021-09-01T00:00:00",
          "2021-10-01T00:00:00",
          "2021-11-01T00:00:00",
          "2021-12-01T00:00:00",
          "2022-01-01T00:00:00",
          "2022-02-01T00:00:00",
          "2022-03-01T00:00:00",
          "2022-04-01T00:00:00",
          "2022-05-01T00:00:00",
          "2022-06-01T00:00:00",
          "2022-07-01T00:00:00",
          "2022-08-01T00:00:00",
          "2022-09-01T00:00:00",
          "2022-10-01T00:00:00",
          "2022-11-01T00:00:00",
          "2022-12-01T00:00:00",
          "2023-01-01T00:00:00",
          "2023-02-01T00:00:00",
          "2023-03-01T00:00:00",
          "2023-04-01T00:00:00",
          "2023-05-01T00:00:00",
          "2023-06-01T00:00:00",
          "2023-07-01T00:00:00",
          "2023-08-01T00:00:00",
          "2023-09-01T00:00:00",
          "2023-10-01T00:00:00",
          "2023-11-01T00:00:00",
          "2023-12-01T00:00:00",
          "2024-01-01T00:00:00",
          "2024-02-01T00:00:00",
          "2024-03-01T00:00:00",
          "2024-04-01T00:00:00",
          "2024-05-01T00:00:00",
          "2024-06-01T00:00:00"
         ],
         "y": [
          0.7751250397073298,
          0.8170236905023206,
          0.7751250397073298,
          0.8170236905023206,
          0.8637107585310247,
          0.8637107585310247,
          0.7373140621606308,
          0.9160568651086625,
          0.8637107585310247,
          0.7751250397073298,
          0.8170236905023206,
          0.7751250397073298,
          0.7751250397073298,
          0.8579140659525601,
          0.8411064792871495,
          0.8502726257608795,
          0.8592922213075058,
          0.8379368155196064,
          0.8452223332770847,
          0.8285464128139538,
          0.8085657504231214,
          0.7959134473237719,
          0.7944277433367375,
          0.7509245234098879,
          0.824631170948583,
          0.8321258608234808,
          0.81956870735828,
          0.8184451902788862,
          0.8544324963299283,
          0.8410168102310966,
          0.8453261621019098,
          0.7940807543851865,
          0.7991315766274728,
          0.8447962381490426
         ]
        },
        {
         "hovertemplate": "<b>%{fullData.name}</b><br>%{x|%B %Y}<br>Utilisation Rate: %{y:.2f}<extra></extra>",
         "legendgroup": "North West",
         "legendgrouptitle": {
          "text": "North West"
         },
         "line": {
          "width": 1
         },
         "mode": "lines",
         "name": "NHS Lancashire and South Cumbria ICB",
         "opacity": 0.5,
         "type": "scatter",
         "visible": "legendonly",
         "x": [
          "2021-09-01T00:00:00",
          "2021-10-01T00:00:00",
          "2021-11-01T00:00:00",
          "2021-12-01T00:00:00",
          "2022-01-01T00:00:00",
          "2022-02-01T00:00:00",
          "2022-03-01T00:00:00",
          "2022-04-01T00:00:00",
          "2022-05-01T00:00:00",
          "2022-06-01T00:00:00",
          "2022-07-01T00:00:00",
          "2022-08-01T00:00:00",
          "2022-09-01T00:00:00",
          "2022-10-01T00:00:00",
          "2022-11-01T00:00:00",
          "2022-12-01T00:00:00",
          "2023-01-01T00:00:00",
          "2023-02-01T00:00:00",
          "2023-03-01T00:00:00",
          "2023-04-01T00:00:00",
          "2023-05-01T00:00:00",
          "2023-06-01T00:00:00",
          "2023-07-01T00:00:00",
          "2023-08-01T00:00:00",
          "2023-09-01T00:00:00",
          "2023-10-01T00:00:00",
          "2023-11-01T00:00:00",
          "2023-12-01T00:00:00",
          "2024-01-01T00:00:00",
          "2024-02-01T00:00:00",
          "2024-03-01T00:00:00",
          "2024-04-01T00:00:00",
          "2024-05-01T00:00:00",
          "2024-06-01T00:00:00"
         ],
         "y": [
          0.816883576548283,
          0.861039445550893,
          0.816883576548283,
          0.861039445550893,
          0.9102416995823726,
          0.9102416995823726,
          0.7770355972044644,
          0.9654078631934254,
          0.9102416995823726,
          0.816883576548283,
          0.861039445550893,
          0.816883576548283,
          0.816883576548283,
          0.8733384955078937,
          0.8626971677140574,
          0.8876028429637837,
          0.8930449278253606,
          0.8574621841730561,
          0.8400081967274341,
          0.8096060582210693,
          0.795221510596624,
          0.7931434069841737,
          0.7807242504915973,
          0.7469001966587641,
          0.8381557249481778,
          0.8189232151496303,
          0.8051843334862204,
          0.8003237471505054,
          0.8428636353164656,
          0.8286058663417154,
          0.8432673354161665,
          0.7938315022180925,
          0.8045965068136746,
          0.8505734500601702
         ]
        },
        {
         "hovertemplate": "<b>%{fullData.name}</b><br>%{x|%B %Y}<br>Utilisation Rate: %{y:.2f}<extra></extra>",
         "legendgroup": "South East",
         "legendgrouptitle": {
          "text": "South East"
         },
         "line": {
          "width": 2
         },
         "mode": "lines",
         "name": "NHS Frimley ICB",
         "opacity": 1,
         "type": "scatter",
         "visible": true,
         "x": [
          "2021-09-01T00:00:00",
          "2021-10-01T00:00:00",
          "2021-11-01T00:00:00",
          "2021-12-01T00:00:00",
          "2022-01-01T00:00:00",
          "2022-02-01T00:00:00",
          "2022-03-01T00:00:00",
          "2022-04-01T00:00:00",
          "2022-05-01T00:00:00",
          "2022-06-01T00:00:00",
          "2022-07-01T00:00:00",
          "2022-08-01T00:00:00",
          "2022-09-01T00:00:00",
          "2022-10-01T00:00:00",
          "2022-11-01T00:00:00",
          "2022-12-01T00:00:00",
          "2023-01-01T00:00:00",
          "2023-02-01T00:00:00",
          "2023-03-01T00:00:00",
          "2023-04-01T00:00:00",
          "2023-05-01T00:00:00",
          "2023-06-01T00:00:00",
          "2023-07-01T00:00:00",
          "2023-08-01T00:00:00",
          "2023-09-01T00:00:00",
          "2023-10-01T00:00:00",
          "2023-11-01T00:00:00",
          "2023-12-01T00:00:00",
          "2024-01-01T00:00:00",
          "2024-02-01T00:00:00",
          "2024-03-01T00:00:00",
          "2024-04-01T00:00:00",
          "2024-05-01T00:00:00",
          "2024-06-01T00:00:00"
         ],
         "y": [
          0.9521461149368126,
          1.0036134725009644,
          0.9521461149368126,
          1.0036134725009644,
          1.060962813786734,
          1.060962813786734,
          0.9056999629886754,
          1.1252635903798696,
          1.060962813786734,
          0.9521461149368126,
          1.0036134725009644,
          0.9521461149368126,
          0.9521461149368126,
          1.0100347271937464,
          1.0111731972197089,
          1.0434202593671031,
          1.0233917135237058,
          0.9960774253133057,
          0.981993063704626,
          0.9601114908737003,
          0.9425901845789377,
          0.9226100151745068,
          0.8912911840699042,
          0.8450666831457692,
          1.0254829101124716,
          0.9879355808216851,
          0.99380003213398,
          0.9857252957142381,
          1.0552279149772703,
          1.0218118966736736,
          1.001023872393167,
          0.9480371267044443,
          0.9598009929960137,
          1.0146467640243575
         ]
        },
        {
         "hovertemplate": "<b>%{fullData.name}</b><br>%{x|%B %Y}<br>Utilisation Rate: %{y:.2f}<extra></extra>",
         "legendgroup": "South East",
         "legendgrouptitle": {
          "text": "South East"
         },
         "line": {
          "width": 2
         },
         "mode": "lines",
         "name": "NHS Kent and Medway ICB",
         "opacity": 1,
         "type": "scatter",
         "visible": true,
         "x": [
          "2021-09-01T00:00:00",
          "2021-10-01T00:00:00",
          "2021-11-01T00:00:00",
          "2021-12-01T00:00:00",
          "2022-01-01T00:00:00",
          "2022-02-01T00:00:00",
          "2022-03-01T00:00:00",
          "2022-04-01T00:00:00",
          "2022-05-01T00:00:00",
          "2022-06-01T00:00:00",
          "2022-07-01T00:00:00",
          "2022-08-01T00:00:00",
          "2022-09-01T00:00:00",
          "2022-10-01T00:00:00",
          "2022-11-01T00:00:00",
          "2022-12-01T00:00:00",
          "2023-01-01T00:00:00",
          "2023-02-01T00:00:00",
          "2023-03-01T00:00:00",
          "2023-04-01T00:00:00",
          "2023-05-01T00:00:00",
          "2023-06-01T00:00:00",
          "2023-07-01T00:00:00",
          "2023-08-01T00:00:00",
          "2023-09-01T00:00:00",
          "2023-10-01T00:00:00",
          "2023-11-01T00:00:00",
          "2023-12-01T00:00:00",
          "2024-01-01T00:00:00",
          "2024-02-01T00:00:00",
          "2024-03-01T00:00:00",
          "2024-04-01T00:00:00",
          "2024-05-01T00:00:00",
          "2024-06-01T00:00:00"
         ],
         "y": [
          0.8747201698066595,
          0.92200234114756,
          0.8747201698066595,
          0.92200234114756,
          0.9746881892131347,
          0.9746881892131347,
          0.8320508932307248,
          1.0337602006805975,
          0.9746881892131347,
          0.8747201698066595,
          0.92200234114756,
          0.8747201698066595,
          0.8747201698066595,
          0.97762875828328,
          0.9496199549023107,
          0.9457387197111123,
          0.9870375315390795,
          0.9531395642457936,
          0.9402817599421311,
          0.9433384258117482,
          0.8791365330130787,
          0.8869571395303859,
          0.8588761782460792,
          0.8130272040375175,
          0.9391920778089626,
          0.9103109589663203,
          0.898256999069279,
          0.8864714406539697,
          0.9459675453445939,
          0.9295809520560645,
          0.94845662647825,
          0.9128414359171177,
          0.9081159584629005,
          0.960008298946495
         ]
        },
        {
         "hovertemplate": "<b>%{fullData.name}</b><br>%{x|%B %Y}<br>Utilisation Rate: %{y:.2f}<extra></extra>",
         "legendgroup": "South East",
         "legendgrouptitle": {
          "text": "South East"
         },
         "line": {
          "width": 1
         },
         "mode": "lines",
         "name": "NHS Surrey Heartlands ICB",
         "opacity": 0.5,
         "type": "scatter",
         "visible": "legendonly",
         "x": [
          "2021-09-01T00:00:00",
          "2021-10-01T00:00:00",
          "2021-11-01T00:00:00",
          "2021-12-01T00:00:00",
          "2022-01-01T00:00:00",
          "2022-02-01T00:00:00",
          "2022-03-01T00:00:00",
          "2022-04-01T00:00:00",
          "2022-05-01T00:00:00",
          "2022-06-01T00:00:00",
          "2022-07-01T00:00:00",
          "2022-08-01T00:00:00",
          "2022-09-01T00:00:00",
          "2022-10-01T00:00:00",
          "2022-11-01T00:00:00",
          "2022-12-01T00:00:00",
          "2023-01-01T00:00:00",
          "2023-02-01T00:00:00",
          "2023-03-01T00:00:00",
          "2023-04-01T00:00:00",
          "2023-05-01T00:00:00",
          "2023-06-01T00:00:00",
          "2023-07-01T00:00:00",
          "2023-08-01T00:00:00",
          "2023-09-01T00:00:00",
          "2023-10-01T00:00:00",
          "2023-11-01T00:00:00",
          "2023-12-01T00:00:00",
          "2024-01-01T00:00:00",
          "2024-02-01T00:00:00",
          "2024-03-01T00:00:00",
          "2024-04-01T00:00:00",
          "2024-05-01T00:00:00",
          "2024-06-01T00:00:00"
         ],
         "y": [
          0.7468873879634043,
          0.7872596792046693,
          0.7468873879634043,
          0.7872596792046693,
          0.8322459465877934,
          0.8322459465877934,
          0.7104538568432383,
          0.8826850948658415,
          0.8322459465877934,
          0.7468873879634043,
          0.7872596792046693,
          0.7468873879634043,
          0.7468873879634043,
          0.8757459287911155,
          0.8129487760740595,
          0.8342368829598692,
          0.8296283974083581,
          0.8090706935500649,
          0.7728738841725027,
          0.7769265403300263,
          0.7493178292070379,
          0.7557954455255276,
          0.7730378507546812,
          0.7434128897225623,
          0.8570905088069795,
          0.9017536687150008,
          0.8707408071798767,
          0.8687745177793446,
          0.9255827600640227,
          0.9089488642609747,
          0.9213468311568286,
          0.8800250956330218,
          0.9021380509597094,
          0.9536887967288357
         ]
        },
        {
         "hovertemplate": "<b>%{fullData.name}</b><br>%{x|%B %Y}<br>Utilisation Rate: %{y:.2f}<extra></extra>",
         "legendgroup": "South East",
         "legendgrouptitle": {
          "text": "South East"
         },
         "line": {
          "width": 1
         },
         "mode": "lines",
         "name": "NHS Sussex ICB",
         "opacity": 0.5,
         "type": "scatter",
         "visible": "legendonly",
         "x": [
          "2021-09-01T00:00:00",
          "2021-10-01T00:00:00",
          "2021-11-01T00:00:00",
          "2021-12-01T00:00:00",
          "2022-01-01T00:00:00",
          "2022-02-01T00:00:00",
          "2022-03-01T00:00:00",
          "2022-04-01T00:00:00",
          "2022-05-01T00:00:00",
          "2022-06-01T00:00:00",
          "2022-07-01T00:00:00",
          "2022-08-01T00:00:00",
          "2022-09-01T00:00:00",
          "2022-10-01T00:00:00",
          "2022-11-01T00:00:00",
          "2022-12-01T00:00:00",
          "2023-01-01T00:00:00",
          "2023-02-01T00:00:00",
          "2023-03-01T00:00:00",
          "2023-04-01T00:00:00",
          "2023-05-01T00:00:00",
          "2023-06-01T00:00:00",
          "2023-07-01T00:00:00",
          "2023-08-01T00:00:00",
          "2023-09-01T00:00:00",
          "2023-10-01T00:00:00",
          "2023-11-01T00:00:00",
          "2023-12-01T00:00:00",
          "2024-01-01T00:00:00",
          "2024-02-01T00:00:00",
          "2024-03-01T00:00:00",
          "2024-04-01T00:00:00",
          "2024-05-01T00:00:00",
          "2024-06-01T00:00:00"
         ],
         "y": [
          0.7960907714822281,
          0.8391227050758622,
          0.7960907714822281,
          0.8391227050758622,
          0.8870725739373398,
          0.8870725739373398,
          0.7572570753123634,
          0.9408345481153606,
          0.8870725739373398,
          0.7960907714822281,
          0.8391227050758622,
          0.7960907714822281,
          0.7960907714822281,
          0.8880627532622031,
          0.8598833976158691,
          0.8402458162515444,
          0.8848319971155418,
          0.8602082923953625,
          0.870804602917526,
          0.8594947899668255,
          0.8345114506296039,
          0.8387518723604317,
          0.7981380613081974,
          0.7800092040119952,
          0.8058250048750752,
          0.8110451360514809,
          0.7963285762495361,
          0.7672827033981451,
          0.8216730395041549,
          0.8008823151856397,
          0.8027340310756144,
          0.7601756194787731,
          0.7756778855327312,
          0.8200023361346017
         ]
        },
        {
         "hovertemplate": "<b>%{fullData.name}</b><br>%{x|%B %Y}<br>Utilisation Rate: %{y:.2f}<extra></extra>",
         "legendgroup": "South West",
         "legendgrouptitle": {
          "text": "South West"
         },
         "line": {
          "width": 2
         },
         "mode": "lines",
         "name": "NHS Devon ICB",
         "opacity": 1,
         "type": "scatter",
         "visible": true,
         "x": [
          "2021-09-01T00:00:00",
          "2021-10-01T00:00:00",
          "2021-11-01T00:00:00",
          "2021-12-01T00:00:00",
          "2022-01-01T00:00:00",
          "2022-02-01T00:00:00",
          "2022-03-01T00:00:00",
          "2022-04-01T00:00:00",
          "2022-05-01T00:00:00",
          "2022-06-01T00:00:00",
          "2022-07-01T00:00:00",
          "2022-08-01T00:00:00",
          "2022-09-01T00:00:00",
          "2022-10-01T00:00:00",
          "2022-11-01T00:00:00",
          "2022-12-01T00:00:00",
          "2023-01-01T00:00:00",
          "2023-02-01T00:00:00",
          "2023-03-01T00:00:00",
          "2023-04-01T00:00:00",
          "2023-05-01T00:00:00",
          "2023-06-01T00:00:00",
          "2023-07-01T00:00:00",
          "2023-08-01T00:00:00",
          "2023-09-01T00:00:00",
          "2023-10-01T00:00:00",
          "2023-11-01T00:00:00",
          "2023-12-01T00:00:00",
          "2024-01-01T00:00:00",
          "2024-02-01T00:00:00",
          "2024-03-01T00:00:00",
          "2024-04-01T00:00:00",
          "2024-05-01T00:00:00",
          "2024-06-01T00:00:00"
         ],
         "y": [
          0.7032757434924869,
          0.7412906485461349,
          0.7032757434924869,
          0.7412906485461349,
          0.7836501141773425,
          0.7836501141773425,
          0.6689696096635851,
          0.8311440604911209,
          0.7836501141773425,
          0.7032757434924869,
          0.7412906485461349,
          0.7032757434924869,
          0.7032757434924869,
          0.7796718094415196,
          0.7546205947939896,
          0.7898972790958703,
          0.8160683034700916,
          0.7995157332507644,
          0.7887136696642187,
          0.77215833926936,
          0.7420412107207961,
          0.7393775920139147,
          0.7297778690297843,
          0.6879755865785608,
          0.7567932243256918,
          0.7798781305274812,
          0.7542219685076827,
          0.7277991587318624,
          0.7962621793790625,
          0.7824709513021202,
          0.8089070254570461,
          0.7499403003725771,
          0.7360494738016352,
          0.7781094437331572
         ]
        },
        {
         "hovertemplate": "<b>%{fullData.name}</b><br>%{x|%B %Y}<br>Utilisation Rate: %{y:.2f}<extra></extra>",
         "legendgroup": "South West",
         "legendgrouptitle": {
          "text": "South West"
         },
         "line": {
          "width": 2
         },
         "mode": "lines",
         "name": "NHS Dorset ICB",
         "opacity": 1,
         "type": "scatter",
         "visible": true,
         "x": [
          "2021-09-01T00:00:00",
          "2021-10-01T00:00:00",
          "2021-11-01T00:00:00",
          "2021-12-01T00:00:00",
          "2022-01-01T00:00:00",
          "2022-02-01T00:00:00",
          "2022-03-01T00:00:00",
          "2022-04-01T00:00:00",
          "2022-05-01T00:00:00",
          "2022-06-01T00:00:00",
          "2022-07-01T00:00:00",
          "2022-08-01T00:00:00",
          "2022-09-01T00:00:00",
          "2022-10-01T00:00:00",
          "2022-11-01T00:00:00",
          "2022-12-01T00:00:00",
          "2023-01-01T00:00:00",
          "2023-02-01T00:00:00",
          "2023-03-01T00:00:00",
          "2023-04-01T00:00:00",
          "2023-05-01T00:00:00",
          "2023-06-01T00:00:00",
          "2023-07-01T00:00:00",
          "2023-08-01T00:00:00",
          "2023-09-01T00:00:00",
          "2023-10-01T00:00:00",
          "2023-11-01T00:00:00",
          "2023-12-01T00:00:00",
          "2024-01-01T00:00:00",
          "2024-02-01T00:00:00",
          "2024-03-01T00:00:00",
          "2024-04-01T00:00:00",
          "2024-05-01T00:00:00",
          "2024-06-01T00:00:00"
         ],
         "y": [
          0.6892214597451035,
          0.7264766737853794,
          0.6892214597451035,
          0.7264766737853794,
          0.7679896265731154,
          0.7679896265731154,
          0.6556009007331473,
          0.8145344524260315,
          0.7679896265731154,
          0.6892214597451035,
          0.7264766737853794,
          0.6892214597451035,
          0.6892214597451035,
          0.7627088252460842,
          0.7660957210388952,
          0.7679192982552534,
          0.7968370670626397,
          0.7701390357877734,
          0.7404536075090975,
          0.7496894961490418,
          0.7137595293954259,
          0.7075172579301777,
          0.6955424501396239,
          0.6606001571683349,
          0.7386002474093321,
          0.7468849287993757,
          0.717388831386604,
          0.6852347623165361,
          0.7593147849843667,
          0.7202562319864639,
          0.7549850525311654,
          0.728869279050812,
          0.7142933924784284,
          0.7551101577629099
         ]
        },
        {
         "hovertemplate": "<b>%{fullData.name}</b><br>%{x|%B %Y}<br>Utilisation Rate: %{y:.2f}<extra></extra>",
         "legendgroup": "South West",
         "legendgrouptitle": {
          "text": "South West"
         },
         "line": {
          "width": 2
         },
         "mode": "lines",
         "name": "NHS Gloucestershire ICB",
         "opacity": 1,
         "type": "scatter",
         "visible": true,
         "x": [
          "2021-09-01T00:00:00",
          "2021-10-01T00:00:00",
          "2021-11-01T00:00:00",
          "2021-12-01T00:00:00",
          "2022-01-01T00:00:00",
          "2022-02-01T00:00:00",
          "2022-03-01T00:00:00",
          "2022-04-01T00:00:00",
          "2022-05-01T00:00:00",
          "2022-06-01T00:00:00",
          "2022-07-01T00:00:00",
          "2022-08-01T00:00:00",
          "2022-09-01T00:00:00",
          "2022-10-01T00:00:00",
          "2022-11-01T00:00:00",
          "2022-12-01T00:00:00",
          "2023-01-01T00:00:00",
          "2023-02-01T00:00:00",
          "2023-03-01T00:00:00",
          "2023-04-01T00:00:00",
          "2023-05-01T00:00:00",
          "2023-06-01T00:00:00",
          "2023-07-01T00:00:00",
          "2023-08-01T00:00:00",
          "2023-09-01T00:00:00",
          "2023-10-01T00:00:00",
          "2023-11-01T00:00:00",
          "2023-12-01T00:00:00",
          "2024-01-01T00:00:00",
          "2024-02-01T00:00:00",
          "2024-03-01T00:00:00",
          "2024-04-01T00:00:00",
          "2024-05-01T00:00:00",
          "2024-06-01T00:00:00"
         ],
         "y": [
          0.6714259195751281,
          0.7077192125251349,
          0.6714259195751281,
          0.7077192125251349,
          0.7481603103837142,
          0.7481603103837142,
          0.6386734356934146,
          0.7935033594978786,
          0.7481603103837142,
          0.6714259195751281,
          0.7077192125251349,
          0.6714259195751281,
          0.6714259195751281,
          0.7509332720179789,
          0.7146640154125122,
          0.733571340925425,
          0.7465557094580776,
          0.712484881064373,
          0.7462684710166265,
          0.7531416096669976,
          0.703663193885945,
          0.711679070801669,
          0.7097248583390395,
          0.6808278724619483,
          0.7338058649646955,
          0.7710875350016401,
          0.7183018780088836,
          0.7217027218279332,
          0.7637246828381868,
          0.7470489333633389,
          0.7564492350822921,
          0.741005089000352,
          0.7074304891933042,
          0.7478550885757788
         ]
        },
        {
         "hovertemplate": "<b>%{fullData.name}</b><br>%{x|%B %Y}<br>Utilisation Rate: %{y:.2f}<extra></extra>",
         "legendgroup": "South West",
         "legendgrouptitle": {
          "text": "South West"
         },
         "line": {
          "width": 1
         },
         "mode": "lines",
         "name": "NHS Somerset ICB",
         "opacity": 0.5,
         "type": "scatter",
         "visible": "legendonly",
         "x": [
          "2021-09-01T00:00:00",
          "2021-10-01T00:00:00",
          "2021-11-01T00:00:00",
          "2021-12-01T00:00:00",
          "2022-01-01T00:00:00",
          "2022-02-01T00:00:00",
          "2022-03-01T00:00:00",
          "2022-04-01T00:00:00",
          "2022-05-01T00:00:00",
          "2022-06-01T00:00:00",
          "2022-07-01T00:00:00",
          "2022-08-01T00:00:00",
          "2022-09-01T00:00:00",
          "2022-10-01T00:00:00",
          "2022-11-01T00:00:00",
          "2022-12-01T00:00:00",
          "2023-01-01T00:00:00",
          "2023-02-01T00:00:00",
          "2023-03-01T00:00:00",
          "2023-04-01T00:00:00",
          "2023-05-01T00:00:00",
          "2023-06-01T00:00:00",
          "2023-07-01T00:00:00",
          "2023-08-01T00:00:00",
          "2023-09-01T00:00:00",
          "2023-10-01T00:00:00",
          "2023-11-01T00:00:00",
          "2023-12-01T00:00:00",
          "2024-01-01T00:00:00",
          "2024-02-01T00:00:00",
          "2024-03-01T00:00:00",
          "2024-04-01T00:00:00",
          "2024-05-01T00:00:00",
          "2024-06-01T00:00:00"
         ],
         "y": [
          0.7243677065560016,
          0.7635227177211908,
          0.7243677065560016,
          0.7635227177211908,
          0.807152587305259,
          0.807152587305259,
          0.6890326964800991,
          0.85607092592982,
          0.807152587305259,
          0.7243677065560016,
          0.7635227177211908,
          0.7243677065560016,
          0.7243677065560016,
          0.8343166205761624,
          0.793518798607857,
          0.8072818332360315,
          0.7865019773416718,
          0.77206819191552,
          0.7896259198225548,
          0.7783026144449874,
          0.7355140666032708,
          0.7263306364051736,
          0.7194903487281463,
          0.6980584446321403,
          0.8044382113838925,
          0.815165837427636,
          0.753775165173206,
          0.7382233244776757,
          0.7588619948370615,
          0.7466311936481125,
          0.7717234049847441,
          0.7217757714517974,
          0.6865497607038283,
          0.72578117560119
         ]
        },
        {
         "line": {
          "color": "rgba(0,0,0,0.5)",
          "dash": "dot",
          "width": 2
         },
         "mode": "lines",
         "name": "National Average Trend",
         "showlegend": true,
         "type": "scatter",
         "x": [
          "2021-09-01T00:00:00",
          "2021-10-01T00:00:00",
          "2021-11-01T00:00:00",
          "2021-12-01T00:00:00",
          "2022-01-01T00:00:00",
          "2022-02-01T00:00:00",
          "2022-03-01T00:00:00",
          "2022-04-01T00:00:00",
          "2022-05-01T00:00:00",
          "2022-06-01T00:00:00",
          "2022-07-01T00:00:00",
          "2022-08-01T00:00:00",
          "2022-09-01T00:00:00",
          "2022-10-01T00:00:00",
          "2022-11-01T00:00:00",
          "2022-12-01T00:00:00",
          "2023-01-01T00:00:00",
          "2023-02-01T00:00:00",
          "2023-03-01T00:00:00",
          "2023-04-01T00:00:00",
          "2023-05-01T00:00:00",
          "2023-06-01T00:00:00",
          "2023-07-01T00:00:00",
          "2023-08-01T00:00:00",
          "2023-09-01T00:00:00",
          "2023-10-01T00:00:00",
          "2023-11-01T00:00:00",
          "2023-12-01T00:00:00",
          "2024-01-01T00:00:00",
          "2024-02-01T00:00:00",
          "2024-03-01T00:00:00",
          "2024-04-01T00:00:00",
          "2024-05-01T00:00:00",
          "2024-06-01T00:00:00"
         ],
         "y": [
          0.8167968868399593,
          0.8174131313209536,
          0.8180499172846478,
          0.8186661617656421,
          0.8193029477293362,
          0.8199397336930303,
          0.8205148952086251,
          0.8211516811723192,
          0.8217679256533135,
          0.8224047116170077,
          0.823020956098002,
          0.8236577420616961,
          0.8242945280253902,
          0.8249107725063846,
          0.8255475584700787,
          0.826163802951073,
          0.826800588914767,
          0.8274373748784613,
          0.8280125363940559,
          0.82864932235775,
          0.8292655668387444,
          0.8299023528024385,
          0.8305185972834328,
          0.8311553832471269,
          0.8317921692108211,
          0.8324084136918154,
          0.8330451996555095,
          0.8336614441365039,
          0.834298230100198,
          0.8349350160638921,
          0.8355307190621866,
          0.8361675050258808,
          0.8367837495068751,
          0.8374205354705692
         ]
        }
       ],
       "layout": {
        "height": 900,
        "hovermode": "closest",
        "legend": {
         "groupclick": "togglegroup",
         "title": {
          "text": "Regions and ICBs"
         },
         "tracegroupgap": 10,
         "traceorder": "grouped"
        },
        "shapes": [
         {
          "line": {
           "color": "gray",
           "dash": "dash"
          },
          "opacity": 0.3,
          "type": "line",
          "x0": "2021-10-01T00:00:00",
          "x1": "2021-10-01T00:00:00",
          "xref": "x",
          "y0": 0,
          "y1": 1,
          "yref": "y domain"
         },
         {
          "line": {
           "color": "gray",
           "dash": "dash"
          },
          "opacity": 0.3,
          "type": "line",
          "x0": "2022-01-01T00:00:00",
          "x1": "2022-01-01T00:00:00",
          "xref": "x",
          "y0": 0,
          "y1": 1,
          "yref": "y domain"
         },
         {
          "line": {
           "color": "gray",
           "dash": "dash"
          },
          "opacity": 0.3,
          "type": "line",
          "x0": "2022-04-01T00:00:00",
          "x1": "2022-04-01T00:00:00",
          "xref": "x",
          "y0": 0,
          "y1": 1,
          "yref": "y domain"
         },
         {
          "line": {
           "color": "gray",
           "dash": "dash"
          },
          "opacity": 0.3,
          "type": "line",
          "x0": "2022-07-01T00:00:00",
          "x1": "2022-07-01T00:00:00",
          "xref": "x",
          "y0": 0,
          "y1": 1,
          "yref": "y domain"
         },
         {
          "line": {
           "color": "gray",
           "dash": "dash"
          },
          "opacity": 0.3,
          "type": "line",
          "x0": "2022-10-01T00:00:00",
          "x1": "2022-10-01T00:00:00",
          "xref": "x",
          "y0": 0,
          "y1": 1,
          "yref": "y domain"
         },
         {
          "line": {
           "color": "gray",
           "dash": "dash"
          },
          "opacity": 0.3,
          "type": "line",
          "x0": "2023-01-01T00:00:00",
          "x1": "2023-01-01T00:00:00",
          "xref": "x",
          "y0": 0,
          "y1": 1,
          "yref": "y domain"
         },
         {
          "line": {
           "color": "gray",
           "dash": "dash"
          },
          "opacity": 0.3,
          "type": "line",
          "x0": "2023-04-01T00:00:00",
          "x1": "2023-04-01T00:00:00",
          "xref": "x",
          "y0": 0,
          "y1": 1,
          "yref": "y domain"
         },
         {
          "line": {
           "color": "gray",
           "dash": "dash"
          },
          "opacity": 0.3,
          "type": "line",
          "x0": "2023-07-01T00:00:00",
          "x1": "2023-07-01T00:00:00",
          "xref": "x",
          "y0": 0,
          "y1": 1,
          "yref": "y domain"
         },
         {
          "line": {
           "color": "gray",
           "dash": "dash"
          },
          "opacity": 0.3,
          "type": "line",
          "x0": "2023-10-01T00:00:00",
          "x1": "2023-10-01T00:00:00",
          "xref": "x",
          "y0": 0,
          "y1": 1,
          "yref": "y domain"
         },
         {
          "line": {
           "color": "gray",
           "dash": "dash"
          },
          "opacity": 0.3,
          "type": "line",
          "x0": "2024-01-01T00:00:00",
          "x1": "2024-01-01T00:00:00",
          "xref": "x",
          "y0": 0,
          "y1": 1,
          "yref": "y domain"
         },
         {
          "line": {
           "color": "gray",
           "dash": "dash"
          },
          "opacity": 0.3,
          "type": "line",
          "x0": "2024-04-01T00:00:00",
          "x1": "2024-04-01T00:00:00",
          "xref": "x",
          "y0": 0,
          "y1": 1,
          "yref": "y domain"
         },
         {
          "line": {
           "color": "Red",
           "dash": "dash",
           "width": 1
          },
          "type": "line",
          "x0": "2021-09-01",
          "x1": "2024-06-30",
          "y0": 1,
          "y1": 1
         }
        ],
        "template": {
         "data": {
          "bar": [
           {
            "error_x": {
             "color": "#2a3f5f"
            },
            "error_y": {
             "color": "#2a3f5f"
            },
            "marker": {
             "line": {
              "color": "#E5ECF6",
              "width": 0.5
             },
             "pattern": {
              "fillmode": "overlay",
              "size": 10,
              "solidity": 0.2
             }
            },
            "type": "bar"
           }
          ],
          "barpolar": [
           {
            "marker": {
             "line": {
              "color": "#E5ECF6",
              "width": 0.5
             },
             "pattern": {
              "fillmode": "overlay",
              "size": 10,
              "solidity": 0.2
             }
            },
            "type": "barpolar"
           }
          ],
          "carpet": [
           {
            "aaxis": {
             "endlinecolor": "#2a3f5f",
             "gridcolor": "white",
             "linecolor": "white",
             "minorgridcolor": "white",
             "startlinecolor": "#2a3f5f"
            },
            "baxis": {
             "endlinecolor": "#2a3f5f",
             "gridcolor": "white",
             "linecolor": "white",
             "minorgridcolor": "white",
             "startlinecolor": "#2a3f5f"
            },
            "type": "carpet"
           }
          ],
          "choropleth": [
           {
            "colorbar": {
             "outlinewidth": 0,
             "ticks": ""
            },
            "type": "choropleth"
           }
          ],
          "contour": [
           {
            "colorbar": {
             "outlinewidth": 0,
             "ticks": ""
            },
            "colorscale": [
             [
              0,
              "#0d0887"
             ],
             [
              0.1111111111111111,
              "#46039f"
             ],
             [
              0.2222222222222222,
              "#7201a8"
             ],
             [
              0.3333333333333333,
              "#9c179e"
             ],
             [
              0.4444444444444444,
              "#bd3786"
             ],
             [
              0.5555555555555556,
              "#d8576b"
             ],
             [
              0.6666666666666666,
              "#ed7953"
             ],
             [
              0.7777777777777778,
              "#fb9f3a"
             ],
             [
              0.8888888888888888,
              "#fdca26"
             ],
             [
              1,
              "#f0f921"
             ]
            ],
            "type": "contour"
           }
          ],
          "contourcarpet": [
           {
            "colorbar": {
             "outlinewidth": 0,
             "ticks": ""
            },
            "type": "contourcarpet"
           }
          ],
          "heatmap": [
           {
            "colorbar": {
             "outlinewidth": 0,
             "ticks": ""
            },
            "colorscale": [
             [
              0,
              "#0d0887"
             ],
             [
              0.1111111111111111,
              "#46039f"
             ],
             [
              0.2222222222222222,
              "#7201a8"
             ],
             [
              0.3333333333333333,
              "#9c179e"
             ],
             [
              0.4444444444444444,
              "#bd3786"
             ],
             [
              0.5555555555555556,
              "#d8576b"
             ],
             [
              0.6666666666666666,
              "#ed7953"
             ],
             [
              0.7777777777777778,
              "#fb9f3a"
             ],
             [
              0.8888888888888888,
              "#fdca26"
             ],
             [
              1,
              "#f0f921"
             ]
            ],
            "type": "heatmap"
           }
          ],
          "heatmapgl": [
           {
            "colorbar": {
             "outlinewidth": 0,
             "ticks": ""
            },
            "colorscale": [
             [
              0,
              "#0d0887"
             ],
             [
              0.1111111111111111,
              "#46039f"
             ],
             [
              0.2222222222222222,
              "#7201a8"
             ],
             [
              0.3333333333333333,
              "#9c179e"
             ],
             [
              0.4444444444444444,
              "#bd3786"
             ],
             [
              0.5555555555555556,
              "#d8576b"
             ],
             [
              0.6666666666666666,
              "#ed7953"
             ],
             [
              0.7777777777777778,
              "#fb9f3a"
             ],
             [
              0.8888888888888888,
              "#fdca26"
             ],
             [
              1,
              "#f0f921"
             ]
            ],
            "type": "heatmapgl"
           }
          ],
          "histogram": [
           {
            "marker": {
             "pattern": {
              "fillmode": "overlay",
              "size": 10,
              "solidity": 0.2
             }
            },
            "type": "histogram"
           }
          ],
          "histogram2d": [
           {
            "colorbar": {
             "outlinewidth": 0,
             "ticks": ""
            },
            "colorscale": [
             [
              0,
              "#0d0887"
             ],
             [
              0.1111111111111111,
              "#46039f"
             ],
             [
              0.2222222222222222,
              "#7201a8"
             ],
             [
              0.3333333333333333,
              "#9c179e"
             ],
             [
              0.4444444444444444,
              "#bd3786"
             ],
             [
              0.5555555555555556,
              "#d8576b"
             ],
             [
              0.6666666666666666,
              "#ed7953"
             ],
             [
              0.7777777777777778,
              "#fb9f3a"
             ],
             [
              0.8888888888888888,
              "#fdca26"
             ],
             [
              1,
              "#f0f921"
             ]
            ],
            "type": "histogram2d"
           }
          ],
          "histogram2dcontour": [
           {
            "colorbar": {
             "outlinewidth": 0,
             "ticks": ""
            },
            "colorscale": [
             [
              0,
              "#0d0887"
             ],
             [
              0.1111111111111111,
              "#46039f"
             ],
             [
              0.2222222222222222,
              "#7201a8"
             ],
             [
              0.3333333333333333,
              "#9c179e"
             ],
             [
              0.4444444444444444,
              "#bd3786"
             ],
             [
              0.5555555555555556,
              "#d8576b"
             ],
             [
              0.6666666666666666,
              "#ed7953"
             ],
             [
              0.7777777777777778,
              "#fb9f3a"
             ],
             [
              0.8888888888888888,
              "#fdca26"
             ],
             [
              1,
              "#f0f921"
             ]
            ],
            "type": "histogram2dcontour"
           }
          ],
          "mesh3d": [
           {
            "colorbar": {
             "outlinewidth": 0,
             "ticks": ""
            },
            "type": "mesh3d"
           }
          ],
          "parcoords": [
           {
            "line": {
             "colorbar": {
              "outlinewidth": 0,
              "ticks": ""
             }
            },
            "type": "parcoords"
           }
          ],
          "pie": [
           {
            "automargin": true,
            "type": "pie"
           }
          ],
          "scatter": [
           {
            "fillpattern": {
             "fillmode": "overlay",
             "size": 10,
             "solidity": 0.2
            },
            "type": "scatter"
           }
          ],
          "scatter3d": [
           {
            "line": {
             "colorbar": {
              "outlinewidth": 0,
              "ticks": ""
             }
            },
            "marker": {
             "colorbar": {
              "outlinewidth": 0,
              "ticks": ""
             }
            },
            "type": "scatter3d"
           }
          ],
          "scattercarpet": [
           {
            "marker": {
             "colorbar": {
              "outlinewidth": 0,
              "ticks": ""
             }
            },
            "type": "scattercarpet"
           }
          ],
          "scattergeo": [
           {
            "marker": {
             "colorbar": {
              "outlinewidth": 0,
              "ticks": ""
             }
            },
            "type": "scattergeo"
           }
          ],
          "scattergl": [
           {
            "marker": {
             "colorbar": {
              "outlinewidth": 0,
              "ticks": ""
             }
            },
            "type": "scattergl"
           }
          ],
          "scattermapbox": [
           {
            "marker": {
             "colorbar": {
              "outlinewidth": 0,
              "ticks": ""
             }
            },
            "type": "scattermapbox"
           }
          ],
          "scatterpolar": [
           {
            "marker": {
             "colorbar": {
              "outlinewidth": 0,
              "ticks": ""
             }
            },
            "type": "scatterpolar"
           }
          ],
          "scatterpolargl": [
           {
            "marker": {
             "colorbar": {
              "outlinewidth": 0,
              "ticks": ""
             }
            },
            "type": "scatterpolargl"
           }
          ],
          "scatterternary": [
           {
            "marker": {
             "colorbar": {
              "outlinewidth": 0,
              "ticks": ""
             }
            },
            "type": "scatterternary"
           }
          ],
          "surface": [
           {
            "colorbar": {
             "outlinewidth": 0,
             "ticks": ""
            },
            "colorscale": [
             [
              0,
              "#0d0887"
             ],
             [
              0.1111111111111111,
              "#46039f"
             ],
             [
              0.2222222222222222,
              "#7201a8"
             ],
             [
              0.3333333333333333,
              "#9c179e"
             ],
             [
              0.4444444444444444,
              "#bd3786"
             ],
             [
              0.5555555555555556,
              "#d8576b"
             ],
             [
              0.6666666666666666,
              "#ed7953"
             ],
             [
              0.7777777777777778,
              "#fb9f3a"
             ],
             [
              0.8888888888888888,
              "#fdca26"
             ],
             [
              1,
              "#f0f921"
             ]
            ],
            "type": "surface"
           }
          ],
          "table": [
           {
            "cells": {
             "fill": {
              "color": "#EBF0F8"
             },
             "line": {
              "color": "white"
             }
            },
            "header": {
             "fill": {
              "color": "#C8D4E3"
             },
             "line": {
              "color": "white"
             }
            },
            "type": "table"
           }
          ]
         },
         "layout": {
          "annotationdefaults": {
           "arrowcolor": "#2a3f5f",
           "arrowhead": 0,
           "arrowwidth": 1
          },
          "autotypenumbers": "strict",
          "coloraxis": {
           "colorbar": {
            "outlinewidth": 0,
            "ticks": ""
           }
          },
          "colorscale": {
           "diverging": [
            [
             0,
             "#8e0152"
            ],
            [
             0.1,
             "#c51b7d"
            ],
            [
             0.2,
             "#de77ae"
            ],
            [
             0.3,
             "#f1b6da"
            ],
            [
             0.4,
             "#fde0ef"
            ],
            [
             0.5,
             "#f7f7f7"
            ],
            [
             0.6,
             "#e6f5d0"
            ],
            [
             0.7,
             "#b8e186"
            ],
            [
             0.8,
             "#7fbc41"
            ],
            [
             0.9,
             "#4d9221"
            ],
            [
             1,
             "#276419"
            ]
           ],
           "sequential": [
            [
             0,
             "#0d0887"
            ],
            [
             0.1111111111111111,
             "#46039f"
            ],
            [
             0.2222222222222222,
             "#7201a8"
            ],
            [
             0.3333333333333333,
             "#9c179e"
            ],
            [
             0.4444444444444444,
             "#bd3786"
            ],
            [
             0.5555555555555556,
             "#d8576b"
            ],
            [
             0.6666666666666666,
             "#ed7953"
            ],
            [
             0.7777777777777778,
             "#fb9f3a"
            ],
            [
             0.8888888888888888,
             "#fdca26"
            ],
            [
             1,
             "#f0f921"
            ]
           ],
           "sequentialminus": [
            [
             0,
             "#0d0887"
            ],
            [
             0.1111111111111111,
             "#46039f"
            ],
            [
             0.2222222222222222,
             "#7201a8"
            ],
            [
             0.3333333333333333,
             "#9c179e"
            ],
            [
             0.4444444444444444,
             "#bd3786"
            ],
            [
             0.5555555555555556,
             "#d8576b"
            ],
            [
             0.6666666666666666,
             "#ed7953"
            ],
            [
             0.7777777777777778,
             "#fb9f3a"
            ],
            [
             0.8888888888888888,
             "#fdca26"
            ],
            [
             1,
             "#f0f921"
            ]
           ]
          },
          "colorway": [
           "#636efa",
           "#EF553B",
           "#00cc96",
           "#ab63fa",
           "#FFA15A",
           "#19d3f3",
           "#FF6692",
           "#B6E880",
           "#FF97FF",
           "#FECB52"
          ],
          "font": {
           "color": "#2a3f5f"
          },
          "geo": {
           "bgcolor": "white",
           "lakecolor": "white",
           "landcolor": "#E5ECF6",
           "showlakes": true,
           "showland": true,
           "subunitcolor": "white"
          },
          "hoverlabel": {
           "align": "left"
          },
          "hovermode": "closest",
          "mapbox": {
           "style": "light"
          },
          "paper_bgcolor": "white",
          "plot_bgcolor": "#E5ECF6",
          "polar": {
           "angularaxis": {
            "gridcolor": "white",
            "linecolor": "white",
            "ticks": ""
           },
           "bgcolor": "#E5ECF6",
           "radialaxis": {
            "gridcolor": "white",
            "linecolor": "white",
            "ticks": ""
           }
          },
          "scene": {
           "xaxis": {
            "backgroundcolor": "#E5ECF6",
            "gridcolor": "white",
            "gridwidth": 2,
            "linecolor": "white",
            "showbackground": true,
            "ticks": "",
            "zerolinecolor": "white"
           },
           "yaxis": {
            "backgroundcolor": "#E5ECF6",
            "gridcolor": "white",
            "gridwidth": 2,
            "linecolor": "white",
            "showbackground": true,
            "ticks": "",
            "zerolinecolor": "white"
           },
           "zaxis": {
            "backgroundcolor": "#E5ECF6",
            "gridcolor": "white",
            "gridwidth": 2,
            "linecolor": "white",
            "showbackground": true,
            "ticks": "",
            "zerolinecolor": "white"
           }
          },
          "shapedefaults": {
           "line": {
            "color": "#2a3f5f"
           }
          },
          "ternary": {
           "aaxis": {
            "gridcolor": "white",
            "linecolor": "white",
            "ticks": ""
           },
           "baxis": {
            "gridcolor": "white",
            "linecolor": "white",
            "ticks": ""
           },
           "bgcolor": "#E5ECF6",
           "caxis": {
            "gridcolor": "white",
            "linecolor": "white",
            "ticks": ""
           }
          },
          "title": {
           "x": 0.05
          },
          "xaxis": {
           "automargin": true,
           "gridcolor": "white",
           "linecolor": "white",
           "ticks": "",
           "title": {
            "standoff": 15
           },
           "zerolinecolor": "white",
           "zerolinewidth": 2
          },
          "yaxis": {
           "automargin": true,
           "gridcolor": "white",
           "linecolor": "white",
           "ticks": "",
           "title": {
            "standoff": 15
           },
           "zerolinecolor": "white",
           "zerolinewidth": 2
          }
         }
        },
        "title": {
         "text": "GP Utilisation Rates by ICB Over Time (Top 5 Highest and Lowest Highlighted)"
        },
        "xaxis": {
         "range": [
          "2021-09-01",
          "2024-06-30"
         ],
         "title": {
          "text": "Date"
         }
        },
        "yaxis": {
         "range": [
          0.6,
          1.2
         ],
         "showgrid": true,
         "side": "left",
         "tickformat": ".0%",
         "title": {
          "text": "Utilisation Rate"
         }
        }
       }
      }
     },
     "metadata": {},
     "output_type": "display_data"
    }
   ],
   "source": [
    "# Use the extended data for your calculations and plot\n",
    "FTE_ar_merge_sorted = extended_FTE_ar_merge.sort_values(['icb_name', 'appointment_month'])\n",
    "\n",
    "# Recalculate Max Appointments and Utilisation Rate\n",
    "FTE_ar_merge_sorted['Max Appointments'] = FTE_ar_merge_sorted['fte-gp'] * FTE_ar_merge_sorted['Working Days'] * 25\n",
    "FTE_ar_merge_sorted['Utilisation Rate'] = FTE_ar_merge_sorted['count_of_appointments'] / FTE_ar_merge_sorted['Max Appointments']\n",
    "\n",
    "# Calculate average utilization rate for each ICB\n",
    "icb_avg_utilization = FTE_ar_merge_sorted.groupby('icb_name')['Utilisation Rate'].mean().sort_values(ascending=False)\n",
    "\n",
    "# Get the top 5 and bottom 5 ICBs\n",
    "top_5_icbs = icb_avg_utilization.head(5).index.tolist()\n",
    "bottom_5_icbs = icb_avg_utilization.tail(5).index.tolist()\n",
    "highlighted_icbs = top_5_icbs + bottom_5_icbs\n",
    "\n",
    "# Create a dictionary to map ICBs to their regions\n",
    "icb_to_region = FTE_ar_merge_sorted.groupby('icb_name')['region_name'].first().to_dict()\n",
    "\n",
    "# Create a list of regions and ICBs ordered by region and then alphabetically by ICB\n",
    "regions = sorted(FTE_ar_merge_sorted['region_name'].unique())\n",
    "ordered_icbs = {region: sorted([icb for icb in FTE_ar_merge_sorted['icb_name'].unique() if icb_to_region[icb] == region])\n",
    "                for region in regions}\n",
    "\n",
    "# Calculate average utilization rate for each month nationally\n",
    "national_avg_utilization = FTE_ar_merge_sorted.groupby('appointment_month')['Utilisation Rate'].mean()\n",
    "\n",
    "# Identify quarterly FTE update months\n",
    "fte_update_months = pd.to_datetime(FTE_ar_merge_sorted[FTE_ar_merge_sorted['fte-gp'].notnull()]['appointment_month'].unique())\n",
    "quarterly_updates = fte_update_months[fte_update_months.is_quarter_start]\n",
    "\n",
    "# Function to calculate trend line\n",
    "def calculate_trendline(x, y):\n",
    "    mask = ~np.isnan(x) & ~np.isnan(y)\n",
    "    if np.sum(mask) > 1:\n",
    "        slope, intercept, r_value, p_value, std_err = stats.linregress(x[mask], y[mask])\n",
    "        return slope * x + intercept\n",
    "    else:\n",
    "        return np.full_like(x, np.nan)\n",
    "# Create the plot\n",
    "fig2_GP2 = go.Figure()\n",
    "\n",
    "# Add traces for each ICB, grouped by region\n",
    "for region in regions:\n",
    "    for icb in ordered_icbs[region]:\n",
    "        icb_data = FTE_ar_merge_sorted[FTE_ar_merge_sorted['icb_name'] == icb]\n",
    "        fig2_GP2.add_trace(go.Scatter(\n",
    "            x=icb_data['appointment_month'],\n",
    "            y=icb_data['Utilisation Rate'],\n",
    "            mode='lines',\n",
    "            name=icb,\n",
    "            legendgroup=region,\n",
    "            legendgrouptitle_text=region,\n",
    "            hovertemplate=(\n",
    "                '<b>%{fullData.name}</b><br>' +\n",
    "                '%{x|%B %Y}<br>' +\n",
    "                'Utilisation Rate: %{y:.2f}<extra></extra>'\n",
    "            ),\n",
    "            visible='legendonly' if icb not in highlighted_icbs else True,\n",
    "            line=dict(width=1 if icb in highlighted_icbs else 1),\n",
    "            opacity=1 if icb in highlighted_icbs else 0.5\n",
    "        ))\n",
    "\n",
    "# Add trace for national average utilization rate\n",
    "fig2_GP2.add_trace(go.Scatter(\n",
    "    x=national_avg_utilization.index,\n",
    "    y=national_avg_utilization,\n",
    "    mode='lines',\n",
    "    name='National Average',\n",
    "    line=dict(color='black', width=2, dash='dash'),\n",
    "    hovertemplate=(\n",
    "        '<b>National Average</b><br>' +\n",
    "        '%{x|%B %Y}<br>' +\n",
    "        'Utilisation Rate: %{y:.2f}<extra></extra>'\n",
    "    )\n",
    "))\n",
    "# Add traces for each ICB, grouped by region\n",
    "for region in regions:\n",
    "    for icb in ordered_icbs[region]:\n",
    "        icb_data = FTE_ar_merge_sorted[FTE_ar_merge_sorted['icb_name'] == icb]\n",
    "        fig2_GP2.add_trace(go.Scatter(\n",
    "            x=icb_data['appointment_month'],\n",
    "            y=icb_data['Utilisation Rate'],\n",
    "            mode='lines',\n",
    "            name=icb,\n",
    "            legendgroup=region,\n",
    "            legendgrouptitle_text=region,\n",
    "            hovertemplate=(\n",
    "                '<b>%{fullData.name}</b><br>' +\n",
    "                '%{x|%B %Y}<br>' +\n",
    "                'Utilisation Rate: %{y:.2f}<extra></extra>'\n",
    "            ),\n",
    "            visible='legendonly' if icb not in highlighted_icbs else True,\n",
    "            line=dict(width=2 if icb in highlighted_icbs else 1),\n",
    "            opacity=1 if icb in highlighted_icbs else 0.5\n",
    "        ))\n",
    "        \n",
    "# Add national average trend line\n",
    "x_numeric = (national_avg_utilization.index - national_avg_utilization.index.min()).days\n",
    "y = national_avg_utilization.values\n",
    "national_trendline = calculate_trendline(x_numeric, y)\n",
    "fig2_GP2.add_trace(go.Scatter(\n",
    "    x=national_avg_utilization.index,\n",
    "    y=national_trendline,\n",
    "    mode='lines',\n",
    "    name='National Average Trend',\n",
    "    line=dict(color='rgba(0,0,0,0.5)', width=2, dash='dot'),\n",
    "    showlegend=True\n",
    "))\n",
    "\n",
    "# Add markers for quarterly FTE updates\n",
    "for update_month in quarterly_updates:\n",
    "    fig2_GP2.add_vline(x=update_month, line_dash=\"dash\", line_color=\"gray\", opacity=0.3)\n",
    "\n",
    "# Update layout\n",
    "fig2_GP2.update_layout(\n",
    "    title='GP Utilisation Rates by ICB Over Time (Top 5 Highest and Lowest Highlighted)',\n",
    "    xaxis_title='Date',\n",
    "    yaxis_title='Utilisation Rate',\n",
    "    yaxis=dict(\n",
    "        tickformat='.0%',  # Format y-axis ticks as percentages\n",
    "        range=[0.6, 1.2],  # Adjust the range as needed (60% to 120%)\n",
    "        title='Utilisation Rate',\n",
    "        side='left',\n",
    "        showgrid=True,\n",
    "    ),\n",
    "    hovermode='closest',\n",
    "    legend_title='Regions and ICBs',\n",
    "    legend=dict(\n",
    "        groupclick=\"togglegroup\",\n",
    "        tracegroupgap=10,\n",
    "        traceorder='grouped'\n",
    "    ),\n",
    "    height=900,\n",
    ")\n",
    "\n",
    "# Add a horizontal line at y=1 to represent 100% utilization\n",
    "fig2_GP2.add_shape(\n",
    "    type=\"line\",\n",
    "    x0=start_date,\n",
    "    y0=1,\n",
    "    x1=end_date,\n",
    "    y1=1,\n",
    "    line=dict(color=\"Red\", width=1, dash=\"dash\"),\n",
    ")\n",
    "\n",
    "# Update x-axis range explicitly\n",
    "fig2_GP2.update_xaxes(range=[start_date, end_date])\n",
    "\n",
    "# Get HTML string for fig1\n",
    "fig2_GP2_html = fig2_GP2.to_html(full_html=False, include_plotlyjs='cdn')\n",
    "fig2_GP2.show()"
   ]
  },
  {
   "cell_type": "code",
   "execution_count": 27,
   "metadata": {},
   "outputs": [
    {
     "name": "stdout",
     "output_type": "stream",
     "text": [
      "hcp_type                         GP  Other Practice staff   Unknown\n",
      "appt_status appt_mode                                              \n",
      "Attended    Face-to-Face  411530270             512612327   6583972\n",
      "            Home Visit      4206225               4673241   1068627\n",
      "            Telephone     294671146             129646959   6389081\n",
      "            Unknown         9976455              11767182  24404459\n",
      "            Video/Online    8665146               6671226    199302\n",
      "DNA         Face-to-Face   16744837              40987828    114839\n",
      "            Home Visit       121447                181283    115617\n",
      "            Telephone       5262677               4497005    187032\n",
      "            Unknown          396267                823949    681677\n",
      "            Video/Online     144380                202851       281\n",
      "Unknown     Face-to-Face   16167000              34079257   1323548\n",
      "            Home Visit      1038892               1108420    479298\n",
      "            Telephone       8826458               6113461    355973\n",
      "            Unknown         1287793               2572863   2018981\n",
      "            Video/Online     856702                589832     85758\n"
     ]
    }
   ],
   "source": [
    "# Pivot table for appointments_regional, based on HCP Type, Appointment Status, and Appointment M\n",
    "pivot_table_ar = pd.pivot_table(\n",
    "   ar,\n",
    "    values='count_of_appointments',  # The data to aggregate\n",
    "    index=['appt_status', 'appt_mode'],  # Rows of the pivot table\n",
    "    columns='hcp_type',  # Columns of the pivot table\n",
    "    aggfunc='sum'  # Aggregation function\n",
    ")\n",
    "# Print the pivot table\n",
    "print(pivot_table_ar)"
   ]
  },
  {
   "cell_type": "code",
   "execution_count": 28,
   "metadata": {},
   "outputs": [
    {
     "name": "stdout",
     "output_type": "stream",
     "text": [
      "appt_status appointment_month  Attended      DNA  Unknown     Total  \\\n",
      "0                  2019-04-01  22649066  1203082  1251593  23852148   \n",
      "1                  2019-05-01  23427143  1216004  1293805  24643147   \n",
      "2                  2019-06-01  22002902  1147937  1274417  23150839   \n",
      "3                  2019-07-01  24917765  1343953  1257987  26261718   \n",
      "4                  2019-08-01  21687104  1132269  1144497  22819373   \n",
      "\n",
      "appt_status  DNA_Proportion  Attended_Proportion  \n",
      "0                  0.050439             0.949561  \n",
      "1                  0.049345             0.950655  \n",
      "2                  0.049585             0.950415  \n",
      "3                  0.051175             0.948825  \n",
      "4                  0.049619             0.950381  \n"
     ]
    }
   ],
   "source": [
    "# Aggregate the data by month and appointment status\n",
    "status_monthly_agg = ar.groupby(['appointment_month', 'appt_status'])['count_of_appointments'].sum().reset_index()\n",
    "\n",
    "# Pivot the data to get separate columns for each appointment status\n",
    "status_pivot_table = status_monthly_agg.pivot_table(\n",
    "    values='count_of_appointments',\n",
    "    index='appointment_month',\n",
    "    columns='appt_status',\n",
    "    aggfunc='sum',\n",
    "    fill_value=0\n",
    ").reset_index()\n",
    "\n",
    "# Calculate the total number of appointments per month, excluding the 'appointment_month' column\n",
    "status_pivot_table['Total'] = status_pivot_table.loc[:, status_pivot_table.columns != 'appointment_month'].sum(axis=1)\n",
    "\n",
    "# Calculate the proportion of attended and DNA appointments\n",
    "status_pivot_table['Attended'] = status_pivot_table['Total'] - status_pivot_table.get('DNA', 0)\n",
    "status_pivot_table['DNA_Proportion'] = status_pivot_table['DNA'] / status_pivot_table['Total']\n",
    "status_pivot_table['Attended_Proportion'] = status_pivot_table['Attended'] / status_pivot_table['Total']\n",
    "\n",
    "# Print the DataFrame\n",
    "print(status_pivot_table.head())\n"
   ]
  },
  {
   "cell_type": "code",
   "execution_count": 29,
   "metadata": {},
   "outputs": [
    {
     "name": "stdout",
     "output_type": "stream",
     "text": [
      "appt_status appointment_month  DNA_Rate\n",
      "0                  2019-04-01  5.043915\n",
      "1                  2019-05-01  4.934451\n",
      "2                  2019-06-01  4.958511\n",
      "3                  2019-07-01  5.117536\n",
      "4                  2019-08-01  4.961876\n",
      "5                  2019-09-01  5.046728\n",
      "6                  2019-10-01  5.202476\n",
      "7                  2019-11-01  5.268529\n",
      "8                  2019-12-01  5.342923\n",
      "9                  2020-01-01  4.768143\n",
      "10                 2020-02-01  5.036169\n",
      "11                 2020-03-01  4.842858\n",
      "12                 2020-04-01  2.987364\n",
      "13                 2020-05-01  2.732723\n",
      "14                 2020-06-01  2.866593\n",
      "15                 2020-07-01  3.096978\n",
      "16                 2020-08-01  3.315929\n",
      "17                 2020-09-01  4.282679\n",
      "18                 2020-10-01  4.792576\n",
      "19                 2020-11-01  4.068592\n",
      "20                 2020-12-01  4.223615\n",
      "21                 2021-01-01  3.989589\n",
      "22                 2021-02-01  3.582579\n",
      "23                 2021-03-01  3.532568\n",
      "24                 2021-04-01  3.728340\n",
      "25                 2021-05-01  3.721827\n",
      "26                 2021-06-01  3.833429\n",
      "27                 2021-07-01  3.986604\n",
      "28                 2021-08-01  3.962970\n",
      "29                 2021-09-01  4.635182\n",
      "30                 2021-12-01  4.769339\n",
      "31                 2022-01-01  4.197843\n",
      "32                 2022-02-01  4.246712\n",
      "33                 2022-03-01  4.359029\n",
      "34                 2022-04-01  4.372717\n",
      "35                 2022-05-01  4.363427\n",
      "36                 2022-06-01  4.522312\n",
      "37                 2022-07-01  4.642534\n",
      "38                 2022-08-01  4.502976\n",
      "39                 2022-09-01  4.954521\n",
      "40                 2022-10-01  5.635962\n",
      "41                 2022-11-01  5.085999\n",
      "42                 2022-12-01  4.954222\n",
      "43                 2023-01-01  4.436153\n",
      "44                 2023-02-01  4.506282\n",
      "45                 2023-03-01  4.606690\n",
      "46                 2023-04-01  4.498250\n",
      "47                 2023-05-01  4.465434\n",
      "48                 2023-06-01  4.458182\n",
      "49                 2023-07-01  4.421270\n",
      "50                 2023-08-01  4.368546\n",
      "51                 2023-09-01  5.121425\n",
      "52                 2023-10-01  5.191205\n",
      "53                 2023-11-01  4.643958\n",
      "54                 2023-12-01  4.580554\n",
      "55                 2024-01-01  4.169545\n",
      "56                 2024-02-01  4.196283\n",
      "57                 2024-03-01  4.180980\n",
      "58                 2024-04-01  4.204308\n",
      "59                 2024-05-01  4.199925\n",
      "The most recent DNA rate is: 4.20%\n"
     ]
    }
   ],
   "source": [
    "# Group by appointment month and appointment status, then sum the count of appointments\n",
    "appointments_grouped = ar.groupby(['appointment_month', 'appt_status'])['count_of_appointments'].sum().unstack(fill_value=0).reset_index()\n",
    "\n",
    "# Calculate total appointments correctly by summing only the columns with statuses\n",
    "appointment_status_columns = [col for col in appointments_grouped.columns if col not in ['appointment_month']]\n",
    "appointments_grouped['Total'] = appointments_grouped[appointment_status_columns].sum(axis=1)\n",
    "\n",
    "# Calculate DNA rate\n",
    "appointments_grouped['DNA_Rate'] = (appointments_grouped['DNA'] / appointments_grouped['Total']) * 100\n",
    "\n",
    "# Display the result\n",
    "print(appointments_grouped[['appointment_month', 'DNA_Rate']])\n",
    "\n",
    "# Get the most recent DNA rate\n",
    "most_recent_dna_rate = appointments_grouped.iloc[-1]['DNA_Rate'] / 100\n",
    "\n",
    "print(f\"The most recent DNA rate is: {most_recent_dna_rate:.2%}\")                "
   ]
  },
  {
   "cell_type": "code",
   "execution_count": 30,
   "metadata": {},
   "outputs": [
    {
     "data": {
      "application/vnd.plotly.v1+json": {
       "config": {
        "plotlyServerURL": "https://plot.ly"
       },
       "data": [
        {
         "hovertemplate": "%{x|%B %Y}<br>Attended Proportion: %{y:.2%}<extra></extra>",
         "line": {
          "color": "blue"
         },
         "marker": {
          "symbol": "circle"
         },
         "mode": "lines+markers",
         "name": "Attended Proportion",
         "type": "scatter",
         "x": [
          "2019-04-01T00:00:00",
          "2019-05-01T00:00:00",
          "2019-06-01T00:00:00",
          "2019-07-01T00:00:00",
          "2019-08-01T00:00:00",
          "2019-09-01T00:00:00",
          "2019-10-01T00:00:00",
          "2019-11-01T00:00:00",
          "2019-12-01T00:00:00",
          "2020-01-01T00:00:00",
          "2020-02-01T00:00:00",
          "2020-03-01T00:00:00",
          "2020-04-01T00:00:00",
          "2020-05-01T00:00:00",
          "2020-06-01T00:00:00",
          "2020-07-01T00:00:00",
          "2020-08-01T00:00:00",
          "2020-09-01T00:00:00",
          "2020-10-01T00:00:00",
          "2020-11-01T00:00:00",
          "2020-12-01T00:00:00",
          "2021-01-01T00:00:00",
          "2021-02-01T00:00:00",
          "2021-03-01T00:00:00",
          "2021-04-01T00:00:00",
          "2021-05-01T00:00:00",
          "2021-06-01T00:00:00",
          "2021-07-01T00:00:00",
          "2021-08-01T00:00:00",
          "2021-09-01T00:00:00",
          "2021-12-01T00:00:00",
          "2022-01-01T00:00:00",
          "2022-02-01T00:00:00",
          "2022-03-01T00:00:00",
          "2022-04-01T00:00:00",
          "2022-05-01T00:00:00",
          "2022-06-01T00:00:00",
          "2022-07-01T00:00:00",
          "2022-08-01T00:00:00",
          "2022-09-01T00:00:00",
          "2022-10-01T00:00:00",
          "2022-11-01T00:00:00",
          "2022-12-01T00:00:00",
          "2023-01-01T00:00:00",
          "2023-02-01T00:00:00",
          "2023-03-01T00:00:00",
          "2023-04-01T00:00:00",
          "2023-05-01T00:00:00",
          "2023-06-01T00:00:00",
          "2023-07-01T00:00:00",
          "2023-08-01T00:00:00",
          "2023-09-01T00:00:00",
          "2023-10-01T00:00:00",
          "2023-11-01T00:00:00",
          "2023-12-01T00:00:00",
          "2024-01-01T00:00:00",
          "2024-02-01T00:00:00",
          "2024-03-01T00:00:00",
          "2024-04-01T00:00:00",
          "2024-05-01T00:00:00"
         ],
         "y": [
          0.9495608529680429,
          0.9506554905507807,
          0.9504148856117051,
          0.9488246351590555,
          0.9503812396598277,
          0.9495327181166695,
          0.947975236357442,
          0.947314706102607,
          0.9465707739595761,
          0.9523185650136048,
          0.9496383063856237,
          0.951571419019956,
          0.9701263602731508,
          0.9726727673652887,
          0.97133407043674,
          0.9690302210583267,
          0.9668407050303661,
          0.9571732092433289,
          0.9520742414391785,
          0.9593140810958617,
          0.9577638505690831,
          0.9601041096771902,
          0.9641742134751198,
          0.9646743249772889,
          0.9627165986727811,
          0.9627817283293727,
          0.9616657124683006,
          0.96013396478167,
          0.9603703029415279,
          0.9536481825874578,
          0.9523066116082273,
          0.958021572725318,
          0.9575328810215861,
          0.9564097080836039,
          0.9562728298652109,
          0.9563657275015274,
          0.9547768837016395,
          0.9535746607173271,
          0.9549702436803202,
          0.9504547851384353,
          0.94364037845561,
          0.9491400108932978,
          0.9504577775347438,
          0.9556384725913977,
          0.9549371798147186,
          0.9539330955040598,
          0.9550175048759428,
          0.9553456564560019,
          0.9554181796597908,
          0.9557872986398128,
          0.9563145415145718,
          0.9487857473709161,
          0.9480879456639368,
          0.9535604214179528,
          0.9541944565914552,
          0.9583045492055395,
          0.9580371681200524,
          0.9581901984487619,
          0.9579569206201831,
          0.9580007488815223
         ]
        },
        {
         "hovertemplate": "%{x|%B %Y}<br>DNA Proportion: %{y:.2%}<extra></extra>",
         "line": {
          "color": "red"
         },
         "marker": {
          "symbol": "circle"
         },
         "mode": "lines+markers",
         "name": "DNA Proportion",
         "type": "scatter",
         "x": [
          "2019-04-01T00:00:00",
          "2019-05-01T00:00:00",
          "2019-06-01T00:00:00",
          "2019-07-01T00:00:00",
          "2019-08-01T00:00:00",
          "2019-09-01T00:00:00",
          "2019-10-01T00:00:00",
          "2019-11-01T00:00:00",
          "2019-12-01T00:00:00",
          "2020-01-01T00:00:00",
          "2020-02-01T00:00:00",
          "2020-03-01T00:00:00",
          "2020-04-01T00:00:00",
          "2020-05-01T00:00:00",
          "2020-06-01T00:00:00",
          "2020-07-01T00:00:00",
          "2020-08-01T00:00:00",
          "2020-09-01T00:00:00",
          "2020-10-01T00:00:00",
          "2020-11-01T00:00:00",
          "2020-12-01T00:00:00",
          "2021-01-01T00:00:00",
          "2021-02-01T00:00:00",
          "2021-03-01T00:00:00",
          "2021-04-01T00:00:00",
          "2021-05-01T00:00:00",
          "2021-06-01T00:00:00",
          "2021-07-01T00:00:00",
          "2021-08-01T00:00:00",
          "2021-09-01T00:00:00",
          "2021-12-01T00:00:00",
          "2022-01-01T00:00:00",
          "2022-02-01T00:00:00",
          "2022-03-01T00:00:00",
          "2022-04-01T00:00:00",
          "2022-05-01T00:00:00",
          "2022-06-01T00:00:00",
          "2022-07-01T00:00:00",
          "2022-08-01T00:00:00",
          "2022-09-01T00:00:00",
          "2022-10-01T00:00:00",
          "2022-11-01T00:00:00",
          "2022-12-01T00:00:00",
          "2023-01-01T00:00:00",
          "2023-02-01T00:00:00",
          "2023-03-01T00:00:00",
          "2023-04-01T00:00:00",
          "2023-05-01T00:00:00",
          "2023-06-01T00:00:00",
          "2023-07-01T00:00:00",
          "2023-08-01T00:00:00",
          "2023-09-01T00:00:00",
          "2023-10-01T00:00:00",
          "2023-11-01T00:00:00",
          "2023-12-01T00:00:00",
          "2024-01-01T00:00:00",
          "2024-02-01T00:00:00",
          "2024-03-01T00:00:00",
          "2024-04-01T00:00:00",
          "2024-05-01T00:00:00"
         ],
         "y": [
          0.05043914703195704,
          0.04934450944921929,
          0.04958511438829496,
          0.05117536484094452,
          0.04961876034017236,
          0.050467281883330516,
          0.05202476364255804,
          0.052685293897392925,
          0.05342922604042387,
          0.04768143498639517,
          0.05036169361437631,
          0.04842858098004397,
          0.02987363972684922,
          0.027327232634711235,
          0.028665929563259945,
          0.030969778941673246,
          0.033159294969633844,
          0.042826790756671076,
          0.04792575856082153,
          0.040685918904138335,
          0.04223614943091687,
          0.03989589032280978,
          0.03582578652488023,
          0.03532567502271114,
          0.037283401327218815,
          0.037218271670627266,
          0.038334287531699436,
          0.03986603521832998,
          0.03962969705847212,
          0.046351817412542254,
          0.04769338839177275,
          0.04197842727468207,
          0.04246711897841396,
          0.043590291916396115,
          0.043727170134789155,
          0.04363427249847266,
          0.04522311629836056,
          0.04642533928267295,
          0.04502975631967974,
          0.04954521486156468,
          0.056359621544390004,
          0.0508599891067022,
          0.04954222246525624,
          0.04436152740860236,
          0.045062820185281356,
          0.04606690449594018,
          0.04498249512405716,
          0.0446543435439981,
          0.04458182034020921,
          0.04421270136018714,
          0.04368545848542815,
          0.05121425262908389,
          0.05191205433606314,
          0.0464395785820472,
          0.04580554340854478,
          0.04169545079446044,
          0.0419628318799476,
          0.04180980155123815,
          0.04204307937981688,
          0.04199925111847768
         ]
        }
       ],
       "layout": {
        "annotations": [
         {
          "font": {
           "color": "blue",
           "size": 12
          },
          "showarrow": false,
          "text": "Average Attended: 95.59%",
          "x": "2022-01-01T00:00:00",
          "y": 0.9
         },
         {
          "font": {
           "color": "red",
           "size": 12
          },
          "showarrow": false,
          "text": "Average DNA: 4.41%",
          "x": "2022-01-01T00:00:00",
          "y": 0.1
         }
        ],
        "height": 600,
        "legend": {
         "title": {
          "text": "Proportions"
         }
        },
        "template": {
         "data": {
          "bar": [
           {
            "error_x": {
             "color": "#2a3f5f"
            },
            "error_y": {
             "color": "#2a3f5f"
            },
            "marker": {
             "line": {
              "color": "#E5ECF6",
              "width": 0.5
             },
             "pattern": {
              "fillmode": "overlay",
              "size": 10,
              "solidity": 0.2
             }
            },
            "type": "bar"
           }
          ],
          "barpolar": [
           {
            "marker": {
             "line": {
              "color": "#E5ECF6",
              "width": 0.5
             },
             "pattern": {
              "fillmode": "overlay",
              "size": 10,
              "solidity": 0.2
             }
            },
            "type": "barpolar"
           }
          ],
          "carpet": [
           {
            "aaxis": {
             "endlinecolor": "#2a3f5f",
             "gridcolor": "white",
             "linecolor": "white",
             "minorgridcolor": "white",
             "startlinecolor": "#2a3f5f"
            },
            "baxis": {
             "endlinecolor": "#2a3f5f",
             "gridcolor": "white",
             "linecolor": "white",
             "minorgridcolor": "white",
             "startlinecolor": "#2a3f5f"
            },
            "type": "carpet"
           }
          ],
          "choropleth": [
           {
            "colorbar": {
             "outlinewidth": 0,
             "ticks": ""
            },
            "type": "choropleth"
           }
          ],
          "contour": [
           {
            "colorbar": {
             "outlinewidth": 0,
             "ticks": ""
            },
            "colorscale": [
             [
              0,
              "#0d0887"
             ],
             [
              0.1111111111111111,
              "#46039f"
             ],
             [
              0.2222222222222222,
              "#7201a8"
             ],
             [
              0.3333333333333333,
              "#9c179e"
             ],
             [
              0.4444444444444444,
              "#bd3786"
             ],
             [
              0.5555555555555556,
              "#d8576b"
             ],
             [
              0.6666666666666666,
              "#ed7953"
             ],
             [
              0.7777777777777778,
              "#fb9f3a"
             ],
             [
              0.8888888888888888,
              "#fdca26"
             ],
             [
              1,
              "#f0f921"
             ]
            ],
            "type": "contour"
           }
          ],
          "contourcarpet": [
           {
            "colorbar": {
             "outlinewidth": 0,
             "ticks": ""
            },
            "type": "contourcarpet"
           }
          ],
          "heatmap": [
           {
            "colorbar": {
             "outlinewidth": 0,
             "ticks": ""
            },
            "colorscale": [
             [
              0,
              "#0d0887"
             ],
             [
              0.1111111111111111,
              "#46039f"
             ],
             [
              0.2222222222222222,
              "#7201a8"
             ],
             [
              0.3333333333333333,
              "#9c179e"
             ],
             [
              0.4444444444444444,
              "#bd3786"
             ],
             [
              0.5555555555555556,
              "#d8576b"
             ],
             [
              0.6666666666666666,
              "#ed7953"
             ],
             [
              0.7777777777777778,
              "#fb9f3a"
             ],
             [
              0.8888888888888888,
              "#fdca26"
             ],
             [
              1,
              "#f0f921"
             ]
            ],
            "type": "heatmap"
           }
          ],
          "heatmapgl": [
           {
            "colorbar": {
             "outlinewidth": 0,
             "ticks": ""
            },
            "colorscale": [
             [
              0,
              "#0d0887"
             ],
             [
              0.1111111111111111,
              "#46039f"
             ],
             [
              0.2222222222222222,
              "#7201a8"
             ],
             [
              0.3333333333333333,
              "#9c179e"
             ],
             [
              0.4444444444444444,
              "#bd3786"
             ],
             [
              0.5555555555555556,
              "#d8576b"
             ],
             [
              0.6666666666666666,
              "#ed7953"
             ],
             [
              0.7777777777777778,
              "#fb9f3a"
             ],
             [
              0.8888888888888888,
              "#fdca26"
             ],
             [
              1,
              "#f0f921"
             ]
            ],
            "type": "heatmapgl"
           }
          ],
          "histogram": [
           {
            "marker": {
             "pattern": {
              "fillmode": "overlay",
              "size": 10,
              "solidity": 0.2
             }
            },
            "type": "histogram"
           }
          ],
          "histogram2d": [
           {
            "colorbar": {
             "outlinewidth": 0,
             "ticks": ""
            },
            "colorscale": [
             [
              0,
              "#0d0887"
             ],
             [
              0.1111111111111111,
              "#46039f"
             ],
             [
              0.2222222222222222,
              "#7201a8"
             ],
             [
              0.3333333333333333,
              "#9c179e"
             ],
             [
              0.4444444444444444,
              "#bd3786"
             ],
             [
              0.5555555555555556,
              "#d8576b"
             ],
             [
              0.6666666666666666,
              "#ed7953"
             ],
             [
              0.7777777777777778,
              "#fb9f3a"
             ],
             [
              0.8888888888888888,
              "#fdca26"
             ],
             [
              1,
              "#f0f921"
             ]
            ],
            "type": "histogram2d"
           }
          ],
          "histogram2dcontour": [
           {
            "colorbar": {
             "outlinewidth": 0,
             "ticks": ""
            },
            "colorscale": [
             [
              0,
              "#0d0887"
             ],
             [
              0.1111111111111111,
              "#46039f"
             ],
             [
              0.2222222222222222,
              "#7201a8"
             ],
             [
              0.3333333333333333,
              "#9c179e"
             ],
             [
              0.4444444444444444,
              "#bd3786"
             ],
             [
              0.5555555555555556,
              "#d8576b"
             ],
             [
              0.6666666666666666,
              "#ed7953"
             ],
             [
              0.7777777777777778,
              "#fb9f3a"
             ],
             [
              0.8888888888888888,
              "#fdca26"
             ],
             [
              1,
              "#f0f921"
             ]
            ],
            "type": "histogram2dcontour"
           }
          ],
          "mesh3d": [
           {
            "colorbar": {
             "outlinewidth": 0,
             "ticks": ""
            },
            "type": "mesh3d"
           }
          ],
          "parcoords": [
           {
            "line": {
             "colorbar": {
              "outlinewidth": 0,
              "ticks": ""
             }
            },
            "type": "parcoords"
           }
          ],
          "pie": [
           {
            "automargin": true,
            "type": "pie"
           }
          ],
          "scatter": [
           {
            "fillpattern": {
             "fillmode": "overlay",
             "size": 10,
             "solidity": 0.2
            },
            "type": "scatter"
           }
          ],
          "scatter3d": [
           {
            "line": {
             "colorbar": {
              "outlinewidth": 0,
              "ticks": ""
             }
            },
            "marker": {
             "colorbar": {
              "outlinewidth": 0,
              "ticks": ""
             }
            },
            "type": "scatter3d"
           }
          ],
          "scattercarpet": [
           {
            "marker": {
             "colorbar": {
              "outlinewidth": 0,
              "ticks": ""
             }
            },
            "type": "scattercarpet"
           }
          ],
          "scattergeo": [
           {
            "marker": {
             "colorbar": {
              "outlinewidth": 0,
              "ticks": ""
             }
            },
            "type": "scattergeo"
           }
          ],
          "scattergl": [
           {
            "marker": {
             "colorbar": {
              "outlinewidth": 0,
              "ticks": ""
             }
            },
            "type": "scattergl"
           }
          ],
          "scattermapbox": [
           {
            "marker": {
             "colorbar": {
              "outlinewidth": 0,
              "ticks": ""
             }
            },
            "type": "scattermapbox"
           }
          ],
          "scatterpolar": [
           {
            "marker": {
             "colorbar": {
              "outlinewidth": 0,
              "ticks": ""
             }
            },
            "type": "scatterpolar"
           }
          ],
          "scatterpolargl": [
           {
            "marker": {
             "colorbar": {
              "outlinewidth": 0,
              "ticks": ""
             }
            },
            "type": "scatterpolargl"
           }
          ],
          "scatterternary": [
           {
            "marker": {
             "colorbar": {
              "outlinewidth": 0,
              "ticks": ""
             }
            },
            "type": "scatterternary"
           }
          ],
          "surface": [
           {
            "colorbar": {
             "outlinewidth": 0,
             "ticks": ""
            },
            "colorscale": [
             [
              0,
              "#0d0887"
             ],
             [
              0.1111111111111111,
              "#46039f"
             ],
             [
              0.2222222222222222,
              "#7201a8"
             ],
             [
              0.3333333333333333,
              "#9c179e"
             ],
             [
              0.4444444444444444,
              "#bd3786"
             ],
             [
              0.5555555555555556,
              "#d8576b"
             ],
             [
              0.6666666666666666,
              "#ed7953"
             ],
             [
              0.7777777777777778,
              "#fb9f3a"
             ],
             [
              0.8888888888888888,
              "#fdca26"
             ],
             [
              1,
              "#f0f921"
             ]
            ],
            "type": "surface"
           }
          ],
          "table": [
           {
            "cells": {
             "fill": {
              "color": "#EBF0F8"
             },
             "line": {
              "color": "white"
             }
            },
            "header": {
             "fill": {
              "color": "#C8D4E3"
             },
             "line": {
              "color": "white"
             }
            },
            "type": "table"
           }
          ]
         },
         "layout": {
          "annotationdefaults": {
           "arrowcolor": "#2a3f5f",
           "arrowhead": 0,
           "arrowwidth": 1
          },
          "autotypenumbers": "strict",
          "coloraxis": {
           "colorbar": {
            "outlinewidth": 0,
            "ticks": ""
           }
          },
          "colorscale": {
           "diverging": [
            [
             0,
             "#8e0152"
            ],
            [
             0.1,
             "#c51b7d"
            ],
            [
             0.2,
             "#de77ae"
            ],
            [
             0.3,
             "#f1b6da"
            ],
            [
             0.4,
             "#fde0ef"
            ],
            [
             0.5,
             "#f7f7f7"
            ],
            [
             0.6,
             "#e6f5d0"
            ],
            [
             0.7,
             "#b8e186"
            ],
            [
             0.8,
             "#7fbc41"
            ],
            [
             0.9,
             "#4d9221"
            ],
            [
             1,
             "#276419"
            ]
           ],
           "sequential": [
            [
             0,
             "#0d0887"
            ],
            [
             0.1111111111111111,
             "#46039f"
            ],
            [
             0.2222222222222222,
             "#7201a8"
            ],
            [
             0.3333333333333333,
             "#9c179e"
            ],
            [
             0.4444444444444444,
             "#bd3786"
            ],
            [
             0.5555555555555556,
             "#d8576b"
            ],
            [
             0.6666666666666666,
             "#ed7953"
            ],
            [
             0.7777777777777778,
             "#fb9f3a"
            ],
            [
             0.8888888888888888,
             "#fdca26"
            ],
            [
             1,
             "#f0f921"
            ]
           ],
           "sequentialminus": [
            [
             0,
             "#0d0887"
            ],
            [
             0.1111111111111111,
             "#46039f"
            ],
            [
             0.2222222222222222,
             "#7201a8"
            ],
            [
             0.3333333333333333,
             "#9c179e"
            ],
            [
             0.4444444444444444,
             "#bd3786"
            ],
            [
             0.5555555555555556,
             "#d8576b"
            ],
            [
             0.6666666666666666,
             "#ed7953"
            ],
            [
             0.7777777777777778,
             "#fb9f3a"
            ],
            [
             0.8888888888888888,
             "#fdca26"
            ],
            [
             1,
             "#f0f921"
            ]
           ]
          },
          "colorway": [
           "#636efa",
           "#EF553B",
           "#00cc96",
           "#ab63fa",
           "#FFA15A",
           "#19d3f3",
           "#FF6692",
           "#B6E880",
           "#FF97FF",
           "#FECB52"
          ],
          "font": {
           "color": "#2a3f5f"
          },
          "geo": {
           "bgcolor": "white",
           "lakecolor": "white",
           "landcolor": "#E5ECF6",
           "showlakes": true,
           "showland": true,
           "subunitcolor": "white"
          },
          "hoverlabel": {
           "align": "left"
          },
          "hovermode": "closest",
          "mapbox": {
           "style": "light"
          },
          "paper_bgcolor": "white",
          "plot_bgcolor": "#E5ECF6",
          "polar": {
           "angularaxis": {
            "gridcolor": "white",
            "linecolor": "white",
            "ticks": ""
           },
           "bgcolor": "#E5ECF6",
           "radialaxis": {
            "gridcolor": "white",
            "linecolor": "white",
            "ticks": ""
           }
          },
          "scene": {
           "xaxis": {
            "backgroundcolor": "#E5ECF6",
            "gridcolor": "white",
            "gridwidth": 2,
            "linecolor": "white",
            "showbackground": true,
            "ticks": "",
            "zerolinecolor": "white"
           },
           "yaxis": {
            "backgroundcolor": "#E5ECF6",
            "gridcolor": "white",
            "gridwidth": 2,
            "linecolor": "white",
            "showbackground": true,
            "ticks": "",
            "zerolinecolor": "white"
           },
           "zaxis": {
            "backgroundcolor": "#E5ECF6",
            "gridcolor": "white",
            "gridwidth": 2,
            "linecolor": "white",
            "showbackground": true,
            "ticks": "",
            "zerolinecolor": "white"
           }
          },
          "shapedefaults": {
           "line": {
            "color": "#2a3f5f"
           }
          },
          "ternary": {
           "aaxis": {
            "gridcolor": "white",
            "linecolor": "white",
            "ticks": ""
           },
           "baxis": {
            "gridcolor": "white",
            "linecolor": "white",
            "ticks": ""
           },
           "bgcolor": "#E5ECF6",
           "caxis": {
            "gridcolor": "white",
            "linecolor": "white",
            "ticks": ""
           }
          },
          "title": {
           "x": 0.05
          },
          "xaxis": {
           "automargin": true,
           "gridcolor": "white",
           "linecolor": "white",
           "ticks": "",
           "title": {
            "standoff": 15
           },
           "zerolinecolor": "white",
           "zerolinewidth": 2
          },
          "yaxis": {
           "automargin": true,
           "gridcolor": "white",
           "linecolor": "white",
           "ticks": "",
           "title": {
            "standoff": 15
           },
           "zerolinecolor": "white",
           "zerolinewidth": 2
          }
         }
        },
        "title": {
         "text": "Proportion of Attended vs. DNA Appts"
        },
        "xaxis": {
         "tickangle": 45,
         "tickformat": "%B %Y",
         "title": {
          "text": "Month"
         }
        },
        "yaxis": {
         "title": {
          "text": "Proportion"
         }
        }
       }
      }
     },
     "metadata": {},
     "output_type": "display_data"
    }
   ],
   "source": [
    "# Calculate average attended and DNA proportions\n",
    "average_attended_proportion = status_pivot_table['Attended_Proportion'].mean()\n",
    "average_dna_proportion = status_pivot_table['DNA_Proportion'].mean()\n",
    "\n",
    "# Calculate average attended and DNA proportions\n",
    "average_attended_proportion = status_pivot_table['Attended_Proportion'].mean()\n",
    "average_dna_proportion = status_pivot_table['DNA_Proportion'].mean()\n",
    "\n",
    "# Create the plot\n",
    "fig3_DNA1 = go.Figure()\n",
    "\n",
    "fig3_DNA1.add_trace(go.Scatter(\n",
    "    x=status_pivot_table['appointment_month'],\n",
    "    y=status_pivot_table['Attended_Proportion'],\n",
    "    mode='lines+markers',\n",
    "    name='Attended Proportion',\n",
    "    marker=dict(symbol='circle'),\n",
    "    line=dict(color='blue'),\n",
    "    hovertemplate=('%{x|%B %Y}<br>Attended Proportion: %{y:.2%}<extra></extra>')\n",
    "))\n",
    "fig3_DNA1.add_trace(go.Scatter(\n",
    "    x=status_pivot_table['appointment_month'],\n",
    "    y=status_pivot_table['DNA_Proportion'],\n",
    "    mode='lines+markers',\n",
    "    name='DNA Proportion',\n",
    "    marker=dict(symbol='circle'),\n",
    "    line=dict(color='red'),\n",
    "    hovertemplate=('%{x|%B %Y}<br>DNA Proportion: %{y:.2%}<extra></extra>')\n",
    "))\n",
    "fig3_DNA1.add_annotation(\n",
    "    x=pd.to_datetime('2022-01-01'),\n",
    "    y=0.9,\n",
    "    text=f'Average Attended: {average_attended_proportion:.2%}',\n",
    "    showarrow=False,\n",
    "    font=dict(color='blue', size=12)\n",
    ")\n",
    "fig3_DNA1.add_annotation(\n",
    "    x=pd.to_datetime('2022-01-01'),\n",
    "    y=0.1,\n",
    "    text=f'Average DNA: {average_dna_proportion:.2%}',\n",
    "    showarrow=False,\n",
    "    font=dict(color='red', size=12)\n",
    ")\n",
    "fig3_DNA1.update_layout(\n",
    "    title='Proportion of Attended vs. DNA Appts',\n",
    "    xaxis_title='Month',\n",
    "    yaxis_title='Proportion',\n",
    "    xaxis=dict(tickformat=\"%B %Y\", tickangle=45),\n",
    "    legend_title='Proportions',\n",
    "    height=600,  # Set the height to 600\n",
    ")\n",
    "\n",
    "# Get HTML string for fig3_DNA1\n",
    "fig3_DNA1_html = fig3_DNA1.to_html(full_html=False, include_plotlyjs='cdn')\n",
    "fig3_DNA1.show()"
   ]
  },
  {
   "cell_type": "code",
   "execution_count": 31,
   "metadata": {},
   "outputs": [
    {
     "name": "stdout",
     "output_type": "stream",
     "text": [
      "appt_status time_between_book_and_appt   Attended       DNA   Unknown  \\\n",
      "6                             Same Day  670925847  12945114  18869670   \n",
      "0                                1 Day  120377349   5402039   5103438   \n",
      "2                          2 to 7 Days  276766305  18380070  14138639   \n",
      "5                    More than 28 Days   48852755   5575622  10781253   \n",
      "1                       15  to 21 Days   89435148   8281829   8590296   \n",
      "3                       22  to 28 Days   55959339   5321465   6702690   \n",
      "4                        8  to 14 Days  169964536  14525094  12485810   \n",
      "\n",
      "appt_status      Total  DNA_Rate  \n",
      "6            702740631  1.842090  \n",
      "0            130882826  4.127386  \n",
      "2            309285014  5.942761  \n",
      "5             65209630  8.550305  \n",
      "1            106307273  7.790463  \n",
      "3             67983494  7.827584  \n",
      "4            196975440  7.374063  \n"
     ]
    },
    {
     "data": {
      "application/vnd.plotly.v1+json": {
       "config": {
        "plotlyServerURL": "https://plot.ly"
       },
       "data": [
        {
         "marker": {
          "color": "blue",
          "opacity": 0.6
         },
         "name": "Total Appointments",
         "type": "bar",
         "x": [
          "Same Day",
          "1 Day",
          "2 to 7 Days",
          "More than 28 Days",
          "15  to 21 Days",
          "22  to 28 Days",
          "8  to 14 Days"
         ],
         "xaxis": "x",
         "y": [
          702740631,
          130882826,
          309285014,
          65209630,
          106307273,
          67983494,
          196975440
         ],
         "yaxis": "y"
        },
        {
         "marker": {
          "color": "red",
          "symbol": "circle"
         },
         "mode": "lines+markers",
         "name": "DNA Rate",
         "type": "scatter",
         "x": [
          "Same Day",
          "1 Day",
          "2 to 7 Days",
          "More than 28 Days",
          "15  to 21 Days",
          "22  to 28 Days",
          "8  to 14 Days"
         ],
         "xaxis": "x",
         "y": [
          1.8420898734116316,
          4.127385666321111,
          5.9427612616238825,
          8.550304609917278,
          7.790463216942833,
          7.82758385439854,
          7.374063487305829
         ],
         "yaxis": "y2"
        }
       ],
       "layout": {
        "height": 600,
        "template": {
         "data": {
          "bar": [
           {
            "error_x": {
             "color": "#2a3f5f"
            },
            "error_y": {
             "color": "#2a3f5f"
            },
            "marker": {
             "line": {
              "color": "white",
              "width": 0.5
             },
             "pattern": {
              "fillmode": "overlay",
              "size": 10,
              "solidity": 0.2
             }
            },
            "type": "bar"
           }
          ],
          "barpolar": [
           {
            "marker": {
             "line": {
              "color": "white",
              "width": 0.5
             },
             "pattern": {
              "fillmode": "overlay",
              "size": 10,
              "solidity": 0.2
             }
            },
            "type": "barpolar"
           }
          ],
          "carpet": [
           {
            "aaxis": {
             "endlinecolor": "#2a3f5f",
             "gridcolor": "#C8D4E3",
             "linecolor": "#C8D4E3",
             "minorgridcolor": "#C8D4E3",
             "startlinecolor": "#2a3f5f"
            },
            "baxis": {
             "endlinecolor": "#2a3f5f",
             "gridcolor": "#C8D4E3",
             "linecolor": "#C8D4E3",
             "minorgridcolor": "#C8D4E3",
             "startlinecolor": "#2a3f5f"
            },
            "type": "carpet"
           }
          ],
          "choropleth": [
           {
            "colorbar": {
             "outlinewidth": 0,
             "ticks": ""
            },
            "type": "choropleth"
           }
          ],
          "contour": [
           {
            "colorbar": {
             "outlinewidth": 0,
             "ticks": ""
            },
            "colorscale": [
             [
              0,
              "#0d0887"
             ],
             [
              0.1111111111111111,
              "#46039f"
             ],
             [
              0.2222222222222222,
              "#7201a8"
             ],
             [
              0.3333333333333333,
              "#9c179e"
             ],
             [
              0.4444444444444444,
              "#bd3786"
             ],
             [
              0.5555555555555556,
              "#d8576b"
             ],
             [
              0.6666666666666666,
              "#ed7953"
             ],
             [
              0.7777777777777778,
              "#fb9f3a"
             ],
             [
              0.8888888888888888,
              "#fdca26"
             ],
             [
              1,
              "#f0f921"
             ]
            ],
            "type": "contour"
           }
          ],
          "contourcarpet": [
           {
            "colorbar": {
             "outlinewidth": 0,
             "ticks": ""
            },
            "type": "contourcarpet"
           }
          ],
          "heatmap": [
           {
            "colorbar": {
             "outlinewidth": 0,
             "ticks": ""
            },
            "colorscale": [
             [
              0,
              "#0d0887"
             ],
             [
              0.1111111111111111,
              "#46039f"
             ],
             [
              0.2222222222222222,
              "#7201a8"
             ],
             [
              0.3333333333333333,
              "#9c179e"
             ],
             [
              0.4444444444444444,
              "#bd3786"
             ],
             [
              0.5555555555555556,
              "#d8576b"
             ],
             [
              0.6666666666666666,
              "#ed7953"
             ],
             [
              0.7777777777777778,
              "#fb9f3a"
             ],
             [
              0.8888888888888888,
              "#fdca26"
             ],
             [
              1,
              "#f0f921"
             ]
            ],
            "type": "heatmap"
           }
          ],
          "heatmapgl": [
           {
            "colorbar": {
             "outlinewidth": 0,
             "ticks": ""
            },
            "colorscale": [
             [
              0,
              "#0d0887"
             ],
             [
              0.1111111111111111,
              "#46039f"
             ],
             [
              0.2222222222222222,
              "#7201a8"
             ],
             [
              0.3333333333333333,
              "#9c179e"
             ],
             [
              0.4444444444444444,
              "#bd3786"
             ],
             [
              0.5555555555555556,
              "#d8576b"
             ],
             [
              0.6666666666666666,
              "#ed7953"
             ],
             [
              0.7777777777777778,
              "#fb9f3a"
             ],
             [
              0.8888888888888888,
              "#fdca26"
             ],
             [
              1,
              "#f0f921"
             ]
            ],
            "type": "heatmapgl"
           }
          ],
          "histogram": [
           {
            "marker": {
             "pattern": {
              "fillmode": "overlay",
              "size": 10,
              "solidity": 0.2
             }
            },
            "type": "histogram"
           }
          ],
          "histogram2d": [
           {
            "colorbar": {
             "outlinewidth": 0,
             "ticks": ""
            },
            "colorscale": [
             [
              0,
              "#0d0887"
             ],
             [
              0.1111111111111111,
              "#46039f"
             ],
             [
              0.2222222222222222,
              "#7201a8"
             ],
             [
              0.3333333333333333,
              "#9c179e"
             ],
             [
              0.4444444444444444,
              "#bd3786"
             ],
             [
              0.5555555555555556,
              "#d8576b"
             ],
             [
              0.6666666666666666,
              "#ed7953"
             ],
             [
              0.7777777777777778,
              "#fb9f3a"
             ],
             [
              0.8888888888888888,
              "#fdca26"
             ],
             [
              1,
              "#f0f921"
             ]
            ],
            "type": "histogram2d"
           }
          ],
          "histogram2dcontour": [
           {
            "colorbar": {
             "outlinewidth": 0,
             "ticks": ""
            },
            "colorscale": [
             [
              0,
              "#0d0887"
             ],
             [
              0.1111111111111111,
              "#46039f"
             ],
             [
              0.2222222222222222,
              "#7201a8"
             ],
             [
              0.3333333333333333,
              "#9c179e"
             ],
             [
              0.4444444444444444,
              "#bd3786"
             ],
             [
              0.5555555555555556,
              "#d8576b"
             ],
             [
              0.6666666666666666,
              "#ed7953"
             ],
             [
              0.7777777777777778,
              "#fb9f3a"
             ],
             [
              0.8888888888888888,
              "#fdca26"
             ],
             [
              1,
              "#f0f921"
             ]
            ],
            "type": "histogram2dcontour"
           }
          ],
          "mesh3d": [
           {
            "colorbar": {
             "outlinewidth": 0,
             "ticks": ""
            },
            "type": "mesh3d"
           }
          ],
          "parcoords": [
           {
            "line": {
             "colorbar": {
              "outlinewidth": 0,
              "ticks": ""
             }
            },
            "type": "parcoords"
           }
          ],
          "pie": [
           {
            "automargin": true,
            "type": "pie"
           }
          ],
          "scatter": [
           {
            "fillpattern": {
             "fillmode": "overlay",
             "size": 10,
             "solidity": 0.2
            },
            "type": "scatter"
           }
          ],
          "scatter3d": [
           {
            "line": {
             "colorbar": {
              "outlinewidth": 0,
              "ticks": ""
             }
            },
            "marker": {
             "colorbar": {
              "outlinewidth": 0,
              "ticks": ""
             }
            },
            "type": "scatter3d"
           }
          ],
          "scattercarpet": [
           {
            "marker": {
             "colorbar": {
              "outlinewidth": 0,
              "ticks": ""
             }
            },
            "type": "scattercarpet"
           }
          ],
          "scattergeo": [
           {
            "marker": {
             "colorbar": {
              "outlinewidth": 0,
              "ticks": ""
             }
            },
            "type": "scattergeo"
           }
          ],
          "scattergl": [
           {
            "marker": {
             "colorbar": {
              "outlinewidth": 0,
              "ticks": ""
             }
            },
            "type": "scattergl"
           }
          ],
          "scattermapbox": [
           {
            "marker": {
             "colorbar": {
              "outlinewidth": 0,
              "ticks": ""
             }
            },
            "type": "scattermapbox"
           }
          ],
          "scatterpolar": [
           {
            "marker": {
             "colorbar": {
              "outlinewidth": 0,
              "ticks": ""
             }
            },
            "type": "scatterpolar"
           }
          ],
          "scatterpolargl": [
           {
            "marker": {
             "colorbar": {
              "outlinewidth": 0,
              "ticks": ""
             }
            },
            "type": "scatterpolargl"
           }
          ],
          "scatterternary": [
           {
            "marker": {
             "colorbar": {
              "outlinewidth": 0,
              "ticks": ""
             }
            },
            "type": "scatterternary"
           }
          ],
          "surface": [
           {
            "colorbar": {
             "outlinewidth": 0,
             "ticks": ""
            },
            "colorscale": [
             [
              0,
              "#0d0887"
             ],
             [
              0.1111111111111111,
              "#46039f"
             ],
             [
              0.2222222222222222,
              "#7201a8"
             ],
             [
              0.3333333333333333,
              "#9c179e"
             ],
             [
              0.4444444444444444,
              "#bd3786"
             ],
             [
              0.5555555555555556,
              "#d8576b"
             ],
             [
              0.6666666666666666,
              "#ed7953"
             ],
             [
              0.7777777777777778,
              "#fb9f3a"
             ],
             [
              0.8888888888888888,
              "#fdca26"
             ],
             [
              1,
              "#f0f921"
             ]
            ],
            "type": "surface"
           }
          ],
          "table": [
           {
            "cells": {
             "fill": {
              "color": "#EBF0F8"
             },
             "line": {
              "color": "white"
             }
            },
            "header": {
             "fill": {
              "color": "#C8D4E3"
             },
             "line": {
              "color": "white"
             }
            },
            "type": "table"
           }
          ]
         },
         "layout": {
          "annotationdefaults": {
           "arrowcolor": "#2a3f5f",
           "arrowhead": 0,
           "arrowwidth": 1
          },
          "autotypenumbers": "strict",
          "coloraxis": {
           "colorbar": {
            "outlinewidth": 0,
            "ticks": ""
           }
          },
          "colorscale": {
           "diverging": [
            [
             0,
             "#8e0152"
            ],
            [
             0.1,
             "#c51b7d"
            ],
            [
             0.2,
             "#de77ae"
            ],
            [
             0.3,
             "#f1b6da"
            ],
            [
             0.4,
             "#fde0ef"
            ],
            [
             0.5,
             "#f7f7f7"
            ],
            [
             0.6,
             "#e6f5d0"
            ],
            [
             0.7,
             "#b8e186"
            ],
            [
             0.8,
             "#7fbc41"
            ],
            [
             0.9,
             "#4d9221"
            ],
            [
             1,
             "#276419"
            ]
           ],
           "sequential": [
            [
             0,
             "#0d0887"
            ],
            [
             0.1111111111111111,
             "#46039f"
            ],
            [
             0.2222222222222222,
             "#7201a8"
            ],
            [
             0.3333333333333333,
             "#9c179e"
            ],
            [
             0.4444444444444444,
             "#bd3786"
            ],
            [
             0.5555555555555556,
             "#d8576b"
            ],
            [
             0.6666666666666666,
             "#ed7953"
            ],
            [
             0.7777777777777778,
             "#fb9f3a"
            ],
            [
             0.8888888888888888,
             "#fdca26"
            ],
            [
             1,
             "#f0f921"
            ]
           ],
           "sequentialminus": [
            [
             0,
             "#0d0887"
            ],
            [
             0.1111111111111111,
             "#46039f"
            ],
            [
             0.2222222222222222,
             "#7201a8"
            ],
            [
             0.3333333333333333,
             "#9c179e"
            ],
            [
             0.4444444444444444,
             "#bd3786"
            ],
            [
             0.5555555555555556,
             "#d8576b"
            ],
            [
             0.6666666666666666,
             "#ed7953"
            ],
            [
             0.7777777777777778,
             "#fb9f3a"
            ],
            [
             0.8888888888888888,
             "#fdca26"
            ],
            [
             1,
             "#f0f921"
            ]
           ]
          },
          "colorway": [
           "#636efa",
           "#EF553B",
           "#00cc96",
           "#ab63fa",
           "#FFA15A",
           "#19d3f3",
           "#FF6692",
           "#B6E880",
           "#FF97FF",
           "#FECB52"
          ],
          "font": {
           "color": "#2a3f5f"
          },
          "geo": {
           "bgcolor": "white",
           "lakecolor": "white",
           "landcolor": "white",
           "showlakes": true,
           "showland": true,
           "subunitcolor": "#C8D4E3"
          },
          "hoverlabel": {
           "align": "left"
          },
          "hovermode": "closest",
          "mapbox": {
           "style": "light"
          },
          "paper_bgcolor": "white",
          "plot_bgcolor": "white",
          "polar": {
           "angularaxis": {
            "gridcolor": "#EBF0F8",
            "linecolor": "#EBF0F8",
            "ticks": ""
           },
           "bgcolor": "white",
           "radialaxis": {
            "gridcolor": "#EBF0F8",
            "linecolor": "#EBF0F8",
            "ticks": ""
           }
          },
          "scene": {
           "xaxis": {
            "backgroundcolor": "white",
            "gridcolor": "#DFE8F3",
            "gridwidth": 2,
            "linecolor": "#EBF0F8",
            "showbackground": true,
            "ticks": "",
            "zerolinecolor": "#EBF0F8"
           },
           "yaxis": {
            "backgroundcolor": "white",
            "gridcolor": "#DFE8F3",
            "gridwidth": 2,
            "linecolor": "#EBF0F8",
            "showbackground": true,
            "ticks": "",
            "zerolinecolor": "#EBF0F8"
           },
           "zaxis": {
            "backgroundcolor": "white",
            "gridcolor": "#DFE8F3",
            "gridwidth": 2,
            "linecolor": "#EBF0F8",
            "showbackground": true,
            "ticks": "",
            "zerolinecolor": "#EBF0F8"
           }
          },
          "shapedefaults": {
           "line": {
            "color": "#2a3f5f"
           }
          },
          "ternary": {
           "aaxis": {
            "gridcolor": "#DFE8F3",
            "linecolor": "#A2B1C6",
            "ticks": ""
           },
           "baxis": {
            "gridcolor": "#DFE8F3",
            "linecolor": "#A2B1C6",
            "ticks": ""
           },
           "bgcolor": "white",
           "caxis": {
            "gridcolor": "#DFE8F3",
            "linecolor": "#A2B1C6",
            "ticks": ""
           }
          },
          "title": {
           "x": 0.05
          },
          "xaxis": {
           "automargin": true,
           "gridcolor": "#EBF0F8",
           "linecolor": "#EBF0F8",
           "ticks": "",
           "title": {
            "standoff": 15
           },
           "zerolinecolor": "#EBF0F8",
           "zerolinewidth": 2
          },
          "yaxis": {
           "automargin": true,
           "gridcolor": "#EBF0F8",
           "linecolor": "#EBF0F8",
           "ticks": "",
           "title": {
            "standoff": 15
           },
           "zerolinecolor": "#EBF0F8",
           "zerolinewidth": 2
          }
         }
        },
        "title": {
         "text": "Total Appts & DNA Rate vs. Time Booking to Appt"
        },
        "xaxis": {
         "anchor": "y",
         "domain": [
          0,
          0.94
         ],
         "tickmode": "array",
         "ticktext": [
          "Same Day",
          "1 Day",
          "2 to 7 Days",
          "8 to 14 Days",
          "15 to 21 Days",
          "22 to 28 Days",
          "More than 28 Days"
         ],
         "tickvals": [
          0,
          1,
          2,
          3,
          4,
          5,
          6
         ],
         "title": {
          "text": "Time Between Booking and Appointment"
         }
        },
        "yaxis": {
         "anchor": "x",
         "color": "blue",
         "domain": [
          0,
          1
         ],
         "range": [
          0,
          450000000
         ],
         "tickvals": [
          0,
          50000000,
          100000000,
          150000000,
          200000000,
          250000000,
          300000000,
          350000000,
          400000000,
          450000000
         ],
         "title": {
          "text": "Total Appointments"
         }
        },
        "yaxis2": {
         "anchor": "x",
         "color": "red",
         "overlaying": "y",
         "range": [
          1,
          10
         ],
         "side": "right",
         "tickvals": [
          1,
          2,
          3,
          4,
          5,
          6,
          7,
          8,
          9,
          10
         ],
         "title": {
          "text": "DNA Rate (%)"
         }
        }
       }
      }
     },
     "metadata": {},
     "output_type": "display_data"
    }
   ],
   "source": [
    "# Verify and handle any potential non-numeric values in 'time_between_book_and_appt'\n",
    "ar['time_between_book_and_appt'] = ar['time_between_book_and_appt'].astype(str)\n",
    "\n",
    "# Group by 'time_between_book_and_appointment' and 'appointment_status' and sum the counts\n",
    "dna_groupby = ar.groupby(['time_between_book_and_appt', 'appt_status'])['count_of_appointments'].sum().reset_index()\n",
    "\n",
    "# Filter out 'Unknown' from the dataset\n",
    "dna_groupby = dna_groupby[dna_groupby['time_between_book_and_appt'] != 'Unknown / Data Quality']\n",
    "\n",
    "# Pivot the data to get separate columns for each appointment status\n",
    "dna_pivot = dna_groupby.pivot_table(\n",
    "    values='count_of_appointments',\n",
    "    index='time_between_book_and_appt',\n",
    "    columns='appt_status',\n",
    "    aggfunc='sum',\n",
    "    fill_value=0\n",
    ").reset_index()\n",
    "\n",
    "# Calculate the total number of appointments, excluding the non-numeric columns\n",
    "dna_pivot['Total'] = dna_pivot.loc[:, dna_pivot.columns != 'time_between_book_and_appt'].sum(axis=1)\n",
    "\n",
    "# Calculate the DNA rate\n",
    "dna_pivot['DNA_Rate'] = (dna_pivot['DNA'] / dna_pivot['Total']) * 100\n",
    "\n",
    "# Define the desired order of categories\n",
    "category_order = ['Same Day', '1 Day', '2 to 7 Days', '8 to 14 Days', '15 to 21 Days', '22 to 28 Days', 'More than 28 Days']\n",
    "\n",
    "# Ensure 'time_between_book_and_appt' is ordered correctly\n",
    "dna_pivot['time_between_book_and_appt_ordered'] = pd.Categorical(dna_pivot['time_between_book_and_appt'], categories=category_order, ordered=True)\n",
    "\n",
    "# Sort the dataframe based on the new ordered categorical column\n",
    "dna_pivot_sorted = dna_pivot.sort_values('time_between_book_and_appt_ordered').drop(columns='time_between_book_and_appt_ordered')\n",
    "\n",
    "# Filter out 'Unknown / Data Issue' from the sorted dataframe\n",
    "dna_pivot_sorted = dna_pivot_sorted[dna_pivot_sorted['time_between_book_and_appt'] != 'Unknown / Data Issue']\n",
    "\n",
    "# Display the pivot table to verify sorting\n",
    "print(dna_pivot_sorted)\n",
    "\n",
    "# Create subplots with shared x-axis\n",
    "fig3_DNA2 = make_subplots(specs=[[{\"secondary_y\": True}]])\n",
    "\n",
    "# Bar plot for total appointments\n",
    "fig3_DNA2.add_trace(\n",
    "    go.Bar(\n",
    "        x=dna_pivot_sorted['time_between_book_and_appt'],\n",
    "        y=dna_pivot_sorted['Total'],\n",
    "        name='Total Appointments',\n",
    "        marker=dict(color='blue', opacity=0.6)\n",
    "    ),\n",
    "    secondary_y=False\n",
    ")\n",
    "\n",
    "# Line plot for DNA rate\n",
    "fig3_DNA2.add_trace(\n",
    "    go.Scatter(\n",
    "        x=dna_pivot_sorted['time_between_book_and_appt'],\n",
    "        y=dna_pivot_sorted['DNA_Rate'],\n",
    "        name='DNA Rate',\n",
    "        mode='lines+markers',\n",
    "        marker=dict(color='red', symbol='circle')\n",
    "    ),\n",
    "    secondary_y=True\n",
    ")\n",
    "\n",
    "# Set x-axis title and category order\n",
    "fig3_DNA2.update_xaxes(\n",
    "    title_text=\"Time Between Booking and Appointment\", \n",
    "    tickmode='array', \n",
    "    tickvals=list(range(len(category_order))), \n",
    "    ticktext=category_order\n",
    ")\n",
    "\n",
    "# Set y-axes titles\n",
    "fig3_DNA2.update_yaxes(\n",
    "    title_text=\"Total Appointments\", \n",
    "    secondary_y=False, \n",
    "    color='blue', \n",
    "    range=[0, 450000000], \n",
    "    tickvals=[50000000 * i for i in range(10)]\n",
    ")\n",
    "fig3_DNA2.update_yaxes(\n",
    "    title_text=\"DNA Rate (%)\", \n",
    "    secondary_y=True, \n",
    "    color='red', \n",
    "    range=[1, 10], \n",
    "    tickvals=[i for i in range(1, 11)]\n",
    ")\n",
    "\n",
    "# Set the layout and title\n",
    "fig3_DNA2.update_layout(\n",
    "    title_text='Total Appts & DNA Rate vs. Time Booking to Appt',\n",
    "    height=600,\n",
    "    template='plotly_white'\n",
    ")\n",
    "# Get HTML string for fig1_trend1\n",
    "fig3_DNA2_html = fig3_DNA2.to_html(full_html=False, include_plotlyjs='cdn')\n",
    "\n",
    "# Show the plot\n",
    "fig3_DNA2.show()\n"
   ]
  },
  {
   "cell_type": "code",
   "execution_count": 32,
   "metadata": {},
   "outputs": [
    {
     "data": {
      "application/vnd.plotly.v1+json": {
       "config": {
        "plotlyServerURL": "https://plot.ly"
       },
       "data": [
        {
         "hovertemplate": "Time Between Booking and Appointment=1 Day<br>appointment_month=%{x}<br>Count of Appointments=%{y}<extra></extra>",
         "legendgroup": "1 Day",
         "line": {
          "color": "#636efa",
          "dash": "solid"
         },
         "marker": {
          "symbol": "circle"
         },
         "mode": "lines",
         "name": "1 Day",
         "orientation": "v",
         "showlegend": true,
         "type": "scatter",
         "x": [
          "2019-04-01T00:00:00",
          "2019-05-01T00:00:00",
          "2019-06-01T00:00:00",
          "2019-07-01T00:00:00",
          "2019-08-01T00:00:00",
          "2019-09-01T00:00:00",
          "2019-10-01T00:00:00",
          "2019-11-01T00:00:00",
          "2019-12-01T00:00:00",
          "2020-01-01T00:00:00",
          "2020-02-01T00:00:00",
          "2020-03-01T00:00:00",
          "2020-04-01T00:00:00",
          "2020-05-01T00:00:00",
          "2020-06-01T00:00:00",
          "2020-07-01T00:00:00",
          "2020-08-01T00:00:00",
          "2020-09-01T00:00:00",
          "2020-10-01T00:00:00",
          "2020-11-01T00:00:00",
          "2020-12-01T00:00:00",
          "2021-01-01T00:00:00",
          "2021-02-01T00:00:00",
          "2021-03-01T00:00:00",
          "2021-04-01T00:00:00",
          "2021-05-01T00:00:00",
          "2021-06-01T00:00:00",
          "2021-07-01T00:00:00",
          "2021-08-01T00:00:00",
          "2021-09-01T00:00:00",
          "2021-12-01T00:00:00",
          "2022-01-01T00:00:00",
          "2022-02-01T00:00:00",
          "2022-03-01T00:00:00",
          "2022-04-01T00:00:00",
          "2022-05-01T00:00:00",
          "2022-06-01T00:00:00",
          "2022-07-01T00:00:00",
          "2022-08-01T00:00:00",
          "2022-09-01T00:00:00",
          "2022-10-01T00:00:00",
          "2022-11-01T00:00:00",
          "2022-12-01T00:00:00",
          "2023-01-01T00:00:00",
          "2023-02-01T00:00:00",
          "2023-03-01T00:00:00",
          "2023-04-01T00:00:00",
          "2023-05-01T00:00:00",
          "2023-06-01T00:00:00",
          "2023-07-01T00:00:00",
          "2023-08-01T00:00:00",
          "2023-09-01T00:00:00",
          "2023-10-01T00:00:00",
          "2023-11-01T00:00:00",
          "2023-12-01T00:00:00",
          "2024-01-01T00:00:00",
          "2024-02-01T00:00:00",
          "2024-03-01T00:00:00",
          "2024-04-01T00:00:00",
          "2024-05-01T00:00:00"
         ],
         "xaxis": "x",
         "y": [
          1582302,
          1708677,
          1574365,
          1794184,
          1614852,
          1680674,
          2084859,
          1818514,
          1527305,
          1943860,
          1664503,
          1821130,
          1521203,
          1819845,
          2266540,
          2440528,
          2003076,
          2460636,
          2561365,
          2282098,
          2312758,
          2422790,
          2350793,
          2681762,
          2289288,
          2177545,
          2373725,
          2329934,
          2004395,
          2654797,
          2218825,
          2334045,
          2272609,
          2708825,
          2088639,
          2270212,
          2187715,
          2167856,
          2140335,
          2317094,
          2353170,
          2576327,
          2201488,
          2438014,
          2183012,
          2577861,
          1896498,
          2117192,
          2335111,
          2083395,
          2281448,
          2336000,
          2453193,
          2500181,
          2032700,
          2621820,
          2409649,
          2323484,
          2285868,
          2401957
         ],
         "yaxis": "y"
        },
        {
         "hovertemplate": "Time Between Booking and Appointment=15  to 21 Days<br>appointment_month=%{x}<br>Count of Appointments=%{y}<extra></extra>",
         "legendgroup": "15  to 21 Days",
         "line": {
          "color": "#EF553B",
          "dash": "solid"
         },
         "marker": {
          "symbol": "circle"
         },
         "mode": "lines",
         "name": "15  to 21 Days",
         "orientation": "v",
         "showlegend": true,
         "type": "scatter",
         "x": [
          "2019-04-01T00:00:00",
          "2019-05-01T00:00:00",
          "2019-06-01T00:00:00",
          "2019-07-01T00:00:00",
          "2019-08-01T00:00:00",
          "2019-09-01T00:00:00",
          "2019-10-01T00:00:00",
          "2019-11-01T00:00:00",
          "2019-12-01T00:00:00",
          "2020-01-01T00:00:00",
          "2020-02-01T00:00:00",
          "2020-03-01T00:00:00",
          "2020-04-01T00:00:00",
          "2020-05-01T00:00:00",
          "2020-06-01T00:00:00",
          "2020-07-01T00:00:00",
          "2020-08-01T00:00:00",
          "2020-09-01T00:00:00",
          "2020-10-01T00:00:00",
          "2020-11-01T00:00:00",
          "2020-12-01T00:00:00",
          "2021-01-01T00:00:00",
          "2021-02-01T00:00:00",
          "2021-03-01T00:00:00",
          "2021-04-01T00:00:00",
          "2021-05-01T00:00:00",
          "2021-06-01T00:00:00",
          "2021-07-01T00:00:00",
          "2021-08-01T00:00:00",
          "2021-09-01T00:00:00",
          "2021-12-01T00:00:00",
          "2022-01-01T00:00:00",
          "2022-02-01T00:00:00",
          "2022-03-01T00:00:00",
          "2022-04-01T00:00:00",
          "2022-05-01T00:00:00",
          "2022-06-01T00:00:00",
          "2022-07-01T00:00:00",
          "2022-08-01T00:00:00",
          "2022-09-01T00:00:00",
          "2022-10-01T00:00:00",
          "2022-11-01T00:00:00",
          "2022-12-01T00:00:00",
          "2023-01-01T00:00:00",
          "2023-02-01T00:00:00",
          "2023-03-01T00:00:00",
          "2023-04-01T00:00:00",
          "2023-05-01T00:00:00",
          "2023-06-01T00:00:00",
          "2023-07-01T00:00:00",
          "2023-08-01T00:00:00",
          "2023-09-01T00:00:00",
          "2023-10-01T00:00:00",
          "2023-11-01T00:00:00",
          "2023-12-01T00:00:00",
          "2024-01-01T00:00:00",
          "2024-02-01T00:00:00",
          "2024-03-01T00:00:00",
          "2024-04-01T00:00:00",
          "2024-05-01T00:00:00"
         ],
         "xaxis": "x",
         "y": [
          1893466,
          1859862,
          1786980,
          1957387,
          1664270,
          2017013,
          2485137,
          2200671,
          1764535,
          1880799,
          1916903,
          1742249,
          404505,
          303146,
          447163,
          694341,
          840987,
          1645496,
          1974417,
          1394768,
          1276256,
          962102,
          815648,
          1168922,
          1297201,
          1301388,
          1628777,
          1546883,
          1451109,
          1867310,
          1709809,
          1312297,
          1524288,
          1907919,
          1720131,
          1781955,
          1914584,
          1832637,
          1835451,
          2217641,
          2690633,
          2485271,
          1828458,
          1850939,
          2026395,
          2359862,
          1821691,
          2152294,
          2229557,
          2027547,
          2080916,
          2519184,
          2803781,
          2379933,
          1838537,
          2143867,
          2328057,
          2190851,
          2272690,
          2330407
         ],
         "yaxis": "y"
        },
        {
         "hovertemplate": "Time Between Booking and Appointment=2 to 7 Days<br>appointment_month=%{x}<br>Count of Appointments=%{y}<extra></extra>",
         "legendgroup": "2 to 7 Days",
         "line": {
          "color": "#00cc96",
          "dash": "solid"
         },
         "marker": {
          "symbol": "circle"
         },
         "mode": "lines",
         "name": "2 to 7 Days",
         "orientation": "v",
         "showlegend": true,
         "type": "scatter",
         "x": [
          "2019-04-01T00:00:00",
          "2019-05-01T00:00:00",
          "2019-06-01T00:00:00",
          "2019-07-01T00:00:00",
          "2019-08-01T00:00:00",
          "2019-09-01T00:00:00",
          "2019-10-01T00:00:00",
          "2019-11-01T00:00:00",
          "2019-12-01T00:00:00",
          "2020-01-01T00:00:00",
          "2020-02-01T00:00:00",
          "2020-03-01T00:00:00",
          "2020-04-01T00:00:00",
          "2020-05-01T00:00:00",
          "2020-06-01T00:00:00",
          "2020-07-01T00:00:00",
          "2020-08-01T00:00:00",
          "2020-09-01T00:00:00",
          "2020-10-01T00:00:00",
          "2020-11-01T00:00:00",
          "2020-12-01T00:00:00",
          "2021-01-01T00:00:00",
          "2021-02-01T00:00:00",
          "2021-03-01T00:00:00",
          "2021-04-01T00:00:00",
          "2021-05-01T00:00:00",
          "2021-06-01T00:00:00",
          "2021-07-01T00:00:00",
          "2021-08-01T00:00:00",
          "2021-09-01T00:00:00",
          "2021-12-01T00:00:00",
          "2022-01-01T00:00:00",
          "2022-02-01T00:00:00",
          "2022-03-01T00:00:00",
          "2022-04-01T00:00:00",
          "2022-05-01T00:00:00",
          "2022-06-01T00:00:00",
          "2022-07-01T00:00:00",
          "2022-08-01T00:00:00",
          "2022-09-01T00:00:00",
          "2022-10-01T00:00:00",
          "2022-11-01T00:00:00",
          "2022-12-01T00:00:00",
          "2023-01-01T00:00:00",
          "2023-02-01T00:00:00",
          "2023-03-01T00:00:00",
          "2023-04-01T00:00:00",
          "2023-05-01T00:00:00",
          "2023-06-01T00:00:00",
          "2023-07-01T00:00:00",
          "2023-08-01T00:00:00",
          "2023-09-01T00:00:00",
          "2023-10-01T00:00:00",
          "2023-11-01T00:00:00",
          "2023-12-01T00:00:00",
          "2024-01-01T00:00:00",
          "2024-02-01T00:00:00",
          "2024-03-01T00:00:00",
          "2024-04-01T00:00:00",
          "2024-05-01T00:00:00"
         ],
         "xaxis": "x",
         "y": [
          4354187,
          4637117,
          4606133,
          5286741,
          4424201,
          5246750,
          5906068,
          5184408,
          4321055,
          5600081,
          4688833,
          4247606,
          2014550,
          2599878,
          4165408,
          4862078,
          4216371,
          5607147,
          5928119,
          5528452,
          5012899,
          5047843,
          5439011,
          6551348,
          5146602,
          5205214,
          5583854,
          5425622,
          4903285,
          5947457,
          4739938,
          5621292,
          5465603,
          6078801,
          4526675,
          5564630,
          4706019,
          5085617,
          5122568,
          5284479,
          6383693,
          6025828,
          4495159,
          5988088,
          5281400,
          5968023,
          4267275,
          4998990,
          5475732,
          5361988,
          5070978,
          5691524,
          6293537,
          5899378,
          4455010,
          6244470,
          5673213,
          5447899,
          5201466,
          5177423
         ],
         "yaxis": "y"
        },
        {
         "hovertemplate": "Time Between Booking and Appointment=22  to 28 Days<br>appointment_month=%{x}<br>Count of Appointments=%{y}<extra></extra>",
         "legendgroup": "22  to 28 Days",
         "line": {
          "color": "#ab63fa",
          "dash": "solid"
         },
         "marker": {
          "symbol": "circle"
         },
         "mode": "lines",
         "name": "22  to 28 Days",
         "orientation": "v",
         "showlegend": true,
         "type": "scatter",
         "x": [
          "2019-04-01T00:00:00",
          "2019-05-01T00:00:00",
          "2019-06-01T00:00:00",
          "2019-07-01T00:00:00",
          "2019-08-01T00:00:00",
          "2019-09-01T00:00:00",
          "2019-10-01T00:00:00",
          "2019-11-01T00:00:00",
          "2019-12-01T00:00:00",
          "2020-01-01T00:00:00",
          "2020-02-01T00:00:00",
          "2020-03-01T00:00:00",
          "2020-04-01T00:00:00",
          "2020-05-01T00:00:00",
          "2020-06-01T00:00:00",
          "2020-07-01T00:00:00",
          "2020-08-01T00:00:00",
          "2020-09-01T00:00:00",
          "2020-10-01T00:00:00",
          "2020-11-01T00:00:00",
          "2020-12-01T00:00:00",
          "2021-01-01T00:00:00",
          "2021-02-01T00:00:00",
          "2021-03-01T00:00:00",
          "2021-04-01T00:00:00",
          "2021-05-01T00:00:00",
          "2021-06-01T00:00:00",
          "2021-07-01T00:00:00",
          "2021-08-01T00:00:00",
          "2021-09-01T00:00:00",
          "2021-12-01T00:00:00",
          "2022-01-01T00:00:00",
          "2022-02-01T00:00:00",
          "2022-03-01T00:00:00",
          "2022-04-01T00:00:00",
          "2022-05-01T00:00:00",
          "2022-06-01T00:00:00",
          "2022-07-01T00:00:00",
          "2022-08-01T00:00:00",
          "2022-09-01T00:00:00",
          "2022-10-01T00:00:00",
          "2022-11-01T00:00:00",
          "2022-12-01T00:00:00",
          "2023-01-01T00:00:00",
          "2023-02-01T00:00:00",
          "2023-03-01T00:00:00",
          "2023-04-01T00:00:00",
          "2023-05-01T00:00:00",
          "2023-06-01T00:00:00",
          "2023-07-01T00:00:00",
          "2023-08-01T00:00:00",
          "2023-09-01T00:00:00",
          "2023-10-01T00:00:00",
          "2023-11-01T00:00:00",
          "2023-12-01T00:00:00",
          "2024-01-01T00:00:00",
          "2024-02-01T00:00:00",
          "2024-03-01T00:00:00",
          "2024-04-01T00:00:00",
          "2024-05-01T00:00:00"
         ],
         "xaxis": "x",
         "y": [
          1322542,
          1314366,
          1260122,
          1364166,
          1179170,
          1389608,
          1708367,
          1484953,
          1204061,
          1312983,
          1289193,
          1277298,
          460061,
          226729,
          290737,
          393956,
          451543,
          895969,
          1250575,
          786023,
          631452,
          624229,
          471413,
          629005,
          700578,
          672783,
          877787,
          856807,
          828138,
          1204622,
          985148,
          851823,
          812439,
          1116235,
          1011626,
          1072459,
          1217165,
          1118241,
          1167668,
          1375144,
          1638013,
          1511136,
          1140693,
          1175207,
          1209960,
          1538151,
          1342100,
          1345425,
          1439246,
          1314246,
          1383535,
          1784920,
          1953693,
          1522394,
          1180565,
          1442362,
          1453604,
          1462167,
          1544693,
          1514200
         ],
         "yaxis": "y"
        },
        {
         "hovertemplate": "Time Between Booking and Appointment=8  to 14 Days<br>appointment_month=%{x}<br>Count of Appointments=%{y}<extra></extra>",
         "legendgroup": "8  to 14 Days",
         "line": {
          "color": "#FFA15A",
          "dash": "solid"
         },
         "marker": {
          "symbol": "circle"
         },
         "mode": "lines",
         "name": "8  to 14 Days",
         "orientation": "v",
         "showlegend": true,
         "type": "scatter",
         "x": [
          "2019-04-01T00:00:00",
          "2019-05-01T00:00:00",
          "2019-06-01T00:00:00",
          "2019-07-01T00:00:00",
          "2019-08-01T00:00:00",
          "2019-09-01T00:00:00",
          "2019-10-01T00:00:00",
          "2019-11-01T00:00:00",
          "2019-12-01T00:00:00",
          "2020-01-01T00:00:00",
          "2020-02-01T00:00:00",
          "2020-03-01T00:00:00",
          "2020-04-01T00:00:00",
          "2020-05-01T00:00:00",
          "2020-06-01T00:00:00",
          "2020-07-01T00:00:00",
          "2020-08-01T00:00:00",
          "2020-09-01T00:00:00",
          "2020-10-01T00:00:00",
          "2020-11-01T00:00:00",
          "2020-12-01T00:00:00",
          "2021-01-01T00:00:00",
          "2021-02-01T00:00:00",
          "2021-03-01T00:00:00",
          "2021-04-01T00:00:00",
          "2021-05-01T00:00:00",
          "2021-06-01T00:00:00",
          "2021-07-01T00:00:00",
          "2021-08-01T00:00:00",
          "2021-09-01T00:00:00",
          "2021-12-01T00:00:00",
          "2022-01-01T00:00:00",
          "2022-02-01T00:00:00",
          "2022-03-01T00:00:00",
          "2022-04-01T00:00:00",
          "2022-05-01T00:00:00",
          "2022-06-01T00:00:00",
          "2022-07-01T00:00:00",
          "2022-08-01T00:00:00",
          "2022-09-01T00:00:00",
          "2022-10-01T00:00:00",
          "2022-11-01T00:00:00",
          "2022-12-01T00:00:00",
          "2023-01-01T00:00:00",
          "2023-02-01T00:00:00",
          "2023-03-01T00:00:00",
          "2023-04-01T00:00:00",
          "2023-05-01T00:00:00",
          "2023-06-01T00:00:00",
          "2023-07-01T00:00:00",
          "2023-08-01T00:00:00",
          "2023-09-01T00:00:00",
          "2023-10-01T00:00:00",
          "2023-11-01T00:00:00",
          "2023-12-01T00:00:00",
          "2024-01-01T00:00:00",
          "2024-02-01T00:00:00",
          "2024-03-01T00:00:00",
          "2024-04-01T00:00:00",
          "2024-05-01T00:00:00"
         ],
         "xaxis": "x",
         "y": [
          3264241,
          3442395,
          3168877,
          3623838,
          3092730,
          3567205,
          4417531,
          3873103,
          3161480,
          3442320,
          3445599,
          2880614,
          725282,
          842940,
          1302877,
          1973987,
          2054298,
          3235023,
          3614291,
          2959686,
          3039622,
          1969190,
          2232846,
          3093858,
          2907551,
          3024219,
          3354992,
          3198260,
          2883933,
          3353699,
          3166700,
          2647071,
          3297027,
          3748113,
          2909290,
          3664877,
          3250026,
          3302071,
          3322821,
          3844746,
          4552178,
          4259045,
          3189787,
          3377925,
          3657535,
          4105317,
          2966873,
          3581414,
          3823193,
          3643534,
          3639577,
          4033114,
          4615276,
          4207974,
          3290459,
          3815963,
          4185317,
          3910916,
          3815027,
          4005787
         ],
         "yaxis": "y"
        },
        {
         "hovertemplate": "Time Between Booking and Appointment=More than 28 Days<br>appointment_month=%{x}<br>Count of Appointments=%{y}<extra></extra>",
         "legendgroup": "More than 28 Days",
         "line": {
          "color": "#19d3f3",
          "dash": "solid"
         },
         "marker": {
          "symbol": "circle"
         },
         "mode": "lines",
         "name": "More than 28 Days",
         "orientation": "v",
         "showlegend": true,
         "type": "scatter",
         "x": [
          "2019-04-01T00:00:00",
          "2019-05-01T00:00:00",
          "2019-06-01T00:00:00",
          "2019-07-01T00:00:00",
          "2019-08-01T00:00:00",
          "2019-09-01T00:00:00",
          "2019-10-01T00:00:00",
          "2019-11-01T00:00:00",
          "2019-12-01T00:00:00",
          "2020-01-01T00:00:00",
          "2020-02-01T00:00:00",
          "2020-03-01T00:00:00",
          "2020-04-01T00:00:00",
          "2020-05-01T00:00:00",
          "2020-06-01T00:00:00",
          "2020-07-01T00:00:00",
          "2020-08-01T00:00:00",
          "2020-09-01T00:00:00",
          "2020-10-01T00:00:00",
          "2020-11-01T00:00:00",
          "2020-12-01T00:00:00",
          "2021-01-01T00:00:00",
          "2021-02-01T00:00:00",
          "2021-03-01T00:00:00",
          "2021-04-01T00:00:00",
          "2021-05-01T00:00:00",
          "2021-06-01T00:00:00",
          "2021-07-01T00:00:00",
          "2021-08-01T00:00:00",
          "2021-09-01T00:00:00",
          "2021-12-01T00:00:00",
          "2022-01-01T00:00:00",
          "2022-02-01T00:00:00",
          "2022-03-01T00:00:00",
          "2022-04-01T00:00:00",
          "2022-05-01T00:00:00",
          "2022-06-01T00:00:00",
          "2022-07-01T00:00:00",
          "2022-08-01T00:00:00",
          "2022-09-01T00:00:00",
          "2022-10-01T00:00:00",
          "2022-11-01T00:00:00",
          "2022-12-01T00:00:00",
          "2023-01-01T00:00:00",
          "2023-02-01T00:00:00",
          "2023-03-01T00:00:00",
          "2023-04-01T00:00:00",
          "2023-05-01T00:00:00",
          "2023-06-01T00:00:00",
          "2023-07-01T00:00:00",
          "2023-08-01T00:00:00",
          "2023-09-01T00:00:00",
          "2023-10-01T00:00:00",
          "2023-11-01T00:00:00",
          "2023-12-01T00:00:00",
          "2024-01-01T00:00:00",
          "2024-02-01T00:00:00",
          "2024-03-01T00:00:00",
          "2024-04-01T00:00:00",
          "2024-05-01T00:00:00"
         ],
         "xaxis": "x",
         "y": [
          1177818,
          1331624,
          1169615,
          1230774,
          1189303,
          1378141,
          1684202,
          1422161,
          1116561,
          1458160,
          1022022,
          1118476,
          729699,
          339269,
          336303,
          368437,
          405894,
          864541,
          1345799,
          750396,
          519243,
          548880,
          361130,
          489875,
          645728,
          532283,
          690369,
          643603,
          672861,
          1131110,
          785000,
          890965,
          550839,
          820250,
          841157,
          912116,
          1067209,
          909626,
          1046729,
          1455933,
          1911243,
          1360756,
          1011735,
          1249344,
          879646,
          1313844,
          1257624,
          1316699,
          1346800,
          1204556,
          1381607,
          2377615,
          2616591,
          1514924,
          1165775,
          1635035,
          1220143,
          1352926,
          1666945,
          1471721
         ],
         "yaxis": "y"
        },
        {
         "hovertemplate": "Time Between Booking and Appointment=Same Day<br>appointment_month=%{x}<br>Count of Appointments=%{y}<extra></extra>",
         "legendgroup": "Same Day",
         "line": {
          "color": "#FF6692",
          "dash": "solid"
         },
         "marker": {
          "symbol": "circle"
         },
         "mode": "lines",
         "name": "Same Day",
         "orientation": "v",
         "showlegend": true,
         "type": "scatter",
         "x": [
          "2019-04-01T00:00:00",
          "2019-05-01T00:00:00",
          "2019-06-01T00:00:00",
          "2019-07-01T00:00:00",
          "2019-08-01T00:00:00",
          "2019-09-01T00:00:00",
          "2019-10-01T00:00:00",
          "2019-11-01T00:00:00",
          "2019-12-01T00:00:00",
          "2020-01-01T00:00:00",
          "2020-02-01T00:00:00",
          "2020-03-01T00:00:00",
          "2020-04-01T00:00:00",
          "2020-05-01T00:00:00",
          "2020-06-01T00:00:00",
          "2020-07-01T00:00:00",
          "2020-08-01T00:00:00",
          "2020-09-01T00:00:00",
          "2020-10-01T00:00:00",
          "2020-11-01T00:00:00",
          "2020-12-01T00:00:00",
          "2021-01-01T00:00:00",
          "2021-02-01T00:00:00",
          "2021-03-01T00:00:00",
          "2021-04-01T00:00:00",
          "2021-05-01T00:00:00",
          "2021-06-01T00:00:00",
          "2021-07-01T00:00:00",
          "2021-08-01T00:00:00",
          "2021-09-01T00:00:00",
          "2021-12-01T00:00:00",
          "2022-01-01T00:00:00",
          "2022-02-01T00:00:00",
          "2022-03-01T00:00:00",
          "2022-04-01T00:00:00",
          "2022-05-01T00:00:00",
          "2022-06-01T00:00:00",
          "2022-07-01T00:00:00",
          "2022-08-01T00:00:00",
          "2022-09-01T00:00:00",
          "2022-10-01T00:00:00",
          "2022-11-01T00:00:00",
          "2022-12-01T00:00:00",
          "2023-01-01T00:00:00",
          "2023-02-01T00:00:00",
          "2023-03-01T00:00:00",
          "2023-04-01T00:00:00",
          "2023-05-01T00:00:00",
          "2023-06-01T00:00:00",
          "2023-07-01T00:00:00",
          "2023-08-01T00:00:00",
          "2023-09-01T00:00:00",
          "2023-10-01T00:00:00",
          "2023-11-01T00:00:00",
          "2023-12-01T00:00:00",
          "2024-01-01T00:00:00",
          "2024-02-01T00:00:00",
          "2024-03-01T00:00:00",
          "2024-04-01T00:00:00",
          "2024-05-01T00:00:00"
         ],
         "xaxis": "x",
         "y": [
          10250915,
          10342179,
          9577179,
          10995096,
          9647589,
          10471983,
          11728697,
          10780825,
          10480945,
          11533974,
          10051866,
          10939520,
          10133314,
          10269357,
          11860890,
          11736105,
          10163814,
          11974966,
          11594756,
          11333614,
          10718700,
          10853717,
          10667064,
          12536724,
          10823674,
          10510961,
          12183188,
          11638999,
          11021001,
          12292649,
          11513627,
          11956131,
          11407478,
          13185544,
          10792185,
          12199676,
          11453582,
          11468305,
          11819710,
          11732845,
          12433910,
          12986252,
          12864209,
          13334119,
          11991289,
          13626600,
          10579602,
          12143323,
          12709155,
          12100145,
          12334540,
          12333602,
          13437442,
          13404533,
          11789405,
          14478514,
          13434461,
          13090746,
          13560827,
          13464613
         ],
         "yaxis": "y"
        },
        {
         "line": {
          "color": "#636EFA",
          "dash": "dash",
          "width": 1
         },
         "mode": "lines",
         "name": "Trend Line (1 Day)",
         "showlegend": true,
         "type": "scatter",
         "x": [
          "2019-04-01T00:00:00",
          "2019-05-01T00:00:00",
          "2019-06-01T00:00:00",
          "2019-07-01T00:00:00",
          "2019-08-01T00:00:00",
          "2019-09-01T00:00:00",
          "2019-10-01T00:00:00",
          "2019-11-01T00:00:00",
          "2019-12-01T00:00:00",
          "2020-01-01T00:00:00",
          "2020-02-01T00:00:00",
          "2020-03-01T00:00:00",
          "2020-04-01T00:00:00",
          "2020-05-01T00:00:00",
          "2020-06-01T00:00:00",
          "2020-07-01T00:00:00",
          "2020-08-01T00:00:00",
          "2020-09-01T00:00:00",
          "2020-10-01T00:00:00",
          "2020-11-01T00:00:00",
          "2020-12-01T00:00:00",
          "2021-01-01T00:00:00",
          "2021-02-01T00:00:00",
          "2021-03-01T00:00:00",
          "2021-04-01T00:00:00",
          "2021-05-01T00:00:00",
          "2021-06-01T00:00:00",
          "2021-07-01T00:00:00",
          "2021-08-01T00:00:00",
          "2021-09-01T00:00:00",
          "2021-12-01T00:00:00",
          "2022-01-01T00:00:00",
          "2022-02-01T00:00:00",
          "2022-03-01T00:00:00",
          "2022-04-01T00:00:00",
          "2022-05-01T00:00:00",
          "2022-06-01T00:00:00",
          "2022-07-01T00:00:00",
          "2022-08-01T00:00:00",
          "2022-09-01T00:00:00",
          "2022-10-01T00:00:00",
          "2022-11-01T00:00:00",
          "2022-12-01T00:00:00",
          "2023-01-01T00:00:00",
          "2023-02-01T00:00:00",
          "2023-03-01T00:00:00",
          "2023-04-01T00:00:00",
          "2023-05-01T00:00:00",
          "2023-06-01T00:00:00",
          "2023-07-01T00:00:00",
          "2023-08-01T00:00:00",
          "2023-09-01T00:00:00",
          "2023-10-01T00:00:00",
          "2023-11-01T00:00:00",
          "2023-12-01T00:00:00",
          "2024-01-01T00:00:00",
          "2024-02-01T00:00:00",
          "2024-03-01T00:00:00",
          "2024-04-01T00:00:00",
          "2024-05-01T00:00:00"
         ],
         "y": [
          1880847.2914087772,
          1890552.3444311023,
          1900580.8992208242,
          1910285.9522431493,
          1920314.5070328712,
          1930343.061822623,
          1940048.114844948,
          1950076.66963467,
          1959781.722656995,
          1969810.277446717,
          1979838.8322364688,
          1989220.383491367,
          1999248.938281089,
          2008953.991303414,
          2018982.5460931659,
          2028687.599115491,
          2038716.1539052129,
          2048744.7086949348,
          2058449.76171726,
          2068478.3165070117,
          2078183.369529307,
          2088211.9243190587,
          2098240.4791087806,
          2107298.528596282,
          2117327.083386004,
          2127032.136408329,
          2137060.691198081,
          2146765.744220406,
          2156794.299010128,
          2166822.8537998497,
          2196261.514634222,
          2206290.0694239736,
          2216318.6242136955,
          2225376.673701197,
          2235405.2284909487,
          2245110.281513244,
          2255138.8363029957,
          2264843.8893253207,
          2274872.4441150427,
          2284900.9989047647,
          2294606.0519270897,
          2304634.6067168415,
          2314339.6597391665,
          2324368.2145288885,
          2334396.7693186104,
          2343454.818806112,
          2353483.3735958636,
          2363188.426618159,
          2373216.9814079106,
          2382922.0344302356,
          2392950.5892199576,
          2402979.1440096796,
          2412684.1970320046,
          2422712.7518217564,
          2432417.8048440814,
          2442446.3596338034,
          2452474.9144235253,
          2461856.4656784534,
          2471885.0204681754,
          2481590.0734905005
         ]
        },
        {
         "line": {
          "color": "#EF553B",
          "dash": "dash",
          "width": 1
         },
         "mode": "lines",
         "name": "Trend Line (15  to 21 Days)",
         "showlegend": true,
         "type": "scatter",
         "x": [
          "2019-04-01T00:00:00",
          "2019-05-01T00:00:00",
          "2019-06-01T00:00:00",
          "2019-07-01T00:00:00",
          "2019-08-01T00:00:00",
          "2019-09-01T00:00:00",
          "2019-10-01T00:00:00",
          "2019-11-01T00:00:00",
          "2019-12-01T00:00:00",
          "2020-01-01T00:00:00",
          "2020-02-01T00:00:00",
          "2020-03-01T00:00:00",
          "2020-04-01T00:00:00",
          "2020-05-01T00:00:00",
          "2020-06-01T00:00:00",
          "2020-07-01T00:00:00",
          "2020-08-01T00:00:00",
          "2020-09-01T00:00:00",
          "2020-10-01T00:00:00",
          "2020-11-01T00:00:00",
          "2020-12-01T00:00:00",
          "2021-01-01T00:00:00",
          "2021-02-01T00:00:00",
          "2021-03-01T00:00:00",
          "2021-04-01T00:00:00",
          "2021-05-01T00:00:00",
          "2021-06-01T00:00:00",
          "2021-07-01T00:00:00",
          "2021-08-01T00:00:00",
          "2021-09-01T00:00:00",
          "2021-12-01T00:00:00",
          "2022-01-01T00:00:00",
          "2022-02-01T00:00:00",
          "2022-03-01T00:00:00",
          "2022-04-01T00:00:00",
          "2022-05-01T00:00:00",
          "2022-06-01T00:00:00",
          "2022-07-01T00:00:00",
          "2022-08-01T00:00:00",
          "2022-09-01T00:00:00",
          "2022-10-01T00:00:00",
          "2022-11-01T00:00:00",
          "2022-12-01T00:00:00",
          "2023-01-01T00:00:00",
          "2023-02-01T00:00:00",
          "2023-03-01T00:00:00",
          "2023-04-01T00:00:00",
          "2023-05-01T00:00:00",
          "2023-06-01T00:00:00",
          "2023-07-01T00:00:00",
          "2023-08-01T00:00:00",
          "2023-09-01T00:00:00",
          "2023-10-01T00:00:00",
          "2023-11-01T00:00:00",
          "2023-12-01T00:00:00",
          "2024-01-01T00:00:00",
          "2024-02-01T00:00:00",
          "2024-03-01T00:00:00",
          "2024-04-01T00:00:00",
          "2024-05-01T00:00:00"
         ],
         "y": [
          1329253.0488418937,
          1343543.732409954,
          1358310.772096932,
          1372601.455665052,
          1387368.4953520298,
          1402135.5350390673,
          1416426.2186071277,
          1431193.2582941651,
          1445483.9418622255,
          1460250.981549263,
          1475018.0212362409,
          1488832.3486853838,
          1503599.3883724213,
          1517890.0719404817,
          1532657.1116275191,
          1546947.7951955795,
          1561714.8348825574,
          1576481.8745695949,
          1590772.5581376553,
          1605539.5978246927,
          1619830.2813927531,
          1634597.3210797906,
          1649364.3607667685,
          1662702.332096994,
          1677469.3717839718,
          1691760.0553520918,
          1706527.0950390697,
          1720817.7786071897,
          1735584.8182941675,
          1750351.857981205,
          1793700.2648043633,
          1808467.304491341,
          1823234.3441783786,
          1836572.315508604,
          1851339.355195582,
          1865630.038763702,
          1880397.0784506798,
          1894687.7620187402,
          1909454.8017057776,
          1924221.841392815,
          1938512.5249608755,
          1953279.5646478534,
          1967570.2482159734,
          1982337.2879029512,
          1997104.3275899887,
          2010442.2989201546,
          2025209.338607192,
          2039500.0221752524,
          2054267.06186229,
          2068557.7454303503,
          2083324.7851173878,
          2098091.8248043656,
          2112382.5083724856,
          2127149.5480594635,
          2141440.231627524,
          2156207.2713145614,
          2170974.311001599,
          2184788.638450742,
          2199555.6781377196,
          2213846.36170578
         ]
        },
        {
         "line": {
          "color": "#00CC96",
          "dash": "dash",
          "width": 1
         },
         "mode": "lines",
         "name": "Trend Line (2 to 7 Days)",
         "showlegend": true,
         "type": "scatter",
         "x": [
          "2019-04-01T00:00:00",
          "2019-05-01T00:00:00",
          "2019-06-01T00:00:00",
          "2019-07-01T00:00:00",
          "2019-08-01T00:00:00",
          "2019-09-01T00:00:00",
          "2019-10-01T00:00:00",
          "2019-11-01T00:00:00",
          "2019-12-01T00:00:00",
          "2020-01-01T00:00:00",
          "2020-02-01T00:00:00",
          "2020-03-01T00:00:00",
          "2020-04-01T00:00:00",
          "2020-05-01T00:00:00",
          "2020-06-01T00:00:00",
          "2020-07-01T00:00:00",
          "2020-08-01T00:00:00",
          "2020-09-01T00:00:00",
          "2020-10-01T00:00:00",
          "2020-11-01T00:00:00",
          "2020-12-01T00:00:00",
          "2021-01-01T00:00:00",
          "2021-02-01T00:00:00",
          "2021-03-01T00:00:00",
          "2021-04-01T00:00:00",
          "2021-05-01T00:00:00",
          "2021-06-01T00:00:00",
          "2021-07-01T00:00:00",
          "2021-08-01T00:00:00",
          "2021-09-01T00:00:00",
          "2021-12-01T00:00:00",
          "2022-01-01T00:00:00",
          "2022-02-01T00:00:00",
          "2022-03-01T00:00:00",
          "2022-04-01T00:00:00",
          "2022-05-01T00:00:00",
          "2022-06-01T00:00:00",
          "2022-07-01T00:00:00",
          "2022-08-01T00:00:00",
          "2022-09-01T00:00:00",
          "2022-10-01T00:00:00",
          "2022-11-01T00:00:00",
          "2022-12-01T00:00:00",
          "2023-01-01T00:00:00",
          "2023-02-01T00:00:00",
          "2023-03-01T00:00:00",
          "2023-04-01T00:00:00",
          "2023-05-01T00:00:00",
          "2023-06-01T00:00:00",
          "2023-07-01T00:00:00",
          "2023-08-01T00:00:00",
          "2023-09-01T00:00:00",
          "2023-10-01T00:00:00",
          "2023-11-01T00:00:00",
          "2023-12-01T00:00:00",
          "2024-01-01T00:00:00",
          "2024-02-01T00:00:00",
          "2024-03-01T00:00:00",
          "2024-04-01T00:00:00",
          "2024-05-01T00:00:00"
         ],
         "y": [
          4665763.108157873,
          4681553.865698516,
          4697870.981823862,
          4713661.739364505,
          4729978.85548985,
          4746295.971615195,
          4762086.7291558385,
          4778403.845281184,
          4794194.602821827,
          4810511.718947172,
          4826828.835072517,
          4842093.234028459,
          4858410.350153804,
          4874201.107694447,
          4890518.223819792,
          4906308.9813604355,
          4922626.097485781,
          4938943.213611126,
          4954733.971151769,
          4971051.087277114,
          4986841.844817758,
          5003158.960943103,
          5019476.077068448,
          5034214.117439687,
          5050531.2335650325,
          5066321.991105676,
          5082639.107231021,
          5098429.864771664,
          5114746.980897009,
          5131064.097022355,
          5178962.728228986,
          5195279.8443543315,
          5211596.960479677,
          5226335.0008509755,
          5242652.116976261,
          5258442.874516964,
          5274759.99064225,
          5290550.748182952,
          5306867.864308238,
          5323184.980433583,
          5338975.7379742265,
          5355292.854099572,
          5371083.611640215,
          5387400.72776556,
          5403717.843890905,
          5418455.884262204,
          5434773.000387549,
          5450563.757928193,
          5466880.874053538,
          5482671.631594181,
          5498988.747719526,
          5515305.863844812,
          5531096.621385515,
          5547413.7375108,
          5563204.495051503,
          5579521.611176789,
          5595838.727302134,
          5611103.126258135,
          5627420.24238348,
          5643210.999924123
         ]
        },
        {
         "line": {
          "color": "#AB63FA",
          "dash": "dash",
          "width": 1
         },
         "mode": "lines",
         "name": "Trend Line (22  to 28 Days)",
         "showlegend": true,
         "type": "scatter",
         "x": [
          "2019-04-01T00:00:00",
          "2019-05-01T00:00:00",
          "2019-06-01T00:00:00",
          "2019-07-01T00:00:00",
          "2019-08-01T00:00:00",
          "2019-09-01T00:00:00",
          "2019-10-01T00:00:00",
          "2019-11-01T00:00:00",
          "2019-12-01T00:00:00",
          "2020-01-01T00:00:00",
          "2020-02-01T00:00:00",
          "2020-03-01T00:00:00",
          "2020-04-01T00:00:00",
          "2020-05-01T00:00:00",
          "2020-06-01T00:00:00",
          "2020-07-01T00:00:00",
          "2020-08-01T00:00:00",
          "2020-09-01T00:00:00",
          "2020-10-01T00:00:00",
          "2020-11-01T00:00:00",
          "2020-12-01T00:00:00",
          "2021-01-01T00:00:00",
          "2021-02-01T00:00:00",
          "2021-03-01T00:00:00",
          "2021-04-01T00:00:00",
          "2021-05-01T00:00:00",
          "2021-06-01T00:00:00",
          "2021-07-01T00:00:00",
          "2021-08-01T00:00:00",
          "2021-09-01T00:00:00",
          "2021-12-01T00:00:00",
          "2022-01-01T00:00:00",
          "2022-02-01T00:00:00",
          "2022-03-01T00:00:00",
          "2022-04-01T00:00:00",
          "2022-05-01T00:00:00",
          "2022-06-01T00:00:00",
          "2022-07-01T00:00:00",
          "2022-08-01T00:00:00",
          "2022-09-01T00:00:00",
          "2022-10-01T00:00:00",
          "2022-11-01T00:00:00",
          "2022-12-01T00:00:00",
          "2023-01-01T00:00:00",
          "2023-02-01T00:00:00",
          "2023-03-01T00:00:00",
          "2023-04-01T00:00:00",
          "2023-05-01T00:00:00",
          "2023-06-01T00:00:00",
          "2023-07-01T00:00:00",
          "2023-08-01T00:00:00",
          "2023-09-01T00:00:00",
          "2023-10-01T00:00:00",
          "2023-11-01T00:00:00",
          "2023-12-01T00:00:00",
          "2024-01-01T00:00:00",
          "2024-02-01T00:00:00",
          "2024-03-01T00:00:00",
          "2024-04-01T00:00:00",
          "2024-05-01T00:00:00"
         ],
         "y": [
          870349.348813057,
          878832.9511118829,
          887599.3401539922,
          896082.9424528182,
          904849.3314949274,
          913615.7205370665,
          922099.3228358924,
          930865.7118780017,
          939349.3141768277,
          948115.7032189369,
          956882.0922610462,
          965082.9078165889,
          973849.2968586981,
          982332.8991575241,
          991099.2881996632,
          999582.8904984891,
          1008349.2795405984,
          1017115.6685827076,
          1025599.2708815336,
          1034365.6599236429,
          1042849.2622224689,
          1051615.651264608,
          1060382.0403067172,
          1068300.0691189468,
          1077066.4581610858,
          1085550.0604599118,
          1094316.449502021,
          1102800.051800847,
          1111566.4408429563,
          1120332.8298850656,
          1146066.4235248566,
          1154832.8125669658,
          1163599.201609075,
          1171517.2304213345,
          1180283.6194634438,
          1188767.2217622697,
          1197533.610804379,
          1206017.213103205,
          1214783.6021453142,
          1223549.9911874533,
          1232033.5934862792,
          1240799.9825283885,
          1249283.5848272145,
          1258049.9738693237,
          1266816.3629114628,
          1274734.3917236924,
          1283500.7807658017,
          1291984.3830646276,
          1300750.772106737,
          1309234.3744055629,
          1318000.763447702,
          1326767.1524898112,
          1335250.7547886372,
          1344017.1438307464,
          1352500.7461295724,
          1361267.1351717114,
          1370033.5242138207,
          1378234.3397693336,
          1387000.7288114727,
          1395484.3311102986
         ]
        },
        {
         "line": {
          "color": "#FFA15A",
          "dash": "dash",
          "width": 1
         },
         "mode": "lines",
         "name": "Trend Line (8  to 14 Days)",
         "showlegend": true,
         "type": "scatter",
         "x": [
          "2019-04-01T00:00:00",
          "2019-05-01T00:00:00",
          "2019-06-01T00:00:00",
          "2019-07-01T00:00:00",
          "2019-08-01T00:00:00",
          "2019-09-01T00:00:00",
          "2019-10-01T00:00:00",
          "2019-11-01T00:00:00",
          "2019-12-01T00:00:00",
          "2020-01-01T00:00:00",
          "2020-02-01T00:00:00",
          "2020-03-01T00:00:00",
          "2020-04-01T00:00:00",
          "2020-05-01T00:00:00",
          "2020-06-01T00:00:00",
          "2020-07-01T00:00:00",
          "2020-08-01T00:00:00",
          "2020-09-01T00:00:00",
          "2020-10-01T00:00:00",
          "2020-11-01T00:00:00",
          "2020-12-01T00:00:00",
          "2021-01-01T00:00:00",
          "2021-02-01T00:00:00",
          "2021-03-01T00:00:00",
          "2021-04-01T00:00:00",
          "2021-05-01T00:00:00",
          "2021-06-01T00:00:00",
          "2021-07-01T00:00:00",
          "2021-08-01T00:00:00",
          "2021-09-01T00:00:00",
          "2021-12-01T00:00:00",
          "2022-01-01T00:00:00",
          "2022-02-01T00:00:00",
          "2022-03-01T00:00:00",
          "2022-04-01T00:00:00",
          "2022-05-01T00:00:00",
          "2022-06-01T00:00:00",
          "2022-07-01T00:00:00",
          "2022-08-01T00:00:00",
          "2022-09-01T00:00:00",
          "2022-10-01T00:00:00",
          "2022-11-01T00:00:00",
          "2022-12-01T00:00:00",
          "2023-01-01T00:00:00",
          "2023-02-01T00:00:00",
          "2023-03-01T00:00:00",
          "2023-04-01T00:00:00",
          "2023-05-01T00:00:00",
          "2023-06-01T00:00:00",
          "2023-07-01T00:00:00",
          "2023-08-01T00:00:00",
          "2023-09-01T00:00:00",
          "2023-10-01T00:00:00",
          "2023-11-01T00:00:00",
          "2023-12-01T00:00:00",
          "2024-01-01T00:00:00",
          "2024-02-01T00:00:00",
          "2024-03-01T00:00:00",
          "2024-04-01T00:00:00",
          "2024-05-01T00:00:00"
         ],
         "y": [
          2690823.0822744966,
          2709943.6716520786,
          2729701.6140089035,
          2748822.2033864856,
          2768580.1457433105,
          2788338.0881001353,
          2807458.6774777174,
          2827216.6198345423,
          2846337.2092121243,
          2866095.151568949,
          2885853.093925774,
          2904336.3303240538,
          2924094.2726808786,
          2943214.8620584607,
          2962972.8044152856,
          2982093.3937928677,
          3001851.3361496925,
          3021609.2785065174,
          3040729.8678840995,
          3060487.8102409244,
          3079608.3996185064,
          3099366.3419753313,
          3119124.284332156,
          3136970.167751193,
          3156728.110108018,
          3175848.6994856,
          3195606.641842425,
          3214727.231220007,
          3234485.173576832,
          3254243.1159336567,
          3312242.2370456457,
          3332000.1794024706,
          3351758.1217592955,
          3369604.0051783323,
          3389361.947535157,
          3408482.5369127393,
          3428240.479269564,
          3447361.068647146,
          3467119.011003971,
          3486876.953360796,
          3505997.542738378,
          3525755.485095203,
          3544876.074472785,
          3564634.01682961,
          3584391.9591864347,
          3602237.8426054716,
          3621995.7849622965,
          3641116.3743398786,
          3660874.3166967034,
          3679994.9060742855,
          3699752.8484311104,
          3719510.7907879353,
          3738631.3801655173,
          3758389.322522342,
          3777509.9118999243,
          3797267.854256749,
          3817025.796613574,
          3835509.0330118537,
          3855266.9753686786,
          3874387.5647462606
         ]
        },
        {
         "line": {
          "color": "#19D3F3",
          "dash": "dash",
          "width": 1
         },
         "mode": "lines",
         "name": "Trend Line (More than 28 Days)",
         "showlegend": true,
         "type": "scatter",
         "x": [
          "2019-04-01T00:00:00",
          "2019-05-01T00:00:00",
          "2019-06-01T00:00:00",
          "2019-07-01T00:00:00",
          "2019-08-01T00:00:00",
          "2019-09-01T00:00:00",
          "2019-10-01T00:00:00",
          "2019-11-01T00:00:00",
          "2019-12-01T00:00:00",
          "2020-01-01T00:00:00",
          "2020-02-01T00:00:00",
          "2020-03-01T00:00:00",
          "2020-04-01T00:00:00",
          "2020-05-01T00:00:00",
          "2020-06-01T00:00:00",
          "2020-07-01T00:00:00",
          "2020-08-01T00:00:00",
          "2020-09-01T00:00:00",
          "2020-10-01T00:00:00",
          "2020-11-01T00:00:00",
          "2020-12-01T00:00:00",
          "2021-01-01T00:00:00",
          "2021-02-01T00:00:00",
          "2021-03-01T00:00:00",
          "2021-04-01T00:00:00",
          "2021-05-01T00:00:00",
          "2021-06-01T00:00:00",
          "2021-07-01T00:00:00",
          "2021-08-01T00:00:00",
          "2021-09-01T00:00:00",
          "2021-12-01T00:00:00",
          "2022-01-01T00:00:00",
          "2022-02-01T00:00:00",
          "2022-03-01T00:00:00",
          "2022-04-01T00:00:00",
          "2022-05-01T00:00:00",
          "2022-06-01T00:00:00",
          "2022-07-01T00:00:00",
          "2022-08-01T00:00:00",
          "2022-09-01T00:00:00",
          "2022-10-01T00:00:00",
          "2022-11-01T00:00:00",
          "2022-12-01T00:00:00",
          "2023-01-01T00:00:00",
          "2023-02-01T00:00:00",
          "2023-03-01T00:00:00",
          "2023-04-01T00:00:00",
          "2023-05-01T00:00:00",
          "2023-06-01T00:00:00",
          "2023-07-01T00:00:00",
          "2023-08-01T00:00:00",
          "2023-09-01T00:00:00",
          "2023-10-01T00:00:00",
          "2023-11-01T00:00:00",
          "2023-12-01T00:00:00",
          "2024-01-01T00:00:00",
          "2024-02-01T00:00:00",
          "2024-03-01T00:00:00",
          "2024-04-01T00:00:00",
          "2024-05-01T00:00:00"
         ],
         "y": [
          787165.592989564,
          796842.5006432831,
          806841.9718854725,
          816518.8795391917,
          826518.3507813811,
          836517.8220235705,
          846194.7296772897,
          856194.2009194791,
          865871.1085731983,
          875870.5798153877,
          885870.0510575771,
          895224.3951228559,
          905223.8663650155,
          914900.7740187645,
          924900.2452609539,
          934577.1529146731,
          944576.6241568625,
          954576.0953990221,
          964253.0030527711,
          974252.4742949605,
          983929.3819486797,
          993928.8531908691,
          1003928.3244330585,
          1012960.104909867,
          1022959.5761520565,
          1032636.4838057756,
          1042635.955047965,
          1052312.8627016842,
          1062312.3339438736,
          1072311.805186063,
          1101665.0917356908,
          1111664.5629778802,
          1121664.0342200696,
          1130695.8146968782,
          1140695.2859390676,
          1150372.1935927868,
          1160371.6648349762,
          1170048.5724886954,
          1180048.0437308848,
          1190047.5149730742,
          1199724.4226267934,
          1209723.8938689828,
          1219400.801522702,
          1229400.2727648914,
          1239399.7440070808,
          1248431.5244838893,
          1258430.9957260787,
          1268107.903379798,
          1278107.3746219873,
          1287784.2822757065,
          1297783.753517896,
          1307783.2247600853,
          1317460.1324138045,
          1327459.603655994,
          1337136.5113097131,
          1347135.9825519025,
          1357135.453794092,
          1366489.7978593707,
          1376489.26910156,
          1386166.1767552793
         ]
        },
        {
         "line": {
          "color": "#FF6692",
          "dash": "dash",
          "width": 1
         },
         "mode": "lines",
         "name": "Trend Line (Same Day)",
         "showlegend": true,
         "type": "scatter",
         "x": [
          "2019-04-01T00:00:00",
          "2019-05-01T00:00:00",
          "2019-06-01T00:00:00",
          "2019-07-01T00:00:00",
          "2019-08-01T00:00:00",
          "2019-09-01T00:00:00",
          "2019-10-01T00:00:00",
          "2019-11-01T00:00:00",
          "2019-12-01T00:00:00",
          "2020-01-01T00:00:00",
          "2020-02-01T00:00:00",
          "2020-03-01T00:00:00",
          "2020-04-01T00:00:00",
          "2020-05-01T00:00:00",
          "2020-06-01T00:00:00",
          "2020-07-01T00:00:00",
          "2020-08-01T00:00:00",
          "2020-09-01T00:00:00",
          "2020-10-01T00:00:00",
          "2020-11-01T00:00:00",
          "2020-12-01T00:00:00",
          "2021-01-01T00:00:00",
          "2021-02-01T00:00:00",
          "2021-03-01T00:00:00",
          "2021-04-01T00:00:00",
          "2021-05-01T00:00:00",
          "2021-06-01T00:00:00",
          "2021-07-01T00:00:00",
          "2021-08-01T00:00:00",
          "2021-09-01T00:00:00",
          "2021-12-01T00:00:00",
          "2022-01-01T00:00:00",
          "2022-02-01T00:00:00",
          "2022-03-01T00:00:00",
          "2022-04-01T00:00:00",
          "2022-05-01T00:00:00",
          "2022-06-01T00:00:00",
          "2022-07-01T00:00:00",
          "2022-08-01T00:00:00",
          "2022-09-01T00:00:00",
          "2022-10-01T00:00:00",
          "2022-11-01T00:00:00",
          "2022-12-01T00:00:00",
          "2023-01-01T00:00:00",
          "2023-02-01T00:00:00",
          "2023-03-01T00:00:00",
          "2023-04-01T00:00:00",
          "2023-05-01T00:00:00",
          "2023-06-01T00:00:00",
          "2023-07-01T00:00:00",
          "2023-08-01T00:00:00",
          "2023-09-01T00:00:00",
          "2023-10-01T00:00:00",
          "2023-11-01T00:00:00",
          "2023-12-01T00:00:00",
          "2024-01-01T00:00:00",
          "2024-02-01T00:00:00",
          "2024-03-01T00:00:00",
          "2024-04-01T00:00:00",
          "2024-05-01T00:00:00"
         ],
         "y": [
          10239196.823455572,
          10286768.84799409,
          10335926.60668397,
          10383498.631222486,
          10432656.389912367,
          10481814.148602247,
          10529386.173140764,
          10578543.931830645,
          10626115.956369162,
          10675273.715059042,
          10724431.473748922,
          10770417.764136076,
          10819575.522825956,
          10867147.547364712,
          10916305.306054354,
          10963877.33059311,
          11013035.08928299,
          11062192.847972631,
          11109764.872511387,
          11158922.631201267,
          11206494.655739784,
          11255652.414429665,
          11304810.173119545,
          11349210.729355335,
          11398368.488045216,
          11445940.512583971,
          11495098.271273613,
          11542670.295812368,
          11591828.054502249,
          11640985.81319189,
          11785287.620959044,
          11834445.379648924,
          11883603.138338804,
          11928003.694574594,
          11977161.453264475,
          12024733.47780323,
          12073891.236492872,
          12121463.261031628,
          12170621.019721508,
          12219778.77841115,
          12267350.802949905,
          12316508.561639786,
          12364080.586178303,
          12413238.344868183,
          12462396.103558064,
          12506796.659794092,
          12555954.418483734,
          12603526.44302249,
          12652684.20171237,
          12700256.226250887,
          12749413.984940767,
          12798571.743630648,
          12846143.768169165,
          12895301.526859045,
          12942873.551397562,
          12992031.310087442,
          13041189.068777323,
          13087175.359164476,
          13136333.117854357,
          13183905.142392874
         ]
        }
       ],
       "layout": {
        "legend": {
         "orientation": "v",
         "title": {
          "text": ""
         },
         "tracegroupgap": 0,
         "x": 1.1,
         "xanchor": "right",
         "y": 0.5,
         "yanchor": "middle"
        },
        "template": {
         "data": {
          "bar": [
           {
            "error_x": {
             "color": "#2a3f5f"
            },
            "error_y": {
             "color": "#2a3f5f"
            },
            "marker": {
             "line": {
              "color": "white",
              "width": 0.5
             },
             "pattern": {
              "fillmode": "overlay",
              "size": 10,
              "solidity": 0.2
             }
            },
            "type": "bar"
           }
          ],
          "barpolar": [
           {
            "marker": {
             "line": {
              "color": "white",
              "width": 0.5
             },
             "pattern": {
              "fillmode": "overlay",
              "size": 10,
              "solidity": 0.2
             }
            },
            "type": "barpolar"
           }
          ],
          "carpet": [
           {
            "aaxis": {
             "endlinecolor": "#2a3f5f",
             "gridcolor": "#C8D4E3",
             "linecolor": "#C8D4E3",
             "minorgridcolor": "#C8D4E3",
             "startlinecolor": "#2a3f5f"
            },
            "baxis": {
             "endlinecolor": "#2a3f5f",
             "gridcolor": "#C8D4E3",
             "linecolor": "#C8D4E3",
             "minorgridcolor": "#C8D4E3",
             "startlinecolor": "#2a3f5f"
            },
            "type": "carpet"
           }
          ],
          "choropleth": [
           {
            "colorbar": {
             "outlinewidth": 0,
             "ticks": ""
            },
            "type": "choropleth"
           }
          ],
          "contour": [
           {
            "colorbar": {
             "outlinewidth": 0,
             "ticks": ""
            },
            "colorscale": [
             [
              0,
              "#0d0887"
             ],
             [
              0.1111111111111111,
              "#46039f"
             ],
             [
              0.2222222222222222,
              "#7201a8"
             ],
             [
              0.3333333333333333,
              "#9c179e"
             ],
             [
              0.4444444444444444,
              "#bd3786"
             ],
             [
              0.5555555555555556,
              "#d8576b"
             ],
             [
              0.6666666666666666,
              "#ed7953"
             ],
             [
              0.7777777777777778,
              "#fb9f3a"
             ],
             [
              0.8888888888888888,
              "#fdca26"
             ],
             [
              1,
              "#f0f921"
             ]
            ],
            "type": "contour"
           }
          ],
          "contourcarpet": [
           {
            "colorbar": {
             "outlinewidth": 0,
             "ticks": ""
            },
            "type": "contourcarpet"
           }
          ],
          "heatmap": [
           {
            "colorbar": {
             "outlinewidth": 0,
             "ticks": ""
            },
            "colorscale": [
             [
              0,
              "#0d0887"
             ],
             [
              0.1111111111111111,
              "#46039f"
             ],
             [
              0.2222222222222222,
              "#7201a8"
             ],
             [
              0.3333333333333333,
              "#9c179e"
             ],
             [
              0.4444444444444444,
              "#bd3786"
             ],
             [
              0.5555555555555556,
              "#d8576b"
             ],
             [
              0.6666666666666666,
              "#ed7953"
             ],
             [
              0.7777777777777778,
              "#fb9f3a"
             ],
             [
              0.8888888888888888,
              "#fdca26"
             ],
             [
              1,
              "#f0f921"
             ]
            ],
            "type": "heatmap"
           }
          ],
          "heatmapgl": [
           {
            "colorbar": {
             "outlinewidth": 0,
             "ticks": ""
            },
            "colorscale": [
             [
              0,
              "#0d0887"
             ],
             [
              0.1111111111111111,
              "#46039f"
             ],
             [
              0.2222222222222222,
              "#7201a8"
             ],
             [
              0.3333333333333333,
              "#9c179e"
             ],
             [
              0.4444444444444444,
              "#bd3786"
             ],
             [
              0.5555555555555556,
              "#d8576b"
             ],
             [
              0.6666666666666666,
              "#ed7953"
             ],
             [
              0.7777777777777778,
              "#fb9f3a"
             ],
             [
              0.8888888888888888,
              "#fdca26"
             ],
             [
              1,
              "#f0f921"
             ]
            ],
            "type": "heatmapgl"
           }
          ],
          "histogram": [
           {
            "marker": {
             "pattern": {
              "fillmode": "overlay",
              "size": 10,
              "solidity": 0.2
             }
            },
            "type": "histogram"
           }
          ],
          "histogram2d": [
           {
            "colorbar": {
             "outlinewidth": 0,
             "ticks": ""
            },
            "colorscale": [
             [
              0,
              "#0d0887"
             ],
             [
              0.1111111111111111,
              "#46039f"
             ],
             [
              0.2222222222222222,
              "#7201a8"
             ],
             [
              0.3333333333333333,
              "#9c179e"
             ],
             [
              0.4444444444444444,
              "#bd3786"
             ],
             [
              0.5555555555555556,
              "#d8576b"
             ],
             [
              0.6666666666666666,
              "#ed7953"
             ],
             [
              0.7777777777777778,
              "#fb9f3a"
             ],
             [
              0.8888888888888888,
              "#fdca26"
             ],
             [
              1,
              "#f0f921"
             ]
            ],
            "type": "histogram2d"
           }
          ],
          "histogram2dcontour": [
           {
            "colorbar": {
             "outlinewidth": 0,
             "ticks": ""
            },
            "colorscale": [
             [
              0,
              "#0d0887"
             ],
             [
              0.1111111111111111,
              "#46039f"
             ],
             [
              0.2222222222222222,
              "#7201a8"
             ],
             [
              0.3333333333333333,
              "#9c179e"
             ],
             [
              0.4444444444444444,
              "#bd3786"
             ],
             [
              0.5555555555555556,
              "#d8576b"
             ],
             [
              0.6666666666666666,
              "#ed7953"
             ],
             [
              0.7777777777777778,
              "#fb9f3a"
             ],
             [
              0.8888888888888888,
              "#fdca26"
             ],
             [
              1,
              "#f0f921"
             ]
            ],
            "type": "histogram2dcontour"
           }
          ],
          "mesh3d": [
           {
            "colorbar": {
             "outlinewidth": 0,
             "ticks": ""
            },
            "type": "mesh3d"
           }
          ],
          "parcoords": [
           {
            "line": {
             "colorbar": {
              "outlinewidth": 0,
              "ticks": ""
             }
            },
            "type": "parcoords"
           }
          ],
          "pie": [
           {
            "automargin": true,
            "type": "pie"
           }
          ],
          "scatter": [
           {
            "fillpattern": {
             "fillmode": "overlay",
             "size": 10,
             "solidity": 0.2
            },
            "type": "scatter"
           }
          ],
          "scatter3d": [
           {
            "line": {
             "colorbar": {
              "outlinewidth": 0,
              "ticks": ""
             }
            },
            "marker": {
             "colorbar": {
              "outlinewidth": 0,
              "ticks": ""
             }
            },
            "type": "scatter3d"
           }
          ],
          "scattercarpet": [
           {
            "marker": {
             "colorbar": {
              "outlinewidth": 0,
              "ticks": ""
             }
            },
            "type": "scattercarpet"
           }
          ],
          "scattergeo": [
           {
            "marker": {
             "colorbar": {
              "outlinewidth": 0,
              "ticks": ""
             }
            },
            "type": "scattergeo"
           }
          ],
          "scattergl": [
           {
            "marker": {
             "colorbar": {
              "outlinewidth": 0,
              "ticks": ""
             }
            },
            "type": "scattergl"
           }
          ],
          "scattermapbox": [
           {
            "marker": {
             "colorbar": {
              "outlinewidth": 0,
              "ticks": ""
             }
            },
            "type": "scattermapbox"
           }
          ],
          "scatterpolar": [
           {
            "marker": {
             "colorbar": {
              "outlinewidth": 0,
              "ticks": ""
             }
            },
            "type": "scatterpolar"
           }
          ],
          "scatterpolargl": [
           {
            "marker": {
             "colorbar": {
              "outlinewidth": 0,
              "ticks": ""
             }
            },
            "type": "scatterpolargl"
           }
          ],
          "scatterternary": [
           {
            "marker": {
             "colorbar": {
              "outlinewidth": 0,
              "ticks": ""
             }
            },
            "type": "scatterternary"
           }
          ],
          "surface": [
           {
            "colorbar": {
             "outlinewidth": 0,
             "ticks": ""
            },
            "colorscale": [
             [
              0,
              "#0d0887"
             ],
             [
              0.1111111111111111,
              "#46039f"
             ],
             [
              0.2222222222222222,
              "#7201a8"
             ],
             [
              0.3333333333333333,
              "#9c179e"
             ],
             [
              0.4444444444444444,
              "#bd3786"
             ],
             [
              0.5555555555555556,
              "#d8576b"
             ],
             [
              0.6666666666666666,
              "#ed7953"
             ],
             [
              0.7777777777777778,
              "#fb9f3a"
             ],
             [
              0.8888888888888888,
              "#fdca26"
             ],
             [
              1,
              "#f0f921"
             ]
            ],
            "type": "surface"
           }
          ],
          "table": [
           {
            "cells": {
             "fill": {
              "color": "#EBF0F8"
             },
             "line": {
              "color": "white"
             }
            },
            "header": {
             "fill": {
              "color": "#C8D4E3"
             },
             "line": {
              "color": "white"
             }
            },
            "type": "table"
           }
          ]
         },
         "layout": {
          "annotationdefaults": {
           "arrowcolor": "#2a3f5f",
           "arrowhead": 0,
           "arrowwidth": 1
          },
          "autotypenumbers": "strict",
          "coloraxis": {
           "colorbar": {
            "outlinewidth": 0,
            "ticks": ""
           }
          },
          "colorscale": {
           "diverging": [
            [
             0,
             "#8e0152"
            ],
            [
             0.1,
             "#c51b7d"
            ],
            [
             0.2,
             "#de77ae"
            ],
            [
             0.3,
             "#f1b6da"
            ],
            [
             0.4,
             "#fde0ef"
            ],
            [
             0.5,
             "#f7f7f7"
            ],
            [
             0.6,
             "#e6f5d0"
            ],
            [
             0.7,
             "#b8e186"
            ],
            [
             0.8,
             "#7fbc41"
            ],
            [
             0.9,
             "#4d9221"
            ],
            [
             1,
             "#276419"
            ]
           ],
           "sequential": [
            [
             0,
             "#0d0887"
            ],
            [
             0.1111111111111111,
             "#46039f"
            ],
            [
             0.2222222222222222,
             "#7201a8"
            ],
            [
             0.3333333333333333,
             "#9c179e"
            ],
            [
             0.4444444444444444,
             "#bd3786"
            ],
            [
             0.5555555555555556,
             "#d8576b"
            ],
            [
             0.6666666666666666,
             "#ed7953"
            ],
            [
             0.7777777777777778,
             "#fb9f3a"
            ],
            [
             0.8888888888888888,
             "#fdca26"
            ],
            [
             1,
             "#f0f921"
            ]
           ],
           "sequentialminus": [
            [
             0,
             "#0d0887"
            ],
            [
             0.1111111111111111,
             "#46039f"
            ],
            [
             0.2222222222222222,
             "#7201a8"
            ],
            [
             0.3333333333333333,
             "#9c179e"
            ],
            [
             0.4444444444444444,
             "#bd3786"
            ],
            [
             0.5555555555555556,
             "#d8576b"
            ],
            [
             0.6666666666666666,
             "#ed7953"
            ],
            [
             0.7777777777777778,
             "#fb9f3a"
            ],
            [
             0.8888888888888888,
             "#fdca26"
            ],
            [
             1,
             "#f0f921"
            ]
           ]
          },
          "colorway": [
           "#636efa",
           "#EF553B",
           "#00cc96",
           "#ab63fa",
           "#FFA15A",
           "#19d3f3",
           "#FF6692",
           "#B6E880",
           "#FF97FF",
           "#FECB52"
          ],
          "font": {
           "color": "#2a3f5f"
          },
          "geo": {
           "bgcolor": "white",
           "lakecolor": "white",
           "landcolor": "white",
           "showlakes": true,
           "showland": true,
           "subunitcolor": "#C8D4E3"
          },
          "hoverlabel": {
           "align": "left"
          },
          "hovermode": "closest",
          "mapbox": {
           "style": "light"
          },
          "paper_bgcolor": "white",
          "plot_bgcolor": "white",
          "polar": {
           "angularaxis": {
            "gridcolor": "#EBF0F8",
            "linecolor": "#EBF0F8",
            "ticks": ""
           },
           "bgcolor": "white",
           "radialaxis": {
            "gridcolor": "#EBF0F8",
            "linecolor": "#EBF0F8",
            "ticks": ""
           }
          },
          "scene": {
           "xaxis": {
            "backgroundcolor": "white",
            "gridcolor": "#DFE8F3",
            "gridwidth": 2,
            "linecolor": "#EBF0F8",
            "showbackground": true,
            "ticks": "",
            "zerolinecolor": "#EBF0F8"
           },
           "yaxis": {
            "backgroundcolor": "white",
            "gridcolor": "#DFE8F3",
            "gridwidth": 2,
            "linecolor": "#EBF0F8",
            "showbackground": true,
            "ticks": "",
            "zerolinecolor": "#EBF0F8"
           },
           "zaxis": {
            "backgroundcolor": "white",
            "gridcolor": "#DFE8F3",
            "gridwidth": 2,
            "linecolor": "#EBF0F8",
            "showbackground": true,
            "ticks": "",
            "zerolinecolor": "#EBF0F8"
           }
          },
          "shapedefaults": {
           "line": {
            "color": "#2a3f5f"
           }
          },
          "ternary": {
           "aaxis": {
            "gridcolor": "#DFE8F3",
            "linecolor": "#A2B1C6",
            "ticks": ""
           },
           "baxis": {
            "gridcolor": "#DFE8F3",
            "linecolor": "#A2B1C6",
            "ticks": ""
           },
           "bgcolor": "white",
           "caxis": {
            "gridcolor": "#DFE8F3",
            "linecolor": "#A2B1C6",
            "ticks": ""
           }
          },
          "title": {
           "x": 0.05
          },
          "xaxis": {
           "automargin": true,
           "gridcolor": "#EBF0F8",
           "linecolor": "#EBF0F8",
           "ticks": "",
           "title": {
            "standoff": 15
           },
           "zerolinecolor": "#EBF0F8",
           "zerolinewidth": 2
          },
          "yaxis": {
           "automargin": true,
           "gridcolor": "#EBF0F8",
           "linecolor": "#EBF0F8",
           "ticks": "",
           "title": {
            "standoff": 15
           },
           "zerolinecolor": "#EBF0F8",
           "zerolinewidth": 2
          }
         }
        },
        "title": {
         "text": "Time Between Booking and Appointments"
        },
        "xaxis": {
         "anchor": "y",
         "domain": [
          0,
          1
         ],
         "dtick": "M6",
         "tickangle": 45,
         "tickformat": "%b %y",
         "tickmode": "linear",
         "title": {
          "text": "Month"
         }
        },
        "yaxis": {
         "anchor": "x",
         "domain": [
          0,
          1
         ],
         "gridcolor": "rgba(200, 200, 200, 0.2)",
         "griddash": "solid",
         "gridwidth": 0.01,
         "showgrid": true,
         "title": {
          "text": "Count of Appointments"
         },
         "zeroline": false
        }
       }
      }
     },
     "metadata": {},
     "output_type": "display_data"
    }
   ],
   "source": [
    "# Ensure appointment_month is datetime format\n",
    "ar['appointment_month'] = pd.to_datetime(ar['appointment_month'])\n",
    "\n",
    "# Group by 'appointment_month' and 'time_between_book_and_appt', summing 'count_of_appointments'\n",
    "booking_agg = ar.groupby(['appointment_month', 'time_between_book_and_appt'])['count_of_appointments'].sum().reset_index()\n",
    "\n",
    "booking_agg = booking_agg[~booking_agg['time_between_book_and_appt'].isin(['Unknown / Data Issue', 'Unknown / Data Quality'])]\n",
    "\n",
    "# Pivot the data to have 'time_between_book_and_appointment' as columns\n",
    "wait_time_pivot = booking_agg.pivot_table(\n",
    "    values='count_of_appointments',\n",
    "    index='appointment_month',\n",
    "    columns='time_between_book_and_appt',\n",
    "    aggfunc='sum',\n",
    "    fill_value=0\n",
    ").reset_index()\n",
    "\n",
    "# Melt the pivot table to long format for plotting\n",
    "melted_data = wait_time_pivot.melt(id_vars='appointment_month', var_name='Time Between Booking and Appointment', value_name='Count of Appointments')\n",
    "\n",
    "# Create line plot with Plotly\n",
    "fig4_wait1 = px.line(\n",
    "    melted_data,\n",
    "    x='appointment_month',\n",
    "    y='Count of Appointments',\n",
    "    color='Time Between Booking and Appointment',\n",
    "    title='Time Between Booking and Appointments'\n",
    ")\n",
    "\n",
    "# Add trend lines for each category\n",
    "for name, color in zip(melted_data['Time Between Booking and Appointment'].unique(), px.colors.qualitative.Plotly):\n",
    "    subset = melted_data[melted_data['Time Between Booking and Appointment'] == name]\n",
    "    add_trend_line(fig4_wait1, subset, 'appointment_month', 'Count of Appointments', name, color)\n",
    "\n",
    "# Update layout to match the required specifications\n",
    "fig4_wait1.update_layout(\n",
    "    xaxis_title='Month',\n",
    "    yaxis_title='Count of Appointments',\n",
    "    xaxis=dict(\n",
    "        tickmode='linear',\n",
    "        dtick='M6',\n",
    "        tickformat='%b %y',\n",
    "        tickangle=45\n",
    "    ),\n",
    "    yaxis=dict(\n",
    "        gridcolor='rgba(200, 200, 200, 0.2)',\n",
    "        gridwidth=0.01,\n",
    "        griddash='solid',\n",
    "        showgrid=True,\n",
    "        zeroline=False\n",
    "    ),\n",
    "    legend=dict(\n",
    "        title='',\n",
    "        orientation='v',\n",
    "        yanchor='middle',\n",
    "        y=0.5,\n",
    "        xanchor='right',\n",
    "        x=1.1\n",
    "    ),\n",
    "    template='plotly_white'\n",
    ")\n",
    "\n",
    "# Get HTML string for fig4_wait1\n",
    "fig4_wait1_html = fig4_wait1.to_html(full_html=False, include_plotlyjs='cdn')\n",
    "\n",
    "# Show the plot\n",
    "fig4_wait1.show()"
   ]
  },
  {
   "cell_type": "code",
   "execution_count": 33,
   "metadata": {},
   "outputs": [
    {
     "name": "stderr",
     "output_type": "stream",
     "text": [
      "C:\\Users\\willi\\AppData\\Local\\Temp\\ipykernel_18456\\1270061321.py:18: SettingWithCopyWarning:\n",
      "\n",
      "\n",
      "A value is trying to be set on a copy of a slice from a DataFrame.\n",
      "Try using .loc[row_indexer,col_indexer] = value instead\n",
      "\n",
      "See the caveats in the documentation: https://pandas.pydata.org/pandas-docs/stable/user_guide/indexing.html#returning-a-view-versus-a-copy\n",
      "\n",
      "C:\\Users\\willi\\AppData\\Local\\Temp\\ipykernel_18456\\1270061321.py:21: DeprecationWarning:\n",
      "\n",
      "DataFrameGroupBy.apply operated on the grouping columns. This behavior is deprecated, and in a future version of pandas the grouping columns will be excluded from the operation. Either pass `include_groups=False` to exclude the groupings or explicitly select the grouping columns after groupby to silence this warning.\n",
      "\n"
     ]
    },
    {
     "data": {
      "application/vnd.plotly.v1+json": {
       "config": {
        "plotlyServerURL": "https://plot.ly"
       },
       "data": [
        {
         "hovertemplate": "<b>%{fullData.name}</b><br>%{x|%B %Y}<br>Weighted Avg Wait Time: %{y:.2f} days<extra></extra>",
         "mode": "lines",
         "name": "NHS Derby and Derbyshire ICB",
         "type": "scatter",
         "x": [
          "2019-04-01T00:00:00",
          "2019-05-01T00:00:00",
          "2019-06-01T00:00:00",
          "2019-07-01T00:00:00",
          "2019-08-01T00:00:00",
          "2019-09-01T00:00:00",
          "2019-10-01T00:00:00",
          "2019-11-01T00:00:00",
          "2019-12-01T00:00:00",
          "2020-01-01T00:00:00",
          "2020-02-01T00:00:00",
          "2020-03-01T00:00:00",
          "2020-04-01T00:00:00",
          "2020-05-01T00:00:00",
          "2020-06-01T00:00:00",
          "2020-07-01T00:00:00",
          "2020-08-01T00:00:00",
          "2020-09-01T00:00:00",
          "2020-10-01T00:00:00",
          "2020-11-01T00:00:00",
          "2020-12-01T00:00:00",
          "2021-01-01T00:00:00",
          "2021-02-01T00:00:00",
          "2021-03-01T00:00:00",
          "2021-04-01T00:00:00",
          "2021-05-01T00:00:00",
          "2021-06-01T00:00:00",
          "2021-07-01T00:00:00",
          "2021-08-01T00:00:00",
          "2021-09-01T00:00:00",
          "2021-12-01T00:00:00",
          "2022-01-01T00:00:00",
          "2022-02-01T00:00:00",
          "2022-03-01T00:00:00",
          "2022-04-01T00:00:00",
          "2022-05-01T00:00:00",
          "2022-06-01T00:00:00",
          "2022-07-01T00:00:00",
          "2022-08-01T00:00:00",
          "2022-09-01T00:00:00",
          "2022-10-01T00:00:00",
          "2022-11-01T00:00:00",
          "2022-12-01T00:00:00",
          "2023-01-01T00:00:00",
          "2023-02-01T00:00:00",
          "2023-03-01T00:00:00",
          "2023-04-01T00:00:00",
          "2023-05-01T00:00:00",
          "2023-06-01T00:00:00",
          "2023-07-01T00:00:00",
          "2023-08-01T00:00:00",
          "2023-09-01T00:00:00",
          "2023-10-01T00:00:00",
          "2023-11-01T00:00:00",
          "2023-12-01T00:00:00",
          "2024-01-01T00:00:00",
          "2024-02-01T00:00:00",
          "2024-03-01T00:00:00",
          "2024-04-01T00:00:00",
          "2024-05-01T00:00:00"
         ],
         "y": [
          4.983921736953178,
          5.245614743111147,
          4.97708219774598,
          4.962730611409678,
          5.231053308133162,
          5.626509663494017,
          5.442266715868915,
          5.358522813896697,
          4.793996766618969,
          5.35355244565354,
          4.786593160515042,
          4.7392392003727455,
          3.866842185721808,
          2.4876063250256215,
          2.59453695830079,
          2.9765513185492054,
          3.411975297050245,
          4.412314596299874,
          5.420465302905801,
          3.94352139033934,
          3.4050731567106842,
          3.559951119715506,
          2.996249810808841,
          3.017944363367149,
          3.6256975396499844,
          3.18765872948235,
          3.3536331705384423,
          3.4066429584482276,
          3.4763689285064583,
          3.8967410632755652,
          3.7904622432203796,
          3.999051953451791,
          3.2608063504115323,
          3.7406561202554203,
          4.164974998449734,
          4.007420153503342,
          4.678670860318513,
          4.337422317785273,
          4.48230053908707,
          5.511452874572016,
          6.669608067073335,
          5.128919173874604,
          4.104774122234363,
          4.487163044095114,
          3.9111492780472847,
          4.78963294185253,
          5.583283477550306,
          5.2979717299556315,
          5.204963862494038,
          5.139176058069275,
          5.354053225609498,
          8.681382725660654,
          7.624562001317845,
          5.374402237144663,
          4.989021696059752,
          5.549539578259131,
          4.900323951594202,
          5.280125064624929,
          5.760758588759107,
          5.25851622148954
         ]
        },
        {
         "hovertemplate": "<b>%{fullData.name}</b><br>%{x|%B %Y}<br>Weighted Avg Wait Time: %{y:.2f} days<extra></extra>",
         "mode": "lines",
         "name": "NHS Dorset ICB",
         "type": "scatter",
         "x": [
          "2019-04-01T00:00:00",
          "2019-05-01T00:00:00",
          "2019-06-01T00:00:00",
          "2019-07-01T00:00:00",
          "2019-08-01T00:00:00",
          "2019-09-01T00:00:00",
          "2019-10-01T00:00:00",
          "2019-11-01T00:00:00",
          "2019-12-01T00:00:00",
          "2020-01-01T00:00:00",
          "2020-02-01T00:00:00",
          "2020-03-01T00:00:00",
          "2020-04-01T00:00:00",
          "2020-05-01T00:00:00",
          "2020-06-01T00:00:00",
          "2020-07-01T00:00:00",
          "2020-08-01T00:00:00",
          "2020-09-01T00:00:00",
          "2020-10-01T00:00:00",
          "2020-11-01T00:00:00",
          "2020-12-01T00:00:00",
          "2021-01-01T00:00:00",
          "2021-02-01T00:00:00",
          "2021-03-01T00:00:00",
          "2021-04-01T00:00:00",
          "2021-05-01T00:00:00",
          "2021-06-01T00:00:00",
          "2021-07-01T00:00:00",
          "2021-08-01T00:00:00",
          "2021-09-01T00:00:00",
          "2021-12-01T00:00:00",
          "2022-01-01T00:00:00",
          "2022-02-01T00:00:00",
          "2022-03-01T00:00:00",
          "2022-04-01T00:00:00",
          "2022-05-01T00:00:00",
          "2022-06-01T00:00:00",
          "2022-07-01T00:00:00",
          "2022-08-01T00:00:00",
          "2022-09-01T00:00:00",
          "2022-10-01T00:00:00",
          "2022-11-01T00:00:00",
          "2022-12-01T00:00:00",
          "2023-01-01T00:00:00",
          "2023-02-01T00:00:00",
          "2023-03-01T00:00:00",
          "2023-04-01T00:00:00",
          "2023-05-01T00:00:00",
          "2023-06-01T00:00:00",
          "2023-07-01T00:00:00",
          "2023-08-01T00:00:00",
          "2023-09-01T00:00:00",
          "2023-10-01T00:00:00",
          "2023-11-01T00:00:00",
          "2023-12-01T00:00:00",
          "2024-01-01T00:00:00",
          "2024-02-01T00:00:00",
          "2024-03-01T00:00:00",
          "2024-04-01T00:00:00",
          "2024-05-01T00:00:00"
         ],
         "y": [
          5.228838902876172,
          5.232545839210156,
          5.286311960165012,
          5.120772738232764,
          5.305100709451195,
          5.84984501228065,
          5.651333309488429,
          5.598184417337291,
          5.064178199261179,
          5.637562955356707,
          4.884291692766477,
          4.712921169909477,
          3.7829585600964393,
          2.3881291592867093,
          2.288561063917699,
          2.476251413709262,
          2.5844371730392455,
          4.0273210253685745,
          4.8430725206277305,
          3.319810760734651,
          2.877591900496332,
          3.007899241687587,
          2.641222531325091,
          3.4323595384756533,
          3.8676719028735476,
          3.072517081478552,
          3.379704111436456,
          2.9620406242475976,
          3.159684718422567,
          4.163010438271395,
          3.4299414884567305,
          3.772008363898125,
          3.0102246893210043,
          3.384960329465497,
          3.8556111493902927,
          4.1049813664596275,
          4.479197446733782,
          4.061110986480019,
          4.456043996482048,
          5.662496813301986,
          7.708691453404152,
          5.384287701855587,
          4.089085368014459,
          5.006134572954254,
          3.8449468468368604,
          4.4212390126354695,
          5.28424275616832,
          5.307896876542289,
          5.413083891780321,
          4.936044295832884,
          5.232072665649413,
          7.42286609745402,
          8.696126825268932,
          5.354470119928879,
          4.897268964978721,
          5.56675533672118,
          4.8323990772017265,
          5.207957799547852,
          6.144944968930209,
          5.636059300189031
         ]
        },
        {
         "hovertemplate": "<b>%{fullData.name}</b><br>%{x|%B %Y}<br>Weighted Avg Wait Time: %{y:.2f} days<extra></extra>",
         "mode": "lines",
         "name": "NHS Gloucestershire ICB",
         "type": "scatter",
         "x": [
          "2019-04-01T00:00:00",
          "2019-05-01T00:00:00",
          "2019-06-01T00:00:00",
          "2019-07-01T00:00:00",
          "2019-08-01T00:00:00",
          "2019-09-01T00:00:00",
          "2019-10-01T00:00:00",
          "2019-11-01T00:00:00",
          "2019-12-01T00:00:00",
          "2020-01-01T00:00:00",
          "2020-02-01T00:00:00",
          "2020-03-01T00:00:00",
          "2020-04-01T00:00:00",
          "2020-05-01T00:00:00",
          "2020-06-01T00:00:00",
          "2020-07-01T00:00:00",
          "2020-08-01T00:00:00",
          "2020-09-01T00:00:00",
          "2020-10-01T00:00:00",
          "2020-11-01T00:00:00",
          "2020-12-01T00:00:00",
          "2021-01-01T00:00:00",
          "2021-02-01T00:00:00",
          "2021-03-01T00:00:00",
          "2021-04-01T00:00:00",
          "2021-05-01T00:00:00",
          "2021-06-01T00:00:00",
          "2021-07-01T00:00:00",
          "2021-08-01T00:00:00",
          "2021-09-01T00:00:00",
          "2021-12-01T00:00:00",
          "2022-01-01T00:00:00",
          "2022-02-01T00:00:00",
          "2022-03-01T00:00:00",
          "2022-04-01T00:00:00",
          "2022-05-01T00:00:00",
          "2022-06-01T00:00:00",
          "2022-07-01T00:00:00",
          "2022-08-01T00:00:00",
          "2022-09-01T00:00:00",
          "2022-10-01T00:00:00",
          "2022-11-01T00:00:00",
          "2022-12-01T00:00:00",
          "2023-01-01T00:00:00",
          "2023-02-01T00:00:00",
          "2023-03-01T00:00:00",
          "2023-04-01T00:00:00",
          "2023-05-01T00:00:00",
          "2023-06-01T00:00:00",
          "2023-07-01T00:00:00",
          "2023-08-01T00:00:00",
          "2023-09-01T00:00:00",
          "2023-10-01T00:00:00",
          "2023-11-01T00:00:00",
          "2023-12-01T00:00:00",
          "2024-01-01T00:00:00",
          "2024-02-01T00:00:00",
          "2024-03-01T00:00:00",
          "2024-04-01T00:00:00",
          "2024-05-01T00:00:00"
         ],
         "y": [
          4.607996580744299,
          5.056400310318076,
          4.905396650744764,
          4.732393335893637,
          4.992606599770252,
          5.359780170806024,
          5.552689404402155,
          5.1117554020940075,
          4.287462305729529,
          4.846818288061172,
          4.410466818067121,
          4.590892918103096,
          3.9137371438206037,
          2.3352992053310735,
          2.7894071622028287,
          2.5395563368714513,
          2.318834796488428,
          3.2993489476701336,
          5.033425523815443,
          3.3285699248436873,
          2.7207207619535816,
          3.0154064906912077,
          2.3960860677485893,
          2.5564351549004476,
          3.1051259610588824,
          2.81225609668507,
          3.101359938188466,
          3.1052922844543214,
          3.2119115753989202,
          3.8593023163352127,
          3.319618777833525,
          3.95631075953014,
          3.000159606304449,
          3.5646087897580743,
          4.055165780506983,
          4.289649977955224,
          4.881506819278165,
          4.470106969317148,
          4.763648971606177,
          5.515628487142967,
          6.124117694143672,
          5.048928166173994,
          4.236177632551321,
          4.753716603700298,
          4.057978240580933,
          5.108261379539666,
          6.15046138152415,
          5.929047691654682,
          5.78171985522353,
          5.602778703699985,
          5.626880081493955,
          6.587391898042785,
          8.328909467660607,
          5.740162086732504,
          5.239085230298471,
          5.982677129146371,
          5.249994399474297,
          5.886329817199915,
          6.641441378601427,
          5.858806504961411
         ]
        },
        {
         "hovertemplate": "<b>%{fullData.name}</b><br>%{x|%B %Y}<br>Weighted Avg Wait Time: %{y:.2f} days<extra></extra>",
         "mode": "lines",
         "name": "NHS Norfolk and Waveney ICB",
         "type": "scatter",
         "x": [
          "2019-04-01T00:00:00",
          "2019-05-01T00:00:00",
          "2019-06-01T00:00:00",
          "2019-07-01T00:00:00",
          "2019-08-01T00:00:00",
          "2019-09-01T00:00:00",
          "2019-10-01T00:00:00",
          "2019-11-01T00:00:00",
          "2019-12-01T00:00:00",
          "2020-01-01T00:00:00",
          "2020-02-01T00:00:00",
          "2020-03-01T00:00:00",
          "2020-04-01T00:00:00",
          "2020-05-01T00:00:00",
          "2020-06-01T00:00:00",
          "2020-07-01T00:00:00",
          "2020-08-01T00:00:00",
          "2020-09-01T00:00:00",
          "2020-10-01T00:00:00",
          "2020-11-01T00:00:00",
          "2020-12-01T00:00:00",
          "2021-01-01T00:00:00",
          "2021-02-01T00:00:00",
          "2021-03-01T00:00:00",
          "2021-04-01T00:00:00",
          "2021-05-01T00:00:00",
          "2021-06-01T00:00:00",
          "2021-07-01T00:00:00",
          "2021-08-01T00:00:00",
          "2021-09-01T00:00:00",
          "2021-12-01T00:00:00",
          "2022-01-01T00:00:00",
          "2022-02-01T00:00:00",
          "2022-03-01T00:00:00",
          "2022-04-01T00:00:00",
          "2022-05-01T00:00:00",
          "2022-06-01T00:00:00",
          "2022-07-01T00:00:00",
          "2022-08-01T00:00:00",
          "2022-09-01T00:00:00",
          "2022-10-01T00:00:00",
          "2022-11-01T00:00:00",
          "2022-12-01T00:00:00",
          "2023-01-01T00:00:00",
          "2023-02-01T00:00:00",
          "2023-03-01T00:00:00",
          "2023-04-01T00:00:00",
          "2023-05-01T00:00:00",
          "2023-06-01T00:00:00",
          "2023-07-01T00:00:00",
          "2023-08-01T00:00:00",
          "2023-09-01T00:00:00",
          "2023-10-01T00:00:00",
          "2023-11-01T00:00:00",
          "2023-12-01T00:00:00",
          "2024-01-01T00:00:00",
          "2024-02-01T00:00:00",
          "2024-03-01T00:00:00",
          "2024-04-01T00:00:00",
          "2024-05-01T00:00:00"
         ],
         "y": [
          4.7816455607404516,
          5.008265697959359,
          4.818960863502914,
          4.543165366487061,
          4.688210701855306,
          5.0660146338585,
          5.512038716921949,
          5.2284375174741635,
          4.386570703853678,
          4.763394444284301,
          4.127757730135145,
          4.21822882754857,
          3.5774710397478815,
          2.1864437128738894,
          2.1842534839026144,
          2.276871362225963,
          2.5959795101373166,
          3.376942777129631,
          4.813998886421724,
          3.7512251376239947,
          2.8615257942405883,
          3.0120221651349404,
          2.5826207064117934,
          2.5926330901252155,
          3.094591036246601,
          2.7419950255623307,
          2.9054140017029364,
          2.909666361155345,
          3.05035743509222,
          3.4637729430097424,
          3.2816903980507046,
          3.6092474107834116,
          2.9481998928146194,
          3.317410025648281,
          3.9181337300603354,
          3.613566090897954,
          3.9282759701258683,
          3.558289598210445,
          3.7486034997543367,
          4.325282204515272,
          6.284974149802387,
          4.753515527562984,
          3.8420843085377023,
          4.41866072518618,
          3.553758618976522,
          4.265952163732703,
          4.999676811435991,
          4.980437933310906,
          4.871895921834139,
          4.696401685649797,
          4.9909879906901455,
          6.613539161922503,
          7.984435546101066,
          5.538017844804278,
          4.962628003733758,
          5.513558240449247,
          4.721811240841947,
          5.054630604491842,
          5.920509727506109,
          5.450522691615551
         ]
        },
        {
         "hovertemplate": "<b>%{fullData.name}</b><br>%{x|%B %Y}<br>Weighted Avg Wait Time: %{y:.2f} days<extra></extra>",
         "mode": "lines",
         "name": "NHS Bath and North East Somerset Swindon and Wiltshire ICB",
         "type": "scatter",
         "x": [
          "2019-04-01T00:00:00",
          "2019-05-01T00:00:00",
          "2019-06-01T00:00:00",
          "2019-07-01T00:00:00",
          "2019-08-01T00:00:00",
          "2019-09-01T00:00:00",
          "2019-10-01T00:00:00",
          "2019-11-01T00:00:00",
          "2019-12-01T00:00:00",
          "2020-01-01T00:00:00",
          "2020-02-01T00:00:00",
          "2020-03-01T00:00:00",
          "2020-04-01T00:00:00",
          "2020-05-01T00:00:00",
          "2020-06-01T00:00:00",
          "2020-07-01T00:00:00",
          "2020-08-01T00:00:00",
          "2020-09-01T00:00:00",
          "2020-10-01T00:00:00",
          "2020-11-01T00:00:00",
          "2020-12-01T00:00:00",
          "2021-01-01T00:00:00",
          "2021-02-01T00:00:00",
          "2021-03-01T00:00:00",
          "2021-04-01T00:00:00",
          "2021-05-01T00:00:00",
          "2021-06-01T00:00:00",
          "2021-07-01T00:00:00",
          "2021-08-01T00:00:00",
          "2021-09-01T00:00:00",
          "2021-12-01T00:00:00",
          "2022-01-01T00:00:00",
          "2022-02-01T00:00:00",
          "2022-03-01T00:00:00",
          "2022-04-01T00:00:00",
          "2022-05-01T00:00:00",
          "2022-06-01T00:00:00",
          "2022-07-01T00:00:00",
          "2022-08-01T00:00:00",
          "2022-09-01T00:00:00",
          "2022-10-01T00:00:00",
          "2022-11-01T00:00:00",
          "2022-12-01T00:00:00",
          "2023-01-01T00:00:00",
          "2023-02-01T00:00:00",
          "2023-03-01T00:00:00",
          "2023-04-01T00:00:00",
          "2023-05-01T00:00:00",
          "2023-06-01T00:00:00",
          "2023-07-01T00:00:00",
          "2023-08-01T00:00:00",
          "2023-09-01T00:00:00",
          "2023-10-01T00:00:00",
          "2023-11-01T00:00:00",
          "2023-12-01T00:00:00",
          "2024-01-01T00:00:00",
          "2024-02-01T00:00:00",
          "2024-03-01T00:00:00",
          "2024-04-01T00:00:00",
          "2024-05-01T00:00:00"
         ],
         "y": [
          4.733377345423714,
          5.025980878676332,
          5.018882888453512,
          4.7754073062357545,
          4.802231622332493,
          5.256686759344014,
          5.4962046248280245,
          5.383815245085435,
          4.59666392251193,
          5.101467507519583,
          4.423169706903878,
          4.642496137390064,
          4.164666640837158,
          2.3703884449441457,
          2.2765390611564844,
          2.3770860904631412,
          2.5455969040185917,
          3.7885737463246096,
          4.682685186665175,
          3.09631493927943,
          2.840942767320577,
          3.0604972641997237,
          2.551520100650923,
          2.6814992208853807,
          3.5011209075589793,
          3.4568702565276137,
          3.0353977263023664,
          3.062270273122175,
          3.150147067689213,
          3.8894235714568306,
          3.270939082371416,
          3.713541355586083,
          2.9652296931834465,
          3.3862343587346775,
          3.92375168468608,
          3.711337034640538,
          4.124420887318414,
          3.7741183036402544,
          3.9758331224925,
          4.700167933945981,
          6.152307581483778,
          4.413601171578969,
          3.3984391566230534,
          3.9628127024255666,
          3.3395401313400135,
          3.977245496821883,
          4.95563635763992,
          4.592524848249995,
          4.556969642389311,
          4.512353976775044,
          4.6510432372248385,
          7.154146487248651,
          7.705099681842111,
          4.852200355145932,
          4.548960313867512,
          4.854798803761485,
          4.181508954228108,
          4.558638525963149,
          5.164020127874252,
          4.720166841238965
         ]
        },
        {
         "hovertemplate": "<b>%{fullData.name}</b><br>%{x|%B %Y}<br>Weighted Avg Wait Time: %{y:.2f} days<extra></extra>",
         "mode": "lines",
         "name": "NHS Coventry and Warwickshire ICB",
         "type": "scatter",
         "x": [
          "2019-04-01T00:00:00",
          "2019-05-01T00:00:00",
          "2019-06-01T00:00:00",
          "2019-07-01T00:00:00",
          "2019-08-01T00:00:00",
          "2019-09-01T00:00:00",
          "2019-10-01T00:00:00",
          "2019-11-01T00:00:00",
          "2019-12-01T00:00:00",
          "2020-01-01T00:00:00",
          "2020-02-01T00:00:00",
          "2020-03-01T00:00:00",
          "2020-04-01T00:00:00",
          "2020-05-01T00:00:00",
          "2020-06-01T00:00:00",
          "2020-07-01T00:00:00",
          "2020-08-01T00:00:00",
          "2020-09-01T00:00:00",
          "2020-10-01T00:00:00",
          "2020-11-01T00:00:00",
          "2020-12-01T00:00:00",
          "2021-01-01T00:00:00",
          "2021-02-01T00:00:00",
          "2021-03-01T00:00:00",
          "2021-04-01T00:00:00",
          "2021-05-01T00:00:00",
          "2021-06-01T00:00:00",
          "2021-07-01T00:00:00",
          "2021-08-01T00:00:00",
          "2021-09-01T00:00:00",
          "2021-12-01T00:00:00",
          "2022-01-01T00:00:00",
          "2022-02-01T00:00:00",
          "2022-03-01T00:00:00",
          "2022-04-01T00:00:00",
          "2022-05-01T00:00:00",
          "2022-06-01T00:00:00",
          "2022-07-01T00:00:00",
          "2022-08-01T00:00:00",
          "2022-09-01T00:00:00",
          "2022-10-01T00:00:00",
          "2022-11-01T00:00:00",
          "2022-12-01T00:00:00",
          "2023-01-01T00:00:00",
          "2023-02-01T00:00:00",
          "2023-03-01T00:00:00",
          "2023-04-01T00:00:00",
          "2023-05-01T00:00:00",
          "2023-06-01T00:00:00",
          "2023-07-01T00:00:00",
          "2023-08-01T00:00:00",
          "2023-09-01T00:00:00",
          "2023-10-01T00:00:00",
          "2023-11-01T00:00:00",
          "2023-12-01T00:00:00",
          "2024-01-01T00:00:00",
          "2024-02-01T00:00:00",
          "2024-03-01T00:00:00",
          "2024-04-01T00:00:00",
          "2024-05-01T00:00:00"
         ],
         "y": [
          2.6780867337196343,
          3.004480729568203,
          2.8015656769653114,
          2.6648977177763915,
          2.759615713943213,
          3.2377686210634034,
          3.1868636822618646,
          2.8403066806103476,
          2.5281364655100855,
          2.7736777228993486,
          2.5264300180092225,
          2.285213813045654,
          1.4885760669885078,
          1.072734185883552,
          1.2107918279542191,
          1.3143949594232347,
          1.4974523834214801,
          2.275109920856983,
          2.663737944013173,
          1.8921556434311428,
          1.7354710119588783,
          1.7565763720941523,
          1.5804314444224292,
          1.6963705379535194,
          1.811387724615584,
          1.7933578432871886,
          2.0239934058938904,
          1.9245066724148068,
          1.9246339009123217,
          2.683678125175242,
          2.045235994309485,
          2.1216471382312005,
          1.8487805441026692,
          1.9785427775587041,
          2.216632195581096,
          2.1188481604991396,
          2.2697371052436104,
          2.270976437196648,
          2.2010354197640165,
          2.9922880641251264,
          3.2220150543795008,
          2.359283291950301,
          2.0585312601177184,
          2.2215745892419556,
          2.021153797473695,
          2.2369510269751984,
          2.415561861044667,
          2.3400582155359597,
          2.3003873760966163,
          2.2438833393815534,
          2.2088749965875896,
          3.988869202941525,
          3.340269756222021,
          2.259208796282356,
          2.0890194252061955,
          2.349098486157225,
          2.135696329422275,
          2.2668243012258054,
          2.4229263890679387,
          2.2569867591900903
         ]
        },
        {
         "hovertemplate": "<b>%{fullData.name}</b><br>%{x|%B %Y}<br>Weighted Avg Wait Time: %{y:.2f} days<extra></extra>",
         "mode": "lines",
         "name": "NHS South West London ICB",
         "type": "scatter",
         "x": [
          "2019-04-01T00:00:00",
          "2019-05-01T00:00:00",
          "2019-06-01T00:00:00",
          "2019-07-01T00:00:00",
          "2019-08-01T00:00:00",
          "2019-09-01T00:00:00",
          "2019-10-01T00:00:00",
          "2019-11-01T00:00:00",
          "2019-12-01T00:00:00",
          "2020-01-01T00:00:00",
          "2020-02-01T00:00:00",
          "2020-03-01T00:00:00",
          "2020-04-01T00:00:00",
          "2020-05-01T00:00:00",
          "2020-06-01T00:00:00",
          "2020-07-01T00:00:00",
          "2020-08-01T00:00:00",
          "2020-09-01T00:00:00",
          "2020-10-01T00:00:00",
          "2020-11-01T00:00:00",
          "2020-12-01T00:00:00",
          "2021-01-01T00:00:00",
          "2021-02-01T00:00:00",
          "2021-03-01T00:00:00",
          "2021-04-01T00:00:00",
          "2021-05-01T00:00:00",
          "2021-06-01T00:00:00",
          "2021-07-01T00:00:00",
          "2021-08-01T00:00:00",
          "2021-09-01T00:00:00",
          "2021-12-01T00:00:00",
          "2022-01-01T00:00:00",
          "2022-02-01T00:00:00",
          "2022-03-01T00:00:00",
          "2022-04-01T00:00:00",
          "2022-05-01T00:00:00",
          "2022-06-01T00:00:00",
          "2022-07-01T00:00:00",
          "2022-08-01T00:00:00",
          "2022-09-01T00:00:00",
          "2022-10-01T00:00:00",
          "2022-11-01T00:00:00",
          "2022-12-01T00:00:00",
          "2023-01-01T00:00:00",
          "2023-02-01T00:00:00",
          "2023-03-01T00:00:00",
          "2023-04-01T00:00:00",
          "2023-05-01T00:00:00",
          "2023-06-01T00:00:00",
          "2023-07-01T00:00:00",
          "2023-08-01T00:00:00",
          "2023-09-01T00:00:00",
          "2023-10-01T00:00:00",
          "2023-11-01T00:00:00",
          "2023-12-01T00:00:00",
          "2024-01-01T00:00:00",
          "2024-02-01T00:00:00",
          "2024-03-01T00:00:00",
          "2024-04-01T00:00:00",
          "2024-05-01T00:00:00"
         ],
         "y": [
          2.4972345557990234,
          2.656969709422315,
          2.6323509300601486,
          2.4707948110757543,
          2.6727668357030443,
          2.6709385897047775,
          2.6748751448990595,
          2.6022691397854114,
          2.3721941408548526,
          2.76350653370152,
          2.3716100906765867,
          2.0987967173487716,
          1.2964347113271777,
          1.0465386539837627,
          1.3085860478061209,
          1.5662459788200696,
          1.7102825960600836,
          1.9179790557741263,
          2.239535649076095,
          2.0774527994533,
          1.8972403791950496,
          1.8446311925667906,
          1.8015122620843282,
          1.872429930738698,
          2.0201745481475806,
          1.9557142671663883,
          1.9891663073948496,
          2.084226354107765,
          2.096506852967842,
          2.2964618556243153,
          2.0156624846968305,
          2.355874374385142,
          2.00854376479159,
          2.0656184128979787,
          2.22442113351337,
          2.2181964479263354,
          2.487799288291817,
          2.283800595507374,
          2.3591499138192424,
          2.5821826466797435,
          2.611685222625767,
          2.4075532259436105,
          2.0388060652649274,
          2.4738638320238517,
          2.2508335496437417,
          2.319312987432189,
          2.54526709669699,
          2.3360215161391062,
          2.3522516101346858,
          2.3771295596452475,
          2.4749118513943507,
          3.36741613298286,
          2.788297430771446,
          2.4352331385034125,
          2.1884235665834146,
          2.469940426913917,
          2.176263583919991,
          2.2289975545742005,
          2.4289122154278178,
          2.3082514473893876
         ]
        },
        {
         "hovertemplate": "<b>%{fullData.name}</b><br>%{x|%B %Y}<br>Weighted Avg Wait Time: %{y:.2f} days<extra></extra>",
         "mode": "lines",
         "name": "NHS South East London ICB",
         "type": "scatter",
         "x": [
          "2019-04-01T00:00:00",
          "2019-05-01T00:00:00",
          "2019-06-01T00:00:00",
          "2019-07-01T00:00:00",
          "2019-08-01T00:00:00",
          "2019-09-01T00:00:00",
          "2019-10-01T00:00:00",
          "2019-11-01T00:00:00",
          "2019-12-01T00:00:00",
          "2020-01-01T00:00:00",
          "2020-02-01T00:00:00",
          "2020-03-01T00:00:00",
          "2020-04-01T00:00:00",
          "2020-05-01T00:00:00",
          "2020-06-01T00:00:00",
          "2020-07-01T00:00:00",
          "2020-08-01T00:00:00",
          "2020-09-01T00:00:00",
          "2020-10-01T00:00:00",
          "2020-11-01T00:00:00",
          "2020-12-01T00:00:00",
          "2021-01-01T00:00:00",
          "2021-02-01T00:00:00",
          "2021-03-01T00:00:00",
          "2021-04-01T00:00:00",
          "2021-05-01T00:00:00",
          "2021-06-01T00:00:00",
          "2021-07-01T00:00:00",
          "2021-08-01T00:00:00",
          "2021-09-01T00:00:00",
          "2021-12-01T00:00:00",
          "2022-01-01T00:00:00",
          "2022-02-01T00:00:00",
          "2022-03-01T00:00:00",
          "2022-04-01T00:00:00",
          "2022-05-01T00:00:00",
          "2022-06-01T00:00:00",
          "2022-07-01T00:00:00",
          "2022-08-01T00:00:00",
          "2022-09-01T00:00:00",
          "2022-10-01T00:00:00",
          "2022-11-01T00:00:00",
          "2022-12-01T00:00:00",
          "2023-01-01T00:00:00",
          "2023-02-01T00:00:00",
          "2023-03-01T00:00:00",
          "2023-04-01T00:00:00",
          "2023-05-01T00:00:00",
          "2023-06-01T00:00:00",
          "2023-07-01T00:00:00",
          "2023-08-01T00:00:00",
          "2023-09-01T00:00:00",
          "2023-10-01T00:00:00",
          "2023-11-01T00:00:00",
          "2023-12-01T00:00:00",
          "2024-01-01T00:00:00",
          "2024-02-01T00:00:00",
          "2024-03-01T00:00:00",
          "2024-04-01T00:00:00",
          "2024-05-01T00:00:00"
         ],
         "y": [
          2.651498844233628,
          2.8435962193316304,
          2.6803815420343295,
          2.5142254561412787,
          2.6809300591394347,
          2.6654171047600843,
          2.6680100150015944,
          2.6409451421017844,
          2.404295933558275,
          2.697535894872575,
          2.384466771298047,
          2.1187972641430632,
          1.2528372356781623,
          1.0270952138552591,
          1.2029946658904367,
          1.4036490414561562,
          1.5607398074767693,
          1.8340229773147698,
          2.2500003925034973,
          2.055742305841642,
          1.8133523194041294,
          1.7781454786726412,
          1.723912581340213,
          1.8411988357314093,
          1.9629367981929402,
          1.9208039383335906,
          1.9915113449839088,
          1.9662793511623817,
          2.0351996247203994,
          2.3077997741413463,
          1.9563109214552743,
          2.2142669334801512,
          1.9752904038296397,
          2.0961786851918993,
          2.2635701865906954,
          2.246626148251041,
          2.4615912520138656,
          2.2368031068107235,
          2.2072358257200264,
          2.506881374049422,
          2.547944078400606,
          2.373386246871295,
          1.980746140255127,
          2.2580146971612995,
          2.02637884955852,
          2.200019874953418,
          2.437128008095916,
          2.2604349486364823,
          2.184073079720953,
          2.2579896944652234,
          2.2721957494346103,
          2.6329970055410663,
          2.600076150337835,
          2.226550381461901,
          2.0438962020049405,
          2.315504743673115,
          2.1063347751373516,
          2.1944547033192587,
          2.3464391981138775,
          2.225083069599423
         ]
        },
        {
         "hovertemplate": "<b>%{fullData.name}</b><br>%{x|%B %Y}<br>Weighted Avg Wait Time: %{y:.2f} days<extra></extra>",
         "mode": "lines",
         "name": "NHS North East London ICB",
         "type": "scatter",
         "x": [
          "2019-04-01T00:00:00",
          "2019-05-01T00:00:00",
          "2019-06-01T00:00:00",
          "2019-07-01T00:00:00",
          "2019-08-01T00:00:00",
          "2019-09-01T00:00:00",
          "2019-10-01T00:00:00",
          "2019-11-01T00:00:00",
          "2019-12-01T00:00:00",
          "2020-01-01T00:00:00",
          "2020-02-01T00:00:00",
          "2020-03-01T00:00:00",
          "2020-04-01T00:00:00",
          "2020-05-01T00:00:00",
          "2020-06-01T00:00:00",
          "2020-07-01T00:00:00",
          "2020-08-01T00:00:00",
          "2020-09-01T00:00:00",
          "2020-10-01T00:00:00",
          "2020-11-01T00:00:00",
          "2020-12-01T00:00:00",
          "2021-01-01T00:00:00",
          "2021-02-01T00:00:00",
          "2021-03-01T00:00:00",
          "2021-04-01T00:00:00",
          "2021-05-01T00:00:00",
          "2021-06-01T00:00:00",
          "2021-07-01T00:00:00",
          "2021-08-01T00:00:00",
          "2021-09-01T00:00:00",
          "2021-12-01T00:00:00",
          "2022-01-01T00:00:00",
          "2022-02-01T00:00:00",
          "2022-03-01T00:00:00",
          "2022-04-01T00:00:00",
          "2022-05-01T00:00:00",
          "2022-06-01T00:00:00",
          "2022-07-01T00:00:00",
          "2022-08-01T00:00:00",
          "2022-09-01T00:00:00",
          "2022-10-01T00:00:00",
          "2022-11-01T00:00:00",
          "2022-12-01T00:00:00",
          "2023-01-01T00:00:00",
          "2023-02-01T00:00:00",
          "2023-03-01T00:00:00",
          "2023-04-01T00:00:00",
          "2023-05-01T00:00:00",
          "2023-06-01T00:00:00",
          "2023-07-01T00:00:00",
          "2023-08-01T00:00:00",
          "2023-09-01T00:00:00",
          "2023-10-01T00:00:00",
          "2023-11-01T00:00:00",
          "2023-12-01T00:00:00",
          "2024-01-01T00:00:00",
          "2024-02-01T00:00:00",
          "2024-03-01T00:00:00",
          "2024-04-01T00:00:00",
          "2024-05-01T00:00:00"
         ],
         "y": [
          2.3689153726608825,
          2.498421112967717,
          2.4992793054824327,
          2.35414160147736,
          2.4301809198388216,
          2.3714122026671536,
          2.397654140513321,
          2.3681915943954017,
          2.193270487512153,
          2.4985427695989557,
          2.246380045923945,
          2.005361411654161,
          1.3308603237072099,
          1.0765213706103554,
          1.2845360562016328,
          1.4956926844180278,
          1.6047087891812297,
          1.8761531940010943,
          2.0891097271458254,
          1.9853091591511465,
          1.7756266060407144,
          1.7271223674366036,
          1.6959758780661853,
          1.8100199215713557,
          1.9635625889501505,
          1.925864731812478,
          1.9396263135276584,
          2.005651631281075,
          2.1049660422396506,
          2.2552357516253188,
          2.03832989540169,
          2.1578940682810335,
          1.9770907950309653,
          2.10895882717169,
          2.2423410436778246,
          2.2600628695965077,
          2.3540282318765584,
          2.2524708994174834,
          2.292898464191655,
          2.4806511231351136,
          2.575338608237983,
          2.436315834613512,
          2.195935225581722,
          2.3789353128589132,
          2.1742250839626074,
          2.255750082240476,
          2.3601214277553817,
          2.259530670319095,
          2.247188809617724,
          2.1227612848359723,
          2.195765708074133,
          2.390894449536688,
          2.258578214398867,
          2.2018617363685866,
          2.0212176052761466,
          2.207305332864643,
          2.005482027739793,
          2.066243786780127,
          2.221726409654074,
          2.1121190628293793
         ]
        },
        {
         "hovertemplate": "<b>%{fullData.name}</b><br>%{x|%B %Y}<br>Weighted Avg Wait Time: %{y:.2f} days<extra></extra>",
         "mode": "lines",
         "name": "NHS North Central London ICB",
         "type": "scatter",
         "x": [
          "2019-04-01T00:00:00",
          "2019-05-01T00:00:00",
          "2019-06-01T00:00:00",
          "2019-07-01T00:00:00",
          "2019-08-01T00:00:00",
          "2019-09-01T00:00:00",
          "2019-10-01T00:00:00",
          "2019-11-01T00:00:00",
          "2019-12-01T00:00:00",
          "2020-01-01T00:00:00",
          "2020-02-01T00:00:00",
          "2020-03-01T00:00:00",
          "2020-04-01T00:00:00",
          "2020-05-01T00:00:00",
          "2020-06-01T00:00:00",
          "2020-07-01T00:00:00",
          "2020-08-01T00:00:00",
          "2020-09-01T00:00:00",
          "2020-10-01T00:00:00",
          "2020-11-01T00:00:00",
          "2020-12-01T00:00:00",
          "2021-01-01T00:00:00",
          "2021-02-01T00:00:00",
          "2021-03-01T00:00:00",
          "2021-04-01T00:00:00",
          "2021-05-01T00:00:00",
          "2021-06-01T00:00:00",
          "2021-07-01T00:00:00",
          "2021-08-01T00:00:00",
          "2021-09-01T00:00:00",
          "2021-12-01T00:00:00",
          "2022-01-01T00:00:00",
          "2022-02-01T00:00:00",
          "2022-03-01T00:00:00",
          "2022-04-01T00:00:00",
          "2022-05-01T00:00:00",
          "2022-06-01T00:00:00",
          "2022-07-01T00:00:00",
          "2022-08-01T00:00:00",
          "2022-09-01T00:00:00",
          "2022-10-01T00:00:00",
          "2022-11-01T00:00:00",
          "2022-12-01T00:00:00",
          "2023-01-01T00:00:00",
          "2023-02-01T00:00:00",
          "2023-03-01T00:00:00",
          "2023-04-01T00:00:00",
          "2023-05-01T00:00:00",
          "2023-06-01T00:00:00",
          "2023-07-01T00:00:00",
          "2023-08-01T00:00:00",
          "2023-09-01T00:00:00",
          "2023-10-01T00:00:00",
          "2023-11-01T00:00:00",
          "2023-12-01T00:00:00",
          "2024-01-01T00:00:00",
          "2024-02-01T00:00:00",
          "2024-03-01T00:00:00",
          "2024-04-01T00:00:00",
          "2024-05-01T00:00:00"
         ],
         "y": [
          2.498892788136974,
          2.6770699751032727,
          2.566695831173462,
          2.4660666250140513,
          2.510271850617514,
          2.5698664225621313,
          2.6472006830169703,
          2.5104235024208257,
          2.285589180831976,
          2.715243013750713,
          2.2539806809541245,
          2.10936329588015,
          1.2382164932283848,
          0.9103566794619393,
          1.1071423415793704,
          1.2554484823614824,
          1.3354523999256587,
          1.573788155841867,
          1.921582030687463,
          1.699870380761689,
          1.5695812849331237,
          1.5218232657837665,
          1.4910735636663153,
          1.5755079688162938,
          1.63036283830658,
          1.5858936379681943,
          1.6206974084999664,
          1.648987223126634,
          1.7012612195037426,
          1.8983609879526744,
          1.7921751390472243,
          1.9217620512001279,
          1.677381413798222,
          1.751799030740893,
          1.8668087869376486,
          1.8138733498301454,
          1.9952153313633008,
          1.8181599264744543,
          1.8952825143468335,
          2.1555220077281474,
          2.0979065978324547,
          2.001904617875475,
          1.739556312671803,
          2.066649825156146,
          1.8483773310489695,
          1.9334813296114925,
          1.9870105590104856,
          1.936212982937831,
          1.8897571872320011,
          1.8383447897695004,
          1.8208364921943898,
          2.0976122310598315,
          1.8770406046957628,
          1.8134822913138857,
          1.645548894045888,
          1.826185086908269,
          1.6604718711154325,
          1.7357324024277179,
          1.7818755926727068,
          1.736234062142865
         ]
        },
        {
         "line": {
          "color": "blue",
          "dash": "dash",
          "width": 1
         },
         "mode": "lines",
         "name": "Trend Line (Top 5)",
         "showlegend": true,
         "type": "scatter",
         "x": [
          "2019-04-01T00:00:00",
          "2019-04-01T00:00:00",
          "2019-04-01T00:00:00",
          "2019-04-01T00:00:00",
          "2019-04-01T00:00:00",
          "2019-05-01T00:00:00",
          "2019-05-01T00:00:00",
          "2019-05-01T00:00:00",
          "2019-05-01T00:00:00",
          "2019-05-01T00:00:00",
          "2019-06-01T00:00:00",
          "2019-06-01T00:00:00",
          "2019-06-01T00:00:00",
          "2019-06-01T00:00:00",
          "2019-06-01T00:00:00",
          "2019-07-01T00:00:00",
          "2019-07-01T00:00:00",
          "2019-07-01T00:00:00",
          "2019-07-01T00:00:00",
          "2019-07-01T00:00:00",
          "2019-08-01T00:00:00",
          "2019-08-01T00:00:00",
          "2019-08-01T00:00:00",
          "2019-08-01T00:00:00",
          "2019-08-01T00:00:00",
          "2019-09-01T00:00:00",
          "2019-09-01T00:00:00",
          "2019-09-01T00:00:00",
          "2019-09-01T00:00:00",
          "2019-09-01T00:00:00",
          "2019-10-01T00:00:00",
          "2019-10-01T00:00:00",
          "2019-10-01T00:00:00",
          "2019-10-01T00:00:00",
          "2019-10-01T00:00:00",
          "2019-11-01T00:00:00",
          "2019-11-01T00:00:00",
          "2019-11-01T00:00:00",
          "2019-11-01T00:00:00",
          "2019-11-01T00:00:00",
          "2019-12-01T00:00:00",
          "2019-12-01T00:00:00",
          "2019-12-01T00:00:00",
          "2019-12-01T00:00:00",
          "2019-12-01T00:00:00",
          "2020-01-01T00:00:00",
          "2020-01-01T00:00:00",
          "2020-01-01T00:00:00",
          "2020-01-01T00:00:00",
          "2020-01-01T00:00:00",
          "2020-02-01T00:00:00",
          "2020-02-01T00:00:00",
          "2020-02-01T00:00:00",
          "2020-02-01T00:00:00",
          "2020-02-01T00:00:00",
          "2020-03-01T00:00:00",
          "2020-03-01T00:00:00",
          "2020-03-01T00:00:00",
          "2020-03-01T00:00:00",
          "2020-03-01T00:00:00",
          "2020-04-01T00:00:00",
          "2020-04-01T00:00:00",
          "2020-04-01T00:00:00",
          "2020-04-01T00:00:00",
          "2020-04-01T00:00:00",
          "2020-05-01T00:00:00",
          "2020-05-01T00:00:00",
          "2020-05-01T00:00:00",
          "2020-05-01T00:00:00",
          "2020-05-01T00:00:00",
          "2020-06-01T00:00:00",
          "2020-06-01T00:00:00",
          "2020-06-01T00:00:00",
          "2020-06-01T00:00:00",
          "2020-06-01T00:00:00",
          "2020-07-01T00:00:00",
          "2020-07-01T00:00:00",
          "2020-07-01T00:00:00",
          "2020-07-01T00:00:00",
          "2020-07-01T00:00:00",
          "2020-08-01T00:00:00",
          "2020-08-01T00:00:00",
          "2020-08-01T00:00:00",
          "2020-08-01T00:00:00",
          "2020-08-01T00:00:00",
          "2020-09-01T00:00:00",
          "2020-09-01T00:00:00",
          "2020-09-01T00:00:00",
          "2020-09-01T00:00:00",
          "2020-09-01T00:00:00",
          "2020-10-01T00:00:00",
          "2020-10-01T00:00:00",
          "2020-10-01T00:00:00",
          "2020-10-01T00:00:00",
          "2020-10-01T00:00:00",
          "2020-11-01T00:00:00",
          "2020-11-01T00:00:00",
          "2020-11-01T00:00:00",
          "2020-11-01T00:00:00",
          "2020-11-01T00:00:00",
          "2020-12-01T00:00:00",
          "2020-12-01T00:00:00",
          "2020-12-01T00:00:00",
          "2020-12-01T00:00:00",
          "2020-12-01T00:00:00",
          "2021-01-01T00:00:00",
          "2021-01-01T00:00:00",
          "2021-01-01T00:00:00",
          "2021-01-01T00:00:00",
          "2021-01-01T00:00:00",
          "2021-02-01T00:00:00",
          "2021-02-01T00:00:00",
          "2021-02-01T00:00:00",
          "2021-02-01T00:00:00",
          "2021-02-01T00:00:00",
          "2021-03-01T00:00:00",
          "2021-03-01T00:00:00",
          "2021-03-01T00:00:00",
          "2021-03-01T00:00:00",
          "2021-03-01T00:00:00",
          "2021-04-01T00:00:00",
          "2021-04-01T00:00:00",
          "2021-04-01T00:00:00",
          "2021-04-01T00:00:00",
          "2021-04-01T00:00:00",
          "2021-05-01T00:00:00",
          "2021-05-01T00:00:00",
          "2021-05-01T00:00:00",
          "2021-05-01T00:00:00",
          "2021-05-01T00:00:00",
          "2021-06-01T00:00:00",
          "2021-06-01T00:00:00",
          "2021-06-01T00:00:00",
          "2021-06-01T00:00:00",
          "2021-06-01T00:00:00",
          "2021-07-01T00:00:00",
          "2021-07-01T00:00:00",
          "2021-07-01T00:00:00",
          "2021-07-01T00:00:00",
          "2021-07-01T00:00:00",
          "2021-08-01T00:00:00",
          "2021-08-01T00:00:00",
          "2021-08-01T00:00:00",
          "2021-08-01T00:00:00",
          "2021-08-01T00:00:00",
          "2021-09-01T00:00:00",
          "2021-09-01T00:00:00",
          "2021-09-01T00:00:00",
          "2021-09-01T00:00:00",
          "2021-09-01T00:00:00",
          "2021-12-01T00:00:00",
          "2021-12-01T00:00:00",
          "2021-12-01T00:00:00",
          "2021-12-01T00:00:00",
          "2021-12-01T00:00:00",
          "2022-01-01T00:00:00",
          "2022-01-01T00:00:00",
          "2022-01-01T00:00:00",
          "2022-01-01T00:00:00",
          "2022-01-01T00:00:00",
          "2022-02-01T00:00:00",
          "2022-02-01T00:00:00",
          "2022-02-01T00:00:00",
          "2022-02-01T00:00:00",
          "2022-02-01T00:00:00",
          "2022-03-01T00:00:00",
          "2022-03-01T00:00:00",
          "2022-03-01T00:00:00",
          "2022-03-01T00:00:00",
          "2022-03-01T00:00:00",
          "2022-04-01T00:00:00",
          "2022-04-01T00:00:00",
          "2022-04-01T00:00:00",
          "2022-04-01T00:00:00",
          "2022-04-01T00:00:00",
          "2022-05-01T00:00:00",
          "2022-05-01T00:00:00",
          "2022-05-01T00:00:00",
          "2022-05-01T00:00:00",
          "2022-05-01T00:00:00",
          "2022-06-01T00:00:00",
          "2022-06-01T00:00:00",
          "2022-06-01T00:00:00",
          "2022-06-01T00:00:00",
          "2022-06-01T00:00:00",
          "2022-07-01T00:00:00",
          "2022-07-01T00:00:00",
          "2022-07-01T00:00:00",
          "2022-07-01T00:00:00",
          "2022-07-01T00:00:00",
          "2022-08-01T00:00:00",
          "2022-08-01T00:00:00",
          "2022-08-01T00:00:00",
          "2022-08-01T00:00:00",
          "2022-08-01T00:00:00",
          "2022-09-01T00:00:00",
          "2022-09-01T00:00:00",
          "2022-09-01T00:00:00",
          "2022-09-01T00:00:00",
          "2022-09-01T00:00:00",
          "2022-10-01T00:00:00",
          "2022-10-01T00:00:00",
          "2022-10-01T00:00:00",
          "2022-10-01T00:00:00",
          "2022-10-01T00:00:00",
          "2022-11-01T00:00:00",
          "2022-11-01T00:00:00",
          "2022-11-01T00:00:00",
          "2022-11-01T00:00:00",
          "2022-11-01T00:00:00",
          "2022-12-01T00:00:00",
          "2022-12-01T00:00:00",
          "2022-12-01T00:00:00",
          "2022-12-01T00:00:00",
          "2022-12-01T00:00:00",
          "2023-01-01T00:00:00",
          "2023-01-01T00:00:00",
          "2023-01-01T00:00:00",
          "2023-01-01T00:00:00",
          "2023-01-01T00:00:00",
          "2023-02-01T00:00:00",
          "2023-02-01T00:00:00",
          "2023-02-01T00:00:00",
          "2023-02-01T00:00:00",
          "2023-02-01T00:00:00",
          "2023-03-01T00:00:00",
          "2023-03-01T00:00:00",
          "2023-03-01T00:00:00",
          "2023-03-01T00:00:00",
          "2023-03-01T00:00:00",
          "2023-04-01T00:00:00",
          "2023-04-01T00:00:00",
          "2023-04-01T00:00:00",
          "2023-04-01T00:00:00",
          "2023-04-01T00:00:00",
          "2023-05-01T00:00:00",
          "2023-05-01T00:00:00",
          "2023-05-01T00:00:00",
          "2023-05-01T00:00:00",
          "2023-05-01T00:00:00",
          "2023-06-01T00:00:00",
          "2023-06-01T00:00:00",
          "2023-06-01T00:00:00",
          "2023-06-01T00:00:00",
          "2023-06-01T00:00:00",
          "2023-07-01T00:00:00",
          "2023-07-01T00:00:00",
          "2023-07-01T00:00:00",
          "2023-07-01T00:00:00",
          "2023-07-01T00:00:00",
          "2023-08-01T00:00:00",
          "2023-08-01T00:00:00",
          "2023-08-01T00:00:00",
          "2023-08-01T00:00:00",
          "2023-08-01T00:00:00",
          "2023-09-01T00:00:00",
          "2023-09-01T00:00:00",
          "2023-09-01T00:00:00",
          "2023-09-01T00:00:00",
          "2023-09-01T00:00:00",
          "2023-10-01T00:00:00",
          "2023-10-01T00:00:00",
          "2023-10-01T00:00:00",
          "2023-10-01T00:00:00",
          "2023-10-01T00:00:00",
          "2023-11-01T00:00:00",
          "2023-11-01T00:00:00",
          "2023-11-01T00:00:00",
          "2023-11-01T00:00:00",
          "2023-11-01T00:00:00",
          "2023-12-01T00:00:00",
          "2023-12-01T00:00:00",
          "2023-12-01T00:00:00",
          "2023-12-01T00:00:00",
          "2023-12-01T00:00:00",
          "2024-01-01T00:00:00",
          "2024-01-01T00:00:00",
          "2024-01-01T00:00:00",
          "2024-01-01T00:00:00",
          "2024-01-01T00:00:00",
          "2024-02-01T00:00:00",
          "2024-02-01T00:00:00",
          "2024-02-01T00:00:00",
          "2024-02-01T00:00:00",
          "2024-02-01T00:00:00",
          "2024-03-01T00:00:00",
          "2024-03-01T00:00:00",
          "2024-03-01T00:00:00",
          "2024-03-01T00:00:00",
          "2024-03-01T00:00:00",
          "2024-04-01T00:00:00",
          "2024-04-01T00:00:00",
          "2024-04-01T00:00:00",
          "2024-04-01T00:00:00",
          "2024-04-01T00:00:00",
          "2024-05-01T00:00:00",
          "2024-05-01T00:00:00",
          "2024-05-01T00:00:00",
          "2024-05-01T00:00:00",
          "2024-05-01T00:00:00"
         ],
         "y": [
          3.702757348990758,
          3.702757348990758,
          3.702757348990758,
          3.702757348990758,
          3.702757348990758,
          3.7250658709760955,
          3.7250658709760955,
          3.7250658709760955,
          3.7250658709760955,
          3.7250658709760955,
          3.7481180103609404,
          3.7481180103609404,
          3.7481180103609404,
          3.7481180103609404,
          3.7481180103609404,
          3.770426532346164,
          3.770426532346164,
          3.770426532346164,
          3.770426532346164,
          3.770426532346164,
          3.793478671731009,
          3.793478671731009,
          3.793478671731009,
          3.793478671731009,
          3.793478671731009,
          3.816530811115854,
          3.816530811115854,
          3.816530811115854,
          3.816530811115854,
          3.816530811115854,
          3.8388393331010775,
          3.8388393331010775,
          3.8388393331010775,
          3.8388393331010775,
          3.8388393331010775,
          3.8618914724859223,
          3.8618914724859223,
          3.8618914724859223,
          3.8618914724859223,
          3.8618914724859223,
          3.8841999944712597,
          3.8841999944712597,
          3.8841999944712597,
          3.8841999944712597,
          3.8841999944712597,
          3.907252133855991,
          3.907252133855991,
          3.907252133855991,
          3.907252133855991,
          3.907252133855991,
          3.9303042732408358,
          3.9303042732408358,
          3.9303042732408358,
          3.9303042732408358,
          3.9303042732408358,
          3.9518691778266657,
          3.9518691778266657,
          3.9518691778266657,
          3.9518691778266657,
          3.9518691778266657,
          3.974921317211397,
          3.974921317211397,
          3.974921317211397,
          3.974921317211397,
          3.974921317211397,
          3.9972298391967342,
          3.9972298391967342,
          3.9972298391967342,
          3.9972298391967342,
          3.9972298391967342,
          4.020281978581579,
          4.020281978581579,
          4.020281978581579,
          4.020281978581579,
          4.020281978581579,
          4.042590500566803,
          4.042590500566803,
          4.042590500566803,
          4.042590500566803,
          4.042590500566803,
          4.065642639951648,
          4.065642639951648,
          4.065642639951648,
          4.065642639951648,
          4.065642639951648,
          4.0886947793364925,
          4.0886947793364925,
          4.0886947793364925,
          4.0886947793364925,
          4.0886947793364925,
          4.111003301321716,
          4.111003301321716,
          4.111003301321716,
          4.111003301321716,
          4.111003301321716,
          4.134055440706561,
          4.134055440706561,
          4.134055440706561,
          4.134055440706561,
          4.134055440706561,
          4.1563639626918985,
          4.1563639626918985,
          4.1563639626918985,
          4.1563639626918985,
          4.1563639626918985,
          4.17941610207663,
          4.17941610207663,
          4.17941610207663,
          4.17941610207663,
          4.17941610207663,
          4.2024682414614745,
          4.2024682414614745,
          4.2024682414614745,
          4.2024682414614745,
          4.2024682414614745,
          4.223289528647797,
          4.223289528647797,
          4.223289528647797,
          4.223289528647797,
          4.223289528647797,
          4.246341668032528,
          4.246341668032528,
          4.246341668032528,
          4.246341668032528,
          4.246341668032528,
          4.2686501900178655,
          4.2686501900178655,
          4.2686501900178655,
          4.2686501900178655,
          4.2686501900178655,
          4.29170232940271,
          4.29170232940271,
          4.29170232940271,
          4.29170232940271,
          4.29170232940271,
          4.314010851387934,
          4.314010851387934,
          4.314010851387934,
          4.314010851387934,
          4.314010851387934,
          4.337062990772779,
          4.337062990772779,
          4.337062990772779,
          4.337062990772779,
          4.337062990772779,
          4.360115130157624,
          4.360115130157624,
          4.360115130157624,
          4.360115130157624,
          4.360115130157624,
          4.42778431351303,
          4.42778431351303,
          4.42778431351303,
          4.42778431351303,
          4.42778431351303,
          4.450836452897761,
          4.450836452897761,
          4.450836452897761,
          4.450836452897761,
          4.450836452897761,
          4.473888592282606,
          4.473888592282606,
          4.473888592282606,
          4.473888592282606,
          4.473888592282606,
          4.494709879468928,
          4.494709879468928,
          4.494709879468928,
          4.494709879468928,
          4.494709879468928,
          4.517762018853659,
          4.517762018853659,
          4.517762018853659,
          4.517762018853659,
          4.517762018853659,
          4.540070540838997,
          4.540070540838997,
          4.540070540838997,
          4.540070540838997,
          4.540070540838997,
          4.563122680223842,
          4.563122680223842,
          4.563122680223842,
          4.563122680223842,
          4.563122680223842,
          4.585431202209065,
          4.585431202209065,
          4.585431202209065,
          4.585431202209065,
          4.585431202209065,
          4.60848334159391,
          4.60848334159391,
          4.60848334159391,
          4.60848334159391,
          4.60848334159391,
          4.631535480978755,
          4.631535480978755,
          4.631535480978755,
          4.631535480978755,
          4.631535480978755,
          4.653844002963979,
          4.653844002963979,
          4.653844002963979,
          4.653844002963979,
          4.653844002963979,
          4.676896142348824,
          4.676896142348824,
          4.676896142348824,
          4.676896142348824,
          4.676896142348824,
          4.699204664334161,
          4.699204664334161,
          4.699204664334161,
          4.699204664334161,
          4.699204664334161,
          4.722256803718892,
          4.722256803718892,
          4.722256803718892,
          4.722256803718892,
          4.722256803718892,
          4.745308943103737,
          4.745308943103737,
          4.745308943103737,
          4.745308943103737,
          4.745308943103737,
          4.766130230290059,
          4.766130230290059,
          4.766130230290059,
          4.766130230290059,
          4.766130230290059,
          4.789182369674791,
          4.789182369674791,
          4.789182369674791,
          4.789182369674791,
          4.789182369674791,
          4.811490891660128,
          4.811490891660128,
          4.811490891660128,
          4.811490891660128,
          4.811490891660128,
          4.834543031044973,
          4.834543031044973,
          4.834543031044973,
          4.834543031044973,
          4.834543031044973,
          4.8568515530301966,
          4.8568515530301966,
          4.8568515530301966,
          4.8568515530301966,
          4.8568515530301966,
          4.879903692415041,
          4.879903692415041,
          4.879903692415041,
          4.879903692415041,
          4.879903692415041,
          4.902955831799886,
          4.902955831799886,
          4.902955831799886,
          4.902955831799886,
          4.902955831799886,
          4.92526435378511,
          4.92526435378511,
          4.92526435378511,
          4.92526435378511,
          4.92526435378511,
          4.948316493169955,
          4.948316493169955,
          4.948316493169955,
          4.948316493169955,
          4.948316493169955,
          4.970625015155292,
          4.970625015155292,
          4.970625015155292,
          4.970625015155292,
          4.970625015155292,
          4.993677154540023,
          4.993677154540023,
          4.993677154540023,
          4.993677154540023,
          4.993677154540023,
          5.016729293924868,
          5.016729293924868,
          5.016729293924868,
          5.016729293924868,
          5.016729293924868,
          5.038294198510698,
          5.038294198510698,
          5.038294198510698,
          5.038294198510698,
          5.038294198510698,
          5.061346337895429,
          5.061346337895429,
          5.061346337895429,
          5.061346337895429,
          5.061346337895429,
          5.083654859880767,
          5.083654859880767,
          5.083654859880767,
          5.083654859880767,
          5.083654859880767
         ]
        },
        {
         "line": {
          "color": "red",
          "dash": "dash",
          "width": 1
         },
         "mode": "lines",
         "name": "Trend Line (Bottom 5)",
         "showlegend": true,
         "type": "scatter",
         "x": [
          "2019-04-01T00:00:00",
          "2019-04-01T00:00:00",
          "2019-04-01T00:00:00",
          "2019-04-01T00:00:00",
          "2019-04-01T00:00:00",
          "2019-05-01T00:00:00",
          "2019-05-01T00:00:00",
          "2019-05-01T00:00:00",
          "2019-05-01T00:00:00",
          "2019-05-01T00:00:00",
          "2019-06-01T00:00:00",
          "2019-06-01T00:00:00",
          "2019-06-01T00:00:00",
          "2019-06-01T00:00:00",
          "2019-06-01T00:00:00",
          "2019-07-01T00:00:00",
          "2019-07-01T00:00:00",
          "2019-07-01T00:00:00",
          "2019-07-01T00:00:00",
          "2019-07-01T00:00:00",
          "2019-08-01T00:00:00",
          "2019-08-01T00:00:00",
          "2019-08-01T00:00:00",
          "2019-08-01T00:00:00",
          "2019-08-01T00:00:00",
          "2019-09-01T00:00:00",
          "2019-09-01T00:00:00",
          "2019-09-01T00:00:00",
          "2019-09-01T00:00:00",
          "2019-09-01T00:00:00",
          "2019-10-01T00:00:00",
          "2019-10-01T00:00:00",
          "2019-10-01T00:00:00",
          "2019-10-01T00:00:00",
          "2019-10-01T00:00:00",
          "2019-11-01T00:00:00",
          "2019-11-01T00:00:00",
          "2019-11-01T00:00:00",
          "2019-11-01T00:00:00",
          "2019-11-01T00:00:00",
          "2019-12-01T00:00:00",
          "2019-12-01T00:00:00",
          "2019-12-01T00:00:00",
          "2019-12-01T00:00:00",
          "2019-12-01T00:00:00",
          "2020-01-01T00:00:00",
          "2020-01-01T00:00:00",
          "2020-01-01T00:00:00",
          "2020-01-01T00:00:00",
          "2020-01-01T00:00:00",
          "2020-02-01T00:00:00",
          "2020-02-01T00:00:00",
          "2020-02-01T00:00:00",
          "2020-02-01T00:00:00",
          "2020-02-01T00:00:00",
          "2020-03-01T00:00:00",
          "2020-03-01T00:00:00",
          "2020-03-01T00:00:00",
          "2020-03-01T00:00:00",
          "2020-03-01T00:00:00",
          "2020-04-01T00:00:00",
          "2020-04-01T00:00:00",
          "2020-04-01T00:00:00",
          "2020-04-01T00:00:00",
          "2020-04-01T00:00:00",
          "2020-05-01T00:00:00",
          "2020-05-01T00:00:00",
          "2020-05-01T00:00:00",
          "2020-05-01T00:00:00",
          "2020-05-01T00:00:00",
          "2020-06-01T00:00:00",
          "2020-06-01T00:00:00",
          "2020-06-01T00:00:00",
          "2020-06-01T00:00:00",
          "2020-06-01T00:00:00",
          "2020-07-01T00:00:00",
          "2020-07-01T00:00:00",
          "2020-07-01T00:00:00",
          "2020-07-01T00:00:00",
          "2020-07-01T00:00:00",
          "2020-08-01T00:00:00",
          "2020-08-01T00:00:00",
          "2020-08-01T00:00:00",
          "2020-08-01T00:00:00",
          "2020-08-01T00:00:00",
          "2020-09-01T00:00:00",
          "2020-09-01T00:00:00",
          "2020-09-01T00:00:00",
          "2020-09-01T00:00:00",
          "2020-09-01T00:00:00",
          "2020-10-01T00:00:00",
          "2020-10-01T00:00:00",
          "2020-10-01T00:00:00",
          "2020-10-01T00:00:00",
          "2020-10-01T00:00:00",
          "2020-11-01T00:00:00",
          "2020-11-01T00:00:00",
          "2020-11-01T00:00:00",
          "2020-11-01T00:00:00",
          "2020-11-01T00:00:00",
          "2020-12-01T00:00:00",
          "2020-12-01T00:00:00",
          "2020-12-01T00:00:00",
          "2020-12-01T00:00:00",
          "2020-12-01T00:00:00",
          "2021-01-01T00:00:00",
          "2021-01-01T00:00:00",
          "2021-01-01T00:00:00",
          "2021-01-01T00:00:00",
          "2021-01-01T00:00:00",
          "2021-02-01T00:00:00",
          "2021-02-01T00:00:00",
          "2021-02-01T00:00:00",
          "2021-02-01T00:00:00",
          "2021-02-01T00:00:00",
          "2021-03-01T00:00:00",
          "2021-03-01T00:00:00",
          "2021-03-01T00:00:00",
          "2021-03-01T00:00:00",
          "2021-03-01T00:00:00",
          "2021-04-01T00:00:00",
          "2021-04-01T00:00:00",
          "2021-04-01T00:00:00",
          "2021-04-01T00:00:00",
          "2021-04-01T00:00:00",
          "2021-05-01T00:00:00",
          "2021-05-01T00:00:00",
          "2021-05-01T00:00:00",
          "2021-05-01T00:00:00",
          "2021-05-01T00:00:00",
          "2021-06-01T00:00:00",
          "2021-06-01T00:00:00",
          "2021-06-01T00:00:00",
          "2021-06-01T00:00:00",
          "2021-06-01T00:00:00",
          "2021-07-01T00:00:00",
          "2021-07-01T00:00:00",
          "2021-07-01T00:00:00",
          "2021-07-01T00:00:00",
          "2021-07-01T00:00:00",
          "2021-08-01T00:00:00",
          "2021-08-01T00:00:00",
          "2021-08-01T00:00:00",
          "2021-08-01T00:00:00",
          "2021-08-01T00:00:00",
          "2021-09-01T00:00:00",
          "2021-09-01T00:00:00",
          "2021-09-01T00:00:00",
          "2021-09-01T00:00:00",
          "2021-09-01T00:00:00",
          "2021-12-01T00:00:00",
          "2021-12-01T00:00:00",
          "2021-12-01T00:00:00",
          "2021-12-01T00:00:00",
          "2021-12-01T00:00:00",
          "2022-01-01T00:00:00",
          "2022-01-01T00:00:00",
          "2022-01-01T00:00:00",
          "2022-01-01T00:00:00",
          "2022-01-01T00:00:00",
          "2022-02-01T00:00:00",
          "2022-02-01T00:00:00",
          "2022-02-01T00:00:00",
          "2022-02-01T00:00:00",
          "2022-02-01T00:00:00",
          "2022-03-01T00:00:00",
          "2022-03-01T00:00:00",
          "2022-03-01T00:00:00",
          "2022-03-01T00:00:00",
          "2022-03-01T00:00:00",
          "2022-04-01T00:00:00",
          "2022-04-01T00:00:00",
          "2022-04-01T00:00:00",
          "2022-04-01T00:00:00",
          "2022-04-01T00:00:00",
          "2022-05-01T00:00:00",
          "2022-05-01T00:00:00",
          "2022-05-01T00:00:00",
          "2022-05-01T00:00:00",
          "2022-05-01T00:00:00",
          "2022-06-01T00:00:00",
          "2022-06-01T00:00:00",
          "2022-06-01T00:00:00",
          "2022-06-01T00:00:00",
          "2022-06-01T00:00:00",
          "2022-07-01T00:00:00",
          "2022-07-01T00:00:00",
          "2022-07-01T00:00:00",
          "2022-07-01T00:00:00",
          "2022-07-01T00:00:00",
          "2022-08-01T00:00:00",
          "2022-08-01T00:00:00",
          "2022-08-01T00:00:00",
          "2022-08-01T00:00:00",
          "2022-08-01T00:00:00",
          "2022-09-01T00:00:00",
          "2022-09-01T00:00:00",
          "2022-09-01T00:00:00",
          "2022-09-01T00:00:00",
          "2022-09-01T00:00:00",
          "2022-10-01T00:00:00",
          "2022-10-01T00:00:00",
          "2022-10-01T00:00:00",
          "2022-10-01T00:00:00",
          "2022-10-01T00:00:00",
          "2022-11-01T00:00:00",
          "2022-11-01T00:00:00",
          "2022-11-01T00:00:00",
          "2022-11-01T00:00:00",
          "2022-11-01T00:00:00",
          "2022-12-01T00:00:00",
          "2022-12-01T00:00:00",
          "2022-12-01T00:00:00",
          "2022-12-01T00:00:00",
          "2022-12-01T00:00:00",
          "2023-01-01T00:00:00",
          "2023-01-01T00:00:00",
          "2023-01-01T00:00:00",
          "2023-01-01T00:00:00",
          "2023-01-01T00:00:00",
          "2023-02-01T00:00:00",
          "2023-02-01T00:00:00",
          "2023-02-01T00:00:00",
          "2023-02-01T00:00:00",
          "2023-02-01T00:00:00",
          "2023-03-01T00:00:00",
          "2023-03-01T00:00:00",
          "2023-03-01T00:00:00",
          "2023-03-01T00:00:00",
          "2023-03-01T00:00:00",
          "2023-04-01T00:00:00",
          "2023-04-01T00:00:00",
          "2023-04-01T00:00:00",
          "2023-04-01T00:00:00",
          "2023-04-01T00:00:00",
          "2023-05-01T00:00:00",
          "2023-05-01T00:00:00",
          "2023-05-01T00:00:00",
          "2023-05-01T00:00:00",
          "2023-05-01T00:00:00",
          "2023-06-01T00:00:00",
          "2023-06-01T00:00:00",
          "2023-06-01T00:00:00",
          "2023-06-01T00:00:00",
          "2023-06-01T00:00:00",
          "2023-07-01T00:00:00",
          "2023-07-01T00:00:00",
          "2023-07-01T00:00:00",
          "2023-07-01T00:00:00",
          "2023-07-01T00:00:00",
          "2023-08-01T00:00:00",
          "2023-08-01T00:00:00",
          "2023-08-01T00:00:00",
          "2023-08-01T00:00:00",
          "2023-08-01T00:00:00",
          "2023-09-01T00:00:00",
          "2023-09-01T00:00:00",
          "2023-09-01T00:00:00",
          "2023-09-01T00:00:00",
          "2023-09-01T00:00:00",
          "2023-10-01T00:00:00",
          "2023-10-01T00:00:00",
          "2023-10-01T00:00:00",
          "2023-10-01T00:00:00",
          "2023-10-01T00:00:00",
          "2023-11-01T00:00:00",
          "2023-11-01T00:00:00",
          "2023-11-01T00:00:00",
          "2023-11-01T00:00:00",
          "2023-11-01T00:00:00",
          "2023-12-01T00:00:00",
          "2023-12-01T00:00:00",
          "2023-12-01T00:00:00",
          "2023-12-01T00:00:00",
          "2023-12-01T00:00:00",
          "2024-01-01T00:00:00",
          "2024-01-01T00:00:00",
          "2024-01-01T00:00:00",
          "2024-01-01T00:00:00",
          "2024-01-01T00:00:00",
          "2024-02-01T00:00:00",
          "2024-02-01T00:00:00",
          "2024-02-01T00:00:00",
          "2024-02-01T00:00:00",
          "2024-02-01T00:00:00",
          "2024-03-01T00:00:00",
          "2024-03-01T00:00:00",
          "2024-03-01T00:00:00",
          "2024-03-01T00:00:00",
          "2024-03-01T00:00:00",
          "2024-04-01T00:00:00",
          "2024-04-01T00:00:00",
          "2024-04-01T00:00:00",
          "2024-04-01T00:00:00",
          "2024-04-01T00:00:00",
          "2024-05-01T00:00:00",
          "2024-05-01T00:00:00",
          "2024-05-01T00:00:00",
          "2024-05-01T00:00:00",
          "2024-05-01T00:00:00"
         ],
         "y": [
          2.1182341449345543,
          2.1182341449345543,
          2.1182341449345543,
          2.1182341449345543,
          2.1182341449345543,
          2.1189155677612668,
          2.1189155677612668,
          2.1189155677612668,
          2.1189155677612668,
          2.1189155677612668,
          2.1196197046822043,
          2.1196197046822043,
          2.1196197046822043,
          2.1196197046822043,
          2.1196197046822043,
          2.1203011275089167,
          2.1203011275089167,
          2.1203011275089167,
          2.1203011275089167,
          2.1203011275089167,
          2.1210052644298507,
          2.1210052644298507,
          2.1210052644298507,
          2.1210052644298507,
          2.1210052644298507,
          2.1217094013507882,
          2.1217094013507882,
          2.1217094013507882,
          2.1217094013507882,
          2.1217094013507882,
          2.1223908241775007,
          2.1223908241775007,
          2.1223908241775007,
          2.1223908241775007,
          2.1223908241775007,
          2.1230949610984347,
          2.1230949610984347,
          2.1230949610984347,
          2.1230949610984347,
          2.1230949610984347,
          2.123776383925147,
          2.123776383925147,
          2.123776383925147,
          2.123776383925147,
          2.123776383925147,
          2.1244805208460846,
          2.1244805208460846,
          2.1244805208460846,
          2.1244805208460846,
          2.1244805208460846,
          2.125184657767022,
          2.125184657767022,
          2.125184657767022,
          2.125184657767022,
          2.125184657767022,
          2.1258433664995096,
          2.1258433664995096,
          2.1258433664995096,
          2.1258433664995096,
          2.1258433664995096,
          2.126547503420447,
          2.126547503420447,
          2.126547503420447,
          2.126547503420447,
          2.126547503420447,
          2.1272289262471595,
          2.1272289262471595,
          2.1272289262471595,
          2.1272289262471595,
          2.1272289262471595,
          2.1279330631680935,
          2.1279330631680935,
          2.1279330631680935,
          2.1279330631680935,
          2.1279330631680935,
          2.128614485994806,
          2.128614485994806,
          2.128614485994806,
          2.128614485994806,
          2.128614485994806,
          2.1293186229157435,
          2.1293186229157435,
          2.1293186229157435,
          2.1293186229157435,
          2.1293186229157435,
          2.130022759836681,
          2.130022759836681,
          2.130022759836681,
          2.130022759836681,
          2.130022759836681,
          2.1307041826633935,
          2.1307041826633935,
          2.1307041826633935,
          2.1307041826633935,
          2.1307041826633935,
          2.1314083195843274,
          2.1314083195843274,
          2.1314083195843274,
          2.1314083195843274,
          2.1314083195843274,
          2.13208974241104,
          2.13208974241104,
          2.13208974241104,
          2.13208974241104,
          2.13208974241104,
          2.1327938793319774,
          2.1327938793319774,
          2.1327938793319774,
          2.1327938793319774,
          2.1327938793319774,
          2.1334980162529114,
          2.1334980162529114,
          2.1334980162529114,
          2.1334980162529114,
          2.1334980162529114,
          2.1341340108911773,
          2.1341340108911773,
          2.1341340108911773,
          2.1341340108911773,
          2.1341340108911773,
          2.134838147812115,
          2.134838147812115,
          2.134838147812115,
          2.134838147812115,
          2.134838147812115,
          2.1355195706388272,
          2.1355195706388272,
          2.1355195706388272,
          2.1355195706388272,
          2.1355195706388272,
          2.136223707559761,
          2.136223707559761,
          2.136223707559761,
          2.136223707559761,
          2.136223707559761,
          2.1369051303864737,
          2.1369051303864737,
          2.1369051303864737,
          2.1369051303864737,
          2.1369051303864737,
          2.137609267307411,
          2.137609267307411,
          2.137609267307411,
          2.137609267307411,
          2.137609267307411,
          2.1383134042283487,
          2.1383134042283487,
          2.1383134042283487,
          2.1383134042283487,
          2.1383134042283487,
          2.1403803868027076,
          2.1403803868027076,
          2.1403803868027076,
          2.1403803868027076,
          2.1403803868027076,
          2.141084523723645,
          2.141084523723645,
          2.141084523723645,
          2.141084523723645,
          2.141084523723645,
          2.1417886606445826,
          2.1417886606445826,
          2.1417886606445826,
          2.1417886606445826,
          2.1417886606445826,
          2.142424655282845,
          2.142424655282845,
          2.142424655282845,
          2.142424655282845,
          2.142424655282845,
          2.1431287922037825,
          2.1431287922037825,
          2.1431287922037825,
          2.1431287922037825,
          2.1431287922037825,
          2.143810215030495,
          2.143810215030495,
          2.143810215030495,
          2.143810215030495,
          2.143810215030495,
          2.1445143519514325,
          2.1445143519514325,
          2.1445143519514325,
          2.1445143519514325,
          2.1445143519514325,
          2.145195774778145,
          2.145195774778145,
          2.145195774778145,
          2.145195774778145,
          2.145195774778145,
          2.145899911699079,
          2.145899911699079,
          2.145899911699079,
          2.145899911699079,
          2.145899911699079,
          2.1466040486200164,
          2.1466040486200164,
          2.1466040486200164,
          2.1466040486200164,
          2.1466040486200164,
          2.147285471446729,
          2.147285471446729,
          2.147285471446729,
          2.147285471446729,
          2.147285471446729,
          2.147989608367663,
          2.147989608367663,
          2.147989608367663,
          2.147989608367663,
          2.147989608367663,
          2.1486710311943753,
          2.1486710311943753,
          2.1486710311943753,
          2.1486710311943753,
          2.1486710311943753,
          2.149375168115313,
          2.149375168115313,
          2.149375168115313,
          2.149375168115313,
          2.149375168115313,
          2.1500793050362503,
          2.1500793050362503,
          2.1500793050362503,
          2.1500793050362503,
          2.1500793050362503,
          2.1507152996745127,
          2.1507152996745127,
          2.1507152996745127,
          2.1507152996745127,
          2.1507152996745127,
          2.15141943659545,
          2.15141943659545,
          2.15141943659545,
          2.15141943659545,
          2.15141943659545,
          2.1521008594221627,
          2.1521008594221627,
          2.1521008594221627,
          2.1521008594221627,
          2.1521008594221627,
          2.1528049963431,
          2.1528049963431,
          2.1528049963431,
          2.1528049963431,
          2.1528049963431,
          2.1534864191698126,
          2.1534864191698126,
          2.1534864191698126,
          2.1534864191698126,
          2.1534864191698126,
          2.1541905560907466,
          2.1541905560907466,
          2.1541905560907466,
          2.1541905560907466,
          2.1541905560907466,
          2.154894693011684,
          2.154894693011684,
          2.154894693011684,
          2.154894693011684,
          2.154894693011684,
          2.1555761158383966,
          2.1555761158383966,
          2.1555761158383966,
          2.1555761158383966,
          2.1555761158383966,
          2.156280252759334,
          2.156280252759334,
          2.156280252759334,
          2.156280252759334,
          2.156280252759334,
          2.1569616755860466,
          2.1569616755860466,
          2.1569616755860466,
          2.1569616755860466,
          2.1569616755860466,
          2.1576658125069805,
          2.1576658125069805,
          2.1576658125069805,
          2.1576658125069805,
          2.1576658125069805,
          2.158369949427918,
          2.158369949427918,
          2.158369949427918,
          2.158369949427918,
          2.158369949427918,
          2.1590286581604055,
          2.1590286581604055,
          2.1590286581604055,
          2.1590286581604055,
          2.1590286581604055,
          2.159732795081343,
          2.159732795081343,
          2.159732795081343,
          2.159732795081343,
          2.159732795081343,
          2.1604142179080554,
          2.1604142179080554,
          2.1604142179080554,
          2.1604142179080554,
          2.1604142179080554
         ]
        }
       ],
       "layout": {
        "height": 1000,
        "legend": {
         "title": {
          "text": "Location"
         }
        },
        "margin": {
         "b": 80,
         "t": 40
        },
        "template": {
         "data": {
          "bar": [
           {
            "error_x": {
             "color": "#2a3f5f"
            },
            "error_y": {
             "color": "#2a3f5f"
            },
            "marker": {
             "line": {
              "color": "white",
              "width": 0.5
             },
             "pattern": {
              "fillmode": "overlay",
              "size": 10,
              "solidity": 0.2
             }
            },
            "type": "bar"
           }
          ],
          "barpolar": [
           {
            "marker": {
             "line": {
              "color": "white",
              "width": 0.5
             },
             "pattern": {
              "fillmode": "overlay",
              "size": 10,
              "solidity": 0.2
             }
            },
            "type": "barpolar"
           }
          ],
          "carpet": [
           {
            "aaxis": {
             "endlinecolor": "#2a3f5f",
             "gridcolor": "#C8D4E3",
             "linecolor": "#C8D4E3",
             "minorgridcolor": "#C8D4E3",
             "startlinecolor": "#2a3f5f"
            },
            "baxis": {
             "endlinecolor": "#2a3f5f",
             "gridcolor": "#C8D4E3",
             "linecolor": "#C8D4E3",
             "minorgridcolor": "#C8D4E3",
             "startlinecolor": "#2a3f5f"
            },
            "type": "carpet"
           }
          ],
          "choropleth": [
           {
            "colorbar": {
             "outlinewidth": 0,
             "ticks": ""
            },
            "type": "choropleth"
           }
          ],
          "contour": [
           {
            "colorbar": {
             "outlinewidth": 0,
             "ticks": ""
            },
            "colorscale": [
             [
              0,
              "#0d0887"
             ],
             [
              0.1111111111111111,
              "#46039f"
             ],
             [
              0.2222222222222222,
              "#7201a8"
             ],
             [
              0.3333333333333333,
              "#9c179e"
             ],
             [
              0.4444444444444444,
              "#bd3786"
             ],
             [
              0.5555555555555556,
              "#d8576b"
             ],
             [
              0.6666666666666666,
              "#ed7953"
             ],
             [
              0.7777777777777778,
              "#fb9f3a"
             ],
             [
              0.8888888888888888,
              "#fdca26"
             ],
             [
              1,
              "#f0f921"
             ]
            ],
            "type": "contour"
           }
          ],
          "contourcarpet": [
           {
            "colorbar": {
             "outlinewidth": 0,
             "ticks": ""
            },
            "type": "contourcarpet"
           }
          ],
          "heatmap": [
           {
            "colorbar": {
             "outlinewidth": 0,
             "ticks": ""
            },
            "colorscale": [
             [
              0,
              "#0d0887"
             ],
             [
              0.1111111111111111,
              "#46039f"
             ],
             [
              0.2222222222222222,
              "#7201a8"
             ],
             [
              0.3333333333333333,
              "#9c179e"
             ],
             [
              0.4444444444444444,
              "#bd3786"
             ],
             [
              0.5555555555555556,
              "#d8576b"
             ],
             [
              0.6666666666666666,
              "#ed7953"
             ],
             [
              0.7777777777777778,
              "#fb9f3a"
             ],
             [
              0.8888888888888888,
              "#fdca26"
             ],
             [
              1,
              "#f0f921"
             ]
            ],
            "type": "heatmap"
           }
          ],
          "heatmapgl": [
           {
            "colorbar": {
             "outlinewidth": 0,
             "ticks": ""
            },
            "colorscale": [
             [
              0,
              "#0d0887"
             ],
             [
              0.1111111111111111,
              "#46039f"
             ],
             [
              0.2222222222222222,
              "#7201a8"
             ],
             [
              0.3333333333333333,
              "#9c179e"
             ],
             [
              0.4444444444444444,
              "#bd3786"
             ],
             [
              0.5555555555555556,
              "#d8576b"
             ],
             [
              0.6666666666666666,
              "#ed7953"
             ],
             [
              0.7777777777777778,
              "#fb9f3a"
             ],
             [
              0.8888888888888888,
              "#fdca26"
             ],
             [
              1,
              "#f0f921"
             ]
            ],
            "type": "heatmapgl"
           }
          ],
          "histogram": [
           {
            "marker": {
             "pattern": {
              "fillmode": "overlay",
              "size": 10,
              "solidity": 0.2
             }
            },
            "type": "histogram"
           }
          ],
          "histogram2d": [
           {
            "colorbar": {
             "outlinewidth": 0,
             "ticks": ""
            },
            "colorscale": [
             [
              0,
              "#0d0887"
             ],
             [
              0.1111111111111111,
              "#46039f"
             ],
             [
              0.2222222222222222,
              "#7201a8"
             ],
             [
              0.3333333333333333,
              "#9c179e"
             ],
             [
              0.4444444444444444,
              "#bd3786"
             ],
             [
              0.5555555555555556,
              "#d8576b"
             ],
             [
              0.6666666666666666,
              "#ed7953"
             ],
             [
              0.7777777777777778,
              "#fb9f3a"
             ],
             [
              0.8888888888888888,
              "#fdca26"
             ],
             [
              1,
              "#f0f921"
             ]
            ],
            "type": "histogram2d"
           }
          ],
          "histogram2dcontour": [
           {
            "colorbar": {
             "outlinewidth": 0,
             "ticks": ""
            },
            "colorscale": [
             [
              0,
              "#0d0887"
             ],
             [
              0.1111111111111111,
              "#46039f"
             ],
             [
              0.2222222222222222,
              "#7201a8"
             ],
             [
              0.3333333333333333,
              "#9c179e"
             ],
             [
              0.4444444444444444,
              "#bd3786"
             ],
             [
              0.5555555555555556,
              "#d8576b"
             ],
             [
              0.6666666666666666,
              "#ed7953"
             ],
             [
              0.7777777777777778,
              "#fb9f3a"
             ],
             [
              0.8888888888888888,
              "#fdca26"
             ],
             [
              1,
              "#f0f921"
             ]
            ],
            "type": "histogram2dcontour"
           }
          ],
          "mesh3d": [
           {
            "colorbar": {
             "outlinewidth": 0,
             "ticks": ""
            },
            "type": "mesh3d"
           }
          ],
          "parcoords": [
           {
            "line": {
             "colorbar": {
              "outlinewidth": 0,
              "ticks": ""
             }
            },
            "type": "parcoords"
           }
          ],
          "pie": [
           {
            "automargin": true,
            "type": "pie"
           }
          ],
          "scatter": [
           {
            "fillpattern": {
             "fillmode": "overlay",
             "size": 10,
             "solidity": 0.2
            },
            "type": "scatter"
           }
          ],
          "scatter3d": [
           {
            "line": {
             "colorbar": {
              "outlinewidth": 0,
              "ticks": ""
             }
            },
            "marker": {
             "colorbar": {
              "outlinewidth": 0,
              "ticks": ""
             }
            },
            "type": "scatter3d"
           }
          ],
          "scattercarpet": [
           {
            "marker": {
             "colorbar": {
              "outlinewidth": 0,
              "ticks": ""
             }
            },
            "type": "scattercarpet"
           }
          ],
          "scattergeo": [
           {
            "marker": {
             "colorbar": {
              "outlinewidth": 0,
              "ticks": ""
             }
            },
            "type": "scattergeo"
           }
          ],
          "scattergl": [
           {
            "marker": {
             "colorbar": {
              "outlinewidth": 0,
              "ticks": ""
             }
            },
            "type": "scattergl"
           }
          ],
          "scattermapbox": [
           {
            "marker": {
             "colorbar": {
              "outlinewidth": 0,
              "ticks": ""
             }
            },
            "type": "scattermapbox"
           }
          ],
          "scatterpolar": [
           {
            "marker": {
             "colorbar": {
              "outlinewidth": 0,
              "ticks": ""
             }
            },
            "type": "scatterpolar"
           }
          ],
          "scatterpolargl": [
           {
            "marker": {
             "colorbar": {
              "outlinewidth": 0,
              "ticks": ""
             }
            },
            "type": "scatterpolargl"
           }
          ],
          "scatterternary": [
           {
            "marker": {
             "colorbar": {
              "outlinewidth": 0,
              "ticks": ""
             }
            },
            "type": "scatterternary"
           }
          ],
          "surface": [
           {
            "colorbar": {
             "outlinewidth": 0,
             "ticks": ""
            },
            "colorscale": [
             [
              0,
              "#0d0887"
             ],
             [
              0.1111111111111111,
              "#46039f"
             ],
             [
              0.2222222222222222,
              "#7201a8"
             ],
             [
              0.3333333333333333,
              "#9c179e"
             ],
             [
              0.4444444444444444,
              "#bd3786"
             ],
             [
              0.5555555555555556,
              "#d8576b"
             ],
             [
              0.6666666666666666,
              "#ed7953"
             ],
             [
              0.7777777777777778,
              "#fb9f3a"
             ],
             [
              0.8888888888888888,
              "#fdca26"
             ],
             [
              1,
              "#f0f921"
             ]
            ],
            "type": "surface"
           }
          ],
          "table": [
           {
            "cells": {
             "fill": {
              "color": "#EBF0F8"
             },
             "line": {
              "color": "white"
             }
            },
            "header": {
             "fill": {
              "color": "#C8D4E3"
             },
             "line": {
              "color": "white"
             }
            },
            "type": "table"
           }
          ]
         },
         "layout": {
          "annotationdefaults": {
           "arrowcolor": "#2a3f5f",
           "arrowhead": 0,
           "arrowwidth": 1
          },
          "autotypenumbers": "strict",
          "coloraxis": {
           "colorbar": {
            "outlinewidth": 0,
            "ticks": ""
           }
          },
          "colorscale": {
           "diverging": [
            [
             0,
             "#8e0152"
            ],
            [
             0.1,
             "#c51b7d"
            ],
            [
             0.2,
             "#de77ae"
            ],
            [
             0.3,
             "#f1b6da"
            ],
            [
             0.4,
             "#fde0ef"
            ],
            [
             0.5,
             "#f7f7f7"
            ],
            [
             0.6,
             "#e6f5d0"
            ],
            [
             0.7,
             "#b8e186"
            ],
            [
             0.8,
             "#7fbc41"
            ],
            [
             0.9,
             "#4d9221"
            ],
            [
             1,
             "#276419"
            ]
           ],
           "sequential": [
            [
             0,
             "#0d0887"
            ],
            [
             0.1111111111111111,
             "#46039f"
            ],
            [
             0.2222222222222222,
             "#7201a8"
            ],
            [
             0.3333333333333333,
             "#9c179e"
            ],
            [
             0.4444444444444444,
             "#bd3786"
            ],
            [
             0.5555555555555556,
             "#d8576b"
            ],
            [
             0.6666666666666666,
             "#ed7953"
            ],
            [
             0.7777777777777778,
             "#fb9f3a"
            ],
            [
             0.8888888888888888,
             "#fdca26"
            ],
            [
             1,
             "#f0f921"
            ]
           ],
           "sequentialminus": [
            [
             0,
             "#0d0887"
            ],
            [
             0.1111111111111111,
             "#46039f"
            ],
            [
             0.2222222222222222,
             "#7201a8"
            ],
            [
             0.3333333333333333,
             "#9c179e"
            ],
            [
             0.4444444444444444,
             "#bd3786"
            ],
            [
             0.5555555555555556,
             "#d8576b"
            ],
            [
             0.6666666666666666,
             "#ed7953"
            ],
            [
             0.7777777777777778,
             "#fb9f3a"
            ],
            [
             0.8888888888888888,
             "#fdca26"
            ],
            [
             1,
             "#f0f921"
            ]
           ]
          },
          "colorway": [
           "#636efa",
           "#EF553B",
           "#00cc96",
           "#ab63fa",
           "#FFA15A",
           "#19d3f3",
           "#FF6692",
           "#B6E880",
           "#FF97FF",
           "#FECB52"
          ],
          "font": {
           "color": "#2a3f5f"
          },
          "geo": {
           "bgcolor": "white",
           "lakecolor": "white",
           "landcolor": "white",
           "showlakes": true,
           "showland": true,
           "subunitcolor": "#C8D4E3"
          },
          "hoverlabel": {
           "align": "left"
          },
          "hovermode": "closest",
          "mapbox": {
           "style": "light"
          },
          "paper_bgcolor": "white",
          "plot_bgcolor": "white",
          "polar": {
           "angularaxis": {
            "gridcolor": "#EBF0F8",
            "linecolor": "#EBF0F8",
            "ticks": ""
           },
           "bgcolor": "white",
           "radialaxis": {
            "gridcolor": "#EBF0F8",
            "linecolor": "#EBF0F8",
            "ticks": ""
           }
          },
          "scene": {
           "xaxis": {
            "backgroundcolor": "white",
            "gridcolor": "#DFE8F3",
            "gridwidth": 2,
            "linecolor": "#EBF0F8",
            "showbackground": true,
            "ticks": "",
            "zerolinecolor": "#EBF0F8"
           },
           "yaxis": {
            "backgroundcolor": "white",
            "gridcolor": "#DFE8F3",
            "gridwidth": 2,
            "linecolor": "#EBF0F8",
            "showbackground": true,
            "ticks": "",
            "zerolinecolor": "#EBF0F8"
           },
           "zaxis": {
            "backgroundcolor": "white",
            "gridcolor": "#DFE8F3",
            "gridwidth": 2,
            "linecolor": "#EBF0F8",
            "showbackground": true,
            "ticks": "",
            "zerolinecolor": "#EBF0F8"
           }
          },
          "shapedefaults": {
           "line": {
            "color": "#2a3f5f"
           }
          },
          "ternary": {
           "aaxis": {
            "gridcolor": "#DFE8F3",
            "linecolor": "#A2B1C6",
            "ticks": ""
           },
           "baxis": {
            "gridcolor": "#DFE8F3",
            "linecolor": "#A2B1C6",
            "ticks": ""
           },
           "bgcolor": "white",
           "caxis": {
            "gridcolor": "#DFE8F3",
            "linecolor": "#A2B1C6",
            "ticks": ""
           }
          },
          "title": {
           "x": 0.05
          },
          "xaxis": {
           "automargin": true,
           "gridcolor": "#EBF0F8",
           "linecolor": "#EBF0F8",
           "ticks": "",
           "title": {
            "standoff": 15
           },
           "zerolinecolor": "#EBF0F8",
           "zerolinewidth": 2
          },
          "yaxis": {
           "automargin": true,
           "gridcolor": "#EBF0F8",
           "linecolor": "#EBF0F8",
           "ticks": "",
           "title": {
            "standoff": 15
           },
           "zerolinecolor": "#EBF0F8",
           "zerolinewidth": 2
          }
         }
        },
        "title": {
         "text": "Weighted Average Wait Time Over Time by Location (Top 5 and Bottom 5)"
        },
        "xaxis": {
         "domain": [
          0,
          1
         ],
         "tickangle": 45,
         "title": {
          "text": "Appointment Month"
         }
        },
        "yaxis": {
         "title": {
          "text": "Weighted Average Wait Time (days)"
         }
        }
       }
      }
     },
     "metadata": {},
     "output_type": "display_data"
    }
   ],
   "source": [
    "# Assign numerical weights to each category\n",
    "weights = {\n",
    "    'Same Day': 0,\n",
    "    '1 Day': 1,\n",
    "    '2 to 7 Days': 4.5,\n",
    "    '8 to 14 Days': 11,\n",
    "    '15 to 21 Days': 18,\n",
    "    '22 to 28 Days': 25,\n",
    "    'More than 28 Days': 35,\n",
    "    'Unknown / Data Quality': None  # Exclude this from calculations\n",
    "}\n",
    "\n",
    "# Add weights to DataFrame and filter out rows with None weights\n",
    "ar['weight'] = ar['time_between_book_and_appt'].map(weights)\n",
    "ar_filtered = ar.dropna(subset=['weight'])\n",
    "\n",
    "# Ensure 'appointment_month' is in datetime format\n",
    "ar_filtered['appointment_month'] = pd.to_datetime(ar_filtered['appointment_month'], format='%Y-%m', errors='coerce')\n",
    "\n",
    "# Calculate weighted average wait time over time for each location\n",
    "weighted_avg_over_time = ar_filtered.groupby(['appointment_month', 'icb_name']).apply(\n",
    "    lambda x: (x['count_of_appointments'] * x['weight']).sum() / x['count_of_appointments'].sum()\n",
    ").reset_index(name='weighted_avg_wait_time')\n",
    "\n",
    "# Calculate overall average wait time for each ICB location\n",
    "overall_avg_wait_time = weighted_avg_over_time.groupby('icb_name')['weighted_avg_wait_time'].mean().reset_index()\n",
    "\n",
    "# Identify the top 5 and bottom 5 locations based on overall average wait time\n",
    "top_5_locations = overall_avg_wait_time.nlargest(5, 'weighted_avg_wait_time')[['icb_name']]\n",
    "bottom_5_locations = overall_avg_wait_time.nsmallest(5, 'weighted_avg_wait_time')[['icb_name']]\n",
    "\n",
    "# Combine the top 5 and bottom 5 locations and sort by average wait time\n",
    "combined_locations = pd.concat([top_5_locations, bottom_5_locations])\n",
    "combined_locations = combined_locations.merge(overall_avg_wait_time, on='icb_name').sort_values('weighted_avg_wait_time', ascending=False)\n",
    "\n",
    "# Filter the DataFrame to include only the top 5 and bottom 5 locations\n",
    "filtered_data = weighted_avg_over_time[weighted_avg_over_time['icb_name'].isin(combined_locations['icb_name'])].copy()\n",
    "\n",
    "# Ensure the data is in the correct format for plotting\n",
    "filtered_data['appointment_month'] = pd.to_datetime(filtered_data['appointment_month'])\n",
    "\n",
    "# Handle any potential NaN values before plotting\n",
    "filtered_data.replace([float('inf'), float('-inf')], pd.NA, inplace=True)\n",
    "filtered_data.dropna(subset=['weighted_avg_wait_time'], inplace=True)\n",
    "\n",
    "# Create the figure\n",
    "fig4_wait2 = go.Figure()\n",
    "\n",
    "# Plot the results based on the sorted order\n",
    "for icb_name in combined_locations['icb_name']:\n",
    "    icb_data = filtered_data[filtered_data['icb_name'] == icb_name]\n",
    "    fig4_wait2.add_trace(go.Scatter(\n",
    "        x=icb_data['appointment_month'],\n",
    "        y=icb_data['weighted_avg_wait_time'],\n",
    "        mode='lines',\n",
    "        name=icb_name,\n",
    "        hovertemplate='<b>%{fullData.name}</b><br>%{x|%B %Y}<br>Weighted Avg Wait Time: %{y:.2f} days<extra></extra>'\n",
    "    ))\n",
    "\n",
    "# Filter data for trend lines\n",
    "top_5_data = filtered_data[filtered_data['icb_name'].isin(top_5_locations['icb_name'])]\n",
    "bottom_5_data = filtered_data[filtered_data['icb_name'].isin(bottom_5_locations['icb_name'])]\n",
    "\n",
    "# Adding trend lines for top 5 locations\n",
    "add_trend_line(fig4_wait2, top_5_data, 'appointment_month', 'weighted_avg_wait_time', 'Top 5', 'blue')\n",
    "\n",
    "# Adding trend lines for bottom 5 locations\n",
    "add_trend_line(fig4_wait2, bottom_5_data, 'appointment_month', 'weighted_avg_wait_time', 'Bottom 5', 'red')\n",
    "\n",
    "# Update layout\n",
    "fig4_wait2.update_layout(\n",
    "    title='Weighted Average Wait Time Over Time by Location (Top 5 and Bottom 5)',\n",
    "    xaxis_title='Appointment Month',\n",
    "    yaxis_title='Weighted Average Wait Time (days)',\n",
    "    xaxis=dict(tickangle=45),\n",
    "    legend_title='Location',\n",
    "    height=1000,\n",
    "    template='plotly_white',\n",
    "    margin=dict(t=40, b=80)\n",
    ")\n",
    "# Adjust the plot area to be wider\n",
    "fig4_wait2.update_xaxes(domain=[0, 1])  # Make the plot area use 85% of the width\n",
    "\n",
    "# Get HTML string for fig1_trend1\n",
    "fig4_wait2_html = fig4_wait2.to_html(full_html=False, include_plotlyjs='cdn')\n",
    "\n",
    "# Show the figure\n",
    "fig4_wait2.show()"
   ]
  },
  {
   "cell_type": "code",
   "execution_count": 34,
   "metadata": {},
   "outputs": [
    {
     "name": "stdout",
     "output_type": "stream",
     "text": [
      "Average Time Between Booking and Appointment for May 2024: 3.43 days\n"
     ]
    },
    {
     "name": "stderr",
     "output_type": "stream",
     "text": [
      "C:\\Users\\willi\\AppData\\Local\\Temp\\ipykernel_18456\\3572445935.py:6: SettingWithCopyWarning:\n",
      "\n",
      "\n",
      "A value is trying to be set on a copy of a slice from a DataFrame.\n",
      "Try using .loc[row_indexer,col_indexer] = value instead\n",
      "\n",
      "See the caveats in the documentation: https://pandas.pydata.org/pandas-docs/stable/user_guide/indexing.html#returning-a-view-versus-a-copy\n",
      "\n"
     ]
    }
   ],
   "source": [
    "# Filter data for the most recent month\n",
    "most_recent_month = ar['appointment_month'].max()\n",
    "recent_data = ar[ar['appointment_month'] == most_recent_month]\n",
    "\n",
    "# Apply weights to the data\n",
    "recent_data['weights'] = recent_data['time_between_book_and_appt'].map(weights)\n",
    "\n",
    "# Filter out rows with None weights (Unknown / Data Quality)\n",
    "filtered_recent_data = recent_data.dropna(subset=['weights'])\n",
    "\n",
    "# Calculate the weighted average time\n",
    "total_weighted_time = (filtered_recent_data['weights'] * filtered_recent_data['count_of_appointments']).sum()\n",
    "total_appointments = filtered_recent_data['count_of_appointments'].sum()\n",
    "\n",
    "average_time_between_booking_and_appointment = total_weighted_time / total_appointments\n",
    "\n",
    "print(f\"Average Time Between Booking and Appointment for {most_recent_month.strftime('%B %Y')}: {average_time_between_booking_and_appointment:.2f} days\")"
   ]
  },
  {
   "cell_type": "code",
   "execution_count": 35,
   "metadata": {},
   "outputs": [],
   "source": [
    "html_content = f\"\"\"\n",
    "<!DOCTYPE html>\n",
    "<html lang=\"en\">\n",
    "<head>\n",
    "    <meta charset=\"UTF-8\">\n",
    "    <meta name=\"viewport\" content=\"width=device-width, initial-scale=1.0\">\n",
    "    <title>Healthcare Data Dashboard</title>\n",
    "    <style>        \n",
    "        .narrative-box {{\n",
    "            background-color: #f0f0f0;\n",
    "            border-left: 5px solid #005eb8;\n",
    "            padding: 25px;\n",
    "            margin-top: 20px;\n",
    "            margin-bottom: 20px;\n",
    "            font-size: 16px;\n",
    "            line-height: 1.6;\n",
    "        }}\n",
    "           .narrative-box h4 {{\n",
    "            margin-top: 0;\n",
    "            color: #005eb8;\n",
    "        }}\n",
    "    <meta charset=\"UTF-8\">\n",
    "    <meta name=\"viewport\" content=\"width=device-width, initial-scale=1.0\">\n",
    "    <title>Healthcare Data Dashboard</title>\n",
    "    <style>\n",
    "        * {{\n",
    "            font-family: Arial, Helvetica, sans-serif !important;\n",
    "        }}\n",
    "        \n",
    "        body, h1, h2, h3, h4, h5, h6, p, div, span {{\n",
    "            font-family: Arial, Helvetica, sans-serif;\n",
    "        }}\n",
    "        h1 {{\n",
    "            font-size: 38px;  \n",
    "        }}\n",
    "        h2 {{\n",
    "            font-size: 30px;  \n",
    "        }}\n",
    "        h3 {{\n",
    "            font-size: 24px; \n",
    "        }}\n",
    "        .stat-container {{\n",
    "            display: flex;\n",
    "            justify-content: space-around;\n",
    "            background-image: url('c:/Users/willi/OneDrive/Documents/NHS Digital Project/banner.png');\n",
    "            background-size: cover;\n",
    "            color: white;\n",
    "            padding: 20px;\n",
    "            margin: 0;\n",
    "        }}\n",
    "        .stat {{\n",
    "            text-align: center;\n",
    "            font-size: 24px;\n",
    "        }}\n",
    "        .section {{\n",
    "            margin: 20px;\n",
    "        }}\n",
    "        .plot-container {{\n",
    "            margin: 20px;\n",
    "            width: 100%;\n",
    "        }}\n",
    "        .plots-row {{\n",
    "            display: flex;\n",
    "            justify-content: space-between;\n",
    "        }}\n",
    "        .plot-container iframe {{\n",
    "            width: 100%;\n",
    "            height: 1000px;\n",
    "            border: none;\n",
    "        }}\n",
    "        .section-header {{\n",
    "            background-image: url('c:/Users/willi/OneDrive/Documents/NHS Digital Project/header.png');\n",
    "            background-size: cover;\n",
    "            color: black;\n",
    "            text-align: center;\n",
    "            padding: 10px;\n",
    "            margin-bottom: 0;  /* Adjust margin to remove gap */\n",
    "            position: relative;\n",
    "        }}\n",
    "        .section-header h2 {{\n",
    "            background-color: rgba(0, 0, 0, 0);\n",
    "            display: inline-block;\n",
    "            padding: 10px;\n",
    "        }}\n",
    "    .plots-row {{\n",
    "        display: flex;\n",
    "        justify-content: space-between;\n",
    "        flex-wrap: wrap;\n",
    "    }}\n",
    "    .plot-container {{\n",
    "        width: 100%;  /* Default to full width */\n",
    "        margin-bottom: 20px;\n",
    "    }}\n",
    "    .plot-container-half {{\n",
    "        width: 48%;  /* Use this class for side-by-side plots */\n",
    "    }}\n",
    "    @media (max-width: 768px) {{\n",
    "        .plot-container-half {{\n",
    "            width: 100%;  /* Full width on smaller screens */\n",
    "        }}\n",
    "    }}\n",
    "    .header-container {{\n",
    "        display: flex;\n",
    "        align-items: center;\n",
    "        justify-content: center;\n",
    "        position: relative;\n",
    "        padding: 10px 0;\n",
    "        margin-bottom: 20px;    \n",
    "    }}\n",
    "    .logo-container {{\n",
    "        position: absolute;\n",
    "        left: 25px; /* Adjust this value to align with the banners below */\n",
    "        top: 50%;\n",
    "        transform: translateY(-50%);\n",
    "    }}\n",
    "\n",
    "    .logo {{\n",
    "        width: 100px; /* Adjust based on your logo size */\n",
    "        height: auto;\n",
    "    }}\n",
    "    .dashboard-title {{\n",
    "        margin: 0;\n",
    "        text-align: center;\n",
    "        flex-grow: 1;\n",
    "    }}\n",
    "    .section, .stat-container {{\n",
    "    padding-left: 25px; /* Should match the left value of .logo-container */\n",
    "    padding-right: 20px;\n",
    "    }}\n",
    "</style>\n",
    "</head>\n",
    "<body>\n",
    "    <div class=\"header-container\">\n",
    "        <div class=\"logo-container\">\n",
    "    <img src=\"c:/Users/willi/OneDrive/Documents/NHS Digital Project/nhs logo.png\" alt=\"NHS Logo\" class=\"logo\">\n",
    "        </div>\n",
    "        <h1 class=\"dashboard-title\">NHS Digital - Dashboard</h1>\n",
    "    </div>\n",
    "        <div class=\"narrative-box\">\n",
    "        <h4>Dashboard notes</h4>\n",
    "        <p>This dashboard was created by web scraping patient appointment statistics and general practise workforce data from the NHS Digital website. </p>\n",
    "        </div>\n",
    "    </div>\n",
    "    <!-- Section 1: Appointment Trends -->\n",
    "    <div class=\"section\">\n",
    "        <div class=\"section-header\">\n",
    "            <h2>Appointment Trends</h2>\n",
    "        </div>\n",
    "        <div class=\"stat-container\">\n",
    "            <div class=\"stat\" style=\"text-align:left;\">\n",
    "                <div>Average number of appointments per month per ICB: {avg_appointments_per_month_icb:,.2f}</div>\n",
    "            </div>\n",
    "            <!-- Add other high-level KPI points here -->\n",
    "        </div>\n",
    "        <div class=\"plot-container\">\n",
    "            <h3>Total Appointments in the NHS England Network along with trend line</h3>\n",
    "            {fig1_trend1_html}\n",
    "        <div class=\"plot-container\">\n",
    "            <h3>SARIMA Model with national categories dataset, filtered for general practise and care related events</h3>\n",
    "            {fig1_trend3_html}\n",
    "            <div>Monthly Average Appointments for the preceding 12 months: {preceding_avg_patients_month:,.2f}</div>\n",
    "            <div>Yearly Appointments for the preceding 12 months: {preceding_total_patients_year:,.2f}</div>\n",
    "            <div>Monthly Average Appointments for the forecasted 12 months: {forecasted_avg_patients_month:,.2f}</div>\n",
    "            <div>Yearly Appointments for the forecasted 12 months: {forecasted_total_patients_year:,.2f}</div>\n",
    "        </div>\n",
    "        <div class=\"narrative-box\">\n",
    "            <h4>Appointment Trends Analysis</h4>\n",
    "            <p>There is an increasing trend for more patients in the NHS network. Using our SARIMA Model with national categories dataset, filtered for general practise and care related events, the average GP practise could see a 7% increase to number of appointments per month.</p>\n",
    "        </div>\n",
    "    </div>\n",
    "    \n",
    "    <!-- Section 2: GP FTE (Full Time Equivalence) -->\n",
    "    <div class=\"section\">\n",
    "        <div class=\"section-header\">\n",
    "            <h2>GP FTE (Full Time Equivalence)</h2>\n",
    "        </div>\n",
    "        <div class=\"stat-container\">\n",
    "            <div class=\"stat\">\n",
    "                <div>FTE for GPs for the most recent month ({most_recent_month.strftime('%B %Y')})</div>\n",
    "                <div>{sum_total_fte} Full Time Equivalent GPs in England</div>\n",
    "            </div>\n",
    "            <!-- Add other high-level KPI points here -->\n",
    "        </div>\n",
    "        <div class=\"plot-container\">\n",
    "            <h3>GP FTE - showing less than full time, full time, and overtime GPs</h3>\n",
    "            {fig2_GP1_html}\n",
    "        </div>\n",
    "        <div class=\"narrative-box\">\n",
    "            <h4>GP Work Patterns</h4>\n",
    "            <p>The number of GPs choosing to work less than full-time has been climbing. This is likely because doctors are, understandably, moving towards working patterns that allow them to better control their hours and workload in order to reduce stress, ill-health and burnout and to improve work-life balance.</p>\n",
    "            <p>Although these GPs may be working less than one FTE on paper, in reality 'part time' as a GP very often means working a number of additional unpaid hours just to get through the large numbers of appointments and essential patient follow-up (administrative) work.</p>\n",
    "            <p><strong>Fewer doctors are looking after greater numbers of patients.</strong></p>\n",
    "        </div>\n",
    "        <div class=\"plot-container\">\n",
    "            <h3>Utilisation Rate for GPs by ICB</h3>\n",
    "            {fig2_GP2_html}\n",
    "        </div>\n",
    "        <div class=\"narrative-box\">\n",
    "            <h4>GP Utilisation Analysis</h4>\n",
    "            <p>The GP Utilisation calculation was made by estimating the maximum number of patients a GP should see per month as recommended by the European Union of General Practitioners and British Medical Association (25 patients/day).</p>\n",
    "            <p>FTE x Working Days/Month x 25 patients per day = Max Appointments</p>\n",
    "            <p>We then divided this by the number of GP appointments in the networks to get a true utilisation of GP surgeries, where 25 patients/day would be 100% utilisation rate. (noted as the red line)</p>\n",
    "            <p>We see an increasing trend of GP utilisation across the network. It's important to note that there is a high risk of decision fatigue, clinical errors and patient harm, and clinician burn out at these levels.</p>\n",
    "        </div>\n",
    "    </div>\n",
    "        <div class=\"plot-container\">\n",
    "            <img src=\"c:/Users/willi/OneDrive/Documents/NHS Digital Project/FTE Calc.png\" alt=\"Utilisation Rate for GPs by ICB\" style=\"width:35%;height:auto;\">\n",
    "        </div>\n",
    "    </div>\n",
    "        </div>\n",
    "    </div>\n",
    "    <!-- Section 3: Did Not Attend Analysis -->\n",
    "    <div class=\"section\">\n",
    "        <div class=\"section-header\">\n",
    "            <h2>Did Not Attend Analysis</h2>\n",
    "        </div>\n",
    "        <div class=\"stat-container\">\n",
    "            <div class=\"stat\">\n",
    "                <div>Current Did Not Attend Rate: {most_recent_dna_rate:.2%}</div>\n",
    "            </div>\n",
    "            <!-- Add other high-level KPI points here -->\n",
    "        </div>\n",
    "        <div class=\"plots-row\">\n",
    "            <div class=\"plot-container plot-container-half\">\n",
    "                {fig3_DNA1_html}\n",
    "            </div>\n",
    "            <div class=\"plot-container plot-container-half\">\n",
    "                {fig3_DNA2_html}\n",
    "            </div>\n",
    "        </div>\n",
    "        <div class=\"narrative-box\">\n",
    "            <h4>Did Not Attend (DNA) Analysis</h4>\n",
    "            <p>The number of did not attend has remained consistent at ~4%. However, when we compare the did not attend proportion to the time between booking and the appointment, we see that the proportion increases as the time between booking increases (plateauing at 8-14 days).</p>\n",
    "        </div>\n",
    "    </div>\n",
    "    \n",
    "    <!-- Section 4: Wait Time Analysis -->\n",
    "    <div class=\"section\">\n",
    "        <div class=\"section-header\">\n",
    "            <h2>Wait Time Analysis</h2>\n",
    "        </div>\n",
    "        <div class=\"stat-container\">\n",
    "            <div class=\"stat\">\n",
    "                <div>Average Time Between Booking and Appointment for {most_recent_month.strftime('%B %Y')}: {average_time_between_booking_and_appointment:.2f} days</div>\n",
    "            </div>\n",
    "            <!-- Add other high-level KPI points here -->\n",
    "        </div>\n",
    "        <div class=\"plot-container\">\n",
    "            {fig4_wait1_html}\n",
    "        </div>\n",
    "        <div class=\"plot-container\">\n",
    "            {fig4_wait2_html}\n",
    "        </div>\n",
    "        <div class=\"narrative-box\">\n",
    "            <h4>Wait Time Analysis</h4>\n",
    "            <p>There is an inequality of wait times across the country. Wait times do not appear to be increasing in the urban areas (noted here with London and Coventry ICBs), however, wait times in rural ICBs are dramatically increasing. This is likely due to the fact that a patient has a choice of several ICBs to choose from in London, which increases overall efficiency.</p>\n",
    "        </div>\n",
    "    </div>\n",
    "</body>\n",
    "</html>\n",
    "    </div>\n",
    "</body>\n",
    "</html>\n",
    "\"\"\"\n",
    "\n",
    "\n",
    "# Save the combined HTML content to a file\n",
    "with open(\"dashboard.html\", \"w\") as file:\n",
    "    file.write(html_content)"
   ]
  },
  {
   "cell_type": "code",
   "execution_count": null,
   "metadata": {},
   "outputs": [],
   "source": []
  }
 ],
 "metadata": {
  "kernelspec": {
   "display_name": "Python 3",
   "language": "python",
   "name": "python3"
  },
  "language_info": {
   "codemirror_mode": {
    "name": "ipython",
    "version": 3
   },
   "file_extension": ".py",
   "mimetype": "text/x-python",
   "name": "python",
   "nbconvert_exporter": "python",
   "pygments_lexer": "ipython3",
   "version": "3.12.6"
  }
 },
 "nbformat": 4,
 "nbformat_minor": 2
}
